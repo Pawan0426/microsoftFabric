{
 "cells": [
  {
   "cell_type": "code",
   "execution_count": 38,
   "id": "e6f3b456-8f54-4903-940c-37fea68fb5b2",
   "metadata": {
    "collapsed": false,
    "jupyter": {
     "outputs_hidden": false,
     "source_hidden": false
    },
    "microsoft": {
     "language": "python",
     "language_group": "synapse_pyspark"
    },
    "nteract": {
     "transient": {
      "deleting": false
     }
    }
   },
   "outputs": [
    {
     "data": {
      "application/vnd.livy.statement-meta+json": {
       "execution_finish_time": "2024-10-18T00:42:01.1304158Z",
       "execution_start_time": "2024-10-18T00:41:59.5003938Z",
       "livy_statement_state": "available",
       "normalized_state": "finished",
       "parent_msg_id": "c2bc7809-3eff-4518-aebe-715424f7867a",
       "queued_time": "2024-10-18T00:41:58.9391992Z",
       "session_id": "c8d1c0e5-cca0-4714-b512-20d9c8cdf90e",
       "session_start_time": null,
       "spark_pool": null,
       "state": "finished",
       "statement_id": 40,
       "statement_ids": [
        40
       ]
      },
      "text/plain": [
       "StatementMeta(, c8d1c0e5-cca0-4714-b512-20d9c8cdf90e, 40, Finished, Available, Finished)"
      ]
     },
     "metadata": {},
     "output_type": "display_data"
    },
    {
     "data": {
      "application/vnd.synapse.widget-view+json": {
       "widget_id": "020c0749-f048-4d9f-91a9-40eeb1f21be3",
       "widget_type": "Synapse.DataFrame"
      },
      "text/plain": [
       "SynapseWidget(Synapse.DataFrame, 020c0749-f048-4d9f-91a9-40eeb1f21be3)"
      ]
     },
     "metadata": {},
     "output_type": "display_data"
    }
   ],
   "source": [
    "df = spark.read.option(\"multiline\", \"true\").json(\"Files/bing-latest-news.json\")\n",
    "# df now is a Spark DataFrame containing JSON data from \"Files/bing-latest-news.json\".\n",
    "display(df)"
   ]
  },
  {
   "cell_type": "code",
   "execution_count": 39,
   "id": "435703b4-4cbc-4d85-87bc-8c16de4e0dfb",
   "metadata": {
    "collapsed": false,
    "jupyter": {
     "outputs_hidden": false,
     "source_hidden": false
    },
    "microsoft": {
     "language": "python",
     "language_group": "synapse_pyspark"
    },
    "nteract": {
     "transient": {
      "deleting": false
     }
    }
   },
   "outputs": [
    {
     "data": {
      "application/vnd.livy.statement-meta+json": {
       "execution_finish_time": "2024-10-18T00:42:01.9041068Z",
       "execution_start_time": "2024-10-18T00:42:01.6281295Z",
       "livy_statement_state": "available",
       "normalized_state": "finished",
       "parent_msg_id": "5c72bf0b-4647-4556-aaa2-250d76726d7b",
       "queued_time": "2024-10-18T00:41:59.0588162Z",
       "session_id": "c8d1c0e5-cca0-4714-b512-20d9c8cdf90e",
       "session_start_time": null,
       "spark_pool": null,
       "state": "finished",
       "statement_id": 41,
       "statement_ids": [
        41
       ]
      },
      "text/plain": [
       "StatementMeta(, c8d1c0e5-cca0-4714-b512-20d9c8cdf90e, 41, Finished, Available, Finished)"
      ]
     },
     "metadata": {},
     "output_type": "display_data"
    }
   ],
   "source": [
    "#ckecking only on column\n",
    "df = df.select('value')"
   ]
  },
  {
   "cell_type": "code",
   "execution_count": 40,
   "id": "45035055-1bab-4852-b67e-36bd7f1d2d6f",
   "metadata": {
    "collapsed": false,
    "jupyter": {
     "outputs_hidden": false,
     "source_hidden": false
    },
    "microsoft": {
     "language": "python",
     "language_group": "synapse_pyspark"
    },
    "nteract": {
     "transient": {
      "deleting": false
     }
    }
   },
   "outputs": [
    {
     "data": {
      "application/vnd.livy.statement-meta+json": {
       "execution_finish_time": "2024-10-18T00:42:03.3318356Z",
       "execution_start_time": "2024-10-18T00:42:02.4434026Z",
       "livy_statement_state": "available",
       "normalized_state": "finished",
       "parent_msg_id": "618620b1-b6cb-4bad-9693-3995361fb525",
       "queued_time": "2024-10-18T00:41:59.1312443Z",
       "session_id": "c8d1c0e5-cca0-4714-b512-20d9c8cdf90e",
       "session_start_time": null,
       "spark_pool": null,
       "state": "finished",
       "statement_id": 42,
       "statement_ids": [
        42
       ]
      },
      "text/plain": [
       "StatementMeta(, c8d1c0e5-cca0-4714-b512-20d9c8cdf90e, 42, Finished, Available, Finished)"
      ]
     },
     "metadata": {},
     "output_type": "display_data"
    },
    {
     "data": {
      "application/vnd.synapse.widget-view+json": {
       "widget_id": "fbdf2d37-d88a-4136-98a3-d95d1e8cd5fa",
       "widget_type": "Synapse.DataFrame"
      },
      "text/plain": [
       "SynapseWidget(Synapse.DataFrame, fbdf2d37-d88a-4136-98a3-d95d1e8cd5fa)"
      ]
     },
     "metadata": {},
     "output_type": "display_data"
    }
   ],
   "source": [
    "#this is how value column looks like\n",
    "display(df)"
   ]
  },
  {
   "cell_type": "code",
   "execution_count": 41,
   "id": "81b1956f-64b6-4752-be9b-8532f9378e39",
   "metadata": {
    "collapsed": false,
    "jupyter": {
     "outputs_hidden": false,
     "source_hidden": false
    },
    "microsoft": {
     "language": "python",
     "language_group": "synapse_pyspark"
    },
    "nteract": {
     "transient": {
      "deleting": false
     }
    }
   },
   "outputs": [
    {
     "data": {
      "application/vnd.livy.statement-meta+json": {
       "execution_finish_time": "2024-10-18T00:42:04.6039448Z",
       "execution_start_time": "2024-10-18T00:42:03.725153Z",
       "livy_statement_state": "available",
       "normalized_state": "finished",
       "parent_msg_id": "735e46f5-63b1-40ff-bd00-d4b673349ce7",
       "queued_time": "2024-10-18T00:41:59.4336385Z",
       "session_id": "c8d1c0e5-cca0-4714-b512-20d9c8cdf90e",
       "session_start_time": null,
       "spark_pool": null,
       "state": "finished",
       "statement_id": 43,
       "statement_ids": [
        43
       ]
      },
      "text/plain": [
       "StatementMeta(, c8d1c0e5-cca0-4714-b512-20d9c8cdf90e, 43, Finished, Available, Finished)"
      ]
     },
     "metadata": {},
     "output_type": "display_data"
    },
    {
     "data": {
      "application/vnd.synapse.widget-view+json": {
       "widget_id": "ddbee2af-e7a8-47a4-ad90-26d4b2994b7e",
       "widget_type": "Synapse.DataFrame"
      },
      "text/plain": [
       "SynapseWidget(Synapse.DataFrame, ddbee2af-e7a8-47a4-ad90-26d4b2994b7e)"
      ]
     },
     "metadata": {},
     "output_type": "display_data"
    }
   ],
   "source": [
    "#exploding my df using explod function on pyspark it has nested json\n",
    "from pyspark.sql.functions import explode\n",
    "\n",
    "df_explode = df.select(explode(df[\"value\"]).alias(\"json_object\"))\n",
    "display(df_explode)"
   ]
  },
  {
   "cell_type": "code",
   "execution_count": 42,
   "id": "711c72c3-cf5a-4196-bc08-8af5dc90c257",
   "metadata": {
    "collapsed": false,
    "jupyter": {
     "outputs_hidden": false,
     "source_hidden": false
    },
    "microsoft": {
     "language": "python",
     "language_group": "synapse_pyspark"
    },
    "nteract": {
     "transient": {
      "deleting": false
     }
    }
   },
   "outputs": [
    {
     "data": {
      "application/vnd.livy.statement-meta+json": {
       "execution_finish_time": "2024-10-18T00:42:05.9399443Z",
       "execution_start_time": "2024-10-18T00:42:05.1002768Z",
       "livy_statement_state": "available",
       "normalized_state": "finished",
       "parent_msg_id": "00a7c1c8-1f02-40da-ba99-313e1009c04a",
       "queued_time": "2024-10-18T00:41:59.7266072Z",
       "session_id": "c8d1c0e5-cca0-4714-b512-20d9c8cdf90e",
       "session_start_time": null,
       "spark_pool": null,
       "state": "finished",
       "statement_id": 44,
       "statement_ids": [
        44
       ]
      },
      "text/plain": [
       "StatementMeta(, c8d1c0e5-cca0-4714-b512-20d9c8cdf90e, 44, Finished, Available, Finished)"
      ]
     },
     "metadata": {},
     "output_type": "display_data"
    }
   ],
   "source": [
    "#converting it into list\n",
    "json_list = df_explode.toJSON().collect()"
   ]
  },
  {
   "cell_type": "code",
   "execution_count": 43,
   "id": "9edd2fbc-c404-4656-b293-12382cb092c7",
   "metadata": {
    "collapsed": false,
    "jupyter": {
     "outputs_hidden": false,
     "source_hidden": false
    },
    "microsoft": {
     "language": "python",
     "language_group": "synapse_pyspark"
    },
    "nteract": {
     "transient": {
      "deleting": false
     }
    }
   },
   "outputs": [
    {
     "data": {
      "application/vnd.livy.statement-meta+json": {
       "execution_finish_time": "2024-10-18T00:42:06.6064514Z",
       "execution_start_time": "2024-10-18T00:42:06.3184987Z",
       "livy_statement_state": "available",
       "normalized_state": "finished",
       "parent_msg_id": "66070e83-bb0c-4351-b24c-5527724b4f59",
       "queued_time": "2024-10-18T00:41:59.9545769Z",
       "session_id": "c8d1c0e5-cca0-4714-b512-20d9c8cdf90e",
       "session_start_time": null,
       "spark_pool": null,
       "state": "finished",
       "statement_id": 45,
       "statement_ids": [
        45
       ]
      },
      "text/plain": [
       "StatementMeta(, c8d1c0e5-cca0-4714-b512-20d9c8cdf90e, 45, Finished, Available, Finished)"
      ]
     },
     "metadata": {},
     "output_type": "display_data"
    },
    {
     "name": "stdout",
     "output_type": "stream",
     "text": [
      "{\"json_object\":{\"category\":\"LifeStyle\",\"datePublished\":\"2024-10-17T22:56:00.0000000Z\",\"description\":\"Universal Studios Orlando has announced that Epic Universe, its highly-anticipated fourth theme park in Florida, will open sooner than expected - May 2025. Soon people will be able to purchase tickets to see the new theme park,\",\"name\":\"Epic Universe opening May 2025: When you can buy tickets, book hotel rooms, new lands and attractions\",\"provider\":[{\"_type\":\"Organization\",\"image\":{\"thumbnail\":{\"contentUrl\":\"https://www.bing.com/th?id=ODF.pPTO_qfDGMw5U2MDJ6xzpw&pid=news\"}},\"name\":\"FOX 35 Orlando on MSN.com\"}],\"url\":\"https://www.msn.com/en-us/travel/tripideas/epic-universe-opening-may-2025-when-you-can-buy-tickets-book-hotel-rooms-new-lands-and-attractions/ar-AA1srljb\"}}\n"
     ]
    }
   ],
   "source": [
    "#looking into last value of list\n",
    "print(json_list[-1])"
   ]
  },
  {
   "cell_type": "code",
   "execution_count": 44,
   "id": "9d89476c-04aa-42e4-9d46-52ae3c2a4c87",
   "metadata": {
    "collapsed": false,
    "jupyter": {
     "outputs_hidden": false,
     "source_hidden": false
    },
    "microsoft": {
     "language": "python",
     "language_group": "synapse_pyspark"
    },
    "nteract": {
     "transient": {
      "deleting": false
     }
    }
   },
   "outputs": [
    {
     "data": {
      "application/vnd.livy.statement-meta+json": {
       "execution_finish_time": "2024-10-18T00:42:07.3235521Z",
       "execution_start_time": "2024-10-18T00:42:07.0029846Z",
       "livy_statement_state": "available",
       "normalized_state": "finished",
       "parent_msg_id": "696c7275-8742-4f7a-ad67-f7494b0190c4",
       "queued_time": "2024-10-18T00:42:00.064637Z",
       "session_id": "c8d1c0e5-cca0-4714-b512-20d9c8cdf90e",
       "session_start_time": null,
       "spark_pool": null,
       "state": "finished",
       "statement_id": 46,
       "statement_ids": [
        46
       ]
      },
      "text/plain": [
       "StatementMeta(, c8d1c0e5-cca0-4714-b512-20d9c8cdf90e, 46, Finished, Available, Finished)"
      ]
     },
     "metadata": {},
     "output_type": "display_data"
    },
    {
     "name": "stdout",
     "output_type": "stream",
     "text": [
      "{'json_object': {'category': 'LifeStyle', 'datePublished': '2024-10-17T22:56:00.0000000Z', 'description': 'Universal Studios Orlando has announced that Epic Universe, its highly-anticipated fourth theme park in Florida, will open sooner than expected - May 2025. Soon people will be able to purchase tickets to see the new theme park,', 'name': 'Epic Universe opening May 2025: When you can buy tickets, book hotel rooms, new lands and attractions', 'provider': [{'_type': 'Organization', 'image': {'thumbnail': {'contentUrl': 'https://www.bing.com/th?id=ODF.pPTO_qfDGMw5U2MDJ6xzpw&pid=news'}}, 'name': 'FOX 35 Orlando on MSN.com'}], 'url': 'https://www.msn.com/en-us/travel/tripideas/epic-universe-opening-may-2025-when-you-can-buy-tickets-book-hotel-rooms-new-lands-and-attractions/ar-AA1srljb'}}\n"
     ]
    }
   ],
   "source": [
    "#converting to dict so it will be easy to query\n",
    "import json\n",
    "news_json = json.loads(json_list[-1])\n",
    "print(news_json)"
   ]
  },
  {
   "cell_type": "code",
   "execution_count": 45,
   "id": "6072a1e4-c7ce-478d-b7c8-4834fcb86e9d",
   "metadata": {
    "collapsed": false,
    "jupyter": {
     "outputs_hidden": false,
     "source_hidden": false
    },
    "microsoft": {
     "language": "python",
     "language_group": "synapse_pyspark"
    },
    "nteract": {
     "transient": {
      "deleting": false
     }
    }
   },
   "outputs": [
    {
     "data": {
      "application/vnd.livy.statement-meta+json": {
       "execution_finish_time": "2024-10-18T00:42:08.1450308Z",
       "execution_start_time": "2024-10-18T00:42:07.8269204Z",
       "livy_statement_state": "available",
       "normalized_state": "finished",
       "parent_msg_id": "9d2cf6ea-9985-49be-82ae-2a40561d72cc",
       "queued_time": "2024-10-18T00:42:00.1952018Z",
       "session_id": "c8d1c0e5-cca0-4714-b512-20d9c8cdf90e",
       "session_start_time": null,
       "spark_pool": null,
       "state": "finished",
       "statement_id": 47,
       "statement_ids": [
        47
       ]
      },
      "text/plain": [
       "StatementMeta(, c8d1c0e5-cca0-4714-b512-20d9c8cdf90e, 47, Finished, Available, Finished)"
      ]
     },
     "metadata": {},
     "output_type": "display_data"
    },
    {
     "name": "stdout",
     "output_type": "stream",
     "text": [
      "Epic Universe opening May 2025: When you can buy tickets, book hotel rooms, new lands and attractions\n",
      "Universal Studios Orlando has announced that Epic Universe, its highly-anticipated fourth theme park in Florida, will open sooner than expected - May 2025. Soon people will be able to purchase tickets to see the new theme park,\n",
      "LifeStyle\n",
      "https://www.msn.com/en-us/travel/tripideas/epic-universe-opening-may-2025-when-you-can-buy-tickets-book-hotel-rooms-new-lands-and-attractions/ar-AA1srljb\n",
      "https://www.bing.com/th?id=ODF.pPTO_qfDGMw5U2MDJ6xzpw&pid=news\n",
      "FOX 35 Orlando on MSN.com\n",
      "2024-10-17T22:56:00.0000000Z\n"
     ]
    }
   ],
   "source": [
    "#testing with one value to see how to query my dict\n",
    "print(news_json['json_object']['name'])\n",
    "print(news_json['json_object']['description'])\n",
    "print(news_json['json_object']['category'])\n",
    "print(news_json['json_object']['url'])\n",
    "print(news_json['json_object']['provider'][0]['image']['thumbnail']['contentUrl'])\n",
    "print(news_json['json_object']['provider'][0]['name'])\n",
    "print(news_json['json_object']['datePublished'])"
   ]
  },
  {
   "cell_type": "code",
   "execution_count": 46,
   "id": "8acca5c9-ea9f-4711-abb8-7af887acac7c",
   "metadata": {
    "collapsed": false,
    "jupyter": {
     "outputs_hidden": false,
     "source_hidden": false
    },
    "microsoft": {
     "language": "python",
     "language_group": "synapse_pyspark"
    },
    "nteract": {
     "transient": {
      "deleting": false
     }
    }
   },
   "outputs": [
    {
     "data": {
      "application/vnd.livy.statement-meta+json": {
       "execution_finish_time": "2024-10-18T00:42:08.8915402Z",
       "execution_start_time": "2024-10-18T00:42:08.6257682Z",
       "livy_statement_state": "available",
       "normalized_state": "finished",
       "parent_msg_id": "cba9eb8b-5b8c-44f3-93e6-681d5b70c5d1",
       "queued_time": "2024-10-18T00:42:00.3641241Z",
       "session_id": "c8d1c0e5-cca0-4714-b512-20d9c8cdf90e",
       "session_start_time": null,
       "spark_pool": null,
       "state": "finished",
       "statement_id": 48,
       "statement_ids": [
        48
       ]
      },
      "text/plain": [
       "StatementMeta(, c8d1c0e5-cca0-4714-b512-20d9c8cdf90e, 48, Finished, Available, Finished)"
      ]
     },
     "metadata": {},
     "output_type": "display_data"
    }
   ],
   "source": [
    "## Below are the column I m interested for my project\n",
    "#description\n",
    "#title\n",
    "#category\n",
    "#image\n",
    "#url\n",
    "#provider\n",
    "#publishedDate"
   ]
  },
  {
   "cell_type": "code",
   "execution_count": 47,
   "id": "b9b1189a-4bc5-4454-af24-6b4cd98d4f21",
   "metadata": {
    "collapsed": false,
    "jupyter": {
     "outputs_hidden": false,
     "source_hidden": false
    },
    "microsoft": {
     "language": "python",
     "language_group": "synapse_pyspark"
    },
    "nteract": {
     "transient": {
      "deleting": false
     }
    }
   },
   "outputs": [
    {
     "data": {
      "application/vnd.livy.statement-meta+json": {
       "execution_finish_time": "2024-10-18T00:42:09.7112379Z",
       "execution_start_time": "2024-10-18T00:42:09.3160796Z",
       "livy_statement_state": "available",
       "normalized_state": "finished",
       "parent_msg_id": "4e2e4367-4968-4527-ab83-8246b8cb0bba",
       "queued_time": "2024-10-18T00:42:00.470288Z",
       "session_id": "c8d1c0e5-cca0-4714-b512-20d9c8cdf90e",
       "session_start_time": null,
       "spark_pool": null,
       "state": "finished",
       "statement_id": 49,
       "statement_ids": [
        49
       ]
      },
      "text/plain": [
       "StatementMeta(, c8d1c0e5-cca0-4714-b512-20d9c8cdf90e, 49, Finished, Available, Finished)"
      ]
     },
     "metadata": {},
     "output_type": "display_data"
    }
   ],
   "source": [
    "import json\n",
    "\n",
    "description = []\n",
    "title = []\n",
    "category = []\n",
    "image = []\n",
    "url = []\n",
    "provider = []\n",
    "publishedDate = []\n",
    "\n",
    "# Process each JSON object into list\n",
    "for json_lst in json_list:\n",
    "    try:\n",
    "        # Parse JSON list into dict\n",
    "        news = json.loads(json_lst)\n",
    "\n",
    "        # Extract info from dict using get method\n",
    "        title.append(news['json_object'].get('name', 'N/A'))  # Default to 'N/A' if 'name' key is missing\n",
    "        description.append(news['json_object'].get('description', 'N/A'))\n",
    "        category.append(news['json_object'].get('category', 'N/A'))\n",
    "        url.append(news['json_object'].get('url', 'N/A'))\n",
    "\n",
    "        # Check if 'provider' exists and contains the required subkeys\n",
    "        provider_info = news['json_object'].get('provider', [])\n",
    "        if provider_info and isinstance(provider_info, list) and 'image' in provider_info[0]:\n",
    "            image.append(provider_info[0].get('image', {}).get('thumbnail', {}).get('contentUrl', 'N/A'))\n",
    "        else:\n",
    "            image.append('N/A')\n",
    "\n",
    "        provider.append(provider_info[0].get('name', 'N/A') if provider_info else 'N/A')\n",
    "        publishedDate.append(news['json_object'].get('datePublished', 'N/A'))\n",
    "\n",
    "    except Exception as e:\n",
    "        print(f'Error processing JSON object: {e}')\n"
   ]
  },
  {
   "cell_type": "code",
   "execution_count": 48,
   "id": "2999f527-d253-453b-b8aa-bd61ad576e39",
   "metadata": {
    "collapsed": false,
    "jupyter": {
     "outputs_hidden": false,
     "source_hidden": false
    },
    "microsoft": {
     "language": "python",
     "language_group": "synapse_pyspark"
    },
    "nteract": {
     "transient": {
      "deleting": false
     }
    }
   },
   "outputs": [
    {
     "data": {
      "application/vnd.livy.statement-meta+json": {
       "execution_finish_time": "2024-10-18T00:42:11.1805568Z",
       "execution_start_time": "2024-10-18T00:42:10.1577311Z",
       "livy_statement_state": "available",
       "normalized_state": "finished",
       "parent_msg_id": "eeb81abe-f8e5-4c15-92c9-b5622b59e5cc",
       "queued_time": "2024-10-18T00:42:00.5731373Z",
       "session_id": "c8d1c0e5-cca0-4714-b512-20d9c8cdf90e",
       "session_start_time": null,
       "spark_pool": null,
       "state": "finished",
       "statement_id": 50,
       "statement_ids": [
        50
       ]
      },
      "text/plain": [
       "StatementMeta(, c8d1c0e5-cca0-4714-b512-20d9c8cdf90e, 50, Finished, Available, Finished)"
      ]
     },
     "metadata": {},
     "output_type": "display_data"
    },
    {
     "data": {
      "application/vnd.synapse.widget-view+json": {
       "widget_id": "9364a3bd-99e0-45b1-83ec-c503edcc0d21",
       "widget_type": "Synapse.DataFrame"
      },
      "text/plain": [
       "SynapseWidget(Synapse.DataFrame, 9364a3bd-99e0-45b1-83ec-c503edcc0d21)"
      ]
     },
     "metadata": {},
     "output_type": "display_data"
    }
   ],
   "source": [
    "from pyspark.sql.types import StructType, StringType, StructField\n",
    "\n",
    "#combine a list\n",
    "data = list(zip(description, title, category, image, url, provider, publishedDate))\n",
    "\n",
    "#define scheme\n",
    "schema = StructType([\n",
    "    StructField('title', StringType(), True),\n",
    "    StructField('description', StringType(), True),\n",
    "    StructField('category', StringType(), True),\n",
    "    StructField('image', StringType(), True),\n",
    "    StructField('url', StringType(), True),\n",
    "    StructField('provider', StringType(), True),\n",
    "    StructField('publishedDate', StringType(), True)\n",
    "])\n",
    "\n",
    "#created dataframe\n",
    "df_final = spark.createDataFrame(data, schema=schema)\n",
    "display(df_final)"
   ]
  },
  {
   "cell_type": "code",
   "execution_count": 51,
   "id": "9dd2c4a7-9fe2-4417-9589-85555000cff4",
   "metadata": {
    "collapsed": false,
    "jupyter": {
     "outputs_hidden": false,
     "source_hidden": false
    },
    "microsoft": {
     "language": "python",
     "language_group": "synapse_pyspark"
    },
    "nteract": {
     "transient": {
      "deleting": false
     }
    }
   },
   "outputs": [
    {
     "data": {
      "application/vnd.livy.statement-meta+json": {
       "execution_finish_time": "2024-10-18T00:43:02.6494842Z",
       "execution_start_time": "2024-10-18T00:43:02.3700165Z",
       "livy_statement_state": "available",
       "normalized_state": "finished",
       "parent_msg_id": "ecc4a40f-eb16-4c57-a8bf-efca7b84f8c8",
       "queued_time": "2024-10-18T00:43:01.8823334Z",
       "session_id": "c8d1c0e5-cca0-4714-b512-20d9c8cdf90e",
       "session_start_time": null,
       "spark_pool": null,
       "state": "finished",
       "statement_id": 53,
       "statement_ids": [
        53
       ]
      },
      "text/plain": [
       "StatementMeta(, c8d1c0e5-cca0-4714-b512-20d9c8cdf90e, 53, Finished, Available, Finished)"
      ]
     },
     "metadata": {},
     "output_type": "display_data"
    }
   ],
   "source": [
    "# converting string into date\n",
    "from pyspark.sql.functions import to_date, date_format\n",
    "\n",
    "df_final1 = df_final.withColumn('publishedDate', date_format(to_date('publishedDate'),'dd-MMM-yyyy'))"
   ]
  },
  {
   "cell_type": "code",
   "execution_count": 52,
   "id": "267cf60f-0f0c-4391-bb53-eb7b6b9f0490",
   "metadata": {
    "collapsed": false,
    "jupyter": {
     "outputs_hidden": false,
     "source_hidden": false
    },
    "microsoft": {
     "language": "python",
     "language_group": "synapse_pyspark"
    },
    "nteract": {
     "transient": {
      "deleting": false
     }
    }
   },
   "outputs": [
    {
     "data": {
      "application/vnd.livy.statement-meta+json": {
       "execution_finish_time": "2024-10-18T00:43:07.9356129Z",
       "execution_start_time": "2024-10-18T00:43:07.0541488Z",
       "livy_statement_state": "available",
       "normalized_state": "finished",
       "parent_msg_id": "599442e7-1a32-4e70-9896-271b319564b8",
       "queued_time": "2024-10-18T00:43:06.5555182Z",
       "session_id": "c8d1c0e5-cca0-4714-b512-20d9c8cdf90e",
       "session_start_time": null,
       "spark_pool": null,
       "state": "finished",
       "statement_id": 54,
       "statement_ids": [
        54
       ]
      },
      "text/plain": [
       "StatementMeta(, c8d1c0e5-cca0-4714-b512-20d9c8cdf90e, 54, Finished, Available, Finished)"
      ]
     },
     "metadata": {},
     "output_type": "display_data"
    },
    {
     "data": {
      "application/vnd.synapse.widget-view+json": {
       "widget_id": "1e684c40-ce97-4bf6-95f1-c54c433a7bc1",
       "widget_type": "Synapse.DataFrame"
      },
      "text/plain": [
       "SynapseWidget(Synapse.DataFrame, 1e684c40-ce97-4bf6-95f1-c54c433a7bc1)"
      ]
     },
     "metadata": {},
     "output_type": "display_data"
    }
   ],
   "source": [
    "display(df_final1)"
   ]
  },
  {
   "cell_type": "code",
   "execution_count": 53,
   "id": "12539cc7-9457-4fdf-8048-b93ccfa118e6",
   "metadata": {
    "collapsed": false,
    "jupyter": {
     "outputs_hidden": false,
     "source_hidden": false
    },
    "microsoft": {
     "language": "python",
     "language_group": "synapse_pyspark"
    },
    "nteract": {
     "transient": {
      "deleting": false
     }
    }
   },
   "outputs": [
    {
     "data": {
      "application/vnd.livy.statement-meta+json": {
       "execution_finish_time": "2024-10-18T00:43:24.9641784Z",
       "execution_start_time": "2024-10-18T00:43:16.7363939Z",
       "livy_statement_state": "available",
       "normalized_state": "finished",
       "parent_msg_id": "0ff706b5-cc6d-4a2a-8833-5ebc9e7dc2a8",
       "queued_time": "2024-10-18T00:43:16.2521484Z",
       "session_id": "c8d1c0e5-cca0-4714-b512-20d9c8cdf90e",
       "session_start_time": null,
       "spark_pool": null,
       "state": "finished",
       "statement_id": 55,
       "statement_ids": [
        55
       ]
      },
      "text/plain": [
       "StatementMeta(, c8d1c0e5-cca0-4714-b512-20d9c8cdf90e, 55, Finished, Available, Finished)"
      ]
     },
     "metadata": {},
     "output_type": "display_data"
    }
   ],
   "source": [
    "# loading data into final destination\n",
    "df_final1.write.format('delta').mode('append').saveAsTable('bing_link_db.tbl_latest_news')"
   ]
  },
  {
   "cell_type": "code",
   "execution_count": null,
   "id": "1f3228dd-72f8-4531-ad6a-caa3d2c2cb07",
   "metadata": {
    "collapsed": false,
    "jupyter": {
     "outputs_hidden": false,
     "source_hidden": false
    },
    "microsoft": {
     "language": "python",
     "language_group": "synapse_pyspark"
    },
    "nteract": {
     "transient": {
      "deleting": false
     }
    }
   },
   "outputs": [],
   "source": [
    "# Using sql type 1 condition to update my existing table\n",
    "from pyspark.sql.utils import AnalysisException\n",
    "\n",
    "try:\n",
    "    table_name = 'bing_link_db.tbl_latest_news'\n",
    "    df_final1.write.format('delta').saveAsTable(table_name)\n",
    "\n",
    "except AnalysisException:\n",
    "    print('Table Already Exist')\n",
    "    df_final1.createOrReplaceTempView('vw_df_cleaned_final')\n",
    "\n",
    "    spark.sql(f\"\"\" Merge into {table_name} target_table\n",
    "                   USING vw_df_cleaned_final source_view\n",
    "                   ON source_view.url = target_table.url\n",
    "\n",
    "                   WHEN MATCHED AND\n",
    "                   source_view.title <> target_table.title OR\n",
    "                   source_view.description <> target_table.description OR\n",
    "                   source_view.category <> target_table.category OR\n",
    "                   source_view.image <> target_table.image OR\n",
    "                   source_view.provider <> target_table.provider OR\n",
    "                   source_view.publishedDate <> target_table.publishedDate OR\n",
    "\n",
    "                   THEN UPDATE SET *\n",
    "\n",
    "                   WHEN NOT MATCHED THEN INSERT *\n",
    "                \n",
    "                \"\"\")"
   ]
  },
  {
   "cell_type": "code",
   "execution_count": 54,
   "id": "3e7f48c3-bcc6-4ff3-b935-cd6c37f3492e",
   "metadata": {
    "collapsed": false,
    "jupyter": {
     "outputs_hidden": false,
     "source_hidden": false
    },
    "microsoft": {
     "language": "python",
     "language_group": "synapse_pyspark"
    },
    "nteract": {
     "transient": {
      "deleting": false
     }
    }
   },
   "outputs": [
    {
     "data": {
      "application/vnd.livy.statement-meta+json": {
       "execution_finish_time": "2024-10-18T00:45:30.1820547Z",
       "execution_start_time": "2024-10-18T00:45:26.5454032Z",
       "livy_statement_state": "available",
       "normalized_state": "finished",
       "parent_msg_id": "b929abc1-26d8-4473-b586-06a52d1f956e",
       "queued_time": "2024-10-18T00:45:26.1423076Z",
       "session_id": "c8d1c0e5-cca0-4714-b512-20d9c8cdf90e",
       "session_start_time": null,
       "spark_pool": null,
       "state": "finished",
       "statement_id": 56,
       "statement_ids": [
        56
       ]
      },
      "text/plain": [
       "StatementMeta(, c8d1c0e5-cca0-4714-b512-20d9c8cdf90e, 56, Finished, Available, Finished)"
      ]
     },
     "metadata": {},
     "output_type": "display_data"
    },
    {
     "data": {
      "application/vnd.synapse.sparksql-result+json": {
       "data": [
        [
         "58"
        ]
       ],
       "schema": {
        "fields": [
         {
          "metadata": {
           "__autoGeneratedAlias": "true"
          },
          "name": "count(1)",
          "nullable": false,
          "type": "long"
         }
        ],
        "type": "struct"
       }
      },
      "text/plain": [
       "<Spark SQL result set with 1 rows and 1 fields>"
      ]
     },
     "execution_count": 54,
     "metadata": {},
     "output_type": "execute_result"
    }
   ],
   "source": [
    "description = []\n",
    "title = []\n",
    "category = []\n",
    "image = []\n",
    "url = []\n",
    "provider = []\n",
    "publishedDate = []\n",
    "%%sql\n",
    "\n",
    "SELECT count(*) from bing_link_db.tbl_latest_news"
   ]
  }
 ],
 "metadata": {
  "dependencies": {
   "lakehouse": {
    "default_lakehouse": "62954208-cf12-4462-be75-3d7284a79381",
    "default_lakehouse_name": "bing_link_db",
    "default_lakehouse_workspace_id": "9e3ecb1a-84b7-40fa-acff-89e6541538bf"
   }
  },
  "kernel_info": {
   "name": "synapse_pyspark"
  },
  "kernelspec": {
   "display_name": "Python 3 (ipykernel)",
   "language": "python",
   "name": "python3"
  },
  "language_info": {
   "codemirror_mode": {
    "name": "ipython",
    "version": 3
   },
   "file_extension": ".py",
   "mimetype": "text/x-python",
   "name": "python",
   "nbconvert_exporter": "python",
   "pygments_lexer": "ipython3",
   "version": "3.12.3"
  },
  "microsoft": {
   "language": "python",
   "language_group": "synapse_pyspark",
   "ms_spell_check": {
    "ms_spell_check_language": "en"
   }
  },
  "nteract": {
   "version": "nteract-front-end@1.0.0"
  },
  "spark_compute": {
   "compute_id": "/trident/default"
  },
  "synapse_widget": {
   "state": {
    "020c0749-f048-4d9f-91a9-40eeb1f21be3": {
     "persist_state": {
      "view": {
       "chartOptions": {
        "aggregationType": "count",
        "binsNumber": 10,
        "categoryFieldKeys": [
         "0"
        ],
        "chartType": "bar",
        "evaluatesOverAllRecords": false,
        "isStacked": false,
        "seriesFieldKeys": [
         "0"
        ],
        "wordFrequency": "-1"
       },
       "tableOptions": {},
       "type": "details"
      }
     },
     "sync_state": {
      "isSummary": false,
      "language": "scala",
      "table": {
       "rows": [
        {
         "0": "News",
         "1": {
          "adultIntent": false,
          "originalQuery": "latest news"
         },
         "2": "https://api.bing.microsoft.com/api/v7/news/search?q=latest+news",
         "3": [
          {
           "id": "relevance",
           "isSelected": true,
           "name": "Best match",
           "url": "https://api.bing.microsoft.com/api/v7/news/search?q=latest+news"
          },
          {
           "id": "date",
           "isSelected": false,
           "name": "Most recent",
           "url": "https://api.bing.microsoft.com/api/v7/news/search?q=latest+news&sortby=date"
          }
         ],
         "4": "58",
         "5": [
          {
           "about": [
            {
             "name": "One Direction",
             "readLink": "https://api.bing.microsoft.com/api/v7/entities/41859a24-7710-c4fc-d160-faf4da82039d"
            },
            {
             "name": "Liam Payne",
             "readLink": "https://api.bing.microsoft.com/api/v7/entities/08fe6be2-f47b-4efe-9495-12737d3b911f"
            },
            {
             "name": "Buenos Aires",
             "readLink": "https://api.bing.microsoft.com/api/v7/entities/857a6814-3fe8-c414-84da-24018be87fce"
            },
            {
             "name": "NBC News",
             "readLink": "https://api.bing.microsoft.com/api/v7/entities/90fd2ef2-8123-de59-2b1f-ccd033454a4a"
            },
            {
             "name": "Chloe Melas",
             "readLink": "https://api.bing.microsoft.com/api/v7/entities/fb9803ee-0dcd-44a2-dc08-f1449fd582da"
            }
           ],
           "datePublished": "2024-10-17T23:15:00.0000000Z",
           "description": "Authorities revealed new details about the death of former One Direction singer Liam Payne in Buenos Aires. Officials said his death from a fall from a hotel window came minutes after the hotel called 911 about a guest who had overindulged on drugs and alcohol.",
           "image": {
            "thumbnail": {
             "contentUrl": "https://www.bing.com/th?id=OVFT.QwtkFQKNXLgWxZgRhrHM5C&pid=News",
             "height": 367,
             "width": 700
            }
           },
           "name": "New details in death of One Direction member Liam Payne",
           "provider": [
            {
             "_type": "Organization",
             "image": {
              "thumbnail": {
               "contentUrl": "https://www.bing.com/th?id=ODF.ighWNnrr5MMFUs8WKMme2A&pid=news"
              }
             },
             "name": "NBC News"
            }
           ],
           "url": "https://www.nbcnews.com/nightly-news/video/new-details-in-death-of-one-direction-member-liam-payne-222041669539",
           "video": {
            "name": "New details in death of One Direction member Liam Payne",
            "thumbnail": {
             "height": 292,
             "width": 520
            },
            "thumbnailUrl": "https://www.bing.com/th?id=OVF.7qvPH3oRD3rk%2FiSe9mdlnA&pid=News"
           }
          },
          {
           "about": [
            {
             "name": "Oakland Athletics",
             "readLink": "https://api.bing.microsoft.com/api/v7/entities/a22a9fcb-6508-cf68-4402-ed33455194a3"
            },
            {
             "name": "Las Vegas",
             "readLink": "https://api.bing.microsoft.com/api/v7/entities/26dfb75a-3573-4ff8-bbb3-b8cadaea23a8"
            },
            {
             "name": "Sacramento, California",
             "readLink": "https://api.bing.microsoft.com/api/v7/entities/4a1a8070-cc3d-4060-af9c-08ccbbca73d7"
            },
            {
             "name": "Las Vegas Review-Journal",
             "readLink": "https://api.bing.microsoft.com/api/v7/entities/8fae683e-3855-7b37-3689-7f9676e392db"
            },
            {
             "name": "Clark County, Nevada",
             "readLink": "https://api.bing.microsoft.com/api/v7/entities/3fe79fff-e771-c744-de67-4224eba7c2fd"
            }
           ],
           "datePublished": "2024-10-17T21:09:00.0000000Z",
           "description": "A new, detailed artist's rendering of the proposed stadium for the Athletics in Las Vegas, Nevada includes a first look at the new Bally's hotel/casino tower.",
           "image": {
            "thumbnail": {
             "contentUrl": "https://www.bing.com/th?id=OVFT.1zu8uSKBq7gRJq7ao7ahyy&pid=News",
             "height": 466,
             "width": 700
            }
           },
           "name": "MLB News: Fresh A's Stadium Renderings Include View of New Las Vegas Casino",
           "provider": [
            {
             "_type": "Organization",
             "image": {
              "thumbnail": {
               "contentUrl": "https://www.bing.com/th?id=ODF.uTJA7JDoTGKvff5o3jotfg&pid=news"
              }
             },
             "name": "MSN"
            }
           ],
           "url": "https://www.msn.com/en-us/sports/motorsports/mlb-news-fresh-a-s-stadium-renderings-include-view-of-new-las-vegas-casino/ar-AA1ssoZN"
          },
          {
           "about": [
            {
             "name": "Liam Payne",
             "readLink": "https://api.bing.microsoft.com/api/v7/entities/08fe6be2-f47b-4efe-9495-12737d3b911f"
            }
           ],
           "datePublished": "2024-10-17T17:30:08.0000000Z",
           "description": "Welcome to the live updates platform for Hindustan Times. Follow the major news updates, headlines and breaking news stories from the world of entertainment right here. See the latest developments in Bollywood,",
           "image": {
            "thumbnail": {
             "contentUrl": "https://www.bing.com/th?id=OVFT.eybydFk4R1ObzTq1kgqgPy&pid=News",
             "height": 309,
             "width": 549
            }
           },
           "name": "Latest entertainment News, Live Updates Today October 17, 2024: Is Liam Payne's death actually connected to Sean ‘Diddy’ Combs? Conspiracy theory says…",
           "provider": [
            {
             "_type": "Organization",
             "image": {
              "thumbnail": {
               "contentUrl": "https://www.bing.com/th?id=ODF.Caqyr0opfKlydldMITdwcw&pid=news"
              }
             },
             "name": "Hindustan Times on MSN.com"
            }
           ],
           "url": "https://www.msn.com/en-in/entertainment/other/latest-entertainment-news-live-updates-today-october-17-2024-is-liam-paynes-death-actually-connected-to-sean-diddy-combs-conspiracy-theory-says/ar-AA1ssauh"
          },
          {
           "about": [
            {
             "name": "Madhya Pradesh",
             "readLink": "https://api.bing.microsoft.com/api/v7/entities/bcbcd891-852b-6dac-1671-8d00b9eae5ea"
            }
           ],
           "datePublished": "2024-10-17T13:15:00.0000000Z",
           "description": "The Mukhyamantri Ladli Behna Yojana MP empowers eligible women in Madhya Pradesh with monthly financial aid for economic self-reliance. Check apply online date",
           "image": {
            "thumbnail": {
             "contentUrl": "https://www.bing.com/th?id=OVFT.nzaOLQCBa2PCYLH0rsRaVi&pid=News",
             "height": 393,
             "width": 700
            }
           },
           "name": "Ladli Behna Yojana 2024: Check Apply Online, Eligibility Criteria & Latest News",
           "provider": [
            {
             "_type": "Organization",
             "image": {
              "thumbnail": {
               "contentUrl": "https://www.bing.com/th?id=ODF.Pg1CxWVlDOcYEbJ-sTiq_g&pid=news"
              }
             },
             "name": "jagranjosh.com"
            }
           ],
           "url": "https://www.jagranjosh.com/articles/ladli-behna-yojna-mp-madhya-pradesh-1729171063-1"
          },
          {
           "about": [
            {
             "name": "New York City",
             "readLink": "https://api.bing.microsoft.com/api/v7/entities/60d5dc2b-c915-460b-b722-c9e3485499ca"
            },
            {
             "name": "Canada",
             "readLink": "https://api.bing.microsoft.com/api/v7/entities/370ed614-32e1-4326-a356-dc0a7dd56aaa"
            },
            {
             "name": "Extrajudicial killing",
             "readLink": "https://api.bing.microsoft.com/api/v7/entities/93bcd3e5-2576-f1a8-8d1a-eff177db9cb2"
            },
            {
             "name": "Department of Justice",
             "readLink": "https://api.bing.microsoft.com/api/v7/entities/b28458de-1324-8911-b01c-c1622a7cf159"
            },
            {
             "name": "Narendra Modi",
             "readLink": "https://api.bing.microsoft.com/api/v7/entities/04fee623-e9bd-ee4b-f30d-cad3c29199e4"
            },
            {
             "name": "India",
             "readLink": "https://api.bing.microsoft.com/api/v7/entities/85fa63d3-9596-adb9-b4eb-502273d84f56"
            },
            {
             "name": "Financial Times",
             "readLink": "https://api.bing.microsoft.com/api/v7/entities/941cdc8d-95cb-5ade-d349-63dc72d17314"
            },
            {
             "name": "Sikhs for Justice",
             "readLink": "https://api.bing.microsoft.com/api/v7/entities/d6a70116-a8f5-cf89-bf4e-22df8f2813e7"
            },
            {
             "name": "Netflix",
             "readLink": "https://api.bing.microsoft.com/api/v7/entities/424cb54b-41a3-c86b-d8e0-3ecef5609ce8"
            }
           ],
           "datePublished": "2024-10-17T22:42:00.0000000Z",
           "description": "The Department of Justice said Vikash Yadav, described as a “senior field officer” within Prime Minister Narendra Modi’s administration, directed a “murder-for-hire” scheme from India, in which a hitman was to be paid $100,000 for assassinating a US-Canadian citizen who was part of a separatist movement advocating for an independent Sikh state.",
           "name": "Live news: US charges Indian official over plot to kill Sikh activist in New York",
           "provider": [
            {
             "_type": "Organization",
             "image": {
              "thumbnail": {
               "contentUrl": "https://www.bing.com/th?id=ODF.CdBlognZ1u9nda-gVEOS_w&pid=news"
              }
             },
             "name": "The Financial Times"
            }
           ],
           "url": "https://www.ft.com/content/65cf7e16-63de-4c21-bfc7-4abadcda3ca6"
          },
          {
           "category": "Politics",
           "datePublished": "2024-10-17T22:17:00.0000000Z",
           "description": "At rallies across the country, former President Donald Trump has pledged to enact mass deportations of illegal immigrants, something he vowed to do during his first term but never fully realized.",
           "name": "Fox News Poll: Two-thirds favor deporting immigrants who live in U.S. illegally",
           "provider": [
            {
             "_type": "Organization",
             "image": {
              "thumbnail": {
               "contentUrl": "https://www.bing.com/th?id=ODF.mdH-v7wPV5psO7NVm756zg&pid=news"
              }
             },
             "name": "Fox News"
            }
           ],
           "url": "https://www.foxnews.com/official-polls/fox-news-poll-two-thirds-favor-deporting-immigrants-who-live-u-s-illegally"
          },
          {
           "about": [
            {
             "name": "Ukraine",
             "readLink": "https://api.bing.microsoft.com/api/v7/entities/ad599477-9e6d-4a0e-bab5-0edf9db7115a"
            },
            {
             "name": "White House",
             "readLink": "https://api.bing.microsoft.com/api/v7/entities/ef1d3513-cce2-159a-8d48-daa5ce9698db"
            },
            {
             "name": "Berlin",
             "readLink": "https://api.bing.microsoft.com/api/v7/entities/42784943-7c23-7672-5527-06f89b965cdf"
            },
            {
             "name": "World Health Organization",
             "readLink": "https://api.bing.microsoft.com/api/v7/entities/de47402a-ae16-1725-f842-dec4e31da591"
            },
            {
             "name": "Israel",
             "readLink": "https://api.bing.microsoft.com/api/v7/entities/1ffafed3-2b37-b871-c271-aa855d98449a"
            },
            {
             "name": "Polio vaccine",
             "readLink": "https://api.bing.microsoft.com/api/v7/entities/6c89a8ce-2170-a1a3-dd0e-8e5d08937a5a"
            }
           ],
           "category": "World",
           "datePublished": "2024-10-17T16:16:00.0000000Z",
           "description": "Stay here for real-time updates on breaking news from India and across the world that you can't miss: IndiGo flight makes emergency landing at Jaipur",
           "image": {
            "thumbnail": {
             "contentUrl": "https://www.bing.com/th?id=OVFT.yrSrWeTyfXB5y9J5AI9uGi&pid=News",
             "height": 379,
             "width": 700
            }
           },
           "name": "Breaking News Live: Senior IPS officer Praveen Vashista appointed as next special secretary for internal security",
           "provider": [
            {
             "_type": "Organization",
             "image": {
              "thumbnail": {
               "contentUrl": "https://www.bing.com/th?id=ODF.VBzHmoY4z9NL3FbRonyM1w&pid=news"
              }
             },
             "name": "Indiatimes"
            }
           ],
           "url": "https://timesofindia.indiatimes.com/india/latest-india-world-news-live-updates-today-breaking-news-15th-oct-2024/liveblog/114260977.cms"
          },
          {
           "about": [
            {
             "name": "Kamala Harris",
             "readLink": "https://api.bing.microsoft.com/api/v7/entities/ef5cf66f-32b7-7271-286a-8e8313eda5c5"
            },
            {
             "name": "Donald Trump",
             "readLink": "https://api.bing.microsoft.com/api/v7/entities/1a466af2-ed23-25bd-794d-1ca925e4681b"
            },
            {
             "name": "2024 United States presidential election",
             "readLink": "https://api.bing.microsoft.com/api/v7/entities/eb3d2900-d8f6-7103-31a3-4a9f285c366a"
            },
            {
             "name": "Pennsylvania",
             "readLink": "https://api.bing.microsoft.com/api/v7/entities/6304580e-c803-4266-818a-971619176547"
            },
            {
             "name": "Florida",
             "readLink": "https://api.bing.microsoft.com/api/v7/entities/5fece3f4-e8e8-4159-843e-f725a930ad50"
            },
            {
             "name": "Carter Center",
             "readLink": "https://api.bing.microsoft.com/api/v7/entities/2726104c-affa-7e1d-e650-3b0d4f633572"
            },
            {
             "name": "Jimmy Carter: Rock & Roll President",
             "readLink": "https://api.bing.microsoft.com/api/v7/entities/ebba07a5-d3ac-3f5c-6a45-6b1e75206f37"
            },
            {
             "name": "Georgia",
             "readLink": "https://api.bing.microsoft.com/api/v7/entities/4fe7777a-3d26-0e6a-243d-ae6d45c843c6"
            }
           ],
           "category": "Politics",
           "datePublished": "2024-10-17T08:15:00.0000000Z",
           "description": "With just 21 days remaining to cast votes this presidential season, Kamala Harris and Donald Trump are scrambling to win over key constituents as well as the other party's voters",
           "image": {
            "thumbnail": {
             "contentUrl": "https://www.bing.com/th?id=OVFT.8GfgWQFoFdMFEBY3Q5WXvi&pid=News",
             "height": 466,
             "width": 700
            }
           },
           "name": "The Latest: Harris and Trump Pivot to Turnout as Early Voting Begins",
           "provider": [
            {
             "_type": "Organization",
             "image": {
              "thumbnail": {
               "contentUrl": "https://www.bing.com/th?id=ODF.AlMAEy7MoWNz0OI_xSWQiw&pid=news"
              }
             },
             "name": "The Associated Press on MSN.com"
            }
           ],
           "url": "https://www.msn.com/en-us/news/politics/the-latest-harris-and-trump-pivot-to-turnout-as-early-voting-begins/ar-AA1sniLk"
          },
          {
           "about": [
            {
             "name": "Kamala Harris",
             "readLink": "https://api.bing.microsoft.com/api/v7/entities/ef5cf66f-32b7-7271-286a-8e8313eda5c5"
            },
            {
             "name": "Joe Biden",
             "readLink": "https://api.bing.microsoft.com/api/v7/entities/cad484f9-be75-7a78-12dd-16233f823cd7"
            },
            {
             "name": "Fox News",
             "readLink": "https://api.bing.microsoft.com/api/v7/entities/273e0477-30ed-3993-f232-f39244306805"
            },
            {
             "name": "Bret Baier",
             "readLink": "https://api.bing.microsoft.com/api/v7/entities/9b86aac2-db97-40ed-291a-956e112ee639"
            },
            {
             "name": "Donald Trump",
             "readLink": "https://api.bing.microsoft.com/api/v7/entities/1a466af2-ed23-25bd-794d-1ca925e4681b"
            }
           ],
           "category": "Politics",
           "datePublished": "2024-10-17T21:36:00.0000000Z",
           "description": "Kamala Harris and Fox News host Bret Baier sparred repeatedly over immigration, Donald Trump and Harris’ record as vice president in a televised interview Wednesday night. The two frequently spoke over one another in the contentious exchange,",
           "image": {
            "thumbnail": {
             "contentUrl": "https://www.bing.com/th?id=OVFT.mOYhnpbW4Of5UT97bHHHsC&pid=News",
             "height": 466,
             "width": 700
            }
           },
           "name": "Kamala Harris spars over Biden administration's record in Fox News interview",
           "provider": [
            {
             "_type": "Organization",
             "image": {
              "thumbnail": {
               "contentUrl": "https://www.bing.com/th?id=ODF.nYADEgS75l8rdCg9D-p_OQ&pid=news"
              }
             },
             "name": "YAHOO!News"
            }
           ],
           "url": "https://news.yahoo.com/news/kamala-harris-sits-interview-conservative-203700248.html"
          },
          {
           "about": [
            {
             "name": "News 12 Networks",
             "readLink": "https://api.bing.microsoft.com/api/v7/entities/a0c67096-b1e5-44bf-3c53-10c7be80a7d6"
            },
            {
             "name": "Election day",
             "readLink": "https://api.bing.microsoft.com/api/v7/entities/6bc2c73d-9a31-34df-0fa2-038918b833c2"
            },
            {
             "name": "Ballotpedia",
             "readLink": "https://api.bing.microsoft.com/api/v7/entities/00fbfaf1-5627-e65c-eb19-1ce97228f825"
            }
           ],
           "datePublished": "2024-10-17T20:14:00.0000000Z",
           "description": "As you get ready to head to the polls on Nov. 5, News 12 gives you the tools and resources you need to make an informed decision on Election Day.",
           "image": {
            "thumbnail": {
             "contentUrl": "https://www.bing.com/th?id=OVFT.gxrmiU442KQ9mDqgqOF0fS&pid=News",
             "height": 393,
             "width": 700
            }
           },
           "name": "News 12 New Jersey 2024 Voters Guide",
           "provider": [
            {
             "_type": "Organization",
             "image": {
              "thumbnail": {
               "contentUrl": "https://www.bing.com/th?id=ODF.pLW_qbtRH5jPxsvrBSqZ4A&pid=news"
              }
             },
             "name": "News 12 Networks"
            }
           ],
           "url": "https://newjersey.news12.com/category/news-12-new-jersey-2024-voters-guide"
          },
          {
           "about": [
            {
             "name": "Kamala Harris",
             "readLink": "https://api.bing.microsoft.com/api/v7/entities/ef5cf66f-32b7-7271-286a-8e8313eda5c5"
            },
            {
             "name": "Joe Biden",
             "readLink": "https://api.bing.microsoft.com/api/v7/entities/cad484f9-be75-7a78-12dd-16233f823cd7"
            },
            {
             "name": "Fox News",
             "readLink": "https://api.bing.microsoft.com/api/v7/entities/273e0477-30ed-3993-f232-f39244306805"
            },
            {
             "name": "Joe Biden 2020 presidential campaign",
             "readLink": "https://api.bing.microsoft.com/api/v7/entities/930c366b-8c46-b97d-d826-abb8f0807dcb"
            },
            {
             "name": "Bret Baier",
             "readLink": "https://api.bing.microsoft.com/api/v7/entities/9b86aac2-db97-40ed-291a-956e112ee639"
            },
            {
             "name": "Special Report with Bret Baier",
             "readLink": "https://api.bing.microsoft.com/api/v7/entities/4fefcd96-bf77-de10-32f5-d030466a564b"
            },
            {
             "name": "Pennsylvania",
             "readLink": "https://api.bing.microsoft.com/api/v7/entities/6304580e-c803-4266-818a-971619176547"
            }
           ],
           "category": "Politics",
           "datePublished": "2024-10-17T22:12:00.0000000Z",
           "description": "\"I represent a new generation of leadership,” the vice president said in her first interview with the conservative cable news network.",
           "image": {
            "thumbnail": {
             "contentUrl": "https://www.bing.com/th?id=OVFT.N5VCUfmmo0K-D2u-7waJuC&pid=News",
             "height": 350,
             "width": 700
            }
           },
           "name": "Kamala Harris Says She Won't Be 'A Continuation' Of Joe Biden In Combative Fox News Interview",
           "provider": [
            {
             "_type": "Organization",
             "image": {
              "thumbnail": {
               "contentUrl": "https://www.bing.com/th?id=ODF.nYADEgS75l8rdCg9D-p_OQ&pid=news"
              }
             },
             "name": "YAHOO!News"
            }
           ],
           "url": "https://news.yahoo.com/news/kamala-harris-says-she-wont-231355013.html",
           "video": {
            "name": "Kamala Harris Says She Won't Be 'A Continuation' Of Joe Biden In Combative Fox News Interview",
            "thumbnail": {
             "height": 260,
             "width": 520
            },
            "thumbnailUrl": "https://www.bing.com/th?id=OVF.2BPQDIZaL0OvG3PHE%2BObqQ&pid=News"
           }
          },
          {
           "about": [
            {
             "name": "Cervical cancer",
             "readLink": "https://api.bing.microsoft.com/api/v7/entities/30c5a0c0-8250-047b-a60d-c59cd8615d39"
            },
            {
             "name": "Chemotherapy",
             "readLink": "https://api.bing.microsoft.com/api/v7/entities/0588906e-398e-d5dd-d7b8-2f97213f2c68"
            },
            {
             "name": "University College London",
             "readLink": "https://api.bing.microsoft.com/api/v7/entities/20b640eb-2f1a-2b91-14f3-348b9a1bf371"
            },
            {
             "name": "Institute of Cancer Research",
             "readLink": "https://api.bing.microsoft.com/api/v7/entities/4462a52b-7ca1-8918-0caf-bf153ff41561"
            },
            {
             "name": "Cancer Research UK",
             "readLink": "https://api.bing.microsoft.com/api/v7/entities/5fba90c1-9539-089b-363e-0392a9a891cb"
            },
            {
             "name": "The Lancet",
             "readLink": "https://api.bing.microsoft.com/api/v7/entities/a0261722-9d45-23d6-db93-d2e25023c574"
            },
            {
             "name": "India",
             "readLink": "https://api.bing.microsoft.com/api/v7/entities/85fa63d3-9596-adb9-b4eb-502273d84f56"
            },
            {
             "name": "Mexico",
             "readLink": "https://api.bing.microsoft.com/api/v7/entities/8e475659-4bdc-d912-6494-affce0096bc1"
            }
           ],
           "datePublished": "2024-10-17T12:46:00.0000000Z",
           "description": "The researchers found that 80% of those who got a short course of chemotherapy first lived at least five more years, and 72% did not have any cancer return or spread. In the control group, 72% survived at least five years, and 64% had no cancer return or spread.",
           "image": {
            "thumbnail": {
             "contentUrl": "https://www.bing.com/th?id=OVFT._5F7RqYi-OGkqeqMEZiTcS&pid=News",
             "height": 200,
             "width": 300
            }
           },
           "name": "New Drug Regimen Extends Survival for Cervical Cancer Patients",
           "provider": [
            {
             "_type": "Organization",
             "image": {
              "thumbnail": {
               "contentUrl": "https://www.bing.com/th?id=ODF.ZUvKX7lBhXaLGhOrD6YbBg&pid=news"
              }
             },
             "name": "U.S. News & World Report"
            }
           ],
           "url": "https://www.usnews.com/news/health-news/articles/2024-10-17/new-drug-regimen-extends-survival-for-cervical-cancer-patients"
          },
          {
           "about": [
            {
             "name": "India",
             "readLink": "https://api.bing.microsoft.com/api/v7/entities/85fa63d3-9596-adb9-b4eb-502273d84f56"
            },
            {
             "name": "M. Chinnaswamy Stadium",
             "readLink": "https://api.bing.microsoft.com/api/v7/entities/85ec3897-c3ed-4c21-dd73-318a80fbd468"
            },
            {
             "name": "Bengaluru FC",
             "readLink": "https://api.bing.microsoft.com/api/v7/entities/e3027fb3-3f4b-4c71-e40c-e07ddcf89bd3"
            },
            {
             "name": "Rohit Sharma",
             "readLink": "https://api.bing.microsoft.com/api/v7/entities/56bcfaf9-df53-4e77-1e38-f8a7da102c63"
            },
            {
             "name": "Virat Kohli",
             "readLink": "https://api.bing.microsoft.com/api/v7/entities/43175d39-e52e-d4e2-5e46-96746197d717"
            },
            {
             "name": "Yashasvi Jaiswal",
             "readLink": "https://api.bing.microsoft.com/api/v7/entities/b9caab3c-42b5-cded-c819-aa631b2b7604"
            },
            {
             "name": "Shubman Gill",
             "readLink": "https://api.bing.microsoft.com/api/v7/entities/edb1e1bb-362e-16c4-9c3f-7c38b60ee78e"
            },
            {
             "name": "Rishabh Pant",
             "readLink": "https://api.bing.microsoft.com/api/v7/entities/3125f58f-7865-579e-ba20-20d0830a715c"
            },
            {
             "name": "Bangladesh",
             "readLink": "https://api.bing.microsoft.com/api/v7/entities/c5fa012f-7347-0857-872b-2a5efc180846"
            },
            {
             "name": "Ravichandran Ashwin",
             "readLink": "https://api.bing.microsoft.com/api/v7/entities/f12319f5-d9b7-32fe-bc06-2528fff3e579"
            },
            {
             "name": "Jasprit Bumrah",
             "readLink": "https://api.bing.microsoft.com/api/v7/entities/cce384da-9bd4-421b-80c7-fe49497597e8"
            },
            {
             "name": "New Zealand",
             "readLink": "https://api.bing.microsoft.com/api/v7/entities/6517d967-9362-4c0d-83d2-cf369fa5fcda"
            },
            {
             "name": "Kane Williamson",
             "readLink": "https://api.bing.microsoft.com/api/v7/entities/da378c4a-6410-742d-bf89-3fb953c66464"
            }
           ],
           "category": "LifeStyle",
           "datePublished": "2024-10-17T02:36:00.0000000Z",
           "description": "The first day of the IND vs NZ Test match has been called of due to rain without a single ball being bowled, The weather does not look promising for the remainder of the Test either",
           "image": {
            "thumbnail": {
             "contentUrl": "https://www.bing.com/th?id=OVFT.JHhBpdJT9ysy40DCXrqX6C&pid=News",
             "height": 393,
             "width": 700
            }
           },
           "name": "India vs New Zealand highlights, 1st Test: Play called off in Bengaluru",
           "provider": [
            {
             "_type": "Organization",
             "image": {
              "thumbnail": {
               "contentUrl": "https://www.bing.com/th?id=ODF.KAwemXIpD5l2nQRDmYLy2w&pid=news"
              }
             },
             "name": "The Indian Express"
            }
           ],
           "url": "https://indianexpress.com/article/sports/cricket/india-vs-new-zealand-live-score-1st-test-ind-vs-nz-latest-scorecard-updates-9621892/"
          },
          {
           "about": [
            {
             "name": "Prince George of Cambridge",
             "readLink": "https://api.bing.microsoft.com/api/v7/entities/d3ecdc09-7e09-4630-a38d-dc6806dc26b5"
            },
            {
             "name": "Prince Louis of Cambridge",
             "readLink": "https://api.bing.microsoft.com/api/v7/entities/3780699d-4f02-8170-76e2-af7763353501"
            },
            {
             "name": "Cocker Spaniel",
             "readLink": "https://api.bing.microsoft.com/api/v7/entities/60c95830-98a7-6afc-0222-ab90862353c5"
            },
            {
             "name": "Prince William, Duke of Cambridge",
             "readLink": "https://api.bing.microsoft.com/api/v7/entities/026387b6-916a-4fd2-91c9-c67298468905"
            }
           ],
           "datePublished": "2024-10-17T22:01:00.0000000Z",
           "description": "Prince George , Princess Charlotte , and Prince Louis may soon welcome a new addition to their family, according to reports. The family welcomed a cocker spaniel puppy named Orla in 2021 and Prince William has reportedly shared that the children could soon expect new puppies after going through a “tough year”.",
           "image": {
            "thumbnail": {
             "contentUrl": "https://www.bing.com/th?id=OVFT.m04JO8JUz04ceMDLCeVazi&pid=News",
             "height": 367,
             "width": 700
            }
           },
           "name": "Prince George, Charlotte, and Louis eagerly anticipate new arrivals after 'tough year'",
           "provider": [
            {
             "_type": "Organization",
             "image": {
              "thumbnail": {
               "contentUrl": "https://www.bing.com/th?id=ODF.B6nvPq26UTBuCaXH6tX71w&pid=news"
              }
             },
             "name": "Daily Record"
            }
           ],
           "url": "https://www.dailyrecord.co.uk/entertainment/celebrity/prince-george-charlotte-louis-eagerly-33914608"
          },
          {
           "about": [
            {
             "name": "Hyundai Motor India",
             "readLink": "https://api.bing.microsoft.com/api/v7/entities/058d2904-b7ee-799c-9044-346729b2948d"
            },
            {
             "name": "Mumbai",
             "readLink": "https://api.bing.microsoft.com/api/v7/entities/fbbc8d69-667a-e1ff-34bf-e524be01025d"
            },
            {
             "name": "Three Sixty West",
             "readLink": "https://api.bing.microsoft.com/api/v7/entities/d1d8d007-4b4e-4975-8170-35f46c275c71"
            }
           ],
           "category": "Business",
           "datePublished": "2024-10-17T10:30:00.0000000Z",
           "description": "Hyundai Motor IPO's Grey Market Premium (GMP) is significantly subdued at under 1%. The issue closes on October 17 and all eyes would be on the allotment status once the issue ends.",
           "image": {
            "thumbnail": {
             "contentUrl": "https://www.bing.com/th?id=OVFT.rk_TEbGL8Kbs4sfddvmDnS&pid=News",
             "height": 393,
             "width": 700
            }
           },
           "name": "Hyundai IPO GMP Allotment status Live Updates: Check latest GMP, allotment, listing, price band; IPO fully subscribed",
           "provider": [
            {
             "_type": "Organization",
             "image": {
              "thumbnail": {
               "contentUrl": "https://www.bing.com/th?id=ODF.7h8TdLFTlOnT9gKVUsDMyQ&pid=news"
              }
             },
             "name": "The Financial Express"
            }
           ],
           "url": "https://www.financialexpress.com/market/ipo-news-hyundai-motor-india-ipo-2024-live-updates-today-gmp-allotment-status-subscription-review-ipo-news-3642011/"
          },
          {
           "about": [
            {
             "name": "RollerCoaster Tycoon",
             "readLink": "https://api.bing.microsoft.com/api/v7/entities/d07c05ad-6dcb-d38d-f990-f2e31cfaf482"
            },
            {
             "name": "Frontier Developments",
             "readLink": "https://api.bing.microsoft.com/api/v7/entities/bbef1863-a3a9-7a39-c426-626580bc5dc1"
            },
            {
             "name": "Planet Coaster",
             "readLink": "https://api.bing.microsoft.com/api/v7/entities/21cc0aa1-dcde-b04d-49b1-283a2976468d"
            }
           ],
           "category": "ScienceAndTechnology",
           "datePublished": "2024-10-17T08:48:00.0000000Z",
           "description": "Planet Coaster 2 is set to drop on all of its platforms on 6th November 2024. Not a long wait at all! Sign up for our gaming newsletter to receive the latest insights, reviews and expert recommendations",
           "image": {
            "thumbnail": {
             "contentUrl": "https://www.bing.com/th?id=OVFT.XwBwzlmNYOiDx7dIT83BUi&pid=News",
             "height": 367,
             "width": 700
            }
           },
           "name": "Planet Coaster 2 release date, pre-order and latest news",
           "provider": [
            {
             "_type": "Organization",
             "image": {
              "thumbnail": {
               "contentUrl": "https://www.bing.com/th?id=ODF.HVIMpkpJ5pX4_z5dj2pDfw&pid=news"
              }
             },
             "name": "Radio Times"
            }
           ],
           "url": "https://www.radiotimes.com/technology/gaming/planet-coaster-2-release/"
          },
          {
           "about": [
            {
             "name": "United States Secret Service",
             "readLink": "https://api.bing.microsoft.com/api/v7/entities/7790583a-9704-5339-2155-84151b887109"
            },
            {
             "name": "NBC News",
             "readLink": "https://api.bing.microsoft.com/api/v7/entities/90fd2ef2-8123-de59-2b1f-ccd033454a4a"
            },
            {
             "name": "Donald Trump",
             "readLink": "https://api.bing.microsoft.com/api/v7/entities/1a466af2-ed23-25bd-794d-1ca925e4681b"
            }
           ],
           "category": "Politics",
           "datePublished": "2024-10-17T19:36:49.0000000Z",
           "description": "In an exclusive interview with NBC News, Ronald Rowe Jr. said he worried about “demoralized” Secret Service agents who are being pushed to the brink.",
           "image": {
            "thumbnail": {
             "contentUrl": "https://www.bing.com/th?id=OVFT.aGlWb2MUtymucyj5Zxgd9S&pid=News",
             "height": 367,
             "width": 700
            }
           },
           "name": "Acting Secret Service director responds to critical new report about security failures",
           "provider": [
            {
             "_type": "Organization",
             "image": {
              "thumbnail": {
               "contentUrl": "https://www.bing.com/th?id=ODF.ighWNnrr5MMFUs8WKMme2A&pid=news"
              }
             },
             "name": "NBC News on MSN.com"
            }
           ],
           "url": "https://www.msn.com/en-us/news/politics/acting-secret-service-director-responds-to-critical-new-report-about-security-failures/ar-AA1ssjgQ",
           "video": {
            "name": "Acting Secret Service director responds to critical new report about security failures",
            "thumbnail": {
             "height": 273,
             "width": 520
            },
            "thumbnailUrl": "https://www.bing.com/th?id=OVF.Y9JgyHeAaLcXsg7np3doGg&pid=News"
           }
          },
          {
           "about": [
            {
             "name": "Donald Trump",
             "readLink": "https://api.bing.microsoft.com/api/v7/entities/1a466af2-ed23-25bd-794d-1ca925e4681b"
            },
            {
             "name": "Arizona",
             "readLink": "https://api.bing.microsoft.com/api/v7/entities/bf973f46-5962-4997-a7ba-a05f1aa2a9f9"
            },
            {
             "name": "Abortion",
             "readLink": "https://api.bing.microsoft.com/api/v7/entities/e68240d7-50b4-4edf-b17a-54f2d54ffebc"
            },
            {
             "name": "The New York Times",
             "readLink": "https://api.bing.microsoft.com/api/v7/entities/614b60a2-4ccd-3ecb-15dc-6e2fba54ed28"
            },
            {
             "name": "The Philadelphia Inquirer",
             "readLink": "https://api.bing.microsoft.com/api/v7/entities/8dd895ce-173b-e1d5-2615-a5efc703619f"
            },
            {
             "name": "Siena College",
             "readLink": "https://api.bing.microsoft.com/api/v7/entities/38fc1f25-24e4-f324-73c3-9c35805e9044"
            },
            {
             "name": "FiveThirtyEight",
             "readLink": "https://api.bing.microsoft.com/api/v7/entities/486e9989-63d9-720c-e97d-c10b2923174a"
            },
            {
             "name": "The Wall Street Journal",
             "readLink": "https://api.bing.microsoft.com/api/v7/entities/70834f76-d913-bf85-87a6-b9386945a646"
            }
           ],
           "category": "Politics",
           "datePublished": "2024-10-17T22:28:00.0000000Z",
           "description": "President Joe Biden narrowly won the battleground state in 2020 over Trump, who sought to overturn election results in the state.",
           "image": {
            "thumbnail": {
             "contentUrl": "https://www.bing.com/th?id=OVFT.twYq9P5FyOpAe4egwoUrcy&pid=News",
             "height": 466,
             "width": 700
            }
           },
           "name": "Arizona 2024 Trump-Harris Polls: Trump Up 3 Points In Latest Survey",
           "provider": [
            {
             "_type": "Organization",
             "image": {
              "thumbnail": {
               "contentUrl": "https://www.bing.com/th?id=ODF.U6nYa4Huf-RFEhjg-V4hNg&pid=news"
              }
             },
             "name": "Forbes"
            }
           ],
           "url": "https://www.forbes.com/sites/antoniopequenoiv/2024/10/17/arizona-2024-trump-harris-polls-trump-up-3-points-in-latest-survey/"
          },
          {
           "about": [
            {
             "name": "Vanderpump Rules",
             "readLink": "https://api.bing.microsoft.com/api/v7/entities/bf2d5f3d-434c-4402-ada1-630fa78533e6"
            },
            {
             "name": "Something About Her",
             "readLink": "https://api.bing.microsoft.com/api/v7/entities/5c145280-4bd5-4af6-b9cc-3f95789ed278"
            },
            {
             "name": "Bravo",
             "readLink": "https://api.bing.microsoft.com/api/v7/entities/07040c94-3c74-9b84-b446-88a1782c7c88"
            }
           ],
           "category": "Entertainment",
           "datePublished": "2024-10-17T20:13:01.0000000Z",
           "description": "Katie Maloney is all smiles and it's not just because of her successful sandwich shop — aptly named Something About Her. The 37-year-old Vanderpump Rules alum just went public with some big personal news: she's got a new boyfriend and she's totally \"in love.\" The reveal came on her ex-husband Tom Schwartz's birthday.",
           "image": {
            "thumbnail": {
             "contentUrl": "https://www.bing.com/th?id=OVFT.BHtANKwiTH6yFhZeMFm96i&pid=News",
             "height": 466,
             "width": 700
            }
           },
           "name": "Vanderpump Rules' Katie Maloney Gushes Over New Boyfriend",
           "provider": [
            {
             "_type": "Organization",
             "image": {
              "thumbnail": {
               "contentUrl": "https://www.bing.com/th?id=ODF.uTJA7JDoTGKvff5o3jotfg&pid=news"
              }
             },
             "name": "Newsweek on MSN.com"
            }
           ],
           "url": "https://www.msn.com/en-us/tv/celebrity/vanderpump-rules-katie-maloney-gushes-over-new-boyfriend/ar-AA1ssmnv",
           "video": {
            "name": "Vanderpump Rules' Katie Maloney gushes over new boyfriend",
            "thumbnail": {
             "height": 346,
             "width": 520
            },
            "thumbnailUrl": "https://www.bing.com/th?id=OVF.AZR6kM2zfLh0iJuwdTb2Xw&pid=News"
           }
          },
          {
           "about": [
            {
             "name": "Arizona",
             "readLink": "https://api.bing.microsoft.com/api/v7/entities/bf973f46-5962-4997-a7ba-a05f1aa2a9f9"
            },
            {
             "name": "CBS News",
             "readLink": "https://api.bing.microsoft.com/api/v7/entities/0a985fc5-6c6a-ff51-ed2c-b928b1cb09d2"
            },
            {
             "name": "YouGov",
             "readLink": "https://api.bing.microsoft.com/api/v7/entities/08c56f6d-85d5-44bc-4abf-00f8d41e276d"
            }
           ],
           "category": "LifeStyle",
           "datePublished": "2024-10-17T22:26:00.0000000Z",
           "description": "Former President Trump is up by 3 points over his rival Vice President Harris in a Arizona poll released on Thursday.  Trump garnered 51 percent over Harris’s 48 percent among likely voters",
           "image": {
            "thumbnail": {
             "contentUrl": "https://www.bing.com/th?id=OVFT.9wySAKosf2cfYRgD6rPhuC&pid=News",
             "height": 393,
             "width": 700
            }
           },
           "name": "Trump up by 3 points over Harris in new Arizona poll",
           "provider": [
            {
             "_type": "Organization",
             "image": {
              "thumbnail": {
               "contentUrl": "https://www.bing.com/th?id=ODF.BO7AWyiZH_p5UNPH6KXa_g&pid=news"
              }
             },
             "name": "The Hill"
            }
           ],
           "url": "https://thehill.com/homenews/campaign/4939928-trump-harris-arizona-cbs-poll/"
          },
          {
           "about": [
            {
             "name": "Kamala Harris",
             "readLink": "https://api.bing.microsoft.com/api/v7/entities/ef5cf66f-32b7-7271-286a-8e8313eda5c5"
            },
            {
             "name": "Donald Trump",
             "readLink": "https://api.bing.microsoft.com/api/v7/entities/1a466af2-ed23-25bd-794d-1ca925e4681b"
            },
            {
             "name": "New Hampshire",
             "readLink": "https://api.bing.microsoft.com/api/v7/entities/9ca71997-cc97-46eb-8911-fac32f80b0b1"
            },
            {
             "name": "2024 United States presidential election",
             "readLink": "https://api.bing.microsoft.com/api/v7/entities/eb3d2900-d8f6-7103-31a3-4a9f285c366a"
            },
            {
             "name": "University of Massachusetts Lowell",
             "readLink": "https://api.bing.microsoft.com/api/v7/entities/63f23f75-b529-a79e-9639-d88eb1f4bd2c"
            },
            {
             "name": "Jill Stein",
             "readLink": "https://api.bing.microsoft.com/api/v7/entities/d871183a-86c0-4d16-ad2b-9c13a75e75d9"
            },
            {
             "name": "Saint Anselm College",
             "readLink": "https://api.bing.microsoft.com/api/v7/entities/5800fa73-9b2d-a8aa-434c-573db82ae571"
            }
           ],
           "category": "Politics",
           "datePublished": "2024-10-17T21:05:00.0000000Z",
           "description": "Kamala Harris continues to hold a lead over Donald Trump in New Hampshire, according to new poll. Market Basket is top grocery store in a landslide.",
           "image": {
            "thumbnail": {
             "contentUrl": "https://www.bing.com/th?id=OVFT.It3vm6fV5yurORwcghf1Yy&pid=News",
             "height": 394,
             "width": 700
            }
           },
           "name": "Kamala Harris holds lead over Donald Trump in NH in latest poll",
           "provider": [
            {
             "_type": "Organization",
             "image": {
              "thumbnail": {
               "contentUrl": "https://www.bing.com/th?id=ODF.m1iod5ODNIyyKu23kGIllQ&pid=news"
              }
             },
             "name": "USA Today"
            }
           ],
           "url": "https://www.usatoday.com/story/news/politics/elections/2024/10/17/kamala-harris-leads-donald-trump-nh-poll-umass-lowell/75714742007/"
          },
          {
           "about": [
            {
             "name": "Hamas",
             "readLink": "https://api.bing.microsoft.com/api/v7/entities/fd56a0c1-5b09-6e40-09dc-a8abf5069c30"
            },
            {
             "name": "Yahya Sinwar",
             "readLink": "https://api.bing.microsoft.com/api/v7/entities/10611261-e7ad-2ac1-e32e-1cac8bdc5fa7"
            },
            {
             "name": "Gaza Strip",
             "readLink": "https://api.bing.microsoft.com/api/v7/entities/90eb9ff6-60ad-da43-d3fe-1ee3e3cb775a"
            },
            {
             "name": "Israel",
             "readLink": "https://api.bing.microsoft.com/api/v7/entities/1ffafed3-2b37-b871-c271-aa855d98449a"
            }
           ],
           "category": "World",
           "datePublished": "2024-10-17T22:19:00.0000000Z",
           "description": "Hamas's leader Yahya Sinwar has been killed in an attack in Gaza, Israel's foreign minister has confirmed. The Israeli military has released footage claiming to show his final moments. Watch Sky News live below as we bring you the latest updates from the Middle East.",
           "image": {
            "thumbnail": {
             "contentUrl": "https://www.bing.com/th?id=OVFT.ysFvdUbFnmQJHp2mJstxQi&pid=News",
             "height": 393,
             "width": 700
            }
           },
           "name": "Middle East latest: Hamas leader confirmed dead; Israeli military releases video of his 'final moments'",
           "provider": [
            {
             "_type": "Organization",
             "image": {
              "thumbnail": {
               "contentUrl": "https://www.bing.com/th?id=ODF.Eg62H9DIbo-JYPI6GpAgGA&pid=news"
              }
             },
             "name": "Sky"
            }
           ],
           "url": "https://news.sky.com/story/middle-east-latest-hamas-leader-confirmed-dead-israeli-military-releases-video-of-his-final-moments-12978800"
          },
          {
           "about": [
            {
             "name": "China",
             "readLink": "https://api.bing.microsoft.com/api/v7/entities/5fcc3d97-0cf2-94e5-6dad-cd70e387bd69"
            },
            {
             "name": "London",
             "readLink": "https://api.bing.microsoft.com/api/v7/entities/8e0ba7b6-4225-fa8a-6369-1b5294e602a5"
            },
            {
             "name": "David Lammy",
             "readLink": "https://api.bing.microsoft.com/api/v7/entities/64d4059c-5830-d40a-7759-a83fef79ea55"
            },
            {
             "name": "Beijing",
             "readLink": "https://api.bing.microsoft.com/api/v7/entities/e43bc499-902a-5deb-aced-aa4a247e6822"
            },
            {
             "name": "Ukraine",
             "readLink": "https://api.bing.microsoft.com/api/v7/entities/ad599477-9e6d-4a0e-bab5-0edf9db7115a"
            },
            {
             "name": "Wang Yi",
             "readLink": "https://api.bing.microsoft.com/api/v7/entities/7ef0df52-29c6-097d-541b-210ed25c305b"
            },
            {
             "name": "Shanghai",
             "readLink": "https://api.bing.microsoft.com/api/v7/entities/29ece984-463e-6074-60e1-83f8c012ef70"
            },
            {
             "name": "United Nations Security Council",
             "readLink": "https://api.bing.microsoft.com/api/v7/entities/b503a3ad-8e42-29ad-4feb-b4a2b81ac7c6"
            }
           ],
           "category": "World",
           "datePublished": "2024-10-17T22:06:00.0000000Z",
           "description": "Foreign minister David Lammy will arrive in China on Friday seeking to demonstrate Britain's new government is taking a pragmatic and strategic approach to building ties with Beijing, even while acknowledging areas of sharp disagreement.",
           "image": {
            "thumbnail": {
             "contentUrl": "https://www.bing.com/th?id=OVFT.dsS0cdYTJwDSyIWjLHIG4C&pid=News",
             "height": 366,
             "width": 700
            }
           },
           "name": "UK's new foreign minister travels to China seeking 'pragmatic' ties",
           "provider": [
            {
             "_type": "Organization",
             "image": {
              "thumbnail": {
               "contentUrl": "https://www.bing.com/th?id=ODF.jFXbg3L7Ce_1pS4_IOR8CA&pid=news"
              }
             },
             "name": "Reuters"
            }
           ],
           "url": "https://www.reuters.com/world/uks-new-foreign-minister-travels-china-seeking-pragmatic-ties-2024-10-17/"
          },
          {
           "category": "World",
           "datePublished": "2024-10-17T23:16:00.0000000Z",
           "description": "\"I’m a longtime teacher and in my classroom we believe in facts, so here are a few,\" said the wife of Democratic vice presidential nominee Tim Walz.",
           "name": "Gwen Walz Schools Donald Trump Over His Latest ‘Creepy’ And ‘Downright Nuts’ Boast",
           "provider": [
            {
             "_type": "Organization",
             "image": {
              "thumbnail": {
               "contentUrl": "https://www.bing.com/th?id=ODF.8SdII0Js_SngmBlHWTAF2w&pid=news"
              }
             },
             "name": "Yahoo News Australia"
            }
           ],
           "url": "https://au.yahoo.com/news/gwen-walz-schools-donald-trump-105211071.html"
          },
          {
           "about": [
            {
             "name": "Aaron Boone",
             "readLink": "https://api.bing.microsoft.com/api/v7/entities/ec8a9da6-0995-1b1d-0008-a2f9e2f84852"
            },
            {
             "name": "New York Yankees",
             "readLink": "https://api.bing.microsoft.com/api/v7/entities/34f268cb-0019-fa41-d7e4-7fe472f43c04"
            },
            {
             "name": "Clarke Schmidt",
             "readLink": "https://api.bing.microsoft.com/api/v7/entities/d5d561f4-30cb-6904-b543-5debea250524"
            },
            {
             "name": "Kansas City Royals",
             "readLink": "https://api.bing.microsoft.com/api/v7/entities/fff4d2b8-42d8-9f45-388d-c77ac91ab439"
            },
            {
             "name": "Luke Weaver",
             "readLink": "https://api.bing.microsoft.com/api/v7/entities/5b710e76-9a1f-2bb4-2929-ca6d50341ecd"
            },
            {
             "name": "Clay Holmes",
             "readLink": "https://api.bing.microsoft.com/api/v7/entities/d8ff6f15-a9b4-21ee-627b-35e1d4590112"
            },
            {
             "name": "Austin Wells",
             "readLink": "https://api.bing.microsoft.com/api/v7/entities/1551f138-f35e-c893-ebe4-59ae8342ef25"
            }
           ],
           "category": "Sports",
           "datePublished": "2024-10-17T22:45:00.0000000Z",
           "description": "Yankees fans are getting their wish from Aaron Boone, but New York's lineup also took a hit ahead of Game 3 against the Guardians.",
           "name": "Good news, bad news: Yankees' Game 3 lineup has reason for celebration and concern",
           "provider": [
            {
             "_type": "Organization",
             "image": {
              "thumbnail": {
               "contentUrl": "https://www.bing.com/th?id=ODF.cQEwcF-r13r66Z2s8ymonw&pid=news"
              }
             },
             "name": "FanSided on MSN.com"
            }
           ],
           "url": "https://www.msn.com/en-us/sports/mlb/good-news-bad-news-yankees-game-3-lineup-has-reason-for-celebration-and-concern/ar-AA1ssgk8"
          },
          {
           "about": [
            {
             "name": "Sourav Ganguly",
             "readLink": "https://api.bing.microsoft.com/api/v7/entities/64152cad-b4c4-60ed-a5ed-a2da22054294"
            },
            {
             "name": "Delhi Capitals",
             "readLink": "https://api.bing.microsoft.com/api/v7/entities/fed80cda-a314-3557-5947-1d18ec045b16"
            },
            {
             "name": "Cricbuzz",
             "readLink": "https://api.bing.microsoft.com/api/v7/entities/bada5a00-2818-d05a-7e48-bd7cab5ea307"
            },
            {
             "name": "Ricky Ponting",
             "readLink": "https://api.bing.microsoft.com/api/v7/entities/dd6514ec-9027-581e-521f-f704453ff3eb"
            }
           ],
           "category": "Sports",
           "datePublished": "2024-10-17T02:28:00.0000000Z",
           "description": "According to a report by Cricbuzz, former India all-rounder and ex-Delhi Capitals star Venugopal Rao has been appointed as the new Director of Cricket of the franchise. Appointing Rao in this position means that either Sourav Ganguly has to step down,",
           "image": {
            "thumbnail": {
             "contentUrl": "https://www.bing.com/th?id=OVFT.1ZCJ0ISyQVaVHgPewEMsaS&pid=News",
             "height": 393,
             "width": 700
            }
           },
           "name": "Sourav Ganguly No More With Delhi Capitals? IPL Franchise Appoints New Director Of Cricket: Report",
           "provider": [
            {
             "_type": "Organization",
             "image": {
              "thumbnail": {
               "contentUrl": "https://www.bing.com/th?id=ODF.KANCozAEZYO1NwXNST5YDQ&pid=news"
              }
             },
             "name": "Times Now on MSN.com"
            }
           ],
           "url": "https://www.msn.com/en-in/sports/cricket/sourav-ganguly-no-more-with-delhi-capitals-ipl-franchise-appoints-new-director-of-cricket-report/ar-AA1spgSx"
          },
          {
           "about": [
            {
             "name": "Mobile phone",
             "readLink": "https://api.bing.microsoft.com/api/v7/entities/5c025410-faf5-ac54-6171-a24398552448"
            },
            {
             "name": "Smartphone",
             "readLink": "https://api.bing.microsoft.com/api/v7/entities/cd1abc05-911e-afbf-387d-8a07513056ee"
            },
            {
             "name": "Hearing aid",
             "readLink": "https://api.bing.microsoft.com/api/v7/entities/942e9bc1-e862-3602-61e3-1c4b5b69c240"
            }
           ],
           "category": "ScienceAndTechnology",
           "datePublished": "2024-10-17T20:50:00.0000000Z",
           "description": "The FCC Thursday issued rules requiring that all mobile phones -- including smartphones -- sold in the U.S. be compatible with hearing aids. The news comes two years after the FDA made hearing aids available to all Americans without a prescription.",
           "image": {
            "thumbnail": {
             "contentUrl": "https://www.bing.com/th?id=OVFT.DPv-dBVboUoaLm9EsSsGAy&pid=News",
             "height": 700,
             "width": 700
            }
           },
           "name": "All mobile phones must be hearing aid compatible under new FCC rules",
           "provider": [
            {
             "_type": "Organization",
             "image": {
              "thumbnail": {
               "contentUrl": "https://www.bing.com/th?id=ODF.M4e-NwwkSCFuKsTp672mxA&pid=news"
              }
             },
             "name": "TechCrunch on MSN.com"
            }
           ],
           "url": "https://www.msn.com/en-us/news/technology/all-mobile-phones-must-be-hearing-aid-compatible-under-new-fcc-rules/ar-AA1ssm7B"
          },
          {
           "about": [
            {
             "name": "New Orleans",
             "readLink": "https://api.bing.microsoft.com/api/v7/entities/465e78cf-aa9a-491f-9167-4520c7110824"
            },
            {
             "name": "National Football League",
             "readLink": "https://api.bing.microsoft.com/api/v7/entities/6ff32734-2ab0-2636-a1b0-1e2f5e94a701"
            },
            {
             "name": "New Orleans Saints",
             "readLink": "https://api.bing.microsoft.com/api/v7/entities/6e1c9bcb-a6dd-05c8-54e9-86361e106868"
            },
            {
             "name": "Denver Broncos",
             "readLink": "https://api.bing.microsoft.com/api/v7/entities/c5144206-d4e6-4be8-8338-68d231530533"
            },
            {
             "name": "NFL Thursday Night Football",
             "readLink": "https://api.bing.microsoft.com/api/v7/entities/4b4f6229-e716-3f7f-1565-59dc9c94237a"
            },
            {
             "name": "Derek Carr",
             "readLink": "https://api.bing.microsoft.com/api/v7/entities/f456f42e-bc4d-7628-e5cd-59cf6de930d5"
            },
            {
             "name": "Kaizer Chiefs F.C.",
             "readLink": "https://api.bing.microsoft.com/api/v7/entities/923117f4-2b85-b506-fb82-84ecc5eee639"
            },
            {
             "name": "Spencer Rattler",
             "readLink": "https://api.bing.microsoft.com/api/v7/entities/24dbabb8-50cc-9343-1c83-6830f3899f62"
            },
            {
             "name": "Tampa Bay Buccaneers",
             "readLink": "https://api.bing.microsoft.com/api/v7/entities/7f3fc6b4-a783-5e1e-58a4-aaa00b9d7c95"
            },
            {
             "name": "Bo Nix",
             "readLink": "https://api.bing.microsoft.com/api/v7/entities/e67c63e7-22c6-2386-67c1-0917b77ac812"
            }
           ],
           "category": "Sports",
           "datePublished": "2024-10-17T23:18:00.0000000Z",
           "description": "Short weeks can be hard on NFL teams with less time to prepare than usual, and that puts the New Orleans Saints in a tough spot as they open Week 7 with a visit from the Denver Broncos on Thursday Night Football.",
           "image": {
            "thumbnail": {
             "contentUrl": "https://www.bing.com/th?id=OVFT.OCvJyINz6AfolLXk2gaTTC&pid=News",
             "height": 466,
             "width": 700
            }
           },
           "name": "Broncos vs. Saints score, live updates: Denver looks to get over .500 at slumping New Orleans on Thursday Night Football",
           "provider": [
            {
             "_type": "Organization",
             "image": {
              "thumbnail": {
               "contentUrl": "https://www.bing.com/th?id=ODF.S719DbZoJh4YKmcI5HTI3A&pid=news"
              }
             },
             "name": "Yahoo! Sports"
            }
           ],
           "url": "https://sports.yahoo.com/live/broncos-vs-saints-score-live-updates-highlights-denver-new-orleans-thursday-night-football-how-to-watch-231506285.html"
          },
          {
           "about": [
            {
             "name": "Interstate 40",
             "readLink": "https://api.bing.microsoft.com/api/v7/entities/24ecd17f-b948-14cd-6e78-41d4532ad65d"
            },
            {
             "name": "North Carolina",
             "readLink": "https://api.bing.microsoft.com/api/v7/entities/9e2bf053-dd80-4646-8f26-65075e7085c0"
            },
            {
             "name": "Western North Carolina",
             "readLink": "https://api.bing.microsoft.com/api/v7/entities/ee915d74-eb6b-5241-2256-be9918c89eec"
            },
            {
             "name": "North Carolina Department of Transportation",
             "readLink": "https://api.bing.microsoft.com/api/v7/entities/c101ddf1-5468-4d74-403d-c3505284fb5d"
            }
           ],
           "datePublished": "2024-10-17T19:46:00.0000000Z",
           "description": "Western North Carolina roads are slowly reopening following the devastation from Tropical Storm Helene, but several major thoroughfares remain closed, including Interstate 40. Here's the latest",
           "image": {
            "thumbnail": {
             "contentUrl": "https://www.bing.com/th?id=OVFT.W_jvGla6RZSn5HMjL6q77C&pid=News",
             "height": 393,
             "width": 700
            }
           },
           "name": "When will I-40 reopen? The latest on Helene-related North Carolina road closures",
           "provider": [
            {
             "_type": "Organization",
             "image": {
              "thumbnail": {
               "contentUrl": "https://www.bing.com/th?id=ODF.m1iod5ODNIyyKu23kGIllQ&pid=news"
              }
             },
             "name": "USA Today"
            }
           ],
           "url": "https://www.usatoday.com/story/news/local/2024/10/17/ncdot-road-closures-when-will-i-40-reopen-latest-update/75715064007/"
          },
          {
           "about": [
            {
             "name": "Chicago White Sox",
             "readLink": "https://api.bing.microsoft.com/api/v7/entities/decfc943-ef19-5257-22e7-94980ede0ba3"
            },
            {
             "name": "Chicago",
             "readLink": "https://api.bing.microsoft.com/api/v7/entities/28deeb39-ca49-4bd4-913b-929b1de4b25b"
            },
            {
             "name": "Roosevelt Road",
             "readLink": "https://api.bing.microsoft.com/api/v7/entities/8a6e3027-8a8d-e85e-f22a-434244ab025d"
            },
            {
             "name": "Clark Street",
             "readLink": "https://api.bing.microsoft.com/api/v7/entities/208e8e35-d947-b653-9534-265f379bc113"
            }
           ],
           "category": "Sports",
           "datePublished": "2024-10-17T21:44:00.0000000Z",
           "description": "Any baseball field designed and cultivated by Roger Bossard, the highly respected White Sox head groundskeeper who has been with the team for the past 58 seasons, inherently has something special attached.",
           "image": {
            "thumbnail": {
             "contentUrl": "https://www.bing.com/th?id=OVFT.V43K9dGYvNxC-QRSiaVZai&pid=News",
             "height": 350,
             "width": 700
            }
           },
           "name": "Here's the latest on White Sox proposed new ballpark",
           "provider": [
            {
             "_type": "Organization",
             "image": {
              "thumbnail": {
               "contentUrl": "https://www.bing.com/th?id=ODF.wzUJOrRR9Tt2JfINYjkJ1g&pid=news"
              }
             },
             "name": "MLB"
            }
           ],
           "url": "https://www.mlb.com/whitesox/news/white-sox-proposed-ballpark-update"
          },
          {
           "category": "Entertainment",
           "datePublished": "2024-10-17T09:40:00.0000000Z",
           "description": "A new heartbreaking update about Liam Payne’s death has been revealed. The One Direction singer died on October 16. While it was initially reported that he fell off his hotel balcony in Argentina, a new statement by the Buenos Aires Security Ministry revealed that Liam Payne ‘had jumped from the balcony of his room.",
           "name": "Liam Payne 'Jumped From the Balcony': Buenos Aires Security Ministry In New Statement",
           "provider": [
            {
             "_type": "Organization",
             "image": {
              "thumbnail": {
               "contentUrl": "https://www.bing.com/th?id=ODF.raV3hWx5LJpFUHNtCFAcrw&pid=news"
              }
             },
             "name": "CNN-News18"
            }
           ],
           "url": "https://www.news18.com/movies/liam-payne-passed-away-cause-of-death-jumped-from-balcony-9089270.html"
          },
          {
           "about": [
            {
             "name": "Chelsea F.C.",
             "readLink": "https://api.bing.microsoft.com/api/v7/entities/8346cd56-1a96-adb0-26e1-f3679d88e0ba"
            },
            {
             "name": "Hayley Raso",
             "readLink": "https://api.bing.microsoft.com/api/v7/entities/dcfddf06-6ad7-26d5-2eb1-37eba6af2b39"
            },
            {
             "name": "Manchester United F.C.",
             "readLink": "https://api.bing.microsoft.com/api/v7/entities/064ce28e-ed07-a026-2f79-1b321d7548ea"
            }
           ],
           "category": "Sports",
           "datePublished": "2024-10-17T14:00:00.0000000Z",
           "description": "Robert Vilahamn is hoping Amanda Nilden could make the trip to Chelsea on Sunday evening (6.45pm UK) with Ella Morris also expected to return – although Hayley Raso will miss the Barclays Women’s Super League encounter.",
           "image": {
            "thumbnail": {
             "contentUrl": "https://www.bing.com/th?id=OVFT.H9AlDxSoXTNsHz_5a5kBJS&pid=News",
             "height": 170,
             "width": 350
            }
           },
           "name": "Team news | Chelsea vs Spurs (WSL) | Latest on Nildén, Raso and Morris",
           "provider": [
            {
             "_type": "Organization",
             "image": {
              "thumbnail": {
               "contentUrl": "https://www.bing.com/th?id=ODF.mSUgx9Nimhp1juop9J_ZBg&pid=news"
              }
             },
             "name": "Tottenham Hotspur F.C."
            }
           ],
           "url": "https://www.tottenhamhotspur.com/news/2024/october/spurs-women-team-news-chelsea-vs-spurs-wsl-latest-on-nild%C3%A9n-raso-and-morris/"
          },
          {
           "about": [
            {
             "name": "New York Mets",
             "readLink": "https://api.bing.microsoft.com/api/v7/entities/493b8120-2400-611d-3cb1-dc8ffaeb1bb7"
            },
            {
             "name": "Major League Baseball",
             "readLink": "https://api.bing.microsoft.com/api/v7/entities/2468e4af-2f20-1a22-40fc-e932fe5418aa"
            },
            {
             "name": "League Championship Series",
             "readLink": "https://api.bing.microsoft.com/api/v7/entities/aae7aaa7-b975-4997-9107-78632b297ded"
            },
            {
             "name": "New York Yankees",
             "readLink": "https://api.bing.microsoft.com/api/v7/entities/34f268cb-0019-fa41-d7e4-7fe472f43c04"
            },
            {
             "name": "Cleveland Guardians",
             "readLink": "https://api.bing.microsoft.com/api/v7/entities/de315c8b-e1b6-27fb-021e-778bfa85ca81"
            },
            {
             "name": "Los Angeles Dodgers",
             "readLink": "https://api.bing.microsoft.com/api/v7/entities/f53713ae-71b9-a1a2-5aa3-bb4143549f01"
            },
            {
             "name": "Yoshinobu Yamamoto",
             "readLink": "https://api.bing.microsoft.com/api/v7/entities/17a32568-e73f-df03-3233-4ad23aecf675"
            },
            {
             "name": "San Diego Padres",
             "readLink": "https://api.bing.microsoft.com/api/v7/entities/df9fb21c-7008-f659-78aa-8dabec1899c9"
            },
            {
             "name": "José Quintana",
             "readLink": "https://api.bing.microsoft.com/api/v7/entities/b2b58edf-dc6f-c6ef-9348-51f02a5efdef"
            },
            {
             "name": "CBS Sports",
             "readLink": "https://api.bing.microsoft.com/api/v7/entities/ff82c57d-eee9-54a7-81a1-7726fe93fce2"
            }
           ],
           "category": "Sports",
           "datePublished": "2024-10-17T23:14:00.0000000Z",
           "description": "The Dodgers are expected to start right-hander Yoshinobu Yamamoto. This will be his third career MLB playoff appearance, with his first two both coming in the NLDS against the Padres. Yamamoto has allowed five runs on seven hits across eight innings of postseason work.",
           "image": {
            "thumbnail": {
             "contentUrl": "https://www.bing.com/th?id=OVFT.Pa5iBVoPyte9DtjkUY2Gpy&pid=News",
             "height": 393,
             "width": 700
            }
           },
           "name": "Mets vs. Dodgers score: Live updates as New York tries to even NLCS in Game 4 after ugly shutout",
           "provider": [
            {
             "_type": "Organization",
             "image": {
              "thumbnail": {
               "contentUrl": "https://www.bing.com/th?id=ODF.TwkuevkHG2GKy2nqI-lS_Q&pid=news"
              }
             },
             "name": "CBSSports.com"
            }
           ],
           "url": "https://www.cbssports.com/mlb/news/mets-vs-dodgers-score-live-updates-as-new-york-tries-to-even-nlcs-in-game-4-after-ugly-shutout/live/"
          },
          {
           "about": [
            {
             "name": "New Hampshire",
             "readLink": "https://api.bing.microsoft.com/api/v7/entities/9ca71997-cc97-46eb-8911-fac32f80b0b1"
            },
            {
             "name": "White House",
             "readLink": "https://api.bing.microsoft.com/api/v7/entities/541cd519-750b-9c92-8413-a537def6abbe"
            },
            {
             "name": "Merrimack, New Hampshire",
             "readLink": "https://api.bing.microsoft.com/api/v7/entities/8858f22d-3caa-e3c2-9962-587e755cd459"
            },
            {
             "name": "Nashua, New Hampshire",
             "readLink": "https://api.bing.microsoft.com/api/v7/entities/f23c265e-d008-4980-8ece-aa3674dbcd39"
            }
           ],
           "category": "Politics",
           "datePublished": "2024-10-17T21:15:00.0000000Z",
           "description": "President Joe Biden plans to visit New Hampshire next week. The White House said the president will speak Tuesday at an official event highlighting the administration's work to lower prescription drug costs. An exact location has not been announced. Biden was last in New Hampshire in May when he visited Merrimack and Nashua.",
           "image": {
            "thumbnail": {
             "contentUrl": "https://www.bing.com/th?id=OVFT.v5Q82X1RzwHtZZsGebu48y&pid=News",
             "height": 393,
             "width": 700
            }
           },
           "name": "Biden to visit New Hampshire to discuss prescription drug costs",
           "provider": [
            {
             "_type": "Organization",
             "image": {
              "thumbnail": {
               "contentUrl": "https://www.bing.com/th?id=ODF.7hulKPNu1vgipcNf9tildw&pid=news"
              }
             },
             "name": "WMUR"
            }
           ],
           "url": "https://www.wmur.com/article/joe-biden-new-hampshire-drug-costs-101724/62642249",
           "video": {
            "name": "Biden to visit New Hampshire to discuss prescription drug costs",
            "thumbnail": {
             "height": 292,
             "width": 520
            },
            "thumbnailUrl": "https://www.bing.com/th?id=OVF.gY5LQKwJj9nlgfbl%2FjOVhw&pid=News"
           }
          },
          {
           "category": "Business",
           "datePublished": "2024-10-17T20:56:32.0000000Z",
           "description": "Certain Massachusetts families will be getting automatic discounts that could save them hundreds of dollars on utility bills.",
           "name": "New automatic discounts on utility bills will help some Massachusetts residents save big, governor says",
           "provider": [
            {
             "_type": "Organization",
             "image": {
              "thumbnail": {
               "contentUrl": "https://www.bing.com/th?id=ODF.lisIXhXb-iy9Ku1HbFcCEw&pid=news"
              }
             },
             "name": "CBS Boston on MSN.com"
            }
           ],
           "url": "https://www.msn.com/en-us/money/personalfinance/new-automatic-discounts-on-utility-bills-will-help-some-massachusetts-residents-save-big-governor-says/ar-AA1ssF9f"
          },
          {
           "about": [
            {
             "name": "India",
             "readLink": "https://api.bing.microsoft.com/api/v7/entities/85fa63d3-9596-adb9-b4eb-502273d84f56"
            },
            {
             "name": "Bengaluru FC",
             "readLink": "https://api.bing.microsoft.com/api/v7/entities/e3027fb3-3f4b-4c71-e40c-e07ddcf89bd3"
            },
            {
             "name": "Rishabh Pant",
             "readLink": "https://api.bing.microsoft.com/api/v7/entities/3125f58f-7865-579e-ba20-20d0830a715c"
            }
           ],
           "category": "Sports",
           "datePublished": "2024-10-17T15:59:00.0000000Z",
           "description": "Latest Update On Final Boss Will Leave Fans Disappointed Not The Rock! 3 WWE Superstars Cody Rhodes Can Face At Wrestlemania 41 WWE News: Will Roman Reigns Make His Return To Smackdown This Week? WWE Raw Results, Highlights 7 October: Jey Uso, Gunther ...",
           "image": {
            "thumbnail": {
             "contentUrl": "https://www.bing.com/th?id=OVFT.GhF2SuGg4kLKyB1OW4ltWy&pid=News",
             "height": 393,
             "width": 700
            }
           },
           "name": "India Vs New Zealand 1st Test Day 2 LIVE SCORE: India Off To Horror Start; Lose 3 Wickets Inside 10 Overs",
           "provider": [
            {
             "_type": "Organization",
             "name": "timesnownews"
            }
           ],
           "url": "https://www.timesnownews.com/sports/cricket/india-vs-new-zealand-1st-test-day-2-live-streaming-updates-bangalore-weather-forecast-updates-liveblog-114298976"
          },
          {
           "about": [
            {
             "name": "Sydney Sweeney",
             "readLink": "https://api.bing.microsoft.com/api/v7/entities/758ba21b-f473-2114-b5bb-2c13898cbc85"
            },
            {
             "name": "Christy Martin",
             "readLink": "https://api.bing.microsoft.com/api/v7/entities/f1ad17a2-90eb-95d0-ca3f-0249ca6f3537"
            },
            {
             "name": "Cosmopolitan",
             "readLink": "https://api.bing.microsoft.com/api/v7/entities/a1d2ca82-9911-dd79-bc38-f6d5152c9b25"
            }
           ],
           "category": "Entertainment",
           "datePublished": "2024-10-17T20:40:00.0000000Z",
           "description": "Sydney Sweeney shares a picture of her transformative makeover for her role as Christy Martin and exclusively tells Cosmo about the upcoming biopic.",
           "image": {
            "thumbnail": {
             "contentUrl": "https://www.bing.com/th?id=OVFT.BaGqllRWr4BLIjjQqnSYIC&pid=News",
             "height": 393,
             "width": 700
            }
           },
           "name": "Sydney Sweeney Totally Transforms Into Boxer Christy Martin in the First Look at Her Buzzy New Film",
           "provider": [
            {
             "_type": "Organization",
             "image": {
              "thumbnail": {
               "contentUrl": "https://www.bing.com/th?id=ODF.6l3fMUjuba1Bx26WywDhqQ&pid=news"
              }
             },
             "name": "AOL"
            }
           ],
           "url": "https://www.aol.com/sydney-sweeney-totally-transforms-boxer-174000302.html"
          },
          {
           "about": [
            {
             "name": "Economy of Brazil",
             "readLink": "https://api.bing.microsoft.com/api/v7/entities/70d54a45-6b2a-38cf-46d8-04e83df5bd9d"
            }
           ],
           "category": "Business",
           "datePublished": "2024-10-17T20:02:00.0000000Z",
           "description": "Brazilian food retailer Assai said on Thursday it now forecasts it will open some 10 new stores next year, half the prior estimate of about 20, according to a securities filing.",
           "image": {
            "thumbnail": {
             "contentUrl": "https://www.bing.com/th?id=OVFT.fTT7qWy-Fd0lBFnfwCigPy&pid=News",
             "height": 366,
             "width": 700
            }
           },
           "name": "Brazil's Assai cuts estimate for 2025 new store openings",
           "provider": [
            {
             "_type": "Organization",
             "image": {
              "thumbnail": {
               "contentUrl": "https://www.bing.com/th?id=ODF.jFXbg3L7Ce_1pS4_IOR8CA&pid=news"
              }
             },
             "name": "Reuters"
            }
           ],
           "url": "https://www.reuters.com/business/retail-consumer/brazils-assai-cuts-estimate-2025-new-store-openings-2024-10-17/"
          },
          {
           "about": [
            {
             "name": "New Jersey",
             "readLink": "https://api.bing.microsoft.com/api/v7/entities/05277898-b62b-4878-8632-09d29756a2ff"
            },
            {
             "name": "Weight loss",
             "readLink": "https://api.bing.microsoft.com/api/v7/entities/3bfaee67-5bfc-e7ff-5e56-d1a04fee7aef"
            },
            {
             "name": "Substance abuse",
             "readLink": "https://api.bing.microsoft.com/api/v7/entities/9d544b9b-47e0-439c-45e0-442fb5d83a2b"
            },
            {
             "name": "Opioid",
             "readLink": "https://api.bing.microsoft.com/api/v7/entities/aca5f31b-f22d-63ee-bbc3-bb233887e794"
            },
            {
             "name": "Alcohol",
             "readLink": "https://api.bing.microsoft.com/api/v7/entities/e9465bd6-ac5b-84b5-1dc2-768392f967f9"
            },
            {
             "name": "South Jersey",
             "readLink": "https://api.bing.microsoft.com/api/v7/entities/8da62801-23af-cb3b-2b3d-05236ef7ba6d"
            },
            {
             "name": "Addiction",
             "readLink": "https://api.bing.microsoft.com/api/v7/entities/ed49eaa9-10d2-1be2-2572-ccadf8c06319"
            }
           ],
           "datePublished": "2024-10-17T22:14:36.0000000Z",
           "description": "Popular weight loss drugs like Ozempic might be able to help with substance abuse, according to new research on people addicted to opioids ... She can be seen daily on CBS News Philadelphia and Philly57.",
           "image": {
            "thumbnail": {
             "contentUrl": "https://www.bing.com/th?id=OVFT.1_Juyng5hQGtlo1BAOhw-y&pid=News",
             "height": 367,
             "width": 700
            }
           },
           "mentions": [
            {
             "name": "KYW-TV"
            },
            {
             "name": "Alcohol dependence"
            },
            {
             "name": "Anti-obesity medication"
            }
           ],
           "name": "How a weight loss drug is helping a New Jersey nurse overcome alcohol addiction",
           "provider": [
            {
             "_type": "Organization",
             "name": "CBS News on MSN.com"
            }
           ],
           "url": "https://www.msn.com/en-us/health/other/how-a-weight-loss-drug-is-helping-a-new-jersey-nurse-overcome-alcohol-addiction/ar-AA1ssLdP"
          },
          {
           "about": [
            {
             "name": "Chicago White Sox",
             "readLink": "https://api.bing.microsoft.com/api/v7/entities/decfc943-ef19-5257-22e7-94980ede0ba3"
            },
            {
             "name": "Jerry Reinsdorf",
             "readLink": "https://api.bing.microsoft.com/api/v7/entities/66392549-393d-8471-6115-0d35e4a11c62"
            },
            {
             "name": "The Athletic",
             "readLink": "https://api.bing.microsoft.com/api/v7/entities/1f67ac13-d1f9-e346-c50d-574e8700b97f"
            }
           ],
           "category": "Sports",
           "datePublished": "2024-10-17T21:09:00.0000000Z",
           "description": "Wednesday brought the first ray of sunshine in what's been a very dark year for fans of the Chicago White Sox, with news that reviled owner Jerry Reinsdorf was exploring a sale of the team. As long as Reinsdorf was around,",
           "image": {
            "thumbnail": {
             "contentUrl": "https://www.bing.com/th?id=OVFT.RglzTx62WqDNyP2WZkBzii&pid=News",
             "height": 393,
             "width": 700
            }
           },
           "name": "White Sox could leave Chicago after latest surprising ownership development",
           "provider": [
            {
             "_type": "Organization",
             "image": {
              "thumbnail": {
               "contentUrl": "https://www.bing.com/th?id=ODF.cQEwcF-r13r66Z2s8ymonw&pid=news"
              }
             },
             "name": "FanSided on MSN.com"
            }
           ],
           "url": "https://www.msn.com/en-us/news/us/white-sox-could-leave-chicago-after-latest-surprising-ownership-development/ar-AA1ssoyC"
          },
          {
           "about": [
            {
             "name": "New Braunfels, Texas",
             "readLink": "https://api.bing.microsoft.com/api/v7/entities/4bcde4cb-1731-0911-7624-6e6de081d877"
            },
            {
             "name": "Converse",
             "readLink": "https://api.bing.microsoft.com/api/v7/entities/c48c745e-cb84-527b-3214-ea342849c531"
            },
            {
             "name": "Applebee's",
             "readLink": "https://api.bing.microsoft.com/api/v7/entities/b9c87b36-b9d2-c303-52a2-23c8ca27ad83"
            },
            {
             "name": "Interstate 35",
             "readLink": "https://api.bing.microsoft.com/api/v7/entities/d2b4f1f0-40f4-9377-185e-188977830c76"
            }
           ],
           "datePublished": "2024-10-17T20:41:00.0000000Z",
           "description": "New Braunfels Police are seeking information about Richard Rosas, who is accused of murder in the fatal shooting of Chance Herron in an Applebee's parking lot.",
           "image": {
            "thumbnail": {
             "contentUrl": "https://www.bing.com/th?id=OVFT.ZMSjlmxnECXxLk1XLS81ii&pid=News",
             "height": 590,
             "width": 448
            }
           },
           "name": "New Braunfels police searching for Converse man in teen's slaying",
           "provider": [
            {
             "_type": "Organization",
             "image": {
              "thumbnail": {
               "contentUrl": "https://www.bing.com/th?id=ODF.KPkYxfhccY8-IjUG9SG0-w&pid=news"
              }
             },
             "name": "San Antonio Express-News"
            }
           ],
           "url": "https://www.expressnews.com/hill-country/article/new-braunfels-police-shooting-applebees-converse-19844724.php"
          },
          {
           "about": [
            {
             "name": "American Red Cross",
             "readLink": "https://api.bing.microsoft.com/api/v7/entities/269c3c72-ff8d-4aa0-f978-ac04c0cc648e"
            },
            {
             "name": "Arizona",
             "readLink": "https://api.bing.microsoft.com/api/v7/entities/bf973f46-5962-4997-a7ba-a05f1aa2a9f9"
            },
            {
             "name": "Phoenix, Arizona",
             "readLink": "https://api.bing.microsoft.com/api/v7/entities/b06044c3-41e1-4e2a-bba7-27a29bba8ea9"
            },
            {
             "name": "Florida",
             "readLink": "https://api.bing.microsoft.com/api/v7/entities/5fece3f4-e8e8-4159-843e-f725a930ad50"
            },
            {
             "name": "Gulf Coast of the United States",
             "readLink": "https://api.bing.microsoft.com/api/v7/entities/a141f6d2-e446-23c7-cb87-d85d50a4e61b"
            },
            {
             "name": "Phoenix Sky Harbor International Airport",
             "readLink": "https://api.bing.microsoft.com/api/v7/entities/7812b60f-4c4f-9cd1-05be-412d98f24f8f"
            }
           ],
           "datePublished": "2024-10-17T22:53:00.0000000Z",
           "description": "The Regional CEO of the American Red Cross of Arizona and New Mexico is heading to the front lines in Florida to assist those in need.",
           "image": {
            "thumbnail": {
             "contentUrl": "https://www.bing.com/th?id=OVFT.GFFPwU7hOeXQ1-taMoT82C&pid=News",
             "height": 350,
             "width": 700
            }
           },
           "mentions": [
            {
             "name": "Florida"
            },
            {
             "name": "American Red Cross"
            },
            {
             "name": "New Mexico"
            }
           ],
           "name": "Red Cross CEO of Arizona & New Mexico assisting with hurricane recovery in Florida",
           "provider": [
            {
             "_type": "Organization",
             "image": {
              "thumbnail": {
               "contentUrl": "https://www.bing.com/th?id=ODF.spQoP6jbtfvrDDK3c1NS7Q&pid=news"
              }
             },
             "name": "AZFamily on MSN.com"
            }
           ],
           "url": "https://www.msn.com/en-us/news/other/red-cross-ceo-of-arizona-new-mexico-assisting-with-hurricane-recovery-in-florida/ar-AA1ss2K9"
          },
          {
           "datePublished": "2024-10-17T23:18:00.0000000Z",
           "description": "An independent panel investigating the July 13 assassination attempt on former President Trump is now calling for extensive reform of the United States Secret Service.",
           "name": "New independent review calls for 'fundamental reform' of US Secret Service",
           "provider": [
            {
             "_type": "Organization",
             "image": {
              "thumbnail": {
               "contentUrl": "https://www.bing.com/th?id=ODF.WYO3ATefKUevMjYClcyRrw&pid=news"
              }
             },
             "name": "WXYZ"
            }
           ],
           "url": "https://www.wxyz.com/politics/new-independent-review-calls-for-fundamental-reform-of-us-secret-service"
          },
          {
           "about": [
            {
             "name": "Waukesha, Wisconsin",
             "readLink": "https://api.bing.microsoft.com/api/v7/entities/38ca4d8e-dbad-4c22-ad4f-2b916b7194f7"
            },
            {
             "name": "Wisconsin",
             "readLink": "https://api.bing.microsoft.com/api/v7/entities/cb4d2853-06f4-4467-8e7c-4e31cbb35cb2"
            }
           ],
           "category": "Business",
           "datePublished": "2024-10-17T21:37:00.0000000Z",
           "description": "Company officials say new projects have generated new contracts with both U.S. and global automakers and suppliers.",
           "image": {
            "thumbnail": {
             "contentUrl": "https://www.bing.com/th?id=OVFT.yVKQy37xBzB-SeS1J2LIFC&pid=News",
             "height": 393,
             "width": 700
            }
           },
           "name": "Waukesha's Husco International to hire 250 new workers",
           "provider": [
            {
             "_type": "Organization",
             "image": {
              "thumbnail": {
               "contentUrl": "https://www.bing.com/th?id=ODF.pM7kQ4aKmZpYSAUSPfOHnA&pid=news"
              }
             },
             "name": "fox6now"
            }
           ],
           "url": "https://www.fox6now.com/news/waukeshas-husco-international-hire-250-new-workers"
          },
          {
           "category": "LifeStyle",
           "datePublished": "2024-10-17T23:15:00.0000000Z",
           "description": "On Thursday, two-semi trucks in New Bern were packed full of donations that will head towards Haywood County at the New Covenant Church. The lead pastor, Blake Stanbery, says Helene left a big mess.",
           "name": "The City of New Bern packs two semi-trucks with donations for Western North Carolina",
           "provider": [
            {
             "_type": "Organization",
             "image": {
              "thumbnail": {
               "contentUrl": "https://www.bing.com/th?id=ODF.6IT0AbGlzNl2lybSOH8Hkw&pid=news"
              }
             },
             "name": "WITN"
            }
           ],
           "url": "https://www.witn.com/2024/10/17/city-new-bern-packs-two-semi-trucks-with-donations-western-north-carolina/"
          },
          {
           "about": [
            {
             "name": "Denver Broncos",
             "readLink": "https://api.bing.microsoft.com/api/v7/entities/c5144206-d4e6-4be8-8338-68d231530533"
            },
            {
             "name": "New Orleans Saints",
             "readLink": "https://api.bing.microsoft.com/api/v7/entities/6e1c9bcb-a6dd-05c8-54e9-86361e106868"
            },
            {
             "name": "Sean Payton",
             "readLink": "https://api.bing.microsoft.com/api/v7/entities/def0a188-600e-6dd1-00cb-d9e74846bf4f"
            },
            {
             "name": "Caesars Superdome",
             "readLink": "https://api.bing.microsoft.com/api/v7/entities/6e56b686-7a0a-471a-af2e-7642fa364c3a"
            },
            {
             "name": "New Orleans",
             "readLink": "https://api.bing.microsoft.com/api/v7/entities/465e78cf-aa9a-491f-9167-4520c7110824"
            },
            {
             "name": "NBC",
             "readLink": "https://api.bing.microsoft.com/api/v7/entities/30aa2ae8-a47b-7834-536f-1559ccf508a7"
            },
            {
             "name": "FuboTV",
             "readLink": "https://api.bing.microsoft.com/api/v7/entities/14133208-0b8c-446a-0a01-7193aea8251b"
            },
            {
             "name": "NFL RedZone",
             "readLink": "https://api.bing.microsoft.com/api/v7/entities/c5499471-87e8-0bb8-be5c-cc3306fd0bac"
            },
            {
             "name": "RED",
             "readLink": "https://api.bing.microsoft.com/api/v7/entities/9d6ff56c-f3c2-40d6-2c11-0812dc694368"
            },
            {
             "name": "NFL Thursday Night Football",
             "readLink": "https://api.bing.microsoft.com/api/v7/entities/4b4f6229-e716-3f7f-1565-59dc9c94237a"
            }
           ],
           "category": "Sports",
           "datePublished": "2024-10-17T22:06:00.0000000Z",
           "description": "Thursday Night Football on Oct. 17 gets Week 7 of the NFL season started as the New Orleans Saints face the Denver Broncos.",
           "image": {
            "thumbnail": {
             "contentUrl": "https://www.bing.com/th?id=OVFT.TxzxMQLCY2TR7eYJ3kqxui&pid=News",
             "height": 468,
             "width": 700
            }
           },
           "name": "Watch Denver Broncos vs. New Orleans Saints free live stream",
           "provider": [
            {
             "_type": "Organization",
             "image": {
              "thumbnail": {
               "contentUrl": "https://www.bing.com/th?id=ODF.KDaKm3KxrYAvNUXLp-n40w&pid=news"
              }
             },
             "name": "MassLive"
            }
           ],
           "url": "https://www.masslive.com/tv/2024/10/watch-denver-broncos-vs-new-orleans-saints-free-live-stream.html",
           "video": {
            "name": "Watch Denver Broncos vs. New Orleans Saints free live stream",
            "thumbnail": {
             "height": 347,
             "width": 520
            },
            "thumbnailUrl": "https://www.bing.com/th?id=OVF.GPyDCAj49uG1TY5nkt1w8A&pid=News"
           }
          },
          {
           "about": [
            {
             "name": "South Shore Line",
             "readLink": "https://api.bing.microsoft.com/api/v7/entities/a1eaee31-3f94-f990-82b7-d861fdd8ae4a"
            },
            {
             "name": "Hammond, Indiana",
             "readLink": "https://api.bing.microsoft.com/api/v7/entities/55ab0f2b-5356-4c8c-add6-2811081d4e1c"
            },
            {
             "name": "Carroll County, Illinois",
             "readLink": "https://api.bing.microsoft.com/api/v7/entities/e58bfbe8-9aa4-6da2-dd49-ff638fbae779"
            },
            {
             "name": "Fort Wayne, Indiana",
             "readLink": "https://api.bing.microsoft.com/api/v7/entities/93c419e3-0696-464f-8905-3c6d6677ea9d"
            }
           ],
           "datePublished": "2024-10-17T20:21:00.0000000Z",
           "description": "HAMMOND, Ind. (WNDU) - The South Shore Line says its new Hammond Gateway Station will open and become operational for train service on Friday. Beginning Friday, passengers previously utilizing the Hammond Station will begin boarding and detraining all South Shore Line trains out of Hammond Gateway, which is located at 4530 Sheffield Avenue.",
           "image": {
            "thumbnail": {
             "contentUrl": "https://www.bing.com/th?id=OVFT.loKTf0aeEO11VoMtFLWYRS&pid=News",
             "height": 350,
             "width": 700
            }
           },
           "name": "South Shore Line to open new Hammond Gateway Station on Friday",
           "provider": [
            {
             "_type": "Organization",
             "image": {
              "thumbnail": {
               "contentUrl": "https://www.bing.com/th?id=ODF.4Wfdsnr3wLYnD_jZJnRmAw&pid=news"
              }
             },
             "name": "South Bend-Elkhart WNDU-TV on MSN.com"
            }
           ],
           "url": "https://www.msn.com/en-us/autos/news/south-shore-line-to-open-new-hammond-gateway-station-on-friday/ar-AA1ssqzL"
          },
          {
           "datePublished": "2024-10-17T21:48:00.0000000Z",
           "description": "Elijah Vue's mother and boyfriend face new charges in the boy's death Wisconsin authorities announced Thursday.",
           "name": "Elijah Vue's mother and her boyfriend face new charges in boy's death",
           "provider": [
            {
             "_type": "Organization",
             "image": {
              "thumbnail": {
               "contentUrl": "https://www.bing.com/th?id=ODF.lisIXhXb-iy9Ku1HbFcCEw&pid=news"
              }
             },
             "name": "CBS News on MSN.com"
            }
           ],
           "url": "https://www.msn.com/en-us/news/crime/elijah-vues-mother-and-her-boyfriend-face-new-charges-in-boys-death/ar-AA1ssr87"
          },
          {
           "about": [
            {
             "name": "Ashley Tisdale",
             "readLink": "https://api.bing.microsoft.com/api/v7/entities/29b50507-9c53-d094-7f6c-deaca21afe37"
            },
            {
             "name": "Vincent Martella",
             "readLink": "https://api.bing.microsoft.com/api/v7/entities/3b51cb6b-4449-4a37-c7ff-a6b251db2695"
            },
            {
             "name": "Alyson Stoner",
             "readLink": "https://api.bing.microsoft.com/api/v7/entities/65ff8213-d268-443a-8dcd-229718682891"
            },
            {
             "name": "Los Angeles",
             "readLink": "https://api.bing.microsoft.com/api/v7/entities/9958ca5c-ea31-4e71-8a17-bd1e7839c723"
            },
            {
             "name": "New York Comic Con",
             "readLink": "https://api.bing.microsoft.com/api/v7/entities/53a50757-4f58-0e3f-e056-6c8b876429b3"
            },
            {
             "name": "Phineas and Ferb",
             "readLink": "https://api.bing.microsoft.com/api/v7/entities/0c304e57-3bd5-4d8d-86a4-27ef2b87324d"
            },
            {
             "name": "Dan Povenmire",
             "readLink": "https://api.bing.microsoft.com/api/v7/entities/6da8edb1-8471-00ed-2f7c-06e5b1e43236"
            },
            {
             "name": "Dr. Heinz Doofenshmirtz",
             "readLink": "https://api.bing.microsoft.com/api/v7/entities/72055645-ad8d-040b-ad59-1c32681bd6e0"
            },
            {
             "name": "Jeff \"Swampy\" Marsh",
             "readLink": "https://api.bing.microsoft.com/api/v7/entities/d6ecdf92-1e06-f890-2a55-3868a803f7c4"
            }
           ],
           "category": "Entertainment",
           "datePublished": "2024-10-17T21:45:00.0000000Z",
           "description": "The cast and creators of \"Phineas and Ferb\" reunite after a decade to announce the cast for the new season. Ashley Tisdale, Dan Povenmire, Vincent Martella and Alyson Stoner are among the list of returning stars.",
           "image": {
            "thumbnail": {
             "contentUrl": "https://www.bing.com/th?id=OVFT.dex5sJ9ofHOvF8E8xc4U8C&pid=News",
             "height": 393,
             "width": 700
            }
           },
           "name": "Ashley Tisdale, Vincent Martella and Alyson Stoner are back for a new season of 'Phineas and Ferb'",
           "provider": [
            {
             "_type": "Organization",
             "image": {
              "thumbnail": {
               "contentUrl": "https://www.bing.com/th?id=ODF.cy-PhYuyToKo5Mx4_OfJnw&pid=news"
              }
             },
             "name": "ABC7"
            }
           ],
           "url": "https://abc7.com/post/ashley-tisdale-vincent-martella-alyson-stoner-are-back-new-season-phineas-ferb/15438807/"
          },
          {
           "datePublished": "2024-10-17T21:15:00.0000000Z",
           "description": "Kimberly Shupe was killed in 2019 when her Bel Air townhome caught fire. Her sister is outraged that the woman convicted, Bobbie Sue Hodge, just had her conviction overturned on appeal. She wrote a letter saying she didnt like her lawyer and it was never addressed in court #wbal pic.twitter.com/DkdqSuSixb",
           "name": "Woman convicted of murder to get new trial after appeal due to dissatisfaction with public defenders",
           "provider": [
            {
             "_type": "Organization",
             "image": {
              "thumbnail": {
               "contentUrl": "https://www.bing.com/th?id=ODF.ov06NvHKn7ghN2F28JfTHw&pid=news"
              }
             },
             "name": "WBAL-TV"
            }
           ],
           "url": "https://www.wbaltv.com/article/woman-convicted-murder-trial-appeal-dissatisfaction-defenders/62640861"
          },
          {
           "about": [
            {
             "name": "Raygun",
             "readLink": "https://api.bing.microsoft.com/api/v7/entities/b45d4cbd-01a2-1742-985d-a82f8495ad62"
            },
            {
             "name": "Breakdancing",
             "readLink": "https://api.bing.microsoft.com/api/v7/entities/0b612655-6031-e2e8-4bd3-86511a213e37"
            },
            {
             "name": "Cricket",
             "readLink": "https://api.bing.microsoft.com/api/v7/entities/be775f8e-54ab-400d-f0b4-85a37fdc94f7"
            },
            {
             "name": "The Tonight Show Starring Jimmy Fallon",
             "readLink": "https://api.bing.microsoft.com/api/v7/entities/cd9669b2-65b7-49c0-bcaa-427ab7400faf"
            },
            {
             "name": "Jimmy Fallon",
             "readLink": "https://api.bing.microsoft.com/api/v7/entities/fe983f8e-b6be-f4a4-9135-fa6aab3a935b"
            }
           ],
           "datePublished": "2024-10-17T21:44:00.0000000Z",
           "description": "Raygun's infamous Olympics routine has risen from the dead, just in time for Halloween , with tributes to the breakdancing already surfacing on Aussie lawns",
           "image": {
            "thumbnail": {
             "contentUrl": "https://www.bing.com/th?id=OVFT.GJeM5-hFw21QO0nJeaaGTS&pid=News",
             "height": 393,
             "width": 700
            }
           },
           "name": "Raygun set for dubious new honour as tributes to the Olympic breakdancing appear ahead of Halloween",
           "provider": [
            {
             "_type": "Organization",
             "image": {
              "thumbnail": {
               "contentUrl": "https://www.bing.com/th?id=ODF._kZMPt4WNJFUpf58U6Qe-w&pid=news"
              }
             },
             "name": "Daily Mail"
            }
           ],
           "url": "https://www.dailymail.co.uk/sport/olympics/article-13972827/Raygun-set-dubious-new-honour-tributes-Olympic-breakdancing-appear-ahead-Halloween.html"
          },
          {
           "about": [
            {
             "name": "Shahs of Sunset",
             "readLink": "https://api.bing.microsoft.com/api/v7/entities/a58b874d-55ee-6ac8-1270-dac930d5a798"
            },
            {
             "name": "TMZ",
             "readLink": "https://api.bing.microsoft.com/api/v7/entities/a1837e6c-08a9-10e5-e939-fde794521212"
            },
            {
             "name": "Hookah",
             "readLink": "https://api.bing.microsoft.com/api/v7/entities/802d1c5e-0b39-a840-0ea6-9d1bbc40ed6c"
            }
           ],
           "category": "Politics",
           "datePublished": "2024-10-17T20:12:00.0000000Z",
           "description": "In April 2022, the former reality star was arrested for domestic violence. Paulina Ben-Cohen sued him over “vicious” attacks nearly two years later.",
           "image": {
            "thumbnail": {
             "contentUrl": "https://www.bing.com/th?id=OVFT.Lhv72KcKW5T_HJVQ8bv-8S&pid=News",
             "height": 466,
             "width": 700
            }
           },
           "name": "‘Shahs of Sunset’ alum Mike Shouhed seen brutally attacking then-fiancée in shocking newly released video",
           "provider": [
            {
             "_type": "Organization",
             "image": {
              "thumbnail": {
               "contentUrl": "https://www.bing.com/th?id=ODF.cbDT3vfpyoU3nKKCfZyv5A&pid=news"
              }
             },
             "name": "Page Six"
            }
           ],
           "url": "https://pagesix.com/2024/10/17/celebrity-news/shahs-of-sunsets-mike-shouhed-attacks-then-fiancee-in-newly-released-video/"
          },
          {
           "about": [
            {
             "name": "Paducah, Texas",
             "readLink": "https://api.bing.microsoft.com/api/v7/entities/1ec18904-6ad5-f2fd-ecbe-87757f9fde27"
            },
            {
             "name": "Lincoln High School",
             "readLink": "https://api.bing.microsoft.com/api/v7/entities/d29da22e-a3a7-f864-dd31-03d64cfafff3"
            }
           ],
           "datePublished": "2024-10-17T22:26:00.0000000Z",
           "description": "The Lincoln Station Project is doing a final call for community input before the survey closes on Friday for a proposed new Lincoln Community Center on Paducah's Southside. Click to",
           "image": {
            "thumbnail": {
             "contentUrl": "https://www.bing.com/th?id=OVFT.uit-vkQa-Zywjhmk_CfnZi&pid=News",
             "height": 367,
             "width": 700
            }
           },
           "name": "Lincoln Station Project Board seeks public input to preserve former school's legacy",
           "provider": [
            {
             "_type": "Organization",
             "image": {
              "thumbnail": {
               "contentUrl": "https://www.bing.com/th?id=ODF.0j_hrz_Am8ipxYiTzzGnyg&pid=news"
              }
             },
             "name": "WPSD Local 6"
            }
           ],
           "url": "https://www.wpsdlocal6.com/news/lincoln-station-project-board-seeks-public-input-to-preserve-former-schools-legacy/article_d32db6e4-8cd6-11ef-87e8-bf2c6fbe73fe.html",
           "video": {
            "name": "Lincoln Station Project Board seeks public input to preserve former school's legacy",
            "thumbnail": {
             "height": 273,
             "width": 520
            },
            "thumbnailUrl": "https://www.bing.com/th?id=OVF.GNx7vfJI%2FspPrWfLvI6YAQ&pid=News"
           }
          },
          {
           "category": "Entertainment",
           "datePublished": "2024-10-17T21:15:00.0000000Z",
           "description": "THEY think it’s all makeover . . . it is here, with this gallery of famous faces virtually unrecognisable in TV and movie roles. Hollywood starlet Sydney Sweeney, 27, has shocked fans by posting a",
           "name": "Irish star’s Penguin suit, actress’ Inglorious new show & heartthrob’s wrestler makeover… can you name them all?",
           "provider": [
            {
             "_type": "Organization",
             "image": {
              "thumbnail": {
               "contentUrl": "https://www.bing.com/th?id=ODF.mZZguWnkRkVFPCoaQUmKEg&pid=news"
              }
             },
             "name": "The Sun"
            }
           ],
           "url": "https://www.thesun.co.uk/tv/31149688/sydney-sweeney-celebs-unrecognisable-roles/"
          },
          {
           "about": [
            {
             "name": "CBS",
             "readLink": "https://api.bing.microsoft.com/api/v7/entities/ce01ad10-28a0-3ab8-62af-16da7ff03d8b"
            },
            {
             "name": "Halloween",
             "readLink": "https://api.bing.microsoft.com/api/v7/entities/2fb579cd-9c63-5667-6265-8338f5fa9a9e"
            },
            {
             "name": "Rose McIver",
             "readLink": "https://api.bing.microsoft.com/api/v7/entities/b1e89b64-64aa-04f3-4760-ce2c94d367ae"
            },
            {
             "name": "Utkarsh Ambudkar",
             "readLink": "https://api.bing.microsoft.com/api/v7/entities/6b314188-28c0-01bc-ac2a-cd63f41b1722"
            }
           ],
           "category": "Entertainment",
           "datePublished": "2024-10-17T23:15:00.0000000Z",
           "description": "Wondering when new episodes of Ghost come out? Here's when and where to watch Ghost streaming and live as it airs.",
           "name": "‘Ghosts’ Season 4 Release Schedule: When Do New Episodes Air?",
           "provider": [
            {
             "_type": "Organization",
             "image": {
              "thumbnail": {
               "contentUrl": "https://www.bing.com/th?id=ODF.3zqB2pXRwlAc2EJ5gQwBtg&pid=news"
              }
             },
             "name": "TheWrap"
            }
           ],
           "url": "https://www.thewrap.com/ghosts-season-4-release-date-time-episodes-schedule/"
          },
          {
           "category": "ScienceAndTechnology",
           "datePublished": "2024-10-17T20:43:00.0000000Z",
           "description": "Huawei's stunning Mate XT Ultimate Design phone and its display, which can fold into thirds, shows that the company's ability to innovate rivals Apple and Samsung.",
           "name": "I Was Astounded by This New 'Tri-Foldable' Phone… and Skeptical Too",
           "provider": [
            {
             "_type": "Organization",
             "image": {
              "thumbnail": {
               "contentUrl": "https://www.bing.com/th?id=ODF.vS3pKUrPWgIKkQBHtUkEPQ&pid=news"
              }
             },
             "name": "CNET"
            }
           ],
           "url": "https://www.cnet.com/tech/mobile/i-was-astounded-by-this-new-tri-foldable-phone-and-skeptical-too/"
          },
          {
           "category": "Sports",
           "datePublished": "2024-10-17T21:02:00.0000000Z",
           "description": "It's a side of Nix's personality that Broncos head coach Sean Payton enjoys and wants to utilize more as they head into a crucial Thursday night fixture against his old team, the New Orleans Saints. This is the first time that Nix will have to start a game on a short-week turnaround. It has it's own unique challenges.",
           "name": "Bo Nix on Sean Payton's Return to New Orleans: 'Just Another Game'",
           "provider": [
            {
             "_type": "Organization",
             "image": {
              "thumbnail": {
               "contentUrl": "https://www.bing.com/th?id=ODF.DAlg1K6d6FcCd2ockBPdcQ&pid=news"
              }
             },
             "name": "Denver Broncos On SI on MSN.com"
            }
           ],
           "url": "https://www.msn.com/en-us/sports/nfl/bo-nix-on-sean-paytons-return-to-new-orleans-just-another-game/ar-AA1ss9Ou"
          },
          {
           "category": "LifeStyle",
           "datePublished": "2024-10-17T22:56:00.0000000Z",
           "description": "Universal Studios Orlando has announced that Epic Universe, its highly-anticipated fourth theme park in Florida, will open sooner than expected - May 2025. Soon people will be able to purchase tickets to see the new theme park,",
           "name": "Epic Universe opening May 2025: When you can buy tickets, book hotel rooms, new lands and attractions",
           "provider": [
            {
             "_type": "Organization",
             "image": {
              "thumbnail": {
               "contentUrl": "https://www.bing.com/th?id=ODF.pPTO_qfDGMw5U2MDJ6xzpw&pid=news"
              }
             },
             "name": "FOX 35 Orlando on MSN.com"
            }
           ],
           "url": "https://www.msn.com/en-us/travel/tripideas/epic-universe-opening-may-2025-when-you-can-buy-tickets-book-hotel-rooms-new-lands-and-attractions/ar-AA1srljb"
          }
         ]
        }
       ],
       "schema": [
        {
         "key": "0",
         "name": "_type",
         "type": "string"
        },
        {
         "key": "1",
         "name": "queryContext",
         "type": "StructType(StructField(adultIntent,BooleanType,true),StructField(originalQuery,StringType,true))"
        },
        {
         "key": "2",
         "name": "readLink",
         "type": "string"
        },
        {
         "key": "3",
         "name": "sort",
         "type": "ArrayType(StructType(StructField(id,StringType,true),StructField(isSelected,BooleanType,true),StructField(name,StringType,true),StructField(url,StringType,true)),true)"
        },
        {
         "key": "4",
         "name": "totalEstimatedMatches",
         "type": "bigint"
        },
        {
         "key": "5",
         "name": "value",
         "type": "ArrayType(StructType(StructField(about,ArrayType(StructType(StructField(name,StringType,true),StructField(readLink,StringType,true)),true),true),StructField(category,StringType,true),StructField(datePublished,StringType,true),StructField(description,StringType,true),StructField(image,StructType(StructField(thumbnail,StructType(StructField(contentUrl,StringType,true),StructField(height,LongType,true),StructField(width,LongType,true)),true)),true),StructField(mentions,ArrayType(StructType(StructField(name,StringType,true)),true),true),StructField(name,StringType,true),StructField(provider,ArrayType(StructType(StructField(_type,StringType,true),StructField(image,StructType(StructField(thumbnail,StructType(StructField(contentUrl,StringType,true)),true)),true),StructField(name,StringType,true)),true),true),StructField(url,StringType,true),StructField(video,StructType(StructField(name,StringType,true),StructField(thumbnail,StructType(StructField(height,LongType,true),StructField(width,LongType,true)),true),StructField(thumbnailUrl,StringType,true)),true)),true)"
        }
       ],
       "truncated": false
      },
      "wranglerEntryContext": {
       "candidateVariableNames": [
        "df"
       ],
       "dataframeType": "pyspark"
      }
     },
     "type": "Synapse.DataFrame"
    },
    "1e684c40-ce97-4bf6-95f1-c54c433a7bc1": {
     "persist_state": {
      "view": {
       "chartOptions": {
        "aggregationType": "count",
        "binsNumber": 10,
        "categoryFieldKeys": [
         "2"
        ],
        "chartType": "bar",
        "evaluatesOverAllRecords": false,
        "isStacked": false,
        "seriesFieldKeys": [
         "0"
        ],
        "wordFrequency": "-1"
       },
       "tableOptions": {},
       "type": "details"
      }
     },
     "sync_state": {
      "isSummary": false,
      "language": "scala",
      "table": {
       "rows": [
        {
         "0": "Authorities revealed new details about the death of former One Direction singer Liam Payne in Buenos Aires. Officials said his death from a fall from a hotel window came minutes after the hotel called 911 about a guest who had overindulged on drugs and alcohol.",
         "1": "New details in death of One Direction member Liam Payne",
         "2": "N/A",
         "3": "https://www.bing.com/th?id=ODF.ighWNnrr5MMFUs8WKMme2A&pid=news",
         "4": "https://www.nbcnews.com/nightly-news/video/new-details-in-death-of-one-direction-member-liam-payne-222041669539",
         "5": "NBC News",
         "6": "17-Oct-2024"
        },
        {
         "0": "A new, detailed artist's rendering of the proposed stadium for the Athletics in Las Vegas, Nevada includes a first look at the new Bally's hotel/casino tower.",
         "1": "MLB News: Fresh A's Stadium Renderings Include View of New Las Vegas Casino",
         "2": "N/A",
         "3": "https://www.bing.com/th?id=ODF.uTJA7JDoTGKvff5o3jotfg&pid=news",
         "4": "https://www.msn.com/en-us/sports/motorsports/mlb-news-fresh-a-s-stadium-renderings-include-view-of-new-las-vegas-casino/ar-AA1ssoZN",
         "5": "MSN",
         "6": "17-Oct-2024"
        },
        {
         "0": "Welcome to the live updates platform for Hindustan Times. Follow the major news updates, headlines and breaking news stories from the world of entertainment right here. See the latest developments in Bollywood,",
         "1": "Latest entertainment News, Live Updates Today October 17, 2024: Is Liam Payne's death actually connected to Sean ‘Diddy’ Combs? Conspiracy theory says…",
         "2": "N/A",
         "3": "https://www.bing.com/th?id=ODF.Caqyr0opfKlydldMITdwcw&pid=news",
         "4": "https://www.msn.com/en-in/entertainment/other/latest-entertainment-news-live-updates-today-october-17-2024-is-liam-paynes-death-actually-connected-to-sean-diddy-combs-conspiracy-theory-says/ar-AA1ssauh",
         "5": "Hindustan Times on MSN.com",
         "6": "17-Oct-2024"
        },
        {
         "0": "The Mukhyamantri Ladli Behna Yojana MP empowers eligible women in Madhya Pradesh with monthly financial aid for economic self-reliance. Check apply online date",
         "1": "Ladli Behna Yojana 2024: Check Apply Online, Eligibility Criteria & Latest News",
         "2": "N/A",
         "3": "https://www.bing.com/th?id=ODF.Pg1CxWVlDOcYEbJ-sTiq_g&pid=news",
         "4": "https://www.jagranjosh.com/articles/ladli-behna-yojna-mp-madhya-pradesh-1729171063-1",
         "5": "jagranjosh.com",
         "6": "17-Oct-2024"
        },
        {
         "0": "The Department of Justice said Vikash Yadav, described as a “senior field officer” within Prime Minister Narendra Modi’s administration, directed a “murder-for-hire” scheme from India, in which a hitman was to be paid $100,000 for assassinating a US-Canadian citizen who was part of a separatist movement advocating for an independent Sikh state.",
         "1": "Live news: US charges Indian official over plot to kill Sikh activist in New York",
         "2": "N/A",
         "3": "https://www.bing.com/th?id=ODF.CdBlognZ1u9nda-gVEOS_w&pid=news",
         "4": "https://www.ft.com/content/65cf7e16-63de-4c21-bfc7-4abadcda3ca6",
         "5": "The Financial Times",
         "6": "17-Oct-2024"
        },
        {
         "0": "At rallies across the country, former President Donald Trump has pledged to enact mass deportations of illegal immigrants, something he vowed to do during his first term but never fully realized.",
         "1": "Fox News Poll: Two-thirds favor deporting immigrants who live in U.S. illegally",
         "2": "Politics",
         "3": "https://www.bing.com/th?id=ODF.mdH-v7wPV5psO7NVm756zg&pid=news",
         "4": "https://www.foxnews.com/official-polls/fox-news-poll-two-thirds-favor-deporting-immigrants-who-live-u-s-illegally",
         "5": "Fox News",
         "6": "17-Oct-2024"
        },
        {
         "0": "Stay here for real-time updates on breaking news from India and across the world that you can't miss: IndiGo flight makes emergency landing at Jaipur",
         "1": "Breaking News Live: Senior IPS officer Praveen Vashista appointed as next special secretary for internal security",
         "2": "World",
         "3": "https://www.bing.com/th?id=ODF.VBzHmoY4z9NL3FbRonyM1w&pid=news",
         "4": "https://timesofindia.indiatimes.com/india/latest-india-world-news-live-updates-today-breaking-news-15th-oct-2024/liveblog/114260977.cms",
         "5": "Indiatimes",
         "6": "17-Oct-2024"
        },
        {
         "0": "With just 21 days remaining to cast votes this presidential season, Kamala Harris and Donald Trump are scrambling to win over key constituents as well as the other party's voters",
         "1": "The Latest: Harris and Trump Pivot to Turnout as Early Voting Begins",
         "2": "Politics",
         "3": "https://www.bing.com/th?id=ODF.AlMAEy7MoWNz0OI_xSWQiw&pid=news",
         "4": "https://www.msn.com/en-us/news/politics/the-latest-harris-and-trump-pivot-to-turnout-as-early-voting-begins/ar-AA1sniLk",
         "5": "The Associated Press on MSN.com",
         "6": "17-Oct-2024"
        },
        {
         "0": "Kamala Harris and Fox News host Bret Baier sparred repeatedly over immigration, Donald Trump and Harris’ record as vice president in a televised interview Wednesday night. The two frequently spoke over one another in the contentious exchange,",
         "1": "Kamala Harris spars over Biden administration's record in Fox News interview",
         "2": "Politics",
         "3": "https://www.bing.com/th?id=ODF.nYADEgS75l8rdCg9D-p_OQ&pid=news",
         "4": "https://news.yahoo.com/news/kamala-harris-sits-interview-conservative-203700248.html",
         "5": "YAHOO!News",
         "6": "17-Oct-2024"
        },
        {
         "0": "As you get ready to head to the polls on Nov. 5, News 12 gives you the tools and resources you need to make an informed decision on Election Day.",
         "1": "News 12 New Jersey 2024 Voters Guide",
         "2": "N/A",
         "3": "https://www.bing.com/th?id=ODF.pLW_qbtRH5jPxsvrBSqZ4A&pid=news",
         "4": "https://newjersey.news12.com/category/news-12-new-jersey-2024-voters-guide",
         "5": "News 12 Networks",
         "6": "17-Oct-2024"
        },
        {
         "0": "\"I represent a new generation of leadership,” the vice president said in her first interview with the conservative cable news network.",
         "1": "Kamala Harris Says She Won't Be 'A Continuation' Of Joe Biden In Combative Fox News Interview",
         "2": "Politics",
         "3": "https://www.bing.com/th?id=ODF.nYADEgS75l8rdCg9D-p_OQ&pid=news",
         "4": "https://news.yahoo.com/news/kamala-harris-says-she-wont-231355013.html",
         "5": "YAHOO!News",
         "6": "17-Oct-2024"
        },
        {
         "0": "The researchers found that 80% of those who got a short course of chemotherapy first lived at least five more years, and 72% did not have any cancer return or spread. In the control group, 72% survived at least five years, and 64% had no cancer return or spread.",
         "1": "New Drug Regimen Extends Survival for Cervical Cancer Patients",
         "2": "N/A",
         "3": "https://www.bing.com/th?id=ODF.ZUvKX7lBhXaLGhOrD6YbBg&pid=news",
         "4": "https://www.usnews.com/news/health-news/articles/2024-10-17/new-drug-regimen-extends-survival-for-cervical-cancer-patients",
         "5": "U.S. News & World Report",
         "6": "17-Oct-2024"
        },
        {
         "0": "The first day of the IND vs NZ Test match has been called of due to rain without a single ball being bowled, The weather does not look promising for the remainder of the Test either",
         "1": "India vs New Zealand highlights, 1st Test: Play called off in Bengaluru",
         "2": "LifeStyle",
         "3": "https://www.bing.com/th?id=ODF.KAwemXIpD5l2nQRDmYLy2w&pid=news",
         "4": "https://indianexpress.com/article/sports/cricket/india-vs-new-zealand-live-score-1st-test-ind-vs-nz-latest-scorecard-updates-9621892/",
         "5": "The Indian Express",
         "6": "17-Oct-2024"
        },
        {
         "0": "Prince George , Princess Charlotte , and Prince Louis may soon welcome a new addition to their family, according to reports. The family welcomed a cocker spaniel puppy named Orla in 2021 and Prince William has reportedly shared that the children could soon expect new puppies after going through a “tough year”.",
         "1": "Prince George, Charlotte, and Louis eagerly anticipate new arrivals after 'tough year'",
         "2": "N/A",
         "3": "https://www.bing.com/th?id=ODF.B6nvPq26UTBuCaXH6tX71w&pid=news",
         "4": "https://www.dailyrecord.co.uk/entertainment/celebrity/prince-george-charlotte-louis-eagerly-33914608",
         "5": "Daily Record",
         "6": "17-Oct-2024"
        },
        {
         "0": "Hyundai Motor IPO's Grey Market Premium (GMP) is significantly subdued at under 1%. The issue closes on October 17 and all eyes would be on the allotment status once the issue ends.",
         "1": "Hyundai IPO GMP Allotment status Live Updates: Check latest GMP, allotment, listing, price band; IPO fully subscribed",
         "2": "Business",
         "3": "https://www.bing.com/th?id=ODF.7h8TdLFTlOnT9gKVUsDMyQ&pid=news",
         "4": "https://www.financialexpress.com/market/ipo-news-hyundai-motor-india-ipo-2024-live-updates-today-gmp-allotment-status-subscription-review-ipo-news-3642011/",
         "5": "The Financial Express",
         "6": "17-Oct-2024"
        },
        {
         "0": "Planet Coaster 2 is set to drop on all of its platforms on 6th November 2024. Not a long wait at all! Sign up for our gaming newsletter to receive the latest insights, reviews and expert recommendations",
         "1": "Planet Coaster 2 release date, pre-order and latest news",
         "2": "ScienceAndTechnology",
         "3": "https://www.bing.com/th?id=ODF.HVIMpkpJ5pX4_z5dj2pDfw&pid=news",
         "4": "https://www.radiotimes.com/technology/gaming/planet-coaster-2-release/",
         "5": "Radio Times",
         "6": "17-Oct-2024"
        },
        {
         "0": "In an exclusive interview with NBC News, Ronald Rowe Jr. said he worried about “demoralized” Secret Service agents who are being pushed to the brink.",
         "1": "Acting Secret Service director responds to critical new report about security failures",
         "2": "Politics",
         "3": "https://www.bing.com/th?id=ODF.ighWNnrr5MMFUs8WKMme2A&pid=news",
         "4": "https://www.msn.com/en-us/news/politics/acting-secret-service-director-responds-to-critical-new-report-about-security-failures/ar-AA1ssjgQ",
         "5": "NBC News on MSN.com",
         "6": "17-Oct-2024"
        },
        {
         "0": "President Joe Biden narrowly won the battleground state in 2020 over Trump, who sought to overturn election results in the state.",
         "1": "Arizona 2024 Trump-Harris Polls: Trump Up 3 Points In Latest Survey",
         "2": "Politics",
         "3": "https://www.bing.com/th?id=ODF.U6nYa4Huf-RFEhjg-V4hNg&pid=news",
         "4": "https://www.forbes.com/sites/antoniopequenoiv/2024/10/17/arizona-2024-trump-harris-polls-trump-up-3-points-in-latest-survey/",
         "5": "Forbes",
         "6": "17-Oct-2024"
        },
        {
         "0": "Katie Maloney is all smiles and it's not just because of her successful sandwich shop — aptly named Something About Her. The 37-year-old Vanderpump Rules alum just went public with some big personal news: she's got a new boyfriend and she's totally \"in love.\" The reveal came on her ex-husband Tom Schwartz's birthday.",
         "1": "Vanderpump Rules' Katie Maloney Gushes Over New Boyfriend",
         "2": "Entertainment",
         "3": "https://www.bing.com/th?id=ODF.uTJA7JDoTGKvff5o3jotfg&pid=news",
         "4": "https://www.msn.com/en-us/tv/celebrity/vanderpump-rules-katie-maloney-gushes-over-new-boyfriend/ar-AA1ssmnv",
         "5": "Newsweek on MSN.com",
         "6": "17-Oct-2024"
        },
        {
         "0": "Former President Trump is up by 3 points over his rival Vice President Harris in a Arizona poll released on Thursday.  Trump garnered 51 percent over Harris’s 48 percent among likely voters",
         "1": "Trump up by 3 points over Harris in new Arizona poll",
         "2": "LifeStyle",
         "3": "https://www.bing.com/th?id=ODF.BO7AWyiZH_p5UNPH6KXa_g&pid=news",
         "4": "https://thehill.com/homenews/campaign/4939928-trump-harris-arizona-cbs-poll/",
         "5": "The Hill",
         "6": "17-Oct-2024"
        },
        {
         "0": "Kamala Harris continues to hold a lead over Donald Trump in New Hampshire, according to new poll. Market Basket is top grocery store in a landslide.",
         "1": "Kamala Harris holds lead over Donald Trump in NH in latest poll",
         "2": "Politics",
         "3": "https://www.bing.com/th?id=ODF.m1iod5ODNIyyKu23kGIllQ&pid=news",
         "4": "https://www.usatoday.com/story/news/politics/elections/2024/10/17/kamala-harris-leads-donald-trump-nh-poll-umass-lowell/75714742007/",
         "5": "USA Today",
         "6": "17-Oct-2024"
        },
        {
         "0": "Hamas's leader Yahya Sinwar has been killed in an attack in Gaza, Israel's foreign minister has confirmed. The Israeli military has released footage claiming to show his final moments. Watch Sky News live below as we bring you the latest updates from the Middle East.",
         "1": "Middle East latest: Hamas leader confirmed dead; Israeli military releases video of his 'final moments'",
         "2": "World",
         "3": "https://www.bing.com/th?id=ODF.Eg62H9DIbo-JYPI6GpAgGA&pid=news",
         "4": "https://news.sky.com/story/middle-east-latest-hamas-leader-confirmed-dead-israeli-military-releases-video-of-his-final-moments-12978800",
         "5": "Sky",
         "6": "17-Oct-2024"
        },
        {
         "0": "Foreign minister David Lammy will arrive in China on Friday seeking to demonstrate Britain's new government is taking a pragmatic and strategic approach to building ties with Beijing, even while acknowledging areas of sharp disagreement.",
         "1": "UK's new foreign minister travels to China seeking 'pragmatic' ties",
         "2": "World",
         "3": "https://www.bing.com/th?id=ODF.jFXbg3L7Ce_1pS4_IOR8CA&pid=news",
         "4": "https://www.reuters.com/world/uks-new-foreign-minister-travels-china-seeking-pragmatic-ties-2024-10-17/",
         "5": "Reuters",
         "6": "17-Oct-2024"
        },
        {
         "0": "\"I’m a longtime teacher and in my classroom we believe in facts, so here are a few,\" said the wife of Democratic vice presidential nominee Tim Walz.",
         "1": "Gwen Walz Schools Donald Trump Over His Latest ‘Creepy’ And ‘Downright Nuts’ Boast",
         "2": "World",
         "3": "https://www.bing.com/th?id=ODF.8SdII0Js_SngmBlHWTAF2w&pid=news",
         "4": "https://au.yahoo.com/news/gwen-walz-schools-donald-trump-105211071.html",
         "5": "Yahoo News Australia",
         "6": "17-Oct-2024"
        },
        {
         "0": "Yankees fans are getting their wish from Aaron Boone, but New York's lineup also took a hit ahead of Game 3 against the Guardians.",
         "1": "Good news, bad news: Yankees' Game 3 lineup has reason for celebration and concern",
         "2": "Sports",
         "3": "https://www.bing.com/th?id=ODF.cQEwcF-r13r66Z2s8ymonw&pid=news",
         "4": "https://www.msn.com/en-us/sports/mlb/good-news-bad-news-yankees-game-3-lineup-has-reason-for-celebration-and-concern/ar-AA1ssgk8",
         "5": "FanSided on MSN.com",
         "6": "17-Oct-2024"
        },
        {
         "0": "According to a report by Cricbuzz, former India all-rounder and ex-Delhi Capitals star Venugopal Rao has been appointed as the new Director of Cricket of the franchise. Appointing Rao in this position means that either Sourav Ganguly has to step down,",
         "1": "Sourav Ganguly No More With Delhi Capitals? IPL Franchise Appoints New Director Of Cricket: Report",
         "2": "Sports",
         "3": "https://www.bing.com/th?id=ODF.KANCozAEZYO1NwXNST5YDQ&pid=news",
         "4": "https://www.msn.com/en-in/sports/cricket/sourav-ganguly-no-more-with-delhi-capitals-ipl-franchise-appoints-new-director-of-cricket-report/ar-AA1spgSx",
         "5": "Times Now on MSN.com",
         "6": "17-Oct-2024"
        },
        {
         "0": "The FCC Thursday issued rules requiring that all mobile phones -- including smartphones -- sold in the U.S. be compatible with hearing aids. The news comes two years after the FDA made hearing aids available to all Americans without a prescription.",
         "1": "All mobile phones must be hearing aid compatible under new FCC rules",
         "2": "ScienceAndTechnology",
         "3": "https://www.bing.com/th?id=ODF.M4e-NwwkSCFuKsTp672mxA&pid=news",
         "4": "https://www.msn.com/en-us/news/technology/all-mobile-phones-must-be-hearing-aid-compatible-under-new-fcc-rules/ar-AA1ssm7B",
         "5": "TechCrunch on MSN.com",
         "6": "17-Oct-2024"
        },
        {
         "0": "Short weeks can be hard on NFL teams with less time to prepare than usual, and that puts the New Orleans Saints in a tough spot as they open Week 7 with a visit from the Denver Broncos on Thursday Night Football.",
         "1": "Broncos vs. Saints score, live updates: Denver looks to get over .500 at slumping New Orleans on Thursday Night Football",
         "2": "Sports",
         "3": "https://www.bing.com/th?id=ODF.S719DbZoJh4YKmcI5HTI3A&pid=news",
         "4": "https://sports.yahoo.com/live/broncos-vs-saints-score-live-updates-highlights-denver-new-orleans-thursday-night-football-how-to-watch-231506285.html",
         "5": "Yahoo! Sports",
         "6": "17-Oct-2024"
        },
        {
         "0": "Western North Carolina roads are slowly reopening following the devastation from Tropical Storm Helene, but several major thoroughfares remain closed, including Interstate 40. Here's the latest",
         "1": "When will I-40 reopen? The latest on Helene-related North Carolina road closures",
         "2": "N/A",
         "3": "https://www.bing.com/th?id=ODF.m1iod5ODNIyyKu23kGIllQ&pid=news",
         "4": "https://www.usatoday.com/story/news/local/2024/10/17/ncdot-road-closures-when-will-i-40-reopen-latest-update/75715064007/",
         "5": "USA Today",
         "6": "17-Oct-2024"
        },
        {
         "0": "Any baseball field designed and cultivated by Roger Bossard, the highly respected White Sox head groundskeeper who has been with the team for the past 58 seasons, inherently has something special attached.",
         "1": "Here's the latest on White Sox proposed new ballpark",
         "2": "Sports",
         "3": "https://www.bing.com/th?id=ODF.wzUJOrRR9Tt2JfINYjkJ1g&pid=news",
         "4": "https://www.mlb.com/whitesox/news/white-sox-proposed-ballpark-update",
         "5": "MLB",
         "6": "17-Oct-2024"
        },
        {
         "0": "A new heartbreaking update about Liam Payne’s death has been revealed. The One Direction singer died on October 16. While it was initially reported that he fell off his hotel balcony in Argentina, a new statement by the Buenos Aires Security Ministry revealed that Liam Payne ‘had jumped from the balcony of his room.",
         "1": "Liam Payne 'Jumped From the Balcony': Buenos Aires Security Ministry In New Statement",
         "2": "Entertainment",
         "3": "https://www.bing.com/th?id=ODF.raV3hWx5LJpFUHNtCFAcrw&pid=news",
         "4": "https://www.news18.com/movies/liam-payne-passed-away-cause-of-death-jumped-from-balcony-9089270.html",
         "5": "CNN-News18",
         "6": "17-Oct-2024"
        },
        {
         "0": "Robert Vilahamn is hoping Amanda Nilden could make the trip to Chelsea on Sunday evening (6.45pm UK) with Ella Morris also expected to return – although Hayley Raso will miss the Barclays Women’s Super League encounter.",
         "1": "Team news | Chelsea vs Spurs (WSL) | Latest on Nildén, Raso and Morris",
         "2": "Sports",
         "3": "https://www.bing.com/th?id=ODF.mSUgx9Nimhp1juop9J_ZBg&pid=news",
         "4": "https://www.tottenhamhotspur.com/news/2024/october/spurs-women-team-news-chelsea-vs-spurs-wsl-latest-on-nild%C3%A9n-raso-and-morris/",
         "5": "Tottenham Hotspur F.C.",
         "6": "17-Oct-2024"
        },
        {
         "0": "The Dodgers are expected to start right-hander Yoshinobu Yamamoto. This will be his third career MLB playoff appearance, with his first two both coming in the NLDS against the Padres. Yamamoto has allowed five runs on seven hits across eight innings of postseason work.",
         "1": "Mets vs. Dodgers score: Live updates as New York tries to even NLCS in Game 4 after ugly shutout",
         "2": "Sports",
         "3": "https://www.bing.com/th?id=ODF.TwkuevkHG2GKy2nqI-lS_Q&pid=news",
         "4": "https://www.cbssports.com/mlb/news/mets-vs-dodgers-score-live-updates-as-new-york-tries-to-even-nlcs-in-game-4-after-ugly-shutout/live/",
         "5": "CBSSports.com",
         "6": "17-Oct-2024"
        },
        {
         "0": "President Joe Biden plans to visit New Hampshire next week. The White House said the president will speak Tuesday at an official event highlighting the administration's work to lower prescription drug costs. An exact location has not been announced. Biden was last in New Hampshire in May when he visited Merrimack and Nashua.",
         "1": "Biden to visit New Hampshire to discuss prescription drug costs",
         "2": "Politics",
         "3": "https://www.bing.com/th?id=ODF.7hulKPNu1vgipcNf9tildw&pid=news",
         "4": "https://www.wmur.com/article/joe-biden-new-hampshire-drug-costs-101724/62642249",
         "5": "WMUR",
         "6": "17-Oct-2024"
        },
        {
         "0": "Certain Massachusetts families will be getting automatic discounts that could save them hundreds of dollars on utility bills.",
         "1": "New automatic discounts on utility bills will help some Massachusetts residents save big, governor says",
         "2": "Business",
         "3": "https://www.bing.com/th?id=ODF.lisIXhXb-iy9Ku1HbFcCEw&pid=news",
         "4": "https://www.msn.com/en-us/money/personalfinance/new-automatic-discounts-on-utility-bills-will-help-some-massachusetts-residents-save-big-governor-says/ar-AA1ssF9f",
         "5": "CBS Boston on MSN.com",
         "6": "17-Oct-2024"
        },
        {
         "0": "Latest Update On Final Boss Will Leave Fans Disappointed Not The Rock! 3 WWE Superstars Cody Rhodes Can Face At Wrestlemania 41 WWE News: Will Roman Reigns Make His Return To Smackdown This Week? WWE Raw Results, Highlights 7 October: Jey Uso, Gunther ...",
         "1": "India Vs New Zealand 1st Test Day 2 LIVE SCORE: India Off To Horror Start; Lose 3 Wickets Inside 10 Overs",
         "2": "Sports",
         "3": "N/A",
         "4": "https://www.timesnownews.com/sports/cricket/india-vs-new-zealand-1st-test-day-2-live-streaming-updates-bangalore-weather-forecast-updates-liveblog-114298976",
         "5": "timesnownews",
         "6": "17-Oct-2024"
        },
        {
         "0": "Sydney Sweeney shares a picture of her transformative makeover for her role as Christy Martin and exclusively tells Cosmo about the upcoming biopic.",
         "1": "Sydney Sweeney Totally Transforms Into Boxer Christy Martin in the First Look at Her Buzzy New Film",
         "2": "Entertainment",
         "3": "https://www.bing.com/th?id=ODF.6l3fMUjuba1Bx26WywDhqQ&pid=news",
         "4": "https://www.aol.com/sydney-sweeney-totally-transforms-boxer-174000302.html",
         "5": "AOL",
         "6": "17-Oct-2024"
        },
        {
         "0": "Brazilian food retailer Assai said on Thursday it now forecasts it will open some 10 new stores next year, half the prior estimate of about 20, according to a securities filing.",
         "1": "Brazil's Assai cuts estimate for 2025 new store openings",
         "2": "Business",
         "3": "https://www.bing.com/th?id=ODF.jFXbg3L7Ce_1pS4_IOR8CA&pid=news",
         "4": "https://www.reuters.com/business/retail-consumer/brazils-assai-cuts-estimate-2025-new-store-openings-2024-10-17/",
         "5": "Reuters",
         "6": "17-Oct-2024"
        },
        {
         "0": "Popular weight loss drugs like Ozempic might be able to help with substance abuse, according to new research on people addicted to opioids ... She can be seen daily on CBS News Philadelphia and Philly57.",
         "1": "How a weight loss drug is helping a New Jersey nurse overcome alcohol addiction",
         "2": "N/A",
         "3": "N/A",
         "4": "https://www.msn.com/en-us/health/other/how-a-weight-loss-drug-is-helping-a-new-jersey-nurse-overcome-alcohol-addiction/ar-AA1ssLdP",
         "5": "CBS News on MSN.com",
         "6": "17-Oct-2024"
        },
        {
         "0": "Wednesday brought the first ray of sunshine in what's been a very dark year for fans of the Chicago White Sox, with news that reviled owner Jerry Reinsdorf was exploring a sale of the team. As long as Reinsdorf was around,",
         "1": "White Sox could leave Chicago after latest surprising ownership development",
         "2": "Sports",
         "3": "https://www.bing.com/th?id=ODF.cQEwcF-r13r66Z2s8ymonw&pid=news",
         "4": "https://www.msn.com/en-us/news/us/white-sox-could-leave-chicago-after-latest-surprising-ownership-development/ar-AA1ssoyC",
         "5": "FanSided on MSN.com",
         "6": "17-Oct-2024"
        },
        {
         "0": "New Braunfels Police are seeking information about Richard Rosas, who is accused of murder in the fatal shooting of Chance Herron in an Applebee's parking lot.",
         "1": "New Braunfels police searching for Converse man in teen's slaying",
         "2": "N/A",
         "3": "https://www.bing.com/th?id=ODF.KPkYxfhccY8-IjUG9SG0-w&pid=news",
         "4": "https://www.expressnews.com/hill-country/article/new-braunfels-police-shooting-applebees-converse-19844724.php",
         "5": "San Antonio Express-News",
         "6": "17-Oct-2024"
        },
        {
         "0": "The Regional CEO of the American Red Cross of Arizona and New Mexico is heading to the front lines in Florida to assist those in need.",
         "1": "Red Cross CEO of Arizona & New Mexico assisting with hurricane recovery in Florida",
         "2": "N/A",
         "3": "https://www.bing.com/th?id=ODF.spQoP6jbtfvrDDK3c1NS7Q&pid=news",
         "4": "https://www.msn.com/en-us/news/other/red-cross-ceo-of-arizona-new-mexico-assisting-with-hurricane-recovery-in-florida/ar-AA1ss2K9",
         "5": "AZFamily on MSN.com",
         "6": "17-Oct-2024"
        },
        {
         "0": "An independent panel investigating the July 13 assassination attempt on former President Trump is now calling for extensive reform of the United States Secret Service.",
         "1": "New independent review calls for 'fundamental reform' of US Secret Service",
         "2": "N/A",
         "3": "https://www.bing.com/th?id=ODF.WYO3ATefKUevMjYClcyRrw&pid=news",
         "4": "https://www.wxyz.com/politics/new-independent-review-calls-for-fundamental-reform-of-us-secret-service",
         "5": "WXYZ",
         "6": "17-Oct-2024"
        },
        {
         "0": "Company officials say new projects have generated new contracts with both U.S. and global automakers and suppliers.",
         "1": "Waukesha's Husco International to hire 250 new workers",
         "2": "Business",
         "3": "https://www.bing.com/th?id=ODF.pM7kQ4aKmZpYSAUSPfOHnA&pid=news",
         "4": "https://www.fox6now.com/news/waukeshas-husco-international-hire-250-new-workers",
         "5": "fox6now",
         "6": "17-Oct-2024"
        },
        {
         "0": "On Thursday, two-semi trucks in New Bern were packed full of donations that will head towards Haywood County at the New Covenant Church. The lead pastor, Blake Stanbery, says Helene left a big mess.",
         "1": "The City of New Bern packs two semi-trucks with donations for Western North Carolina",
         "2": "LifeStyle",
         "3": "https://www.bing.com/th?id=ODF.6IT0AbGlzNl2lybSOH8Hkw&pid=news",
         "4": "https://www.witn.com/2024/10/17/city-new-bern-packs-two-semi-trucks-with-donations-western-north-carolina/",
         "5": "WITN",
         "6": "17-Oct-2024"
        },
        {
         "0": "Thursday Night Football on Oct. 17 gets Week 7 of the NFL season started as the New Orleans Saints face the Denver Broncos.",
         "1": "Watch Denver Broncos vs. New Orleans Saints free live stream",
         "2": "Sports",
         "3": "https://www.bing.com/th?id=ODF.KDaKm3KxrYAvNUXLp-n40w&pid=news",
         "4": "https://www.masslive.com/tv/2024/10/watch-denver-broncos-vs-new-orleans-saints-free-live-stream.html",
         "5": "MassLive",
         "6": "17-Oct-2024"
        },
        {
         "0": "HAMMOND, Ind. (WNDU) - The South Shore Line says its new Hammond Gateway Station will open and become operational for train service on Friday. Beginning Friday, passengers previously utilizing the Hammond Station will begin boarding and detraining all South Shore Line trains out of Hammond Gateway, which is located at 4530 Sheffield Avenue.",
         "1": "South Shore Line to open new Hammond Gateway Station on Friday",
         "2": "N/A",
         "3": "https://www.bing.com/th?id=ODF.4Wfdsnr3wLYnD_jZJnRmAw&pid=news",
         "4": "https://www.msn.com/en-us/autos/news/south-shore-line-to-open-new-hammond-gateway-station-on-friday/ar-AA1ssqzL",
         "5": "South Bend-Elkhart WNDU-TV on MSN.com",
         "6": "17-Oct-2024"
        },
        {
         "0": "Elijah Vue's mother and boyfriend face new charges in the boy's death Wisconsin authorities announced Thursday.",
         "1": "Elijah Vue's mother and her boyfriend face new charges in boy's death",
         "2": "N/A",
         "3": "https://www.bing.com/th?id=ODF.lisIXhXb-iy9Ku1HbFcCEw&pid=news",
         "4": "https://www.msn.com/en-us/news/crime/elijah-vues-mother-and-her-boyfriend-face-new-charges-in-boys-death/ar-AA1ssr87",
         "5": "CBS News on MSN.com",
         "6": "17-Oct-2024"
        },
        {
         "0": "The cast and creators of \"Phineas and Ferb\" reunite after a decade to announce the cast for the new season. Ashley Tisdale, Dan Povenmire, Vincent Martella and Alyson Stoner are among the list of returning stars.",
         "1": "Ashley Tisdale, Vincent Martella and Alyson Stoner are back for a new season of 'Phineas and Ferb'",
         "2": "Entertainment",
         "3": "https://www.bing.com/th?id=ODF.cy-PhYuyToKo5Mx4_OfJnw&pid=news",
         "4": "https://abc7.com/post/ashley-tisdale-vincent-martella-alyson-stoner-are-back-new-season-phineas-ferb/15438807/",
         "5": "ABC7",
         "6": "17-Oct-2024"
        },
        {
         "0": "Kimberly Shupe was killed in 2019 when her Bel Air townhome caught fire. Her sister is outraged that the woman convicted, Bobbie Sue Hodge, just had her conviction overturned on appeal. She wrote a letter saying she didnt like her lawyer and it was never addressed in court #wbal pic.twitter.com/DkdqSuSixb",
         "1": "Woman convicted of murder to get new trial after appeal due to dissatisfaction with public defenders",
         "2": "N/A",
         "3": "https://www.bing.com/th?id=ODF.ov06NvHKn7ghN2F28JfTHw&pid=news",
         "4": "https://www.wbaltv.com/article/woman-convicted-murder-trial-appeal-dissatisfaction-defenders/62640861",
         "5": "WBAL-TV",
         "6": "17-Oct-2024"
        },
        {
         "0": "Raygun's infamous Olympics routine has risen from the dead, just in time for Halloween , with tributes to the breakdancing already surfacing on Aussie lawns",
         "1": "Raygun set for dubious new honour as tributes to the Olympic breakdancing appear ahead of Halloween",
         "2": "N/A",
         "3": "https://www.bing.com/th?id=ODF._kZMPt4WNJFUpf58U6Qe-w&pid=news",
         "4": "https://www.dailymail.co.uk/sport/olympics/article-13972827/Raygun-set-dubious-new-honour-tributes-Olympic-breakdancing-appear-ahead-Halloween.html",
         "5": "Daily Mail",
         "6": "17-Oct-2024"
        },
        {
         "0": "In April 2022, the former reality star was arrested for domestic violence. Paulina Ben-Cohen sued him over “vicious” attacks nearly two years later.",
         "1": "‘Shahs of Sunset’ alum Mike Shouhed seen brutally attacking then-fiancée in shocking newly released video",
         "2": "Politics",
         "3": "https://www.bing.com/th?id=ODF.cbDT3vfpyoU3nKKCfZyv5A&pid=news",
         "4": "https://pagesix.com/2024/10/17/celebrity-news/shahs-of-sunsets-mike-shouhed-attacks-then-fiancee-in-newly-released-video/",
         "5": "Page Six",
         "6": "17-Oct-2024"
        },
        {
         "0": "The Lincoln Station Project is doing a final call for community input before the survey closes on Friday for a proposed new Lincoln Community Center on Paducah's Southside. Click to",
         "1": "Lincoln Station Project Board seeks public input to preserve former school's legacy",
         "2": "N/A",
         "3": "https://www.bing.com/th?id=ODF.0j_hrz_Am8ipxYiTzzGnyg&pid=news",
         "4": "https://www.wpsdlocal6.com/news/lincoln-station-project-board-seeks-public-input-to-preserve-former-schools-legacy/article_d32db6e4-8cd6-11ef-87e8-bf2c6fbe73fe.html",
         "5": "WPSD Local 6",
         "6": "17-Oct-2024"
        },
        {
         "0": "THEY think it’s all makeover . . . it is here, with this gallery of famous faces virtually unrecognisable in TV and movie roles. Hollywood starlet Sydney Sweeney, 27, has shocked fans by posting a",
         "1": "Irish star’s Penguin suit, actress’ Inglorious new show & heartthrob’s wrestler makeover… can you name them all?",
         "2": "Entertainment",
         "3": "https://www.bing.com/th?id=ODF.mZZguWnkRkVFPCoaQUmKEg&pid=news",
         "4": "https://www.thesun.co.uk/tv/31149688/sydney-sweeney-celebs-unrecognisable-roles/",
         "5": "The Sun",
         "6": "17-Oct-2024"
        },
        {
         "0": "Wondering when new episodes of Ghost come out? Here's when and where to watch Ghost streaming and live as it airs.",
         "1": "‘Ghosts’ Season 4 Release Schedule: When Do New Episodes Air?",
         "2": "Entertainment",
         "3": "https://www.bing.com/th?id=ODF.3zqB2pXRwlAc2EJ5gQwBtg&pid=news",
         "4": "https://www.thewrap.com/ghosts-season-4-release-date-time-episodes-schedule/",
         "5": "TheWrap",
         "6": "17-Oct-2024"
        },
        {
         "0": "Huawei's stunning Mate XT Ultimate Design phone and its display, which can fold into thirds, shows that the company's ability to innovate rivals Apple and Samsung.",
         "1": "I Was Astounded by This New 'Tri-Foldable' Phone… and Skeptical Too",
         "2": "ScienceAndTechnology",
         "3": "https://www.bing.com/th?id=ODF.vS3pKUrPWgIKkQBHtUkEPQ&pid=news",
         "4": "https://www.cnet.com/tech/mobile/i-was-astounded-by-this-new-tri-foldable-phone-and-skeptical-too/",
         "5": "CNET",
         "6": "17-Oct-2024"
        },
        {
         "0": "It's a side of Nix's personality that Broncos head coach Sean Payton enjoys and wants to utilize more as they head into a crucial Thursday night fixture against his old team, the New Orleans Saints. This is the first time that Nix will have to start a game on a short-week turnaround. It has it's own unique challenges.",
         "1": "Bo Nix on Sean Payton's Return to New Orleans: 'Just Another Game'",
         "2": "Sports",
         "3": "https://www.bing.com/th?id=ODF.DAlg1K6d6FcCd2ockBPdcQ&pid=news",
         "4": "https://www.msn.com/en-us/sports/nfl/bo-nix-on-sean-paytons-return-to-new-orleans-just-another-game/ar-AA1ss9Ou",
         "5": "Denver Broncos On SI on MSN.com",
         "6": "17-Oct-2024"
        },
        {
         "0": "Universal Studios Orlando has announced that Epic Universe, its highly-anticipated fourth theme park in Florida, will open sooner than expected - May 2025. Soon people will be able to purchase tickets to see the new theme park,",
         "1": "Epic Universe opening May 2025: When you can buy tickets, book hotel rooms, new lands and attractions",
         "2": "LifeStyle",
         "3": "https://www.bing.com/th?id=ODF.pPTO_qfDGMw5U2MDJ6xzpw&pid=news",
         "4": "https://www.msn.com/en-us/travel/tripideas/epic-universe-opening-may-2025-when-you-can-buy-tickets-book-hotel-rooms-new-lands-and-attractions/ar-AA1srljb",
         "5": "FOX 35 Orlando on MSN.com",
         "6": "17-Oct-2024"
        }
       ],
       "schema": [
        {
         "key": "0",
         "name": "title",
         "type": "string"
        },
        {
         "key": "1",
         "name": "description",
         "type": "string"
        },
        {
         "key": "2",
         "name": "category",
         "type": "string"
        },
        {
         "key": "3",
         "name": "image",
         "type": "string"
        },
        {
         "key": "4",
         "name": "url",
         "type": "string"
        },
        {
         "key": "5",
         "name": "provider",
         "type": "string"
        },
        {
         "key": "6",
         "name": "publishedDate",
         "type": "string"
        }
       ],
       "truncated": false
      },
      "wranglerEntryContext": {
       "candidateVariableNames": [
        "df_final1"
       ],
       "dataframeType": "pyspark"
      }
     },
     "type": "Synapse.DataFrame"
    },
    "9364a3bd-99e0-45b1-83ec-c503edcc0d21": {
     "persist_state": {
      "view": {
       "chartOptions": {
        "aggregationType": "count",
        "binsNumber": 10,
        "categoryFieldKeys": [
         "2"
        ],
        "chartType": "bar",
        "evaluatesOverAllRecords": false,
        "isStacked": false,
        "seriesFieldKeys": [
         "0"
        ],
        "wordFrequency": "-1"
       },
       "tableOptions": {},
       "type": "details"
      }
     },
     "sync_state": {
      "isSummary": false,
      "language": "scala",
      "table": {
       "rows": [
        {
         "0": "Authorities revealed new details about the death of former One Direction singer Liam Payne in Buenos Aires. Officials said his death from a fall from a hotel window came minutes after the hotel called 911 about a guest who had overindulged on drugs and alcohol.",
         "1": "New details in death of One Direction member Liam Payne",
         "2": "N/A",
         "3": "https://www.bing.com/th?id=ODF.ighWNnrr5MMFUs8WKMme2A&pid=news",
         "4": "https://www.nbcnews.com/nightly-news/video/new-details-in-death-of-one-direction-member-liam-payne-222041669539",
         "5": "NBC News",
         "6": "2024-10-17T23:15:00.0000000Z"
        },
        {
         "0": "A new, detailed artist's rendering of the proposed stadium for the Athletics in Las Vegas, Nevada includes a first look at the new Bally's hotel/casino tower.",
         "1": "MLB News: Fresh A's Stadium Renderings Include View of New Las Vegas Casino",
         "2": "N/A",
         "3": "https://www.bing.com/th?id=ODF.uTJA7JDoTGKvff5o3jotfg&pid=news",
         "4": "https://www.msn.com/en-us/sports/motorsports/mlb-news-fresh-a-s-stadium-renderings-include-view-of-new-las-vegas-casino/ar-AA1ssoZN",
         "5": "MSN",
         "6": "2024-10-17T21:09:00.0000000Z"
        },
        {
         "0": "Welcome to the live updates platform for Hindustan Times. Follow the major news updates, headlines and breaking news stories from the world of entertainment right here. See the latest developments in Bollywood,",
         "1": "Latest entertainment News, Live Updates Today October 17, 2024: Is Liam Payne's death actually connected to Sean ‘Diddy’ Combs? Conspiracy theory says…",
         "2": "N/A",
         "3": "https://www.bing.com/th?id=ODF.Caqyr0opfKlydldMITdwcw&pid=news",
         "4": "https://www.msn.com/en-in/entertainment/other/latest-entertainment-news-live-updates-today-october-17-2024-is-liam-paynes-death-actually-connected-to-sean-diddy-combs-conspiracy-theory-says/ar-AA1ssauh",
         "5": "Hindustan Times on MSN.com",
         "6": "2024-10-17T17:30:08.0000000Z"
        },
        {
         "0": "The Mukhyamantri Ladli Behna Yojana MP empowers eligible women in Madhya Pradesh with monthly financial aid for economic self-reliance. Check apply online date",
         "1": "Ladli Behna Yojana 2024: Check Apply Online, Eligibility Criteria & Latest News",
         "2": "N/A",
         "3": "https://www.bing.com/th?id=ODF.Pg1CxWVlDOcYEbJ-sTiq_g&pid=news",
         "4": "https://www.jagranjosh.com/articles/ladli-behna-yojna-mp-madhya-pradesh-1729171063-1",
         "5": "jagranjosh.com",
         "6": "2024-10-17T13:15:00.0000000Z"
        },
        {
         "0": "The Department of Justice said Vikash Yadav, described as a “senior field officer” within Prime Minister Narendra Modi’s administration, directed a “murder-for-hire” scheme from India, in which a hitman was to be paid $100,000 for assassinating a US-Canadian citizen who was part of a separatist movement advocating for an independent Sikh state.",
         "1": "Live news: US charges Indian official over plot to kill Sikh activist in New York",
         "2": "N/A",
         "3": "https://www.bing.com/th?id=ODF.CdBlognZ1u9nda-gVEOS_w&pid=news",
         "4": "https://www.ft.com/content/65cf7e16-63de-4c21-bfc7-4abadcda3ca6",
         "5": "The Financial Times",
         "6": "2024-10-17T22:42:00.0000000Z"
        },
        {
         "0": "At rallies across the country, former President Donald Trump has pledged to enact mass deportations of illegal immigrants, something he vowed to do during his first term but never fully realized.",
         "1": "Fox News Poll: Two-thirds favor deporting immigrants who live in U.S. illegally",
         "2": "Politics",
         "3": "https://www.bing.com/th?id=ODF.mdH-v7wPV5psO7NVm756zg&pid=news",
         "4": "https://www.foxnews.com/official-polls/fox-news-poll-two-thirds-favor-deporting-immigrants-who-live-u-s-illegally",
         "5": "Fox News",
         "6": "2024-10-17T22:17:00.0000000Z"
        },
        {
         "0": "Stay here for real-time updates on breaking news from India and across the world that you can't miss: IndiGo flight makes emergency landing at Jaipur",
         "1": "Breaking News Live: Senior IPS officer Praveen Vashista appointed as next special secretary for internal security",
         "2": "World",
         "3": "https://www.bing.com/th?id=ODF.VBzHmoY4z9NL3FbRonyM1w&pid=news",
         "4": "https://timesofindia.indiatimes.com/india/latest-india-world-news-live-updates-today-breaking-news-15th-oct-2024/liveblog/114260977.cms",
         "5": "Indiatimes",
         "6": "2024-10-17T16:16:00.0000000Z"
        },
        {
         "0": "With just 21 days remaining to cast votes this presidential season, Kamala Harris and Donald Trump are scrambling to win over key constituents as well as the other party's voters",
         "1": "The Latest: Harris and Trump Pivot to Turnout as Early Voting Begins",
         "2": "Politics",
         "3": "https://www.bing.com/th?id=ODF.AlMAEy7MoWNz0OI_xSWQiw&pid=news",
         "4": "https://www.msn.com/en-us/news/politics/the-latest-harris-and-trump-pivot-to-turnout-as-early-voting-begins/ar-AA1sniLk",
         "5": "The Associated Press on MSN.com",
         "6": "2024-10-17T08:15:00.0000000Z"
        },
        {
         "0": "Kamala Harris and Fox News host Bret Baier sparred repeatedly over immigration, Donald Trump and Harris’ record as vice president in a televised interview Wednesday night. The two frequently spoke over one another in the contentious exchange,",
         "1": "Kamala Harris spars over Biden administration's record in Fox News interview",
         "2": "Politics",
         "3": "https://www.bing.com/th?id=ODF.nYADEgS75l8rdCg9D-p_OQ&pid=news",
         "4": "https://news.yahoo.com/news/kamala-harris-sits-interview-conservative-203700248.html",
         "5": "YAHOO!News",
         "6": "2024-10-17T21:36:00.0000000Z"
        },
        {
         "0": "As you get ready to head to the polls on Nov. 5, News 12 gives you the tools and resources you need to make an informed decision on Election Day.",
         "1": "News 12 New Jersey 2024 Voters Guide",
         "2": "N/A",
         "3": "https://www.bing.com/th?id=ODF.pLW_qbtRH5jPxsvrBSqZ4A&pid=news",
         "4": "https://newjersey.news12.com/category/news-12-new-jersey-2024-voters-guide",
         "5": "News 12 Networks",
         "6": "2024-10-17T20:14:00.0000000Z"
        },
        {
         "0": "\"I represent a new generation of leadership,” the vice president said in her first interview with the conservative cable news network.",
         "1": "Kamala Harris Says She Won't Be 'A Continuation' Of Joe Biden In Combative Fox News Interview",
         "2": "Politics",
         "3": "https://www.bing.com/th?id=ODF.nYADEgS75l8rdCg9D-p_OQ&pid=news",
         "4": "https://news.yahoo.com/news/kamala-harris-says-she-wont-231355013.html",
         "5": "YAHOO!News",
         "6": "2024-10-17T22:12:00.0000000Z"
        },
        {
         "0": "The researchers found that 80% of those who got a short course of chemotherapy first lived at least five more years, and 72% did not have any cancer return or spread. In the control group, 72% survived at least five years, and 64% had no cancer return or spread.",
         "1": "New Drug Regimen Extends Survival for Cervical Cancer Patients",
         "2": "N/A",
         "3": "https://www.bing.com/th?id=ODF.ZUvKX7lBhXaLGhOrD6YbBg&pid=news",
         "4": "https://www.usnews.com/news/health-news/articles/2024-10-17/new-drug-regimen-extends-survival-for-cervical-cancer-patients",
         "5": "U.S. News & World Report",
         "6": "2024-10-17T12:46:00.0000000Z"
        },
        {
         "0": "The first day of the IND vs NZ Test match has been called of due to rain without a single ball being bowled, The weather does not look promising for the remainder of the Test either",
         "1": "India vs New Zealand highlights, 1st Test: Play called off in Bengaluru",
         "2": "LifeStyle",
         "3": "https://www.bing.com/th?id=ODF.KAwemXIpD5l2nQRDmYLy2w&pid=news",
         "4": "https://indianexpress.com/article/sports/cricket/india-vs-new-zealand-live-score-1st-test-ind-vs-nz-latest-scorecard-updates-9621892/",
         "5": "The Indian Express",
         "6": "2024-10-17T02:36:00.0000000Z"
        },
        {
         "0": "Prince George , Princess Charlotte , and Prince Louis may soon welcome a new addition to their family, according to reports. The family welcomed a cocker spaniel puppy named Orla in 2021 and Prince William has reportedly shared that the children could soon expect new puppies after going through a “tough year”.",
         "1": "Prince George, Charlotte, and Louis eagerly anticipate new arrivals after 'tough year'",
         "2": "N/A",
         "3": "https://www.bing.com/th?id=ODF.B6nvPq26UTBuCaXH6tX71w&pid=news",
         "4": "https://www.dailyrecord.co.uk/entertainment/celebrity/prince-george-charlotte-louis-eagerly-33914608",
         "5": "Daily Record",
         "6": "2024-10-17T22:01:00.0000000Z"
        },
        {
         "0": "Hyundai Motor IPO's Grey Market Premium (GMP) is significantly subdued at under 1%. The issue closes on October 17 and all eyes would be on the allotment status once the issue ends.",
         "1": "Hyundai IPO GMP Allotment status Live Updates: Check latest GMP, allotment, listing, price band; IPO fully subscribed",
         "2": "Business",
         "3": "https://www.bing.com/th?id=ODF.7h8TdLFTlOnT9gKVUsDMyQ&pid=news",
         "4": "https://www.financialexpress.com/market/ipo-news-hyundai-motor-india-ipo-2024-live-updates-today-gmp-allotment-status-subscription-review-ipo-news-3642011/",
         "5": "The Financial Express",
         "6": "2024-10-17T10:30:00.0000000Z"
        },
        {
         "0": "Planet Coaster 2 is set to drop on all of its platforms on 6th November 2024. Not a long wait at all! Sign up for our gaming newsletter to receive the latest insights, reviews and expert recommendations",
         "1": "Planet Coaster 2 release date, pre-order and latest news",
         "2": "ScienceAndTechnology",
         "3": "https://www.bing.com/th?id=ODF.HVIMpkpJ5pX4_z5dj2pDfw&pid=news",
         "4": "https://www.radiotimes.com/technology/gaming/planet-coaster-2-release/",
         "5": "Radio Times",
         "6": "2024-10-17T08:48:00.0000000Z"
        },
        {
         "0": "In an exclusive interview with NBC News, Ronald Rowe Jr. said he worried about “demoralized” Secret Service agents who are being pushed to the brink.",
         "1": "Acting Secret Service director responds to critical new report about security failures",
         "2": "Politics",
         "3": "https://www.bing.com/th?id=ODF.ighWNnrr5MMFUs8WKMme2A&pid=news",
         "4": "https://www.msn.com/en-us/news/politics/acting-secret-service-director-responds-to-critical-new-report-about-security-failures/ar-AA1ssjgQ",
         "5": "NBC News on MSN.com",
         "6": "2024-10-17T19:36:49.0000000Z"
        },
        {
         "0": "President Joe Biden narrowly won the battleground state in 2020 over Trump, who sought to overturn election results in the state.",
         "1": "Arizona 2024 Trump-Harris Polls: Trump Up 3 Points In Latest Survey",
         "2": "Politics",
         "3": "https://www.bing.com/th?id=ODF.U6nYa4Huf-RFEhjg-V4hNg&pid=news",
         "4": "https://www.forbes.com/sites/antoniopequenoiv/2024/10/17/arizona-2024-trump-harris-polls-trump-up-3-points-in-latest-survey/",
         "5": "Forbes",
         "6": "2024-10-17T22:28:00.0000000Z"
        },
        {
         "0": "Katie Maloney is all smiles and it's not just because of her successful sandwich shop — aptly named Something About Her. The 37-year-old Vanderpump Rules alum just went public with some big personal news: she's got a new boyfriend and she's totally \"in love.\" The reveal came on her ex-husband Tom Schwartz's birthday.",
         "1": "Vanderpump Rules' Katie Maloney Gushes Over New Boyfriend",
         "2": "Entertainment",
         "3": "https://www.bing.com/th?id=ODF.uTJA7JDoTGKvff5o3jotfg&pid=news",
         "4": "https://www.msn.com/en-us/tv/celebrity/vanderpump-rules-katie-maloney-gushes-over-new-boyfriend/ar-AA1ssmnv",
         "5": "Newsweek on MSN.com",
         "6": "2024-10-17T20:13:01.0000000Z"
        },
        {
         "0": "Former President Trump is up by 3 points over his rival Vice President Harris in a Arizona poll released on Thursday.  Trump garnered 51 percent over Harris’s 48 percent among likely voters",
         "1": "Trump up by 3 points over Harris in new Arizona poll",
         "2": "LifeStyle",
         "3": "https://www.bing.com/th?id=ODF.BO7AWyiZH_p5UNPH6KXa_g&pid=news",
         "4": "https://thehill.com/homenews/campaign/4939928-trump-harris-arizona-cbs-poll/",
         "5": "The Hill",
         "6": "2024-10-17T22:26:00.0000000Z"
        },
        {
         "0": "Kamala Harris continues to hold a lead over Donald Trump in New Hampshire, according to new poll. Market Basket is top grocery store in a landslide.",
         "1": "Kamala Harris holds lead over Donald Trump in NH in latest poll",
         "2": "Politics",
         "3": "https://www.bing.com/th?id=ODF.m1iod5ODNIyyKu23kGIllQ&pid=news",
         "4": "https://www.usatoday.com/story/news/politics/elections/2024/10/17/kamala-harris-leads-donald-trump-nh-poll-umass-lowell/75714742007/",
         "5": "USA Today",
         "6": "2024-10-17T21:05:00.0000000Z"
        },
        {
         "0": "Hamas's leader Yahya Sinwar has been killed in an attack in Gaza, Israel's foreign minister has confirmed. The Israeli military has released footage claiming to show his final moments. Watch Sky News live below as we bring you the latest updates from the Middle East.",
         "1": "Middle East latest: Hamas leader confirmed dead; Israeli military releases video of his 'final moments'",
         "2": "World",
         "3": "https://www.bing.com/th?id=ODF.Eg62H9DIbo-JYPI6GpAgGA&pid=news",
         "4": "https://news.sky.com/story/middle-east-latest-hamas-leader-confirmed-dead-israeli-military-releases-video-of-his-final-moments-12978800",
         "5": "Sky",
         "6": "2024-10-17T22:19:00.0000000Z"
        },
        {
         "0": "Foreign minister David Lammy will arrive in China on Friday seeking to demonstrate Britain's new government is taking a pragmatic and strategic approach to building ties with Beijing, even while acknowledging areas of sharp disagreement.",
         "1": "UK's new foreign minister travels to China seeking 'pragmatic' ties",
         "2": "World",
         "3": "https://www.bing.com/th?id=ODF.jFXbg3L7Ce_1pS4_IOR8CA&pid=news",
         "4": "https://www.reuters.com/world/uks-new-foreign-minister-travels-china-seeking-pragmatic-ties-2024-10-17/",
         "5": "Reuters",
         "6": "2024-10-17T22:06:00.0000000Z"
        },
        {
         "0": "\"I’m a longtime teacher and in my classroom we believe in facts, so here are a few,\" said the wife of Democratic vice presidential nominee Tim Walz.",
         "1": "Gwen Walz Schools Donald Trump Over His Latest ‘Creepy’ And ‘Downright Nuts’ Boast",
         "2": "World",
         "3": "https://www.bing.com/th?id=ODF.8SdII0Js_SngmBlHWTAF2w&pid=news",
         "4": "https://au.yahoo.com/news/gwen-walz-schools-donald-trump-105211071.html",
         "5": "Yahoo News Australia",
         "6": "2024-10-17T23:16:00.0000000Z"
        },
        {
         "0": "Yankees fans are getting their wish from Aaron Boone, but New York's lineup also took a hit ahead of Game 3 against the Guardians.",
         "1": "Good news, bad news: Yankees' Game 3 lineup has reason for celebration and concern",
         "2": "Sports",
         "3": "https://www.bing.com/th?id=ODF.cQEwcF-r13r66Z2s8ymonw&pid=news",
         "4": "https://www.msn.com/en-us/sports/mlb/good-news-bad-news-yankees-game-3-lineup-has-reason-for-celebration-and-concern/ar-AA1ssgk8",
         "5": "FanSided on MSN.com",
         "6": "2024-10-17T22:45:00.0000000Z"
        },
        {
         "0": "According to a report by Cricbuzz, former India all-rounder and ex-Delhi Capitals star Venugopal Rao has been appointed as the new Director of Cricket of the franchise. Appointing Rao in this position means that either Sourav Ganguly has to step down,",
         "1": "Sourav Ganguly No More With Delhi Capitals? IPL Franchise Appoints New Director Of Cricket: Report",
         "2": "Sports",
         "3": "https://www.bing.com/th?id=ODF.KANCozAEZYO1NwXNST5YDQ&pid=news",
         "4": "https://www.msn.com/en-in/sports/cricket/sourav-ganguly-no-more-with-delhi-capitals-ipl-franchise-appoints-new-director-of-cricket-report/ar-AA1spgSx",
         "5": "Times Now on MSN.com",
         "6": "2024-10-17T02:28:00.0000000Z"
        },
        {
         "0": "The FCC Thursday issued rules requiring that all mobile phones -- including smartphones -- sold in the U.S. be compatible with hearing aids. The news comes two years after the FDA made hearing aids available to all Americans without a prescription.",
         "1": "All mobile phones must be hearing aid compatible under new FCC rules",
         "2": "ScienceAndTechnology",
         "3": "https://www.bing.com/th?id=ODF.M4e-NwwkSCFuKsTp672mxA&pid=news",
         "4": "https://www.msn.com/en-us/news/technology/all-mobile-phones-must-be-hearing-aid-compatible-under-new-fcc-rules/ar-AA1ssm7B",
         "5": "TechCrunch on MSN.com",
         "6": "2024-10-17T20:50:00.0000000Z"
        },
        {
         "0": "Short weeks can be hard on NFL teams with less time to prepare than usual, and that puts the New Orleans Saints in a tough spot as they open Week 7 with a visit from the Denver Broncos on Thursday Night Football.",
         "1": "Broncos vs. Saints score, live updates: Denver looks to get over .500 at slumping New Orleans on Thursday Night Football",
         "2": "Sports",
         "3": "https://www.bing.com/th?id=ODF.S719DbZoJh4YKmcI5HTI3A&pid=news",
         "4": "https://sports.yahoo.com/live/broncos-vs-saints-score-live-updates-highlights-denver-new-orleans-thursday-night-football-how-to-watch-231506285.html",
         "5": "Yahoo! Sports",
         "6": "2024-10-17T23:18:00.0000000Z"
        },
        {
         "0": "Western North Carolina roads are slowly reopening following the devastation from Tropical Storm Helene, but several major thoroughfares remain closed, including Interstate 40. Here's the latest",
         "1": "When will I-40 reopen? The latest on Helene-related North Carolina road closures",
         "2": "N/A",
         "3": "https://www.bing.com/th?id=ODF.m1iod5ODNIyyKu23kGIllQ&pid=news",
         "4": "https://www.usatoday.com/story/news/local/2024/10/17/ncdot-road-closures-when-will-i-40-reopen-latest-update/75715064007/",
         "5": "USA Today",
         "6": "2024-10-17T19:46:00.0000000Z"
        },
        {
         "0": "Any baseball field designed and cultivated by Roger Bossard, the highly respected White Sox head groundskeeper who has been with the team for the past 58 seasons, inherently has something special attached.",
         "1": "Here's the latest on White Sox proposed new ballpark",
         "2": "Sports",
         "3": "https://www.bing.com/th?id=ODF.wzUJOrRR9Tt2JfINYjkJ1g&pid=news",
         "4": "https://www.mlb.com/whitesox/news/white-sox-proposed-ballpark-update",
         "5": "MLB",
         "6": "2024-10-17T21:44:00.0000000Z"
        },
        {
         "0": "A new heartbreaking update about Liam Payne’s death has been revealed. The One Direction singer died on October 16. While it was initially reported that he fell off his hotel balcony in Argentina, a new statement by the Buenos Aires Security Ministry revealed that Liam Payne ‘had jumped from the balcony of his room.",
         "1": "Liam Payne 'Jumped From the Balcony': Buenos Aires Security Ministry In New Statement",
         "2": "Entertainment",
         "3": "https://www.bing.com/th?id=ODF.raV3hWx5LJpFUHNtCFAcrw&pid=news",
         "4": "https://www.news18.com/movies/liam-payne-passed-away-cause-of-death-jumped-from-balcony-9089270.html",
         "5": "CNN-News18",
         "6": "2024-10-17T09:40:00.0000000Z"
        },
        {
         "0": "Robert Vilahamn is hoping Amanda Nilden could make the trip to Chelsea on Sunday evening (6.45pm UK) with Ella Morris also expected to return – although Hayley Raso will miss the Barclays Women’s Super League encounter.",
         "1": "Team news | Chelsea vs Spurs (WSL) | Latest on Nildén, Raso and Morris",
         "2": "Sports",
         "3": "https://www.bing.com/th?id=ODF.mSUgx9Nimhp1juop9J_ZBg&pid=news",
         "4": "https://www.tottenhamhotspur.com/news/2024/october/spurs-women-team-news-chelsea-vs-spurs-wsl-latest-on-nild%C3%A9n-raso-and-morris/",
         "5": "Tottenham Hotspur F.C.",
         "6": "2024-10-17T14:00:00.0000000Z"
        },
        {
         "0": "The Dodgers are expected to start right-hander Yoshinobu Yamamoto. This will be his third career MLB playoff appearance, with his first two both coming in the NLDS against the Padres. Yamamoto has allowed five runs on seven hits across eight innings of postseason work.",
         "1": "Mets vs. Dodgers score: Live updates as New York tries to even NLCS in Game 4 after ugly shutout",
         "2": "Sports",
         "3": "https://www.bing.com/th?id=ODF.TwkuevkHG2GKy2nqI-lS_Q&pid=news",
         "4": "https://www.cbssports.com/mlb/news/mets-vs-dodgers-score-live-updates-as-new-york-tries-to-even-nlcs-in-game-4-after-ugly-shutout/live/",
         "5": "CBSSports.com",
         "6": "2024-10-17T23:14:00.0000000Z"
        },
        {
         "0": "President Joe Biden plans to visit New Hampshire next week. The White House said the president will speak Tuesday at an official event highlighting the administration's work to lower prescription drug costs. An exact location has not been announced. Biden was last in New Hampshire in May when he visited Merrimack and Nashua.",
         "1": "Biden to visit New Hampshire to discuss prescription drug costs",
         "2": "Politics",
         "3": "https://www.bing.com/th?id=ODF.7hulKPNu1vgipcNf9tildw&pid=news",
         "4": "https://www.wmur.com/article/joe-biden-new-hampshire-drug-costs-101724/62642249",
         "5": "WMUR",
         "6": "2024-10-17T21:15:00.0000000Z"
        },
        {
         "0": "Certain Massachusetts families will be getting automatic discounts that could save them hundreds of dollars on utility bills.",
         "1": "New automatic discounts on utility bills will help some Massachusetts residents save big, governor says",
         "2": "Business",
         "3": "https://www.bing.com/th?id=ODF.lisIXhXb-iy9Ku1HbFcCEw&pid=news",
         "4": "https://www.msn.com/en-us/money/personalfinance/new-automatic-discounts-on-utility-bills-will-help-some-massachusetts-residents-save-big-governor-says/ar-AA1ssF9f",
         "5": "CBS Boston on MSN.com",
         "6": "2024-10-17T20:56:32.0000000Z"
        },
        {
         "0": "Latest Update On Final Boss Will Leave Fans Disappointed Not The Rock! 3 WWE Superstars Cody Rhodes Can Face At Wrestlemania 41 WWE News: Will Roman Reigns Make His Return To Smackdown This Week? WWE Raw Results, Highlights 7 October: Jey Uso, Gunther ...",
         "1": "India Vs New Zealand 1st Test Day 2 LIVE SCORE: India Off To Horror Start; Lose 3 Wickets Inside 10 Overs",
         "2": "Sports",
         "3": "N/A",
         "4": "https://www.timesnownews.com/sports/cricket/india-vs-new-zealand-1st-test-day-2-live-streaming-updates-bangalore-weather-forecast-updates-liveblog-114298976",
         "5": "timesnownews",
         "6": "2024-10-17T15:59:00.0000000Z"
        },
        {
         "0": "Sydney Sweeney shares a picture of her transformative makeover for her role as Christy Martin and exclusively tells Cosmo about the upcoming biopic.",
         "1": "Sydney Sweeney Totally Transforms Into Boxer Christy Martin in the First Look at Her Buzzy New Film",
         "2": "Entertainment",
         "3": "https://www.bing.com/th?id=ODF.6l3fMUjuba1Bx26WywDhqQ&pid=news",
         "4": "https://www.aol.com/sydney-sweeney-totally-transforms-boxer-174000302.html",
         "5": "AOL",
         "6": "2024-10-17T20:40:00.0000000Z"
        },
        {
         "0": "Brazilian food retailer Assai said on Thursday it now forecasts it will open some 10 new stores next year, half the prior estimate of about 20, according to a securities filing.",
         "1": "Brazil's Assai cuts estimate for 2025 new store openings",
         "2": "Business",
         "3": "https://www.bing.com/th?id=ODF.jFXbg3L7Ce_1pS4_IOR8CA&pid=news",
         "4": "https://www.reuters.com/business/retail-consumer/brazils-assai-cuts-estimate-2025-new-store-openings-2024-10-17/",
         "5": "Reuters",
         "6": "2024-10-17T20:02:00.0000000Z"
        },
        {
         "0": "Popular weight loss drugs like Ozempic might be able to help with substance abuse, according to new research on people addicted to opioids ... She can be seen daily on CBS News Philadelphia and Philly57.",
         "1": "How a weight loss drug is helping a New Jersey nurse overcome alcohol addiction",
         "2": "N/A",
         "3": "N/A",
         "4": "https://www.msn.com/en-us/health/other/how-a-weight-loss-drug-is-helping-a-new-jersey-nurse-overcome-alcohol-addiction/ar-AA1ssLdP",
         "5": "CBS News on MSN.com",
         "6": "2024-10-17T22:14:36.0000000Z"
        },
        {
         "0": "Wednesday brought the first ray of sunshine in what's been a very dark year for fans of the Chicago White Sox, with news that reviled owner Jerry Reinsdorf was exploring a sale of the team. As long as Reinsdorf was around,",
         "1": "White Sox could leave Chicago after latest surprising ownership development",
         "2": "Sports",
         "3": "https://www.bing.com/th?id=ODF.cQEwcF-r13r66Z2s8ymonw&pid=news",
         "4": "https://www.msn.com/en-us/news/us/white-sox-could-leave-chicago-after-latest-surprising-ownership-development/ar-AA1ssoyC",
         "5": "FanSided on MSN.com",
         "6": "2024-10-17T21:09:00.0000000Z"
        },
        {
         "0": "New Braunfels Police are seeking information about Richard Rosas, who is accused of murder in the fatal shooting of Chance Herron in an Applebee's parking lot.",
         "1": "New Braunfels police searching for Converse man in teen's slaying",
         "2": "N/A",
         "3": "https://www.bing.com/th?id=ODF.KPkYxfhccY8-IjUG9SG0-w&pid=news",
         "4": "https://www.expressnews.com/hill-country/article/new-braunfels-police-shooting-applebees-converse-19844724.php",
         "5": "San Antonio Express-News",
         "6": "2024-10-17T20:41:00.0000000Z"
        },
        {
         "0": "The Regional CEO of the American Red Cross of Arizona and New Mexico is heading to the front lines in Florida to assist those in need.",
         "1": "Red Cross CEO of Arizona & New Mexico assisting with hurricane recovery in Florida",
         "2": "N/A",
         "3": "https://www.bing.com/th?id=ODF.spQoP6jbtfvrDDK3c1NS7Q&pid=news",
         "4": "https://www.msn.com/en-us/news/other/red-cross-ceo-of-arizona-new-mexico-assisting-with-hurricane-recovery-in-florida/ar-AA1ss2K9",
         "5": "AZFamily on MSN.com",
         "6": "2024-10-17T22:53:00.0000000Z"
        },
        {
         "0": "An independent panel investigating the July 13 assassination attempt on former President Trump is now calling for extensive reform of the United States Secret Service.",
         "1": "New independent review calls for 'fundamental reform' of US Secret Service",
         "2": "N/A",
         "3": "https://www.bing.com/th?id=ODF.WYO3ATefKUevMjYClcyRrw&pid=news",
         "4": "https://www.wxyz.com/politics/new-independent-review-calls-for-fundamental-reform-of-us-secret-service",
         "5": "WXYZ",
         "6": "2024-10-17T23:18:00.0000000Z"
        },
        {
         "0": "Company officials say new projects have generated new contracts with both U.S. and global automakers and suppliers.",
         "1": "Waukesha's Husco International to hire 250 new workers",
         "2": "Business",
         "3": "https://www.bing.com/th?id=ODF.pM7kQ4aKmZpYSAUSPfOHnA&pid=news",
         "4": "https://www.fox6now.com/news/waukeshas-husco-international-hire-250-new-workers",
         "5": "fox6now",
         "6": "2024-10-17T21:37:00.0000000Z"
        },
        {
         "0": "On Thursday, two-semi trucks in New Bern were packed full of donations that will head towards Haywood County at the New Covenant Church. The lead pastor, Blake Stanbery, says Helene left a big mess.",
         "1": "The City of New Bern packs two semi-trucks with donations for Western North Carolina",
         "2": "LifeStyle",
         "3": "https://www.bing.com/th?id=ODF.6IT0AbGlzNl2lybSOH8Hkw&pid=news",
         "4": "https://www.witn.com/2024/10/17/city-new-bern-packs-two-semi-trucks-with-donations-western-north-carolina/",
         "5": "WITN",
         "6": "2024-10-17T23:15:00.0000000Z"
        },
        {
         "0": "Thursday Night Football on Oct. 17 gets Week 7 of the NFL season started as the New Orleans Saints face the Denver Broncos.",
         "1": "Watch Denver Broncos vs. New Orleans Saints free live stream",
         "2": "Sports",
         "3": "https://www.bing.com/th?id=ODF.KDaKm3KxrYAvNUXLp-n40w&pid=news",
         "4": "https://www.masslive.com/tv/2024/10/watch-denver-broncos-vs-new-orleans-saints-free-live-stream.html",
         "5": "MassLive",
         "6": "2024-10-17T22:06:00.0000000Z"
        },
        {
         "0": "HAMMOND, Ind. (WNDU) - The South Shore Line says its new Hammond Gateway Station will open and become operational for train service on Friday. Beginning Friday, passengers previously utilizing the Hammond Station will begin boarding and detraining all South Shore Line trains out of Hammond Gateway, which is located at 4530 Sheffield Avenue.",
         "1": "South Shore Line to open new Hammond Gateway Station on Friday",
         "2": "N/A",
         "3": "https://www.bing.com/th?id=ODF.4Wfdsnr3wLYnD_jZJnRmAw&pid=news",
         "4": "https://www.msn.com/en-us/autos/news/south-shore-line-to-open-new-hammond-gateway-station-on-friday/ar-AA1ssqzL",
         "5": "South Bend-Elkhart WNDU-TV on MSN.com",
         "6": "2024-10-17T20:21:00.0000000Z"
        },
        {
         "0": "Elijah Vue's mother and boyfriend face new charges in the boy's death Wisconsin authorities announced Thursday.",
         "1": "Elijah Vue's mother and her boyfriend face new charges in boy's death",
         "2": "N/A",
         "3": "https://www.bing.com/th?id=ODF.lisIXhXb-iy9Ku1HbFcCEw&pid=news",
         "4": "https://www.msn.com/en-us/news/crime/elijah-vues-mother-and-her-boyfriend-face-new-charges-in-boys-death/ar-AA1ssr87",
         "5": "CBS News on MSN.com",
         "6": "2024-10-17T21:48:00.0000000Z"
        },
        {
         "0": "The cast and creators of \"Phineas and Ferb\" reunite after a decade to announce the cast for the new season. Ashley Tisdale, Dan Povenmire, Vincent Martella and Alyson Stoner are among the list of returning stars.",
         "1": "Ashley Tisdale, Vincent Martella and Alyson Stoner are back for a new season of 'Phineas and Ferb'",
         "2": "Entertainment",
         "3": "https://www.bing.com/th?id=ODF.cy-PhYuyToKo5Mx4_OfJnw&pid=news",
         "4": "https://abc7.com/post/ashley-tisdale-vincent-martella-alyson-stoner-are-back-new-season-phineas-ferb/15438807/",
         "5": "ABC7",
         "6": "2024-10-17T21:45:00.0000000Z"
        },
        {
         "0": "Kimberly Shupe was killed in 2019 when her Bel Air townhome caught fire. Her sister is outraged that the woman convicted, Bobbie Sue Hodge, just had her conviction overturned on appeal. She wrote a letter saying she didnt like her lawyer and it was never addressed in court #wbal pic.twitter.com/DkdqSuSixb",
         "1": "Woman convicted of murder to get new trial after appeal due to dissatisfaction with public defenders",
         "2": "N/A",
         "3": "https://www.bing.com/th?id=ODF.ov06NvHKn7ghN2F28JfTHw&pid=news",
         "4": "https://www.wbaltv.com/article/woman-convicted-murder-trial-appeal-dissatisfaction-defenders/62640861",
         "5": "WBAL-TV",
         "6": "2024-10-17T21:15:00.0000000Z"
        },
        {
         "0": "Raygun's infamous Olympics routine has risen from the dead, just in time for Halloween , with tributes to the breakdancing already surfacing on Aussie lawns",
         "1": "Raygun set for dubious new honour as tributes to the Olympic breakdancing appear ahead of Halloween",
         "2": "N/A",
         "3": "https://www.bing.com/th?id=ODF._kZMPt4WNJFUpf58U6Qe-w&pid=news",
         "4": "https://www.dailymail.co.uk/sport/olympics/article-13972827/Raygun-set-dubious-new-honour-tributes-Olympic-breakdancing-appear-ahead-Halloween.html",
         "5": "Daily Mail",
         "6": "2024-10-17T21:44:00.0000000Z"
        },
        {
         "0": "In April 2022, the former reality star was arrested for domestic violence. Paulina Ben-Cohen sued him over “vicious” attacks nearly two years later.",
         "1": "‘Shahs of Sunset’ alum Mike Shouhed seen brutally attacking then-fiancée in shocking newly released video",
         "2": "Politics",
         "3": "https://www.bing.com/th?id=ODF.cbDT3vfpyoU3nKKCfZyv5A&pid=news",
         "4": "https://pagesix.com/2024/10/17/celebrity-news/shahs-of-sunsets-mike-shouhed-attacks-then-fiancee-in-newly-released-video/",
         "5": "Page Six",
         "6": "2024-10-17T20:12:00.0000000Z"
        },
        {
         "0": "The Lincoln Station Project is doing a final call for community input before the survey closes on Friday for a proposed new Lincoln Community Center on Paducah's Southside. Click to",
         "1": "Lincoln Station Project Board seeks public input to preserve former school's legacy",
         "2": "N/A",
         "3": "https://www.bing.com/th?id=ODF.0j_hrz_Am8ipxYiTzzGnyg&pid=news",
         "4": "https://www.wpsdlocal6.com/news/lincoln-station-project-board-seeks-public-input-to-preserve-former-schools-legacy/article_d32db6e4-8cd6-11ef-87e8-bf2c6fbe73fe.html",
         "5": "WPSD Local 6",
         "6": "2024-10-17T22:26:00.0000000Z"
        },
        {
         "0": "THEY think it’s all makeover . . . it is here, with this gallery of famous faces virtually unrecognisable in TV and movie roles. Hollywood starlet Sydney Sweeney, 27, has shocked fans by posting a",
         "1": "Irish star’s Penguin suit, actress’ Inglorious new show & heartthrob’s wrestler makeover… can you name them all?",
         "2": "Entertainment",
         "3": "https://www.bing.com/th?id=ODF.mZZguWnkRkVFPCoaQUmKEg&pid=news",
         "4": "https://www.thesun.co.uk/tv/31149688/sydney-sweeney-celebs-unrecognisable-roles/",
         "5": "The Sun",
         "6": "2024-10-17T21:15:00.0000000Z"
        },
        {
         "0": "Wondering when new episodes of Ghost come out? Here's when and where to watch Ghost streaming and live as it airs.",
         "1": "‘Ghosts’ Season 4 Release Schedule: When Do New Episodes Air?",
         "2": "Entertainment",
         "3": "https://www.bing.com/th?id=ODF.3zqB2pXRwlAc2EJ5gQwBtg&pid=news",
         "4": "https://www.thewrap.com/ghosts-season-4-release-date-time-episodes-schedule/",
         "5": "TheWrap",
         "6": "2024-10-17T23:15:00.0000000Z"
        },
        {
         "0": "Huawei's stunning Mate XT Ultimate Design phone and its display, which can fold into thirds, shows that the company's ability to innovate rivals Apple and Samsung.",
         "1": "I Was Astounded by This New 'Tri-Foldable' Phone… and Skeptical Too",
         "2": "ScienceAndTechnology",
         "3": "https://www.bing.com/th?id=ODF.vS3pKUrPWgIKkQBHtUkEPQ&pid=news",
         "4": "https://www.cnet.com/tech/mobile/i-was-astounded-by-this-new-tri-foldable-phone-and-skeptical-too/",
         "5": "CNET",
         "6": "2024-10-17T20:43:00.0000000Z"
        },
        {
         "0": "It's a side of Nix's personality that Broncos head coach Sean Payton enjoys and wants to utilize more as they head into a crucial Thursday night fixture against his old team, the New Orleans Saints. This is the first time that Nix will have to start a game on a short-week turnaround. It has it's own unique challenges.",
         "1": "Bo Nix on Sean Payton's Return to New Orleans: 'Just Another Game'",
         "2": "Sports",
         "3": "https://www.bing.com/th?id=ODF.DAlg1K6d6FcCd2ockBPdcQ&pid=news",
         "4": "https://www.msn.com/en-us/sports/nfl/bo-nix-on-sean-paytons-return-to-new-orleans-just-another-game/ar-AA1ss9Ou",
         "5": "Denver Broncos On SI on MSN.com",
         "6": "2024-10-17T21:02:00.0000000Z"
        },
        {
         "0": "Universal Studios Orlando has announced that Epic Universe, its highly-anticipated fourth theme park in Florida, will open sooner than expected - May 2025. Soon people will be able to purchase tickets to see the new theme park,",
         "1": "Epic Universe opening May 2025: When you can buy tickets, book hotel rooms, new lands and attractions",
         "2": "LifeStyle",
         "3": "https://www.bing.com/th?id=ODF.pPTO_qfDGMw5U2MDJ6xzpw&pid=news",
         "4": "https://www.msn.com/en-us/travel/tripideas/epic-universe-opening-may-2025-when-you-can-buy-tickets-book-hotel-rooms-new-lands-and-attractions/ar-AA1srljb",
         "5": "FOX 35 Orlando on MSN.com",
         "6": "2024-10-17T22:56:00.0000000Z"
        }
       ],
       "schema": [
        {
         "key": "0",
         "name": "title",
         "type": "string"
        },
        {
         "key": "1",
         "name": "description",
         "type": "string"
        },
        {
         "key": "2",
         "name": "category",
         "type": "string"
        },
        {
         "key": "3",
         "name": "image",
         "type": "string"
        },
        {
         "key": "4",
         "name": "url",
         "type": "string"
        },
        {
         "key": "5",
         "name": "provider",
         "type": "string"
        },
        {
         "key": "6",
         "name": "publishedDate",
         "type": "string"
        }
       ],
       "truncated": false
      },
      "wranglerEntryContext": {
       "candidateVariableNames": [
        "df_final"
       ],
       "dataframeType": "pyspark"
      }
     },
     "type": "Synapse.DataFrame"
    },
    "ddbee2af-e7a8-47a4-ad90-26d4b2994b7e": {
     "persist_state": {
      "view": {
       "chartOptions": {
        "aggregationType": "count",
        "binsNumber": 10,
        "categoryFieldKeys": [
         "0"
        ],
        "chartType": "bar",
        "evaluatesOverAllRecords": false,
        "isStacked": false,
        "seriesFieldKeys": [
         "0"
        ],
        "wordFrequency": "-1"
       },
       "tableOptions": {},
       "type": "details"
      }
     },
     "sync_state": {
      "isSummary": false,
      "language": "scala",
      "table": {
       "rows": [
        {
         "0": {
          "about": [
           {
            "name": "One Direction",
            "readLink": "https://api.bing.microsoft.com/api/v7/entities/41859a24-7710-c4fc-d160-faf4da82039d"
           },
           {
            "name": "Liam Payne",
            "readLink": "https://api.bing.microsoft.com/api/v7/entities/08fe6be2-f47b-4efe-9495-12737d3b911f"
           },
           {
            "name": "Buenos Aires",
            "readLink": "https://api.bing.microsoft.com/api/v7/entities/857a6814-3fe8-c414-84da-24018be87fce"
           },
           {
            "name": "NBC News",
            "readLink": "https://api.bing.microsoft.com/api/v7/entities/90fd2ef2-8123-de59-2b1f-ccd033454a4a"
           },
           {
            "name": "Chloe Melas",
            "readLink": "https://api.bing.microsoft.com/api/v7/entities/fb9803ee-0dcd-44a2-dc08-f1449fd582da"
           }
          ],
          "datePublished": "2024-10-17T23:15:00.0000000Z",
          "description": "Authorities revealed new details about the death of former One Direction singer Liam Payne in Buenos Aires. Officials said his death from a fall from a hotel window came minutes after the hotel called 911 about a guest who had overindulged on drugs and alcohol.",
          "image": {
           "thumbnail": {
            "contentUrl": "https://www.bing.com/th?id=OVFT.QwtkFQKNXLgWxZgRhrHM5C&pid=News",
            "height": 367,
            "width": 700
           }
          },
          "name": "New details in death of One Direction member Liam Payne",
          "provider": [
           {
            "_type": "Organization",
            "image": {
             "thumbnail": {
              "contentUrl": "https://www.bing.com/th?id=ODF.ighWNnrr5MMFUs8WKMme2A&pid=news"
             }
            },
            "name": "NBC News"
           }
          ],
          "url": "https://www.nbcnews.com/nightly-news/video/new-details-in-death-of-one-direction-member-liam-payne-222041669539",
          "video": {
           "name": "New details in death of One Direction member Liam Payne",
           "thumbnail": {
            "height": 292,
            "width": 520
           },
           "thumbnailUrl": "https://www.bing.com/th?id=OVF.7qvPH3oRD3rk%2FiSe9mdlnA&pid=News"
          }
         },
         "index": 0,
         "key": 0
        },
        {
         "0": {
          "about": [
           {
            "name": "Oakland Athletics",
            "readLink": "https://api.bing.microsoft.com/api/v7/entities/a22a9fcb-6508-cf68-4402-ed33455194a3"
           },
           {
            "name": "Las Vegas",
            "readLink": "https://api.bing.microsoft.com/api/v7/entities/26dfb75a-3573-4ff8-bbb3-b8cadaea23a8"
           },
           {
            "name": "Sacramento, California",
            "readLink": "https://api.bing.microsoft.com/api/v7/entities/4a1a8070-cc3d-4060-af9c-08ccbbca73d7"
           },
           {
            "name": "Las Vegas Review-Journal",
            "readLink": "https://api.bing.microsoft.com/api/v7/entities/8fae683e-3855-7b37-3689-7f9676e392db"
           },
           {
            "name": "Clark County, Nevada",
            "readLink": "https://api.bing.microsoft.com/api/v7/entities/3fe79fff-e771-c744-de67-4224eba7c2fd"
           }
          ],
          "datePublished": "2024-10-17T21:09:00.0000000Z",
          "description": "A new, detailed artist's rendering of the proposed stadium for the Athletics in Las Vegas, Nevada includes a first look at the new Bally's hotel/casino tower.",
          "image": {
           "thumbnail": {
            "contentUrl": "https://www.bing.com/th?id=OVFT.1zu8uSKBq7gRJq7ao7ahyy&pid=News",
            "height": 466,
            "width": 700
           }
          },
          "name": "MLB News: Fresh A's Stadium Renderings Include View of New Las Vegas Casino",
          "provider": [
           {
            "_type": "Organization",
            "image": {
             "thumbnail": {
              "contentUrl": "https://www.bing.com/th?id=ODF.uTJA7JDoTGKvff5o3jotfg&pid=news"
             }
            },
            "name": "MSN"
           }
          ],
          "url": "https://www.msn.com/en-us/sports/motorsports/mlb-news-fresh-a-s-stadium-renderings-include-view-of-new-las-vegas-casino/ar-AA1ssoZN"
         },
         "index": 1,
         "key": 1
        },
        {
         "0": {
          "about": [
           {
            "name": "Liam Payne",
            "readLink": "https://api.bing.microsoft.com/api/v7/entities/08fe6be2-f47b-4efe-9495-12737d3b911f"
           }
          ],
          "datePublished": "2024-10-17T17:30:08.0000000Z",
          "description": "Welcome to the live updates platform for Hindustan Times. Follow the major news updates, headlines and breaking news stories from the world of entertainment right here. See the latest developments in Bollywood,",
          "image": {
           "thumbnail": {
            "contentUrl": "https://www.bing.com/th?id=OVFT.eybydFk4R1ObzTq1kgqgPy&pid=News",
            "height": 309,
            "width": 549
           }
          },
          "name": "Latest entertainment News, Live Updates Today October 17, 2024: Is Liam Payne's death actually connected to Sean ‘Diddy’ Combs? Conspiracy theory says…",
          "provider": [
           {
            "_type": "Organization",
            "image": {
             "thumbnail": {
              "contentUrl": "https://www.bing.com/th?id=ODF.Caqyr0opfKlydldMITdwcw&pid=news"
             }
            },
            "name": "Hindustan Times on MSN.com"
           }
          ],
          "url": "https://www.msn.com/en-in/entertainment/other/latest-entertainment-news-live-updates-today-october-17-2024-is-liam-paynes-death-actually-connected-to-sean-diddy-combs-conspiracy-theory-says/ar-AA1ssauh"
         },
         "index": 2,
         "key": 2
        },
        {
         "0": {
          "about": [
           {
            "name": "Madhya Pradesh",
            "readLink": "https://api.bing.microsoft.com/api/v7/entities/bcbcd891-852b-6dac-1671-8d00b9eae5ea"
           }
          ],
          "datePublished": "2024-10-17T13:15:00.0000000Z",
          "description": "The Mukhyamantri Ladli Behna Yojana MP empowers eligible women in Madhya Pradesh with monthly financial aid for economic self-reliance. Check apply online date",
          "image": {
           "thumbnail": {
            "contentUrl": "https://www.bing.com/th?id=OVFT.nzaOLQCBa2PCYLH0rsRaVi&pid=News",
            "height": 393,
            "width": 700
           }
          },
          "name": "Ladli Behna Yojana 2024: Check Apply Online, Eligibility Criteria & Latest News",
          "provider": [
           {
            "_type": "Organization",
            "image": {
             "thumbnail": {
              "contentUrl": "https://www.bing.com/th?id=ODF.Pg1CxWVlDOcYEbJ-sTiq_g&pid=news"
             }
            },
            "name": "jagranjosh.com"
           }
          ],
          "url": "https://www.jagranjosh.com/articles/ladli-behna-yojna-mp-madhya-pradesh-1729171063-1"
         },
         "index": 3,
         "key": 3
        },
        {
         "0": {
          "about": [
           {
            "name": "New York City",
            "readLink": "https://api.bing.microsoft.com/api/v7/entities/60d5dc2b-c915-460b-b722-c9e3485499ca"
           },
           {
            "name": "Canada",
            "readLink": "https://api.bing.microsoft.com/api/v7/entities/370ed614-32e1-4326-a356-dc0a7dd56aaa"
           },
           {
            "name": "Extrajudicial killing",
            "readLink": "https://api.bing.microsoft.com/api/v7/entities/93bcd3e5-2576-f1a8-8d1a-eff177db9cb2"
           },
           {
            "name": "Department of Justice",
            "readLink": "https://api.bing.microsoft.com/api/v7/entities/b28458de-1324-8911-b01c-c1622a7cf159"
           },
           {
            "name": "Narendra Modi",
            "readLink": "https://api.bing.microsoft.com/api/v7/entities/04fee623-e9bd-ee4b-f30d-cad3c29199e4"
           },
           {
            "name": "India",
            "readLink": "https://api.bing.microsoft.com/api/v7/entities/85fa63d3-9596-adb9-b4eb-502273d84f56"
           },
           {
            "name": "Financial Times",
            "readLink": "https://api.bing.microsoft.com/api/v7/entities/941cdc8d-95cb-5ade-d349-63dc72d17314"
           },
           {
            "name": "Sikhs for Justice",
            "readLink": "https://api.bing.microsoft.com/api/v7/entities/d6a70116-a8f5-cf89-bf4e-22df8f2813e7"
           },
           {
            "name": "Netflix",
            "readLink": "https://api.bing.microsoft.com/api/v7/entities/424cb54b-41a3-c86b-d8e0-3ecef5609ce8"
           }
          ],
          "datePublished": "2024-10-17T22:42:00.0000000Z",
          "description": "The Department of Justice said Vikash Yadav, described as a “senior field officer” within Prime Minister Narendra Modi’s administration, directed a “murder-for-hire” scheme from India, in which a hitman was to be paid $100,000 for assassinating a US-Canadian citizen who was part of a separatist movement advocating for an independent Sikh state.",
          "name": "Live news: US charges Indian official over plot to kill Sikh activist in New York",
          "provider": [
           {
            "_type": "Organization",
            "image": {
             "thumbnail": {
              "contentUrl": "https://www.bing.com/th?id=ODF.CdBlognZ1u9nda-gVEOS_w&pid=news"
             }
            },
            "name": "The Financial Times"
           }
          ],
          "url": "https://www.ft.com/content/65cf7e16-63de-4c21-bfc7-4abadcda3ca6"
         },
         "index": 4,
         "key": 4
        },
        {
         "0": {
          "category": "Politics",
          "datePublished": "2024-10-17T22:17:00.0000000Z",
          "description": "At rallies across the country, former President Donald Trump has pledged to enact mass deportations of illegal immigrants, something he vowed to do during his first term but never fully realized.",
          "name": "Fox News Poll: Two-thirds favor deporting immigrants who live in U.S. illegally",
          "provider": [
           {
            "_type": "Organization",
            "image": {
             "thumbnail": {
              "contentUrl": "https://www.bing.com/th?id=ODF.mdH-v7wPV5psO7NVm756zg&pid=news"
             }
            },
            "name": "Fox News"
           }
          ],
          "url": "https://www.foxnews.com/official-polls/fox-news-poll-two-thirds-favor-deporting-immigrants-who-live-u-s-illegally"
         },
         "index": 5,
         "key": 5
        },
        {
         "0": {
          "about": [
           {
            "name": "Ukraine",
            "readLink": "https://api.bing.microsoft.com/api/v7/entities/ad599477-9e6d-4a0e-bab5-0edf9db7115a"
           },
           {
            "name": "White House",
            "readLink": "https://api.bing.microsoft.com/api/v7/entities/ef1d3513-cce2-159a-8d48-daa5ce9698db"
           },
           {
            "name": "Berlin",
            "readLink": "https://api.bing.microsoft.com/api/v7/entities/42784943-7c23-7672-5527-06f89b965cdf"
           },
           {
            "name": "World Health Organization",
            "readLink": "https://api.bing.microsoft.com/api/v7/entities/de47402a-ae16-1725-f842-dec4e31da591"
           },
           {
            "name": "Israel",
            "readLink": "https://api.bing.microsoft.com/api/v7/entities/1ffafed3-2b37-b871-c271-aa855d98449a"
           },
           {
            "name": "Polio vaccine",
            "readLink": "https://api.bing.microsoft.com/api/v7/entities/6c89a8ce-2170-a1a3-dd0e-8e5d08937a5a"
           }
          ],
          "category": "World",
          "datePublished": "2024-10-17T16:16:00.0000000Z",
          "description": "Stay here for real-time updates on breaking news from India and across the world that you can't miss: IndiGo flight makes emergency landing at Jaipur",
          "image": {
           "thumbnail": {
            "contentUrl": "https://www.bing.com/th?id=OVFT.yrSrWeTyfXB5y9J5AI9uGi&pid=News",
            "height": 379,
            "width": 700
           }
          },
          "name": "Breaking News Live: Senior IPS officer Praveen Vashista appointed as next special secretary for internal security",
          "provider": [
           {
            "_type": "Organization",
            "image": {
             "thumbnail": {
              "contentUrl": "https://www.bing.com/th?id=ODF.VBzHmoY4z9NL3FbRonyM1w&pid=news"
             }
            },
            "name": "Indiatimes"
           }
          ],
          "url": "https://timesofindia.indiatimes.com/india/latest-india-world-news-live-updates-today-breaking-news-15th-oct-2024/liveblog/114260977.cms"
         },
         "index": 6,
         "key": 6
        },
        {
         "0": {
          "about": [
           {
            "name": "Kamala Harris",
            "readLink": "https://api.bing.microsoft.com/api/v7/entities/ef5cf66f-32b7-7271-286a-8e8313eda5c5"
           },
           {
            "name": "Donald Trump",
            "readLink": "https://api.bing.microsoft.com/api/v7/entities/1a466af2-ed23-25bd-794d-1ca925e4681b"
           },
           {
            "name": "2024 United States presidential election",
            "readLink": "https://api.bing.microsoft.com/api/v7/entities/eb3d2900-d8f6-7103-31a3-4a9f285c366a"
           },
           {
            "name": "Pennsylvania",
            "readLink": "https://api.bing.microsoft.com/api/v7/entities/6304580e-c803-4266-818a-971619176547"
           },
           {
            "name": "Florida",
            "readLink": "https://api.bing.microsoft.com/api/v7/entities/5fece3f4-e8e8-4159-843e-f725a930ad50"
           },
           {
            "name": "Carter Center",
            "readLink": "https://api.bing.microsoft.com/api/v7/entities/2726104c-affa-7e1d-e650-3b0d4f633572"
           },
           {
            "name": "Jimmy Carter: Rock & Roll President",
            "readLink": "https://api.bing.microsoft.com/api/v7/entities/ebba07a5-d3ac-3f5c-6a45-6b1e75206f37"
           },
           {
            "name": "Georgia",
            "readLink": "https://api.bing.microsoft.com/api/v7/entities/4fe7777a-3d26-0e6a-243d-ae6d45c843c6"
           }
          ],
          "category": "Politics",
          "datePublished": "2024-10-17T08:15:00.0000000Z",
          "description": "With just 21 days remaining to cast votes this presidential season, Kamala Harris and Donald Trump are scrambling to win over key constituents as well as the other party's voters",
          "image": {
           "thumbnail": {
            "contentUrl": "https://www.bing.com/th?id=OVFT.8GfgWQFoFdMFEBY3Q5WXvi&pid=News",
            "height": 466,
            "width": 700
           }
          },
          "name": "The Latest: Harris and Trump Pivot to Turnout as Early Voting Begins",
          "provider": [
           {
            "_type": "Organization",
            "image": {
             "thumbnail": {
              "contentUrl": "https://www.bing.com/th?id=ODF.AlMAEy7MoWNz0OI_xSWQiw&pid=news"
             }
            },
            "name": "The Associated Press on MSN.com"
           }
          ],
          "url": "https://www.msn.com/en-us/news/politics/the-latest-harris-and-trump-pivot-to-turnout-as-early-voting-begins/ar-AA1sniLk"
         },
         "index": 7,
         "key": 7
        },
        {
         "0": {
          "about": [
           {
            "name": "Kamala Harris",
            "readLink": "https://api.bing.microsoft.com/api/v7/entities/ef5cf66f-32b7-7271-286a-8e8313eda5c5"
           },
           {
            "name": "Joe Biden",
            "readLink": "https://api.bing.microsoft.com/api/v7/entities/cad484f9-be75-7a78-12dd-16233f823cd7"
           },
           {
            "name": "Fox News",
            "readLink": "https://api.bing.microsoft.com/api/v7/entities/273e0477-30ed-3993-f232-f39244306805"
           },
           {
            "name": "Bret Baier",
            "readLink": "https://api.bing.microsoft.com/api/v7/entities/9b86aac2-db97-40ed-291a-956e112ee639"
           },
           {
            "name": "Donald Trump",
            "readLink": "https://api.bing.microsoft.com/api/v7/entities/1a466af2-ed23-25bd-794d-1ca925e4681b"
           }
          ],
          "category": "Politics",
          "datePublished": "2024-10-17T21:36:00.0000000Z",
          "description": "Kamala Harris and Fox News host Bret Baier sparred repeatedly over immigration, Donald Trump and Harris’ record as vice president in a televised interview Wednesday night. The two frequently spoke over one another in the contentious exchange,",
          "image": {
           "thumbnail": {
            "contentUrl": "https://www.bing.com/th?id=OVFT.mOYhnpbW4Of5UT97bHHHsC&pid=News",
            "height": 466,
            "width": 700
           }
          },
          "name": "Kamala Harris spars over Biden administration's record in Fox News interview",
          "provider": [
           {
            "_type": "Organization",
            "image": {
             "thumbnail": {
              "contentUrl": "https://www.bing.com/th?id=ODF.nYADEgS75l8rdCg9D-p_OQ&pid=news"
             }
            },
            "name": "YAHOO!News"
           }
          ],
          "url": "https://news.yahoo.com/news/kamala-harris-sits-interview-conservative-203700248.html"
         },
         "index": 8,
         "key": 8
        },
        {
         "0": {
          "about": [
           {
            "name": "News 12 Networks",
            "readLink": "https://api.bing.microsoft.com/api/v7/entities/a0c67096-b1e5-44bf-3c53-10c7be80a7d6"
           },
           {
            "name": "Election day",
            "readLink": "https://api.bing.microsoft.com/api/v7/entities/6bc2c73d-9a31-34df-0fa2-038918b833c2"
           },
           {
            "name": "Ballotpedia",
            "readLink": "https://api.bing.microsoft.com/api/v7/entities/00fbfaf1-5627-e65c-eb19-1ce97228f825"
           }
          ],
          "datePublished": "2024-10-17T20:14:00.0000000Z",
          "description": "As you get ready to head to the polls on Nov. 5, News 12 gives you the tools and resources you need to make an informed decision on Election Day.",
          "image": {
           "thumbnail": {
            "contentUrl": "https://www.bing.com/th?id=OVFT.gxrmiU442KQ9mDqgqOF0fS&pid=News",
            "height": 393,
            "width": 700
           }
          },
          "name": "News 12 New Jersey 2024 Voters Guide",
          "provider": [
           {
            "_type": "Organization",
            "image": {
             "thumbnail": {
              "contentUrl": "https://www.bing.com/th?id=ODF.pLW_qbtRH5jPxsvrBSqZ4A&pid=news"
             }
            },
            "name": "News 12 Networks"
           }
          ],
          "url": "https://newjersey.news12.com/category/news-12-new-jersey-2024-voters-guide"
         },
         "index": 9,
         "key": 9
        },
        {
         "0": {
          "about": [
           {
            "name": "Kamala Harris",
            "readLink": "https://api.bing.microsoft.com/api/v7/entities/ef5cf66f-32b7-7271-286a-8e8313eda5c5"
           },
           {
            "name": "Joe Biden",
            "readLink": "https://api.bing.microsoft.com/api/v7/entities/cad484f9-be75-7a78-12dd-16233f823cd7"
           },
           {
            "name": "Fox News",
            "readLink": "https://api.bing.microsoft.com/api/v7/entities/273e0477-30ed-3993-f232-f39244306805"
           },
           {
            "name": "Joe Biden 2020 presidential campaign",
            "readLink": "https://api.bing.microsoft.com/api/v7/entities/930c366b-8c46-b97d-d826-abb8f0807dcb"
           },
           {
            "name": "Bret Baier",
            "readLink": "https://api.bing.microsoft.com/api/v7/entities/9b86aac2-db97-40ed-291a-956e112ee639"
           },
           {
            "name": "Special Report with Bret Baier",
            "readLink": "https://api.bing.microsoft.com/api/v7/entities/4fefcd96-bf77-de10-32f5-d030466a564b"
           },
           {
            "name": "Pennsylvania",
            "readLink": "https://api.bing.microsoft.com/api/v7/entities/6304580e-c803-4266-818a-971619176547"
           }
          ],
          "category": "Politics",
          "datePublished": "2024-10-17T22:12:00.0000000Z",
          "description": "\"I represent a new generation of leadership,” the vice president said in her first interview with the conservative cable news network.",
          "image": {
           "thumbnail": {
            "contentUrl": "https://www.bing.com/th?id=OVFT.N5VCUfmmo0K-D2u-7waJuC&pid=News",
            "height": 350,
            "width": 700
           }
          },
          "name": "Kamala Harris Says She Won't Be 'A Continuation' Of Joe Biden In Combative Fox News Interview",
          "provider": [
           {
            "_type": "Organization",
            "image": {
             "thumbnail": {
              "contentUrl": "https://www.bing.com/th?id=ODF.nYADEgS75l8rdCg9D-p_OQ&pid=news"
             }
            },
            "name": "YAHOO!News"
           }
          ],
          "url": "https://news.yahoo.com/news/kamala-harris-says-she-wont-231355013.html",
          "video": {
           "name": "Kamala Harris Says She Won't Be 'A Continuation' Of Joe Biden In Combative Fox News Interview",
           "thumbnail": {
            "height": 260,
            "width": 520
           },
           "thumbnailUrl": "https://www.bing.com/th?id=OVF.2BPQDIZaL0OvG3PHE%2BObqQ&pid=News"
          }
         },
         "index": 10,
         "key": 10
        },
        {
         "0": {
          "about": [
           {
            "name": "Cervical cancer",
            "readLink": "https://api.bing.microsoft.com/api/v7/entities/30c5a0c0-8250-047b-a60d-c59cd8615d39"
           },
           {
            "name": "Chemotherapy",
            "readLink": "https://api.bing.microsoft.com/api/v7/entities/0588906e-398e-d5dd-d7b8-2f97213f2c68"
           },
           {
            "name": "University College London",
            "readLink": "https://api.bing.microsoft.com/api/v7/entities/20b640eb-2f1a-2b91-14f3-348b9a1bf371"
           },
           {
            "name": "Institute of Cancer Research",
            "readLink": "https://api.bing.microsoft.com/api/v7/entities/4462a52b-7ca1-8918-0caf-bf153ff41561"
           },
           {
            "name": "Cancer Research UK",
            "readLink": "https://api.bing.microsoft.com/api/v7/entities/5fba90c1-9539-089b-363e-0392a9a891cb"
           },
           {
            "name": "The Lancet",
            "readLink": "https://api.bing.microsoft.com/api/v7/entities/a0261722-9d45-23d6-db93-d2e25023c574"
           },
           {
            "name": "India",
            "readLink": "https://api.bing.microsoft.com/api/v7/entities/85fa63d3-9596-adb9-b4eb-502273d84f56"
           },
           {
            "name": "Mexico",
            "readLink": "https://api.bing.microsoft.com/api/v7/entities/8e475659-4bdc-d912-6494-affce0096bc1"
           }
          ],
          "datePublished": "2024-10-17T12:46:00.0000000Z",
          "description": "The researchers found that 80% of those who got a short course of chemotherapy first lived at least five more years, and 72% did not have any cancer return or spread. In the control group, 72% survived at least five years, and 64% had no cancer return or spread.",
          "image": {
           "thumbnail": {
            "contentUrl": "https://www.bing.com/th?id=OVFT._5F7RqYi-OGkqeqMEZiTcS&pid=News",
            "height": 200,
            "width": 300
           }
          },
          "name": "New Drug Regimen Extends Survival for Cervical Cancer Patients",
          "provider": [
           {
            "_type": "Organization",
            "image": {
             "thumbnail": {
              "contentUrl": "https://www.bing.com/th?id=ODF.ZUvKX7lBhXaLGhOrD6YbBg&pid=news"
             }
            },
            "name": "U.S. News & World Report"
           }
          ],
          "url": "https://www.usnews.com/news/health-news/articles/2024-10-17/new-drug-regimen-extends-survival-for-cervical-cancer-patients"
         },
         "index": 11,
         "key": 11
        },
        {
         "0": {
          "about": [
           {
            "name": "India",
            "readLink": "https://api.bing.microsoft.com/api/v7/entities/85fa63d3-9596-adb9-b4eb-502273d84f56"
           },
           {
            "name": "M. Chinnaswamy Stadium",
            "readLink": "https://api.bing.microsoft.com/api/v7/entities/85ec3897-c3ed-4c21-dd73-318a80fbd468"
           },
           {
            "name": "Bengaluru FC",
            "readLink": "https://api.bing.microsoft.com/api/v7/entities/e3027fb3-3f4b-4c71-e40c-e07ddcf89bd3"
           },
           {
            "name": "Rohit Sharma",
            "readLink": "https://api.bing.microsoft.com/api/v7/entities/56bcfaf9-df53-4e77-1e38-f8a7da102c63"
           },
           {
            "name": "Virat Kohli",
            "readLink": "https://api.bing.microsoft.com/api/v7/entities/43175d39-e52e-d4e2-5e46-96746197d717"
           },
           {
            "name": "Yashasvi Jaiswal",
            "readLink": "https://api.bing.microsoft.com/api/v7/entities/b9caab3c-42b5-cded-c819-aa631b2b7604"
           },
           {
            "name": "Shubman Gill",
            "readLink": "https://api.bing.microsoft.com/api/v7/entities/edb1e1bb-362e-16c4-9c3f-7c38b60ee78e"
           },
           {
            "name": "Rishabh Pant",
            "readLink": "https://api.bing.microsoft.com/api/v7/entities/3125f58f-7865-579e-ba20-20d0830a715c"
           },
           {
            "name": "Bangladesh",
            "readLink": "https://api.bing.microsoft.com/api/v7/entities/c5fa012f-7347-0857-872b-2a5efc180846"
           },
           {
            "name": "Ravichandran Ashwin",
            "readLink": "https://api.bing.microsoft.com/api/v7/entities/f12319f5-d9b7-32fe-bc06-2528fff3e579"
           },
           {
            "name": "Jasprit Bumrah",
            "readLink": "https://api.bing.microsoft.com/api/v7/entities/cce384da-9bd4-421b-80c7-fe49497597e8"
           },
           {
            "name": "New Zealand",
            "readLink": "https://api.bing.microsoft.com/api/v7/entities/6517d967-9362-4c0d-83d2-cf369fa5fcda"
           },
           {
            "name": "Kane Williamson",
            "readLink": "https://api.bing.microsoft.com/api/v7/entities/da378c4a-6410-742d-bf89-3fb953c66464"
           }
          ],
          "category": "LifeStyle",
          "datePublished": "2024-10-17T02:36:00.0000000Z",
          "description": "The first day of the IND vs NZ Test match has been called of due to rain without a single ball being bowled, The weather does not look promising for the remainder of the Test either",
          "image": {
           "thumbnail": {
            "contentUrl": "https://www.bing.com/th?id=OVFT.JHhBpdJT9ysy40DCXrqX6C&pid=News",
            "height": 393,
            "width": 700
           }
          },
          "name": "India vs New Zealand highlights, 1st Test: Play called off in Bengaluru",
          "provider": [
           {
            "_type": "Organization",
            "image": {
             "thumbnail": {
              "contentUrl": "https://www.bing.com/th?id=ODF.KAwemXIpD5l2nQRDmYLy2w&pid=news"
             }
            },
            "name": "The Indian Express"
           }
          ],
          "url": "https://indianexpress.com/article/sports/cricket/india-vs-new-zealand-live-score-1st-test-ind-vs-nz-latest-scorecard-updates-9621892/"
         },
         "index": 12,
         "key": 12
        },
        {
         "0": {
          "about": [
           {
            "name": "Prince George of Cambridge",
            "readLink": "https://api.bing.microsoft.com/api/v7/entities/d3ecdc09-7e09-4630-a38d-dc6806dc26b5"
           },
           {
            "name": "Prince Louis of Cambridge",
            "readLink": "https://api.bing.microsoft.com/api/v7/entities/3780699d-4f02-8170-76e2-af7763353501"
           },
           {
            "name": "Cocker Spaniel",
            "readLink": "https://api.bing.microsoft.com/api/v7/entities/60c95830-98a7-6afc-0222-ab90862353c5"
           },
           {
            "name": "Prince William, Duke of Cambridge",
            "readLink": "https://api.bing.microsoft.com/api/v7/entities/026387b6-916a-4fd2-91c9-c67298468905"
           }
          ],
          "datePublished": "2024-10-17T22:01:00.0000000Z",
          "description": "Prince George , Princess Charlotte , and Prince Louis may soon welcome a new addition to their family, according to reports. The family welcomed a cocker spaniel puppy named Orla in 2021 and Prince William has reportedly shared that the children could soon expect new puppies after going through a “tough year”.",
          "image": {
           "thumbnail": {
            "contentUrl": "https://www.bing.com/th?id=OVFT.m04JO8JUz04ceMDLCeVazi&pid=News",
            "height": 367,
            "width": 700
           }
          },
          "name": "Prince George, Charlotte, and Louis eagerly anticipate new arrivals after 'tough year'",
          "provider": [
           {
            "_type": "Organization",
            "image": {
             "thumbnail": {
              "contentUrl": "https://www.bing.com/th?id=ODF.B6nvPq26UTBuCaXH6tX71w&pid=news"
             }
            },
            "name": "Daily Record"
           }
          ],
          "url": "https://www.dailyrecord.co.uk/entertainment/celebrity/prince-george-charlotte-louis-eagerly-33914608"
         },
         "index": 13,
         "key": 13
        },
        {
         "0": {
          "about": [
           {
            "name": "Hyundai Motor India",
            "readLink": "https://api.bing.microsoft.com/api/v7/entities/058d2904-b7ee-799c-9044-346729b2948d"
           },
           {
            "name": "Mumbai",
            "readLink": "https://api.bing.microsoft.com/api/v7/entities/fbbc8d69-667a-e1ff-34bf-e524be01025d"
           },
           {
            "name": "Three Sixty West",
            "readLink": "https://api.bing.microsoft.com/api/v7/entities/d1d8d007-4b4e-4975-8170-35f46c275c71"
           }
          ],
          "category": "Business",
          "datePublished": "2024-10-17T10:30:00.0000000Z",
          "description": "Hyundai Motor IPO's Grey Market Premium (GMP) is significantly subdued at under 1%. The issue closes on October 17 and all eyes would be on the allotment status once the issue ends.",
          "image": {
           "thumbnail": {
            "contentUrl": "https://www.bing.com/th?id=OVFT.rk_TEbGL8Kbs4sfddvmDnS&pid=News",
            "height": 393,
            "width": 700
           }
          },
          "name": "Hyundai IPO GMP Allotment status Live Updates: Check latest GMP, allotment, listing, price band; IPO fully subscribed",
          "provider": [
           {
            "_type": "Organization",
            "image": {
             "thumbnail": {
              "contentUrl": "https://www.bing.com/th?id=ODF.7h8TdLFTlOnT9gKVUsDMyQ&pid=news"
             }
            },
            "name": "The Financial Express"
           }
          ],
          "url": "https://www.financialexpress.com/market/ipo-news-hyundai-motor-india-ipo-2024-live-updates-today-gmp-allotment-status-subscription-review-ipo-news-3642011/"
         },
         "index": 14,
         "key": 14
        },
        {
         "0": {
          "about": [
           {
            "name": "RollerCoaster Tycoon",
            "readLink": "https://api.bing.microsoft.com/api/v7/entities/d07c05ad-6dcb-d38d-f990-f2e31cfaf482"
           },
           {
            "name": "Frontier Developments",
            "readLink": "https://api.bing.microsoft.com/api/v7/entities/bbef1863-a3a9-7a39-c426-626580bc5dc1"
           },
           {
            "name": "Planet Coaster",
            "readLink": "https://api.bing.microsoft.com/api/v7/entities/21cc0aa1-dcde-b04d-49b1-283a2976468d"
           }
          ],
          "category": "ScienceAndTechnology",
          "datePublished": "2024-10-17T08:48:00.0000000Z",
          "description": "Planet Coaster 2 is set to drop on all of its platforms on 6th November 2024. Not a long wait at all! Sign up for our gaming newsletter to receive the latest insights, reviews and expert recommendations",
          "image": {
           "thumbnail": {
            "contentUrl": "https://www.bing.com/th?id=OVFT.XwBwzlmNYOiDx7dIT83BUi&pid=News",
            "height": 367,
            "width": 700
           }
          },
          "name": "Planet Coaster 2 release date, pre-order and latest news",
          "provider": [
           {
            "_type": "Organization",
            "image": {
             "thumbnail": {
              "contentUrl": "https://www.bing.com/th?id=ODF.HVIMpkpJ5pX4_z5dj2pDfw&pid=news"
             }
            },
            "name": "Radio Times"
           }
          ],
          "url": "https://www.radiotimes.com/technology/gaming/planet-coaster-2-release/"
         },
         "index": 15,
         "key": 15
        },
        {
         "0": {
          "about": [
           {
            "name": "United States Secret Service",
            "readLink": "https://api.bing.microsoft.com/api/v7/entities/7790583a-9704-5339-2155-84151b887109"
           },
           {
            "name": "NBC News",
            "readLink": "https://api.bing.microsoft.com/api/v7/entities/90fd2ef2-8123-de59-2b1f-ccd033454a4a"
           },
           {
            "name": "Donald Trump",
            "readLink": "https://api.bing.microsoft.com/api/v7/entities/1a466af2-ed23-25bd-794d-1ca925e4681b"
           }
          ],
          "category": "Politics",
          "datePublished": "2024-10-17T19:36:49.0000000Z",
          "description": "In an exclusive interview with NBC News, Ronald Rowe Jr. said he worried about “demoralized” Secret Service agents who are being pushed to the brink.",
          "image": {
           "thumbnail": {
            "contentUrl": "https://www.bing.com/th?id=OVFT.aGlWb2MUtymucyj5Zxgd9S&pid=News",
            "height": 367,
            "width": 700
           }
          },
          "name": "Acting Secret Service director responds to critical new report about security failures",
          "provider": [
           {
            "_type": "Organization",
            "image": {
             "thumbnail": {
              "contentUrl": "https://www.bing.com/th?id=ODF.ighWNnrr5MMFUs8WKMme2A&pid=news"
             }
            },
            "name": "NBC News on MSN.com"
           }
          ],
          "url": "https://www.msn.com/en-us/news/politics/acting-secret-service-director-responds-to-critical-new-report-about-security-failures/ar-AA1ssjgQ",
          "video": {
           "name": "Acting Secret Service director responds to critical new report about security failures",
           "thumbnail": {
            "height": 273,
            "width": 520
           },
           "thumbnailUrl": "https://www.bing.com/th?id=OVF.Y9JgyHeAaLcXsg7np3doGg&pid=News"
          }
         },
         "index": 16,
         "key": 16
        },
        {
         "0": {
          "about": [
           {
            "name": "Donald Trump",
            "readLink": "https://api.bing.microsoft.com/api/v7/entities/1a466af2-ed23-25bd-794d-1ca925e4681b"
           },
           {
            "name": "Arizona",
            "readLink": "https://api.bing.microsoft.com/api/v7/entities/bf973f46-5962-4997-a7ba-a05f1aa2a9f9"
           },
           {
            "name": "Abortion",
            "readLink": "https://api.bing.microsoft.com/api/v7/entities/e68240d7-50b4-4edf-b17a-54f2d54ffebc"
           },
           {
            "name": "The New York Times",
            "readLink": "https://api.bing.microsoft.com/api/v7/entities/614b60a2-4ccd-3ecb-15dc-6e2fba54ed28"
           },
           {
            "name": "The Philadelphia Inquirer",
            "readLink": "https://api.bing.microsoft.com/api/v7/entities/8dd895ce-173b-e1d5-2615-a5efc703619f"
           },
           {
            "name": "Siena College",
            "readLink": "https://api.bing.microsoft.com/api/v7/entities/38fc1f25-24e4-f324-73c3-9c35805e9044"
           },
           {
            "name": "FiveThirtyEight",
            "readLink": "https://api.bing.microsoft.com/api/v7/entities/486e9989-63d9-720c-e97d-c10b2923174a"
           },
           {
            "name": "The Wall Street Journal",
            "readLink": "https://api.bing.microsoft.com/api/v7/entities/70834f76-d913-bf85-87a6-b9386945a646"
           }
          ],
          "category": "Politics",
          "datePublished": "2024-10-17T22:28:00.0000000Z",
          "description": "President Joe Biden narrowly won the battleground state in 2020 over Trump, who sought to overturn election results in the state.",
          "image": {
           "thumbnail": {
            "contentUrl": "https://www.bing.com/th?id=OVFT.twYq9P5FyOpAe4egwoUrcy&pid=News",
            "height": 466,
            "width": 700
           }
          },
          "name": "Arizona 2024 Trump-Harris Polls: Trump Up 3 Points In Latest Survey",
          "provider": [
           {
            "_type": "Organization",
            "image": {
             "thumbnail": {
              "contentUrl": "https://www.bing.com/th?id=ODF.U6nYa4Huf-RFEhjg-V4hNg&pid=news"
             }
            },
            "name": "Forbes"
           }
          ],
          "url": "https://www.forbes.com/sites/antoniopequenoiv/2024/10/17/arizona-2024-trump-harris-polls-trump-up-3-points-in-latest-survey/"
         },
         "index": 17,
         "key": 17
        },
        {
         "0": {
          "about": [
           {
            "name": "Vanderpump Rules",
            "readLink": "https://api.bing.microsoft.com/api/v7/entities/bf2d5f3d-434c-4402-ada1-630fa78533e6"
           },
           {
            "name": "Something About Her",
            "readLink": "https://api.bing.microsoft.com/api/v7/entities/5c145280-4bd5-4af6-b9cc-3f95789ed278"
           },
           {
            "name": "Bravo",
            "readLink": "https://api.bing.microsoft.com/api/v7/entities/07040c94-3c74-9b84-b446-88a1782c7c88"
           }
          ],
          "category": "Entertainment",
          "datePublished": "2024-10-17T20:13:01.0000000Z",
          "description": "Katie Maloney is all smiles and it's not just because of her successful sandwich shop — aptly named Something About Her. The 37-year-old Vanderpump Rules alum just went public with some big personal news: she's got a new boyfriend and she's totally \"in love.\" The reveal came on her ex-husband Tom Schwartz's birthday.",
          "image": {
           "thumbnail": {
            "contentUrl": "https://www.bing.com/th?id=OVFT.BHtANKwiTH6yFhZeMFm96i&pid=News",
            "height": 466,
            "width": 700
           }
          },
          "name": "Vanderpump Rules' Katie Maloney Gushes Over New Boyfriend",
          "provider": [
           {
            "_type": "Organization",
            "image": {
             "thumbnail": {
              "contentUrl": "https://www.bing.com/th?id=ODF.uTJA7JDoTGKvff5o3jotfg&pid=news"
             }
            },
            "name": "Newsweek on MSN.com"
           }
          ],
          "url": "https://www.msn.com/en-us/tv/celebrity/vanderpump-rules-katie-maloney-gushes-over-new-boyfriend/ar-AA1ssmnv",
          "video": {
           "name": "Vanderpump Rules' Katie Maloney gushes over new boyfriend",
           "thumbnail": {
            "height": 346,
            "width": 520
           },
           "thumbnailUrl": "https://www.bing.com/th?id=OVF.AZR6kM2zfLh0iJuwdTb2Xw&pid=News"
          }
         },
         "index": 18,
         "key": 18
        },
        {
         "0": {
          "about": [
           {
            "name": "Arizona",
            "readLink": "https://api.bing.microsoft.com/api/v7/entities/bf973f46-5962-4997-a7ba-a05f1aa2a9f9"
           },
           {
            "name": "CBS News",
            "readLink": "https://api.bing.microsoft.com/api/v7/entities/0a985fc5-6c6a-ff51-ed2c-b928b1cb09d2"
           },
           {
            "name": "YouGov",
            "readLink": "https://api.bing.microsoft.com/api/v7/entities/08c56f6d-85d5-44bc-4abf-00f8d41e276d"
           }
          ],
          "category": "LifeStyle",
          "datePublished": "2024-10-17T22:26:00.0000000Z",
          "description": "Former President Trump is up by 3 points over his rival Vice President Harris in a Arizona poll released on Thursday.  Trump garnered 51 percent over Harris’s 48 percent among likely voters",
          "image": {
           "thumbnail": {
            "contentUrl": "https://www.bing.com/th?id=OVFT.9wySAKosf2cfYRgD6rPhuC&pid=News",
            "height": 393,
            "width": 700
           }
          },
          "name": "Trump up by 3 points over Harris in new Arizona poll",
          "provider": [
           {
            "_type": "Organization",
            "image": {
             "thumbnail": {
              "contentUrl": "https://www.bing.com/th?id=ODF.BO7AWyiZH_p5UNPH6KXa_g&pid=news"
             }
            },
            "name": "The Hill"
           }
          ],
          "url": "https://thehill.com/homenews/campaign/4939928-trump-harris-arizona-cbs-poll/"
         },
         "index": 19,
         "key": 19
        },
        {
         "0": {
          "about": [
           {
            "name": "Kamala Harris",
            "readLink": "https://api.bing.microsoft.com/api/v7/entities/ef5cf66f-32b7-7271-286a-8e8313eda5c5"
           },
           {
            "name": "Donald Trump",
            "readLink": "https://api.bing.microsoft.com/api/v7/entities/1a466af2-ed23-25bd-794d-1ca925e4681b"
           },
           {
            "name": "New Hampshire",
            "readLink": "https://api.bing.microsoft.com/api/v7/entities/9ca71997-cc97-46eb-8911-fac32f80b0b1"
           },
           {
            "name": "2024 United States presidential election",
            "readLink": "https://api.bing.microsoft.com/api/v7/entities/eb3d2900-d8f6-7103-31a3-4a9f285c366a"
           },
           {
            "name": "University of Massachusetts Lowell",
            "readLink": "https://api.bing.microsoft.com/api/v7/entities/63f23f75-b529-a79e-9639-d88eb1f4bd2c"
           },
           {
            "name": "Jill Stein",
            "readLink": "https://api.bing.microsoft.com/api/v7/entities/d871183a-86c0-4d16-ad2b-9c13a75e75d9"
           },
           {
            "name": "Saint Anselm College",
            "readLink": "https://api.bing.microsoft.com/api/v7/entities/5800fa73-9b2d-a8aa-434c-573db82ae571"
           }
          ],
          "category": "Politics",
          "datePublished": "2024-10-17T21:05:00.0000000Z",
          "description": "Kamala Harris continues to hold a lead over Donald Trump in New Hampshire, according to new poll. Market Basket is top grocery store in a landslide.",
          "image": {
           "thumbnail": {
            "contentUrl": "https://www.bing.com/th?id=OVFT.It3vm6fV5yurORwcghf1Yy&pid=News",
            "height": 394,
            "width": 700
           }
          },
          "name": "Kamala Harris holds lead over Donald Trump in NH in latest poll",
          "provider": [
           {
            "_type": "Organization",
            "image": {
             "thumbnail": {
              "contentUrl": "https://www.bing.com/th?id=ODF.m1iod5ODNIyyKu23kGIllQ&pid=news"
             }
            },
            "name": "USA Today"
           }
          ],
          "url": "https://www.usatoday.com/story/news/politics/elections/2024/10/17/kamala-harris-leads-donald-trump-nh-poll-umass-lowell/75714742007/"
         },
         "index": 20,
         "key": 20
        },
        {
         "0": {
          "about": [
           {
            "name": "Hamas",
            "readLink": "https://api.bing.microsoft.com/api/v7/entities/fd56a0c1-5b09-6e40-09dc-a8abf5069c30"
           },
           {
            "name": "Yahya Sinwar",
            "readLink": "https://api.bing.microsoft.com/api/v7/entities/10611261-e7ad-2ac1-e32e-1cac8bdc5fa7"
           },
           {
            "name": "Gaza Strip",
            "readLink": "https://api.bing.microsoft.com/api/v7/entities/90eb9ff6-60ad-da43-d3fe-1ee3e3cb775a"
           },
           {
            "name": "Israel",
            "readLink": "https://api.bing.microsoft.com/api/v7/entities/1ffafed3-2b37-b871-c271-aa855d98449a"
           }
          ],
          "category": "World",
          "datePublished": "2024-10-17T22:19:00.0000000Z",
          "description": "Hamas's leader Yahya Sinwar has been killed in an attack in Gaza, Israel's foreign minister has confirmed. The Israeli military has released footage claiming to show his final moments. Watch Sky News live below as we bring you the latest updates from the Middle East.",
          "image": {
           "thumbnail": {
            "contentUrl": "https://www.bing.com/th?id=OVFT.ysFvdUbFnmQJHp2mJstxQi&pid=News",
            "height": 393,
            "width": 700
           }
          },
          "name": "Middle East latest: Hamas leader confirmed dead; Israeli military releases video of his 'final moments'",
          "provider": [
           {
            "_type": "Organization",
            "image": {
             "thumbnail": {
              "contentUrl": "https://www.bing.com/th?id=ODF.Eg62H9DIbo-JYPI6GpAgGA&pid=news"
             }
            },
            "name": "Sky"
           }
          ],
          "url": "https://news.sky.com/story/middle-east-latest-hamas-leader-confirmed-dead-israeli-military-releases-video-of-his-final-moments-12978800"
         },
         "index": 21,
         "key": 21
        },
        {
         "0": {
          "about": [
           {
            "name": "China",
            "readLink": "https://api.bing.microsoft.com/api/v7/entities/5fcc3d97-0cf2-94e5-6dad-cd70e387bd69"
           },
           {
            "name": "London",
            "readLink": "https://api.bing.microsoft.com/api/v7/entities/8e0ba7b6-4225-fa8a-6369-1b5294e602a5"
           },
           {
            "name": "David Lammy",
            "readLink": "https://api.bing.microsoft.com/api/v7/entities/64d4059c-5830-d40a-7759-a83fef79ea55"
           },
           {
            "name": "Beijing",
            "readLink": "https://api.bing.microsoft.com/api/v7/entities/e43bc499-902a-5deb-aced-aa4a247e6822"
           },
           {
            "name": "Ukraine",
            "readLink": "https://api.bing.microsoft.com/api/v7/entities/ad599477-9e6d-4a0e-bab5-0edf9db7115a"
           },
           {
            "name": "Wang Yi",
            "readLink": "https://api.bing.microsoft.com/api/v7/entities/7ef0df52-29c6-097d-541b-210ed25c305b"
           },
           {
            "name": "Shanghai",
            "readLink": "https://api.bing.microsoft.com/api/v7/entities/29ece984-463e-6074-60e1-83f8c012ef70"
           },
           {
            "name": "United Nations Security Council",
            "readLink": "https://api.bing.microsoft.com/api/v7/entities/b503a3ad-8e42-29ad-4feb-b4a2b81ac7c6"
           }
          ],
          "category": "World",
          "datePublished": "2024-10-17T22:06:00.0000000Z",
          "description": "Foreign minister David Lammy will arrive in China on Friday seeking to demonstrate Britain's new government is taking a pragmatic and strategic approach to building ties with Beijing, even while acknowledging areas of sharp disagreement.",
          "image": {
           "thumbnail": {
            "contentUrl": "https://www.bing.com/th?id=OVFT.dsS0cdYTJwDSyIWjLHIG4C&pid=News",
            "height": 366,
            "width": 700
           }
          },
          "name": "UK's new foreign minister travels to China seeking 'pragmatic' ties",
          "provider": [
           {
            "_type": "Organization",
            "image": {
             "thumbnail": {
              "contentUrl": "https://www.bing.com/th?id=ODF.jFXbg3L7Ce_1pS4_IOR8CA&pid=news"
             }
            },
            "name": "Reuters"
           }
          ],
          "url": "https://www.reuters.com/world/uks-new-foreign-minister-travels-china-seeking-pragmatic-ties-2024-10-17/"
         },
         "index": 22,
         "key": 22
        },
        {
         "0": {
          "category": "World",
          "datePublished": "2024-10-17T23:16:00.0000000Z",
          "description": "\"I’m a longtime teacher and in my classroom we believe in facts, so here are a few,\" said the wife of Democratic vice presidential nominee Tim Walz.",
          "name": "Gwen Walz Schools Donald Trump Over His Latest ‘Creepy’ And ‘Downright Nuts’ Boast",
          "provider": [
           {
            "_type": "Organization",
            "image": {
             "thumbnail": {
              "contentUrl": "https://www.bing.com/th?id=ODF.8SdII0Js_SngmBlHWTAF2w&pid=news"
             }
            },
            "name": "Yahoo News Australia"
           }
          ],
          "url": "https://au.yahoo.com/news/gwen-walz-schools-donald-trump-105211071.html"
         },
         "index": 23,
         "key": 23
        },
        {
         "0": {
          "about": [
           {
            "name": "Aaron Boone",
            "readLink": "https://api.bing.microsoft.com/api/v7/entities/ec8a9da6-0995-1b1d-0008-a2f9e2f84852"
           },
           {
            "name": "New York Yankees",
            "readLink": "https://api.bing.microsoft.com/api/v7/entities/34f268cb-0019-fa41-d7e4-7fe472f43c04"
           },
           {
            "name": "Clarke Schmidt",
            "readLink": "https://api.bing.microsoft.com/api/v7/entities/d5d561f4-30cb-6904-b543-5debea250524"
           },
           {
            "name": "Kansas City Royals",
            "readLink": "https://api.bing.microsoft.com/api/v7/entities/fff4d2b8-42d8-9f45-388d-c77ac91ab439"
           },
           {
            "name": "Luke Weaver",
            "readLink": "https://api.bing.microsoft.com/api/v7/entities/5b710e76-9a1f-2bb4-2929-ca6d50341ecd"
           },
           {
            "name": "Clay Holmes",
            "readLink": "https://api.bing.microsoft.com/api/v7/entities/d8ff6f15-a9b4-21ee-627b-35e1d4590112"
           },
           {
            "name": "Austin Wells",
            "readLink": "https://api.bing.microsoft.com/api/v7/entities/1551f138-f35e-c893-ebe4-59ae8342ef25"
           }
          ],
          "category": "Sports",
          "datePublished": "2024-10-17T22:45:00.0000000Z",
          "description": "Yankees fans are getting their wish from Aaron Boone, but New York's lineup also took a hit ahead of Game 3 against the Guardians.",
          "name": "Good news, bad news: Yankees' Game 3 lineup has reason for celebration and concern",
          "provider": [
           {
            "_type": "Organization",
            "image": {
             "thumbnail": {
              "contentUrl": "https://www.bing.com/th?id=ODF.cQEwcF-r13r66Z2s8ymonw&pid=news"
             }
            },
            "name": "FanSided on MSN.com"
           }
          ],
          "url": "https://www.msn.com/en-us/sports/mlb/good-news-bad-news-yankees-game-3-lineup-has-reason-for-celebration-and-concern/ar-AA1ssgk8"
         },
         "index": 24,
         "key": 24
        },
        {
         "0": {
          "about": [
           {
            "name": "Sourav Ganguly",
            "readLink": "https://api.bing.microsoft.com/api/v7/entities/64152cad-b4c4-60ed-a5ed-a2da22054294"
           },
           {
            "name": "Delhi Capitals",
            "readLink": "https://api.bing.microsoft.com/api/v7/entities/fed80cda-a314-3557-5947-1d18ec045b16"
           },
           {
            "name": "Cricbuzz",
            "readLink": "https://api.bing.microsoft.com/api/v7/entities/bada5a00-2818-d05a-7e48-bd7cab5ea307"
           },
           {
            "name": "Ricky Ponting",
            "readLink": "https://api.bing.microsoft.com/api/v7/entities/dd6514ec-9027-581e-521f-f704453ff3eb"
           }
          ],
          "category": "Sports",
          "datePublished": "2024-10-17T02:28:00.0000000Z",
          "description": "According to a report by Cricbuzz, former India all-rounder and ex-Delhi Capitals star Venugopal Rao has been appointed as the new Director of Cricket of the franchise. Appointing Rao in this position means that either Sourav Ganguly has to step down,",
          "image": {
           "thumbnail": {
            "contentUrl": "https://www.bing.com/th?id=OVFT.1ZCJ0ISyQVaVHgPewEMsaS&pid=News",
            "height": 393,
            "width": 700
           }
          },
          "name": "Sourav Ganguly No More With Delhi Capitals? IPL Franchise Appoints New Director Of Cricket: Report",
          "provider": [
           {
            "_type": "Organization",
            "image": {
             "thumbnail": {
              "contentUrl": "https://www.bing.com/th?id=ODF.KANCozAEZYO1NwXNST5YDQ&pid=news"
             }
            },
            "name": "Times Now on MSN.com"
           }
          ],
          "url": "https://www.msn.com/en-in/sports/cricket/sourav-ganguly-no-more-with-delhi-capitals-ipl-franchise-appoints-new-director-of-cricket-report/ar-AA1spgSx"
         },
         "index": 25,
         "key": 25
        },
        {
         "0": {
          "about": [
           {
            "name": "Mobile phone",
            "readLink": "https://api.bing.microsoft.com/api/v7/entities/5c025410-faf5-ac54-6171-a24398552448"
           },
           {
            "name": "Smartphone",
            "readLink": "https://api.bing.microsoft.com/api/v7/entities/cd1abc05-911e-afbf-387d-8a07513056ee"
           },
           {
            "name": "Hearing aid",
            "readLink": "https://api.bing.microsoft.com/api/v7/entities/942e9bc1-e862-3602-61e3-1c4b5b69c240"
           }
          ],
          "category": "ScienceAndTechnology",
          "datePublished": "2024-10-17T20:50:00.0000000Z",
          "description": "The FCC Thursday issued rules requiring that all mobile phones -- including smartphones -- sold in the U.S. be compatible with hearing aids. The news comes two years after the FDA made hearing aids available to all Americans without a prescription.",
          "image": {
           "thumbnail": {
            "contentUrl": "https://www.bing.com/th?id=OVFT.DPv-dBVboUoaLm9EsSsGAy&pid=News",
            "height": 700,
            "width": 700
           }
          },
          "name": "All mobile phones must be hearing aid compatible under new FCC rules",
          "provider": [
           {
            "_type": "Organization",
            "image": {
             "thumbnail": {
              "contentUrl": "https://www.bing.com/th?id=ODF.M4e-NwwkSCFuKsTp672mxA&pid=news"
             }
            },
            "name": "TechCrunch on MSN.com"
           }
          ],
          "url": "https://www.msn.com/en-us/news/technology/all-mobile-phones-must-be-hearing-aid-compatible-under-new-fcc-rules/ar-AA1ssm7B"
         },
         "index": 26,
         "key": 26
        },
        {
         "0": {
          "about": [
           {
            "name": "New Orleans",
            "readLink": "https://api.bing.microsoft.com/api/v7/entities/465e78cf-aa9a-491f-9167-4520c7110824"
           },
           {
            "name": "National Football League",
            "readLink": "https://api.bing.microsoft.com/api/v7/entities/6ff32734-2ab0-2636-a1b0-1e2f5e94a701"
           },
           {
            "name": "New Orleans Saints",
            "readLink": "https://api.bing.microsoft.com/api/v7/entities/6e1c9bcb-a6dd-05c8-54e9-86361e106868"
           },
           {
            "name": "Denver Broncos",
            "readLink": "https://api.bing.microsoft.com/api/v7/entities/c5144206-d4e6-4be8-8338-68d231530533"
           },
           {
            "name": "NFL Thursday Night Football",
            "readLink": "https://api.bing.microsoft.com/api/v7/entities/4b4f6229-e716-3f7f-1565-59dc9c94237a"
           },
           {
            "name": "Derek Carr",
            "readLink": "https://api.bing.microsoft.com/api/v7/entities/f456f42e-bc4d-7628-e5cd-59cf6de930d5"
           },
           {
            "name": "Kaizer Chiefs F.C.",
            "readLink": "https://api.bing.microsoft.com/api/v7/entities/923117f4-2b85-b506-fb82-84ecc5eee639"
           },
           {
            "name": "Spencer Rattler",
            "readLink": "https://api.bing.microsoft.com/api/v7/entities/24dbabb8-50cc-9343-1c83-6830f3899f62"
           },
           {
            "name": "Tampa Bay Buccaneers",
            "readLink": "https://api.bing.microsoft.com/api/v7/entities/7f3fc6b4-a783-5e1e-58a4-aaa00b9d7c95"
           },
           {
            "name": "Bo Nix",
            "readLink": "https://api.bing.microsoft.com/api/v7/entities/e67c63e7-22c6-2386-67c1-0917b77ac812"
           }
          ],
          "category": "Sports",
          "datePublished": "2024-10-17T23:18:00.0000000Z",
          "description": "Short weeks can be hard on NFL teams with less time to prepare than usual, and that puts the New Orleans Saints in a tough spot as they open Week 7 with a visit from the Denver Broncos on Thursday Night Football.",
          "image": {
           "thumbnail": {
            "contentUrl": "https://www.bing.com/th?id=OVFT.OCvJyINz6AfolLXk2gaTTC&pid=News",
            "height": 466,
            "width": 700
           }
          },
          "name": "Broncos vs. Saints score, live updates: Denver looks to get over .500 at slumping New Orleans on Thursday Night Football",
          "provider": [
           {
            "_type": "Organization",
            "image": {
             "thumbnail": {
              "contentUrl": "https://www.bing.com/th?id=ODF.S719DbZoJh4YKmcI5HTI3A&pid=news"
             }
            },
            "name": "Yahoo! Sports"
           }
          ],
          "url": "https://sports.yahoo.com/live/broncos-vs-saints-score-live-updates-highlights-denver-new-orleans-thursday-night-football-how-to-watch-231506285.html"
         },
         "index": 27,
         "key": 27
        },
        {
         "0": {
          "about": [
           {
            "name": "Interstate 40",
            "readLink": "https://api.bing.microsoft.com/api/v7/entities/24ecd17f-b948-14cd-6e78-41d4532ad65d"
           },
           {
            "name": "North Carolina",
            "readLink": "https://api.bing.microsoft.com/api/v7/entities/9e2bf053-dd80-4646-8f26-65075e7085c0"
           },
           {
            "name": "Western North Carolina",
            "readLink": "https://api.bing.microsoft.com/api/v7/entities/ee915d74-eb6b-5241-2256-be9918c89eec"
           },
           {
            "name": "North Carolina Department of Transportation",
            "readLink": "https://api.bing.microsoft.com/api/v7/entities/c101ddf1-5468-4d74-403d-c3505284fb5d"
           }
          ],
          "datePublished": "2024-10-17T19:46:00.0000000Z",
          "description": "Western North Carolina roads are slowly reopening following the devastation from Tropical Storm Helene, but several major thoroughfares remain closed, including Interstate 40. Here's the latest",
          "image": {
           "thumbnail": {
            "contentUrl": "https://www.bing.com/th?id=OVFT.W_jvGla6RZSn5HMjL6q77C&pid=News",
            "height": 393,
            "width": 700
           }
          },
          "name": "When will I-40 reopen? The latest on Helene-related North Carolina road closures",
          "provider": [
           {
            "_type": "Organization",
            "image": {
             "thumbnail": {
              "contentUrl": "https://www.bing.com/th?id=ODF.m1iod5ODNIyyKu23kGIllQ&pid=news"
             }
            },
            "name": "USA Today"
           }
          ],
          "url": "https://www.usatoday.com/story/news/local/2024/10/17/ncdot-road-closures-when-will-i-40-reopen-latest-update/75715064007/"
         },
         "index": 28,
         "key": 28
        },
        {
         "0": {
          "about": [
           {
            "name": "Chicago White Sox",
            "readLink": "https://api.bing.microsoft.com/api/v7/entities/decfc943-ef19-5257-22e7-94980ede0ba3"
           },
           {
            "name": "Chicago",
            "readLink": "https://api.bing.microsoft.com/api/v7/entities/28deeb39-ca49-4bd4-913b-929b1de4b25b"
           },
           {
            "name": "Roosevelt Road",
            "readLink": "https://api.bing.microsoft.com/api/v7/entities/8a6e3027-8a8d-e85e-f22a-434244ab025d"
           },
           {
            "name": "Clark Street",
            "readLink": "https://api.bing.microsoft.com/api/v7/entities/208e8e35-d947-b653-9534-265f379bc113"
           }
          ],
          "category": "Sports",
          "datePublished": "2024-10-17T21:44:00.0000000Z",
          "description": "Any baseball field designed and cultivated by Roger Bossard, the highly respected White Sox head groundskeeper who has been with the team for the past 58 seasons, inherently has something special attached.",
          "image": {
           "thumbnail": {
            "contentUrl": "https://www.bing.com/th?id=OVFT.V43K9dGYvNxC-QRSiaVZai&pid=News",
            "height": 350,
            "width": 700
           }
          },
          "name": "Here's the latest on White Sox proposed new ballpark",
          "provider": [
           {
            "_type": "Organization",
            "image": {
             "thumbnail": {
              "contentUrl": "https://www.bing.com/th?id=ODF.wzUJOrRR9Tt2JfINYjkJ1g&pid=news"
             }
            },
            "name": "MLB"
           }
          ],
          "url": "https://www.mlb.com/whitesox/news/white-sox-proposed-ballpark-update"
         },
         "index": 29,
         "key": 29
        },
        {
         "0": {
          "category": "Entertainment",
          "datePublished": "2024-10-17T09:40:00.0000000Z",
          "description": "A new heartbreaking update about Liam Payne’s death has been revealed. The One Direction singer died on October 16. While it was initially reported that he fell off his hotel balcony in Argentina, a new statement by the Buenos Aires Security Ministry revealed that Liam Payne ‘had jumped from the balcony of his room.",
          "name": "Liam Payne 'Jumped From the Balcony': Buenos Aires Security Ministry In New Statement",
          "provider": [
           {
            "_type": "Organization",
            "image": {
             "thumbnail": {
              "contentUrl": "https://www.bing.com/th?id=ODF.raV3hWx5LJpFUHNtCFAcrw&pid=news"
             }
            },
            "name": "CNN-News18"
           }
          ],
          "url": "https://www.news18.com/movies/liam-payne-passed-away-cause-of-death-jumped-from-balcony-9089270.html"
         },
         "index": 30,
         "key": 30
        },
        {
         "0": {
          "about": [
           {
            "name": "Chelsea F.C.",
            "readLink": "https://api.bing.microsoft.com/api/v7/entities/8346cd56-1a96-adb0-26e1-f3679d88e0ba"
           },
           {
            "name": "Hayley Raso",
            "readLink": "https://api.bing.microsoft.com/api/v7/entities/dcfddf06-6ad7-26d5-2eb1-37eba6af2b39"
           },
           {
            "name": "Manchester United F.C.",
            "readLink": "https://api.bing.microsoft.com/api/v7/entities/064ce28e-ed07-a026-2f79-1b321d7548ea"
           }
          ],
          "category": "Sports",
          "datePublished": "2024-10-17T14:00:00.0000000Z",
          "description": "Robert Vilahamn is hoping Amanda Nilden could make the trip to Chelsea on Sunday evening (6.45pm UK) with Ella Morris also expected to return – although Hayley Raso will miss the Barclays Women’s Super League encounter.",
          "image": {
           "thumbnail": {
            "contentUrl": "https://www.bing.com/th?id=OVFT.H9AlDxSoXTNsHz_5a5kBJS&pid=News",
            "height": 170,
            "width": 350
           }
          },
          "name": "Team news | Chelsea vs Spurs (WSL) | Latest on Nildén, Raso and Morris",
          "provider": [
           {
            "_type": "Organization",
            "image": {
             "thumbnail": {
              "contentUrl": "https://www.bing.com/th?id=ODF.mSUgx9Nimhp1juop9J_ZBg&pid=news"
             }
            },
            "name": "Tottenham Hotspur F.C."
           }
          ],
          "url": "https://www.tottenhamhotspur.com/news/2024/october/spurs-women-team-news-chelsea-vs-spurs-wsl-latest-on-nild%C3%A9n-raso-and-morris/"
         },
         "index": 31,
         "key": 31
        },
        {
         "0": {
          "about": [
           {
            "name": "New York Mets",
            "readLink": "https://api.bing.microsoft.com/api/v7/entities/493b8120-2400-611d-3cb1-dc8ffaeb1bb7"
           },
           {
            "name": "Major League Baseball",
            "readLink": "https://api.bing.microsoft.com/api/v7/entities/2468e4af-2f20-1a22-40fc-e932fe5418aa"
           },
           {
            "name": "League Championship Series",
            "readLink": "https://api.bing.microsoft.com/api/v7/entities/aae7aaa7-b975-4997-9107-78632b297ded"
           },
           {
            "name": "New York Yankees",
            "readLink": "https://api.bing.microsoft.com/api/v7/entities/34f268cb-0019-fa41-d7e4-7fe472f43c04"
           },
           {
            "name": "Cleveland Guardians",
            "readLink": "https://api.bing.microsoft.com/api/v7/entities/de315c8b-e1b6-27fb-021e-778bfa85ca81"
           },
           {
            "name": "Los Angeles Dodgers",
            "readLink": "https://api.bing.microsoft.com/api/v7/entities/f53713ae-71b9-a1a2-5aa3-bb4143549f01"
           },
           {
            "name": "Yoshinobu Yamamoto",
            "readLink": "https://api.bing.microsoft.com/api/v7/entities/17a32568-e73f-df03-3233-4ad23aecf675"
           },
           {
            "name": "San Diego Padres",
            "readLink": "https://api.bing.microsoft.com/api/v7/entities/df9fb21c-7008-f659-78aa-8dabec1899c9"
           },
           {
            "name": "José Quintana",
            "readLink": "https://api.bing.microsoft.com/api/v7/entities/b2b58edf-dc6f-c6ef-9348-51f02a5efdef"
           },
           {
            "name": "CBS Sports",
            "readLink": "https://api.bing.microsoft.com/api/v7/entities/ff82c57d-eee9-54a7-81a1-7726fe93fce2"
           }
          ],
          "category": "Sports",
          "datePublished": "2024-10-17T23:14:00.0000000Z",
          "description": "The Dodgers are expected to start right-hander Yoshinobu Yamamoto. This will be his third career MLB playoff appearance, with his first two both coming in the NLDS against the Padres. Yamamoto has allowed five runs on seven hits across eight innings of postseason work.",
          "image": {
           "thumbnail": {
            "contentUrl": "https://www.bing.com/th?id=OVFT.Pa5iBVoPyte9DtjkUY2Gpy&pid=News",
            "height": 393,
            "width": 700
           }
          },
          "name": "Mets vs. Dodgers score: Live updates as New York tries to even NLCS in Game 4 after ugly shutout",
          "provider": [
           {
            "_type": "Organization",
            "image": {
             "thumbnail": {
              "contentUrl": "https://www.bing.com/th?id=ODF.TwkuevkHG2GKy2nqI-lS_Q&pid=news"
             }
            },
            "name": "CBSSports.com"
           }
          ],
          "url": "https://www.cbssports.com/mlb/news/mets-vs-dodgers-score-live-updates-as-new-york-tries-to-even-nlcs-in-game-4-after-ugly-shutout/live/"
         },
         "index": 32,
         "key": 32
        },
        {
         "0": {
          "about": [
           {
            "name": "New Hampshire",
            "readLink": "https://api.bing.microsoft.com/api/v7/entities/9ca71997-cc97-46eb-8911-fac32f80b0b1"
           },
           {
            "name": "White House",
            "readLink": "https://api.bing.microsoft.com/api/v7/entities/541cd519-750b-9c92-8413-a537def6abbe"
           },
           {
            "name": "Merrimack, New Hampshire",
            "readLink": "https://api.bing.microsoft.com/api/v7/entities/8858f22d-3caa-e3c2-9962-587e755cd459"
           },
           {
            "name": "Nashua, New Hampshire",
            "readLink": "https://api.bing.microsoft.com/api/v7/entities/f23c265e-d008-4980-8ece-aa3674dbcd39"
           }
          ],
          "category": "Politics",
          "datePublished": "2024-10-17T21:15:00.0000000Z",
          "description": "President Joe Biden plans to visit New Hampshire next week. The White House said the president will speak Tuesday at an official event highlighting the administration's work to lower prescription drug costs. An exact location has not been announced. Biden was last in New Hampshire in May when he visited Merrimack and Nashua.",
          "image": {
           "thumbnail": {
            "contentUrl": "https://www.bing.com/th?id=OVFT.v5Q82X1RzwHtZZsGebu48y&pid=News",
            "height": 393,
            "width": 700
           }
          },
          "name": "Biden to visit New Hampshire to discuss prescription drug costs",
          "provider": [
           {
            "_type": "Organization",
            "image": {
             "thumbnail": {
              "contentUrl": "https://www.bing.com/th?id=ODF.7hulKPNu1vgipcNf9tildw&pid=news"
             }
            },
            "name": "WMUR"
           }
          ],
          "url": "https://www.wmur.com/article/joe-biden-new-hampshire-drug-costs-101724/62642249",
          "video": {
           "name": "Biden to visit New Hampshire to discuss prescription drug costs",
           "thumbnail": {
            "height": 292,
            "width": 520
           },
           "thumbnailUrl": "https://www.bing.com/th?id=OVF.gY5LQKwJj9nlgfbl%2FjOVhw&pid=News"
          }
         },
         "index": 33,
         "key": 33
        },
        {
         "0": {
          "category": "Business",
          "datePublished": "2024-10-17T20:56:32.0000000Z",
          "description": "Certain Massachusetts families will be getting automatic discounts that could save them hundreds of dollars on utility bills.",
          "name": "New automatic discounts on utility bills will help some Massachusetts residents save big, governor says",
          "provider": [
           {
            "_type": "Organization",
            "image": {
             "thumbnail": {
              "contentUrl": "https://www.bing.com/th?id=ODF.lisIXhXb-iy9Ku1HbFcCEw&pid=news"
             }
            },
            "name": "CBS Boston on MSN.com"
           }
          ],
          "url": "https://www.msn.com/en-us/money/personalfinance/new-automatic-discounts-on-utility-bills-will-help-some-massachusetts-residents-save-big-governor-says/ar-AA1ssF9f"
         },
         "index": 34,
         "key": 34
        },
        {
         "0": {
          "about": [
           {
            "name": "India",
            "readLink": "https://api.bing.microsoft.com/api/v7/entities/85fa63d3-9596-adb9-b4eb-502273d84f56"
           },
           {
            "name": "Bengaluru FC",
            "readLink": "https://api.bing.microsoft.com/api/v7/entities/e3027fb3-3f4b-4c71-e40c-e07ddcf89bd3"
           },
           {
            "name": "Rishabh Pant",
            "readLink": "https://api.bing.microsoft.com/api/v7/entities/3125f58f-7865-579e-ba20-20d0830a715c"
           }
          ],
          "category": "Sports",
          "datePublished": "2024-10-17T15:59:00.0000000Z",
          "description": "Latest Update On Final Boss Will Leave Fans Disappointed Not The Rock! 3 WWE Superstars Cody Rhodes Can Face At Wrestlemania 41 WWE News: Will Roman Reigns Make His Return To Smackdown This Week? WWE Raw Results, Highlights 7 October: Jey Uso, Gunther ...",
          "image": {
           "thumbnail": {
            "contentUrl": "https://www.bing.com/th?id=OVFT.GhF2SuGg4kLKyB1OW4ltWy&pid=News",
            "height": 393,
            "width": 700
           }
          },
          "name": "India Vs New Zealand 1st Test Day 2 LIVE SCORE: India Off To Horror Start; Lose 3 Wickets Inside 10 Overs",
          "provider": [
           {
            "_type": "Organization",
            "name": "timesnownews"
           }
          ],
          "url": "https://www.timesnownews.com/sports/cricket/india-vs-new-zealand-1st-test-day-2-live-streaming-updates-bangalore-weather-forecast-updates-liveblog-114298976"
         },
         "index": 35,
         "key": 35
        },
        {
         "0": {
          "about": [
           {
            "name": "Sydney Sweeney",
            "readLink": "https://api.bing.microsoft.com/api/v7/entities/758ba21b-f473-2114-b5bb-2c13898cbc85"
           },
           {
            "name": "Christy Martin",
            "readLink": "https://api.bing.microsoft.com/api/v7/entities/f1ad17a2-90eb-95d0-ca3f-0249ca6f3537"
           },
           {
            "name": "Cosmopolitan",
            "readLink": "https://api.bing.microsoft.com/api/v7/entities/a1d2ca82-9911-dd79-bc38-f6d5152c9b25"
           }
          ],
          "category": "Entertainment",
          "datePublished": "2024-10-17T20:40:00.0000000Z",
          "description": "Sydney Sweeney shares a picture of her transformative makeover for her role as Christy Martin and exclusively tells Cosmo about the upcoming biopic.",
          "image": {
           "thumbnail": {
            "contentUrl": "https://www.bing.com/th?id=OVFT.BaGqllRWr4BLIjjQqnSYIC&pid=News",
            "height": 393,
            "width": 700
           }
          },
          "name": "Sydney Sweeney Totally Transforms Into Boxer Christy Martin in the First Look at Her Buzzy New Film",
          "provider": [
           {
            "_type": "Organization",
            "image": {
             "thumbnail": {
              "contentUrl": "https://www.bing.com/th?id=ODF.6l3fMUjuba1Bx26WywDhqQ&pid=news"
             }
            },
            "name": "AOL"
           }
          ],
          "url": "https://www.aol.com/sydney-sweeney-totally-transforms-boxer-174000302.html"
         },
         "index": 36,
         "key": 36
        },
        {
         "0": {
          "about": [
           {
            "name": "Economy of Brazil",
            "readLink": "https://api.bing.microsoft.com/api/v7/entities/70d54a45-6b2a-38cf-46d8-04e83df5bd9d"
           }
          ],
          "category": "Business",
          "datePublished": "2024-10-17T20:02:00.0000000Z",
          "description": "Brazilian food retailer Assai said on Thursday it now forecasts it will open some 10 new stores next year, half the prior estimate of about 20, according to a securities filing.",
          "image": {
           "thumbnail": {
            "contentUrl": "https://www.bing.com/th?id=OVFT.fTT7qWy-Fd0lBFnfwCigPy&pid=News",
            "height": 366,
            "width": 700
           }
          },
          "name": "Brazil's Assai cuts estimate for 2025 new store openings",
          "provider": [
           {
            "_type": "Organization",
            "image": {
             "thumbnail": {
              "contentUrl": "https://www.bing.com/th?id=ODF.jFXbg3L7Ce_1pS4_IOR8CA&pid=news"
             }
            },
            "name": "Reuters"
           }
          ],
          "url": "https://www.reuters.com/business/retail-consumer/brazils-assai-cuts-estimate-2025-new-store-openings-2024-10-17/"
         },
         "index": 37,
         "key": 37
        },
        {
         "0": {
          "about": [
           {
            "name": "New Jersey",
            "readLink": "https://api.bing.microsoft.com/api/v7/entities/05277898-b62b-4878-8632-09d29756a2ff"
           },
           {
            "name": "Weight loss",
            "readLink": "https://api.bing.microsoft.com/api/v7/entities/3bfaee67-5bfc-e7ff-5e56-d1a04fee7aef"
           },
           {
            "name": "Substance abuse",
            "readLink": "https://api.bing.microsoft.com/api/v7/entities/9d544b9b-47e0-439c-45e0-442fb5d83a2b"
           },
           {
            "name": "Opioid",
            "readLink": "https://api.bing.microsoft.com/api/v7/entities/aca5f31b-f22d-63ee-bbc3-bb233887e794"
           },
           {
            "name": "Alcohol",
            "readLink": "https://api.bing.microsoft.com/api/v7/entities/e9465bd6-ac5b-84b5-1dc2-768392f967f9"
           },
           {
            "name": "South Jersey",
            "readLink": "https://api.bing.microsoft.com/api/v7/entities/8da62801-23af-cb3b-2b3d-05236ef7ba6d"
           },
           {
            "name": "Addiction",
            "readLink": "https://api.bing.microsoft.com/api/v7/entities/ed49eaa9-10d2-1be2-2572-ccadf8c06319"
           }
          ],
          "datePublished": "2024-10-17T22:14:36.0000000Z",
          "description": "Popular weight loss drugs like Ozempic might be able to help with substance abuse, according to new research on people addicted to opioids ... She can be seen daily on CBS News Philadelphia and Philly57.",
          "image": {
           "thumbnail": {
            "contentUrl": "https://www.bing.com/th?id=OVFT.1_Juyng5hQGtlo1BAOhw-y&pid=News",
            "height": 367,
            "width": 700
           }
          },
          "mentions": [
           {
            "name": "KYW-TV"
           },
           {
            "name": "Alcohol dependence"
           },
           {
            "name": "Anti-obesity medication"
           }
          ],
          "name": "How a weight loss drug is helping a New Jersey nurse overcome alcohol addiction",
          "provider": [
           {
            "_type": "Organization",
            "name": "CBS News on MSN.com"
           }
          ],
          "url": "https://www.msn.com/en-us/health/other/how-a-weight-loss-drug-is-helping-a-new-jersey-nurse-overcome-alcohol-addiction/ar-AA1ssLdP"
         },
         "index": 38,
         "key": 38
        },
        {
         "0": {
          "about": [
           {
            "name": "Chicago White Sox",
            "readLink": "https://api.bing.microsoft.com/api/v7/entities/decfc943-ef19-5257-22e7-94980ede0ba3"
           },
           {
            "name": "Jerry Reinsdorf",
            "readLink": "https://api.bing.microsoft.com/api/v7/entities/66392549-393d-8471-6115-0d35e4a11c62"
           },
           {
            "name": "The Athletic",
            "readLink": "https://api.bing.microsoft.com/api/v7/entities/1f67ac13-d1f9-e346-c50d-574e8700b97f"
           }
          ],
          "category": "Sports",
          "datePublished": "2024-10-17T21:09:00.0000000Z",
          "description": "Wednesday brought the first ray of sunshine in what's been a very dark year for fans of the Chicago White Sox, with news that reviled owner Jerry Reinsdorf was exploring a sale of the team. As long as Reinsdorf was around,",
          "image": {
           "thumbnail": {
            "contentUrl": "https://www.bing.com/th?id=OVFT.RglzTx62WqDNyP2WZkBzii&pid=News",
            "height": 393,
            "width": 700
           }
          },
          "name": "White Sox could leave Chicago after latest surprising ownership development",
          "provider": [
           {
            "_type": "Organization",
            "image": {
             "thumbnail": {
              "contentUrl": "https://www.bing.com/th?id=ODF.cQEwcF-r13r66Z2s8ymonw&pid=news"
             }
            },
            "name": "FanSided on MSN.com"
           }
          ],
          "url": "https://www.msn.com/en-us/news/us/white-sox-could-leave-chicago-after-latest-surprising-ownership-development/ar-AA1ssoyC"
         },
         "index": 39,
         "key": 39
        },
        {
         "0": {
          "about": [
           {
            "name": "New Braunfels, Texas",
            "readLink": "https://api.bing.microsoft.com/api/v7/entities/4bcde4cb-1731-0911-7624-6e6de081d877"
           },
           {
            "name": "Converse",
            "readLink": "https://api.bing.microsoft.com/api/v7/entities/c48c745e-cb84-527b-3214-ea342849c531"
           },
           {
            "name": "Applebee's",
            "readLink": "https://api.bing.microsoft.com/api/v7/entities/b9c87b36-b9d2-c303-52a2-23c8ca27ad83"
           },
           {
            "name": "Interstate 35",
            "readLink": "https://api.bing.microsoft.com/api/v7/entities/d2b4f1f0-40f4-9377-185e-188977830c76"
           }
          ],
          "datePublished": "2024-10-17T20:41:00.0000000Z",
          "description": "New Braunfels Police are seeking information about Richard Rosas, who is accused of murder in the fatal shooting of Chance Herron in an Applebee's parking lot.",
          "image": {
           "thumbnail": {
            "contentUrl": "https://www.bing.com/th?id=OVFT.ZMSjlmxnECXxLk1XLS81ii&pid=News",
            "height": 590,
            "width": 448
           }
          },
          "name": "New Braunfels police searching for Converse man in teen's slaying",
          "provider": [
           {
            "_type": "Organization",
            "image": {
             "thumbnail": {
              "contentUrl": "https://www.bing.com/th?id=ODF.KPkYxfhccY8-IjUG9SG0-w&pid=news"
             }
            },
            "name": "San Antonio Express-News"
           }
          ],
          "url": "https://www.expressnews.com/hill-country/article/new-braunfels-police-shooting-applebees-converse-19844724.php"
         },
         "index": 40,
         "key": 40
        },
        {
         "0": {
          "about": [
           {
            "name": "American Red Cross",
            "readLink": "https://api.bing.microsoft.com/api/v7/entities/269c3c72-ff8d-4aa0-f978-ac04c0cc648e"
           },
           {
            "name": "Arizona",
            "readLink": "https://api.bing.microsoft.com/api/v7/entities/bf973f46-5962-4997-a7ba-a05f1aa2a9f9"
           },
           {
            "name": "Phoenix, Arizona",
            "readLink": "https://api.bing.microsoft.com/api/v7/entities/b06044c3-41e1-4e2a-bba7-27a29bba8ea9"
           },
           {
            "name": "Florida",
            "readLink": "https://api.bing.microsoft.com/api/v7/entities/5fece3f4-e8e8-4159-843e-f725a930ad50"
           },
           {
            "name": "Gulf Coast of the United States",
            "readLink": "https://api.bing.microsoft.com/api/v7/entities/a141f6d2-e446-23c7-cb87-d85d50a4e61b"
           },
           {
            "name": "Phoenix Sky Harbor International Airport",
            "readLink": "https://api.bing.microsoft.com/api/v7/entities/7812b60f-4c4f-9cd1-05be-412d98f24f8f"
           }
          ],
          "datePublished": "2024-10-17T22:53:00.0000000Z",
          "description": "The Regional CEO of the American Red Cross of Arizona and New Mexico is heading to the front lines in Florida to assist those in need.",
          "image": {
           "thumbnail": {
            "contentUrl": "https://www.bing.com/th?id=OVFT.GFFPwU7hOeXQ1-taMoT82C&pid=News",
            "height": 350,
            "width": 700
           }
          },
          "mentions": [
           {
            "name": "Florida"
           },
           {
            "name": "American Red Cross"
           },
           {
            "name": "New Mexico"
           }
          ],
          "name": "Red Cross CEO of Arizona & New Mexico assisting with hurricane recovery in Florida",
          "provider": [
           {
            "_type": "Organization",
            "image": {
             "thumbnail": {
              "contentUrl": "https://www.bing.com/th?id=ODF.spQoP6jbtfvrDDK3c1NS7Q&pid=news"
             }
            },
            "name": "AZFamily on MSN.com"
           }
          ],
          "url": "https://www.msn.com/en-us/news/other/red-cross-ceo-of-arizona-new-mexico-assisting-with-hurricane-recovery-in-florida/ar-AA1ss2K9"
         },
         "index": 41,
         "key": 41
        },
        {
         "0": {
          "datePublished": "2024-10-17T23:18:00.0000000Z",
          "description": "An independent panel investigating the July 13 assassination attempt on former President Trump is now calling for extensive reform of the United States Secret Service.",
          "name": "New independent review calls for 'fundamental reform' of US Secret Service",
          "provider": [
           {
            "_type": "Organization",
            "image": {
             "thumbnail": {
              "contentUrl": "https://www.bing.com/th?id=ODF.WYO3ATefKUevMjYClcyRrw&pid=news"
             }
            },
            "name": "WXYZ"
           }
          ],
          "url": "https://www.wxyz.com/politics/new-independent-review-calls-for-fundamental-reform-of-us-secret-service"
         },
         "index": 42,
         "key": 42
        },
        {
         "0": {
          "about": [
           {
            "name": "Waukesha, Wisconsin",
            "readLink": "https://api.bing.microsoft.com/api/v7/entities/38ca4d8e-dbad-4c22-ad4f-2b916b7194f7"
           },
           {
            "name": "Wisconsin",
            "readLink": "https://api.bing.microsoft.com/api/v7/entities/cb4d2853-06f4-4467-8e7c-4e31cbb35cb2"
           }
          ],
          "category": "Business",
          "datePublished": "2024-10-17T21:37:00.0000000Z",
          "description": "Company officials say new projects have generated new contracts with both U.S. and global automakers and suppliers.",
          "image": {
           "thumbnail": {
            "contentUrl": "https://www.bing.com/th?id=OVFT.yVKQy37xBzB-SeS1J2LIFC&pid=News",
            "height": 393,
            "width": 700
           }
          },
          "name": "Waukesha's Husco International to hire 250 new workers",
          "provider": [
           {
            "_type": "Organization",
            "image": {
             "thumbnail": {
              "contentUrl": "https://www.bing.com/th?id=ODF.pM7kQ4aKmZpYSAUSPfOHnA&pid=news"
             }
            },
            "name": "fox6now"
           }
          ],
          "url": "https://www.fox6now.com/news/waukeshas-husco-international-hire-250-new-workers"
         },
         "index": 43,
         "key": 43
        },
        {
         "0": {
          "category": "LifeStyle",
          "datePublished": "2024-10-17T23:15:00.0000000Z",
          "description": "On Thursday, two-semi trucks in New Bern were packed full of donations that will head towards Haywood County at the New Covenant Church. The lead pastor, Blake Stanbery, says Helene left a big mess.",
          "name": "The City of New Bern packs two semi-trucks with donations for Western North Carolina",
          "provider": [
           {
            "_type": "Organization",
            "image": {
             "thumbnail": {
              "contentUrl": "https://www.bing.com/th?id=ODF.6IT0AbGlzNl2lybSOH8Hkw&pid=news"
             }
            },
            "name": "WITN"
           }
          ],
          "url": "https://www.witn.com/2024/10/17/city-new-bern-packs-two-semi-trucks-with-donations-western-north-carolina/"
         },
         "index": 44,
         "key": 44
        },
        {
         "0": {
          "about": [
           {
            "name": "Denver Broncos",
            "readLink": "https://api.bing.microsoft.com/api/v7/entities/c5144206-d4e6-4be8-8338-68d231530533"
           },
           {
            "name": "New Orleans Saints",
            "readLink": "https://api.bing.microsoft.com/api/v7/entities/6e1c9bcb-a6dd-05c8-54e9-86361e106868"
           },
           {
            "name": "Sean Payton",
            "readLink": "https://api.bing.microsoft.com/api/v7/entities/def0a188-600e-6dd1-00cb-d9e74846bf4f"
           },
           {
            "name": "Caesars Superdome",
            "readLink": "https://api.bing.microsoft.com/api/v7/entities/6e56b686-7a0a-471a-af2e-7642fa364c3a"
           },
           {
            "name": "New Orleans",
            "readLink": "https://api.bing.microsoft.com/api/v7/entities/465e78cf-aa9a-491f-9167-4520c7110824"
           },
           {
            "name": "NBC",
            "readLink": "https://api.bing.microsoft.com/api/v7/entities/30aa2ae8-a47b-7834-536f-1559ccf508a7"
           },
           {
            "name": "FuboTV",
            "readLink": "https://api.bing.microsoft.com/api/v7/entities/14133208-0b8c-446a-0a01-7193aea8251b"
           },
           {
            "name": "NFL RedZone",
            "readLink": "https://api.bing.microsoft.com/api/v7/entities/c5499471-87e8-0bb8-be5c-cc3306fd0bac"
           },
           {
            "name": "RED",
            "readLink": "https://api.bing.microsoft.com/api/v7/entities/9d6ff56c-f3c2-40d6-2c11-0812dc694368"
           },
           {
            "name": "NFL Thursday Night Football",
            "readLink": "https://api.bing.microsoft.com/api/v7/entities/4b4f6229-e716-3f7f-1565-59dc9c94237a"
           }
          ],
          "category": "Sports",
          "datePublished": "2024-10-17T22:06:00.0000000Z",
          "description": "Thursday Night Football on Oct. 17 gets Week 7 of the NFL season started as the New Orleans Saints face the Denver Broncos.",
          "image": {
           "thumbnail": {
            "contentUrl": "https://www.bing.com/th?id=OVFT.TxzxMQLCY2TR7eYJ3kqxui&pid=News",
            "height": 468,
            "width": 700
           }
          },
          "name": "Watch Denver Broncos vs. New Orleans Saints free live stream",
          "provider": [
           {
            "_type": "Organization",
            "image": {
             "thumbnail": {
              "contentUrl": "https://www.bing.com/th?id=ODF.KDaKm3KxrYAvNUXLp-n40w&pid=news"
             }
            },
            "name": "MassLive"
           }
          ],
          "url": "https://www.masslive.com/tv/2024/10/watch-denver-broncos-vs-new-orleans-saints-free-live-stream.html",
          "video": {
           "name": "Watch Denver Broncos vs. New Orleans Saints free live stream",
           "thumbnail": {
            "height": 347,
            "width": 520
           },
           "thumbnailUrl": "https://www.bing.com/th?id=OVF.GPyDCAj49uG1TY5nkt1w8A&pid=News"
          }
         },
         "index": 45,
         "key": 45
        },
        {
         "0": {
          "about": [
           {
            "name": "South Shore Line",
            "readLink": "https://api.bing.microsoft.com/api/v7/entities/a1eaee31-3f94-f990-82b7-d861fdd8ae4a"
           },
           {
            "name": "Hammond, Indiana",
            "readLink": "https://api.bing.microsoft.com/api/v7/entities/55ab0f2b-5356-4c8c-add6-2811081d4e1c"
           },
           {
            "name": "Carroll County, Illinois",
            "readLink": "https://api.bing.microsoft.com/api/v7/entities/e58bfbe8-9aa4-6da2-dd49-ff638fbae779"
           },
           {
            "name": "Fort Wayne, Indiana",
            "readLink": "https://api.bing.microsoft.com/api/v7/entities/93c419e3-0696-464f-8905-3c6d6677ea9d"
           }
          ],
          "datePublished": "2024-10-17T20:21:00.0000000Z",
          "description": "HAMMOND, Ind. (WNDU) - The South Shore Line says its new Hammond Gateway Station will open and become operational for train service on Friday. Beginning Friday, passengers previously utilizing the Hammond Station will begin boarding and detraining all South Shore Line trains out of Hammond Gateway, which is located at 4530 Sheffield Avenue.",
          "image": {
           "thumbnail": {
            "contentUrl": "https://www.bing.com/th?id=OVFT.loKTf0aeEO11VoMtFLWYRS&pid=News",
            "height": 350,
            "width": 700
           }
          },
          "name": "South Shore Line to open new Hammond Gateway Station on Friday",
          "provider": [
           {
            "_type": "Organization",
            "image": {
             "thumbnail": {
              "contentUrl": "https://www.bing.com/th?id=ODF.4Wfdsnr3wLYnD_jZJnRmAw&pid=news"
             }
            },
            "name": "South Bend-Elkhart WNDU-TV on MSN.com"
           }
          ],
          "url": "https://www.msn.com/en-us/autos/news/south-shore-line-to-open-new-hammond-gateway-station-on-friday/ar-AA1ssqzL"
         },
         "index": 46,
         "key": 46
        },
        {
         "0": {
          "datePublished": "2024-10-17T21:48:00.0000000Z",
          "description": "Elijah Vue's mother and boyfriend face new charges in the boy's death Wisconsin authorities announced Thursday.",
          "name": "Elijah Vue's mother and her boyfriend face new charges in boy's death",
          "provider": [
           {
            "_type": "Organization",
            "image": {
             "thumbnail": {
              "contentUrl": "https://www.bing.com/th?id=ODF.lisIXhXb-iy9Ku1HbFcCEw&pid=news"
             }
            },
            "name": "CBS News on MSN.com"
           }
          ],
          "url": "https://www.msn.com/en-us/news/crime/elijah-vues-mother-and-her-boyfriend-face-new-charges-in-boys-death/ar-AA1ssr87"
         },
         "index": 47,
         "key": 47
        },
        {
         "0": {
          "about": [
           {
            "name": "Ashley Tisdale",
            "readLink": "https://api.bing.microsoft.com/api/v7/entities/29b50507-9c53-d094-7f6c-deaca21afe37"
           },
           {
            "name": "Vincent Martella",
            "readLink": "https://api.bing.microsoft.com/api/v7/entities/3b51cb6b-4449-4a37-c7ff-a6b251db2695"
           },
           {
            "name": "Alyson Stoner",
            "readLink": "https://api.bing.microsoft.com/api/v7/entities/65ff8213-d268-443a-8dcd-229718682891"
           },
           {
            "name": "Los Angeles",
            "readLink": "https://api.bing.microsoft.com/api/v7/entities/9958ca5c-ea31-4e71-8a17-bd1e7839c723"
           },
           {
            "name": "New York Comic Con",
            "readLink": "https://api.bing.microsoft.com/api/v7/entities/53a50757-4f58-0e3f-e056-6c8b876429b3"
           },
           {
            "name": "Phineas and Ferb",
            "readLink": "https://api.bing.microsoft.com/api/v7/entities/0c304e57-3bd5-4d8d-86a4-27ef2b87324d"
           },
           {
            "name": "Dan Povenmire",
            "readLink": "https://api.bing.microsoft.com/api/v7/entities/6da8edb1-8471-00ed-2f7c-06e5b1e43236"
           },
           {
            "name": "Dr. Heinz Doofenshmirtz",
            "readLink": "https://api.bing.microsoft.com/api/v7/entities/72055645-ad8d-040b-ad59-1c32681bd6e0"
           },
           {
            "name": "Jeff \"Swampy\" Marsh",
            "readLink": "https://api.bing.microsoft.com/api/v7/entities/d6ecdf92-1e06-f890-2a55-3868a803f7c4"
           }
          ],
          "category": "Entertainment",
          "datePublished": "2024-10-17T21:45:00.0000000Z",
          "description": "The cast and creators of \"Phineas and Ferb\" reunite after a decade to announce the cast for the new season. Ashley Tisdale, Dan Povenmire, Vincent Martella and Alyson Stoner are among the list of returning stars.",
          "image": {
           "thumbnail": {
            "contentUrl": "https://www.bing.com/th?id=OVFT.dex5sJ9ofHOvF8E8xc4U8C&pid=News",
            "height": 393,
            "width": 700
           }
          },
          "name": "Ashley Tisdale, Vincent Martella and Alyson Stoner are back for a new season of 'Phineas and Ferb'",
          "provider": [
           {
            "_type": "Organization",
            "image": {
             "thumbnail": {
              "contentUrl": "https://www.bing.com/th?id=ODF.cy-PhYuyToKo5Mx4_OfJnw&pid=news"
             }
            },
            "name": "ABC7"
           }
          ],
          "url": "https://abc7.com/post/ashley-tisdale-vincent-martella-alyson-stoner-are-back-new-season-phineas-ferb/15438807/"
         },
         "index": 48,
         "key": 48
        },
        {
         "0": {
          "datePublished": "2024-10-17T21:15:00.0000000Z",
          "description": "Kimberly Shupe was killed in 2019 when her Bel Air townhome caught fire. Her sister is outraged that the woman convicted, Bobbie Sue Hodge, just had her conviction overturned on appeal. She wrote a letter saying she didnt like her lawyer and it was never addressed in court #wbal pic.twitter.com/DkdqSuSixb",
          "name": "Woman convicted of murder to get new trial after appeal due to dissatisfaction with public defenders",
          "provider": [
           {
            "_type": "Organization",
            "image": {
             "thumbnail": {
              "contentUrl": "https://www.bing.com/th?id=ODF.ov06NvHKn7ghN2F28JfTHw&pid=news"
             }
            },
            "name": "WBAL-TV"
           }
          ],
          "url": "https://www.wbaltv.com/article/woman-convicted-murder-trial-appeal-dissatisfaction-defenders/62640861"
         },
         "index": 49,
         "key": 49
        },
        {
         "0": {
          "about": [
           {
            "name": "Raygun",
            "readLink": "https://api.bing.microsoft.com/api/v7/entities/b45d4cbd-01a2-1742-985d-a82f8495ad62"
           },
           {
            "name": "Breakdancing",
            "readLink": "https://api.bing.microsoft.com/api/v7/entities/0b612655-6031-e2e8-4bd3-86511a213e37"
           },
           {
            "name": "Cricket",
            "readLink": "https://api.bing.microsoft.com/api/v7/entities/be775f8e-54ab-400d-f0b4-85a37fdc94f7"
           },
           {
            "name": "The Tonight Show Starring Jimmy Fallon",
            "readLink": "https://api.bing.microsoft.com/api/v7/entities/cd9669b2-65b7-49c0-bcaa-427ab7400faf"
           },
           {
            "name": "Jimmy Fallon",
            "readLink": "https://api.bing.microsoft.com/api/v7/entities/fe983f8e-b6be-f4a4-9135-fa6aab3a935b"
           }
          ],
          "datePublished": "2024-10-17T21:44:00.0000000Z",
          "description": "Raygun's infamous Olympics routine has risen from the dead, just in time for Halloween , with tributes to the breakdancing already surfacing on Aussie lawns",
          "image": {
           "thumbnail": {
            "contentUrl": "https://www.bing.com/th?id=OVFT.GJeM5-hFw21QO0nJeaaGTS&pid=News",
            "height": 393,
            "width": 700
           }
          },
          "name": "Raygun set for dubious new honour as tributes to the Olympic breakdancing appear ahead of Halloween",
          "provider": [
           {
            "_type": "Organization",
            "image": {
             "thumbnail": {
              "contentUrl": "https://www.bing.com/th?id=ODF._kZMPt4WNJFUpf58U6Qe-w&pid=news"
             }
            },
            "name": "Daily Mail"
           }
          ],
          "url": "https://www.dailymail.co.uk/sport/olympics/article-13972827/Raygun-set-dubious-new-honour-tributes-Olympic-breakdancing-appear-ahead-Halloween.html"
         },
         "index": 50,
         "key": 50
        },
        {
         "0": {
          "about": [
           {
            "name": "Shahs of Sunset",
            "readLink": "https://api.bing.microsoft.com/api/v7/entities/a58b874d-55ee-6ac8-1270-dac930d5a798"
           },
           {
            "name": "TMZ",
            "readLink": "https://api.bing.microsoft.com/api/v7/entities/a1837e6c-08a9-10e5-e939-fde794521212"
           },
           {
            "name": "Hookah",
            "readLink": "https://api.bing.microsoft.com/api/v7/entities/802d1c5e-0b39-a840-0ea6-9d1bbc40ed6c"
           }
          ],
          "category": "Politics",
          "datePublished": "2024-10-17T20:12:00.0000000Z",
          "description": "In April 2022, the former reality star was arrested for domestic violence. Paulina Ben-Cohen sued him over “vicious” attacks nearly two years later.",
          "image": {
           "thumbnail": {
            "contentUrl": "https://www.bing.com/th?id=OVFT.Lhv72KcKW5T_HJVQ8bv-8S&pid=News",
            "height": 466,
            "width": 700
           }
          },
          "name": "‘Shahs of Sunset’ alum Mike Shouhed seen brutally attacking then-fiancée in shocking newly released video",
          "provider": [
           {
            "_type": "Organization",
            "image": {
             "thumbnail": {
              "contentUrl": "https://www.bing.com/th?id=ODF.cbDT3vfpyoU3nKKCfZyv5A&pid=news"
             }
            },
            "name": "Page Six"
           }
          ],
          "url": "https://pagesix.com/2024/10/17/celebrity-news/shahs-of-sunsets-mike-shouhed-attacks-then-fiancee-in-newly-released-video/"
         },
         "index": 51,
         "key": 51
        },
        {
         "0": {
          "about": [
           {
            "name": "Paducah, Texas",
            "readLink": "https://api.bing.microsoft.com/api/v7/entities/1ec18904-6ad5-f2fd-ecbe-87757f9fde27"
           },
           {
            "name": "Lincoln High School",
            "readLink": "https://api.bing.microsoft.com/api/v7/entities/d29da22e-a3a7-f864-dd31-03d64cfafff3"
           }
          ],
          "datePublished": "2024-10-17T22:26:00.0000000Z",
          "description": "The Lincoln Station Project is doing a final call for community input before the survey closes on Friday for a proposed new Lincoln Community Center on Paducah's Southside. Click to",
          "image": {
           "thumbnail": {
            "contentUrl": "https://www.bing.com/th?id=OVFT.uit-vkQa-Zywjhmk_CfnZi&pid=News",
            "height": 367,
            "width": 700
           }
          },
          "name": "Lincoln Station Project Board seeks public input to preserve former school's legacy",
          "provider": [
           {
            "_type": "Organization",
            "image": {
             "thumbnail": {
              "contentUrl": "https://www.bing.com/th?id=ODF.0j_hrz_Am8ipxYiTzzGnyg&pid=news"
             }
            },
            "name": "WPSD Local 6"
           }
          ],
          "url": "https://www.wpsdlocal6.com/news/lincoln-station-project-board-seeks-public-input-to-preserve-former-schools-legacy/article_d32db6e4-8cd6-11ef-87e8-bf2c6fbe73fe.html",
          "video": {
           "name": "Lincoln Station Project Board seeks public input to preserve former school's legacy",
           "thumbnail": {
            "height": 273,
            "width": 520
           },
           "thumbnailUrl": "https://www.bing.com/th?id=OVF.GNx7vfJI%2FspPrWfLvI6YAQ&pid=News"
          }
         },
         "index": 52,
         "key": 52
        },
        {
         "0": {
          "category": "Entertainment",
          "datePublished": "2024-10-17T21:15:00.0000000Z",
          "description": "THEY think it’s all makeover . . . it is here, with this gallery of famous faces virtually unrecognisable in TV and movie roles. Hollywood starlet Sydney Sweeney, 27, has shocked fans by posting a",
          "name": "Irish star’s Penguin suit, actress’ Inglorious new show & heartthrob’s wrestler makeover… can you name them all?",
          "provider": [
           {
            "_type": "Organization",
            "image": {
             "thumbnail": {
              "contentUrl": "https://www.bing.com/th?id=ODF.mZZguWnkRkVFPCoaQUmKEg&pid=news"
             }
            },
            "name": "The Sun"
           }
          ],
          "url": "https://www.thesun.co.uk/tv/31149688/sydney-sweeney-celebs-unrecognisable-roles/"
         },
         "index": 53,
         "key": 53
        },
        {
         "0": {
          "about": [
           {
            "name": "CBS",
            "readLink": "https://api.bing.microsoft.com/api/v7/entities/ce01ad10-28a0-3ab8-62af-16da7ff03d8b"
           },
           {
            "name": "Halloween",
            "readLink": "https://api.bing.microsoft.com/api/v7/entities/2fb579cd-9c63-5667-6265-8338f5fa9a9e"
           },
           {
            "name": "Rose McIver",
            "readLink": "https://api.bing.microsoft.com/api/v7/entities/b1e89b64-64aa-04f3-4760-ce2c94d367ae"
           },
           {
            "name": "Utkarsh Ambudkar",
            "readLink": "https://api.bing.microsoft.com/api/v7/entities/6b314188-28c0-01bc-ac2a-cd63f41b1722"
           }
          ],
          "category": "Entertainment",
          "datePublished": "2024-10-17T23:15:00.0000000Z",
          "description": "Wondering when new episodes of Ghost come out? Here's when and where to watch Ghost streaming and live as it airs.",
          "name": "‘Ghosts’ Season 4 Release Schedule: When Do New Episodes Air?",
          "provider": [
           {
            "_type": "Organization",
            "image": {
             "thumbnail": {
              "contentUrl": "https://www.bing.com/th?id=ODF.3zqB2pXRwlAc2EJ5gQwBtg&pid=news"
             }
            },
            "name": "TheWrap"
           }
          ],
          "url": "https://www.thewrap.com/ghosts-season-4-release-date-time-episodes-schedule/"
         },
         "index": 54,
         "key": 54
        },
        {
         "0": {
          "category": "ScienceAndTechnology",
          "datePublished": "2024-10-17T20:43:00.0000000Z",
          "description": "Huawei's stunning Mate XT Ultimate Design phone and its display, which can fold into thirds, shows that the company's ability to innovate rivals Apple and Samsung.",
          "name": "I Was Astounded by This New 'Tri-Foldable' Phone… and Skeptical Too",
          "provider": [
           {
            "_type": "Organization",
            "image": {
             "thumbnail": {
              "contentUrl": "https://www.bing.com/th?id=ODF.vS3pKUrPWgIKkQBHtUkEPQ&pid=news"
             }
            },
            "name": "CNET"
           }
          ],
          "url": "https://www.cnet.com/tech/mobile/i-was-astounded-by-this-new-tri-foldable-phone-and-skeptical-too/"
         },
         "index": 55,
         "key": 55
        },
        {
         "0": {
          "category": "Sports",
          "datePublished": "2024-10-17T21:02:00.0000000Z",
          "description": "It's a side of Nix's personality that Broncos head coach Sean Payton enjoys and wants to utilize more as they head into a crucial Thursday night fixture against his old team, the New Orleans Saints. This is the first time that Nix will have to start a game on a short-week turnaround. It has it's own unique challenges.",
          "name": "Bo Nix on Sean Payton's Return to New Orleans: 'Just Another Game'",
          "provider": [
           {
            "_type": "Organization",
            "image": {
             "thumbnail": {
              "contentUrl": "https://www.bing.com/th?id=ODF.DAlg1K6d6FcCd2ockBPdcQ&pid=news"
             }
            },
            "name": "Denver Broncos On SI on MSN.com"
           }
          ],
          "url": "https://www.msn.com/en-us/sports/nfl/bo-nix-on-sean-paytons-return-to-new-orleans-just-another-game/ar-AA1ss9Ou"
         },
         "index": 56,
         "key": 56
        },
        {
         "0": {
          "category": "LifeStyle",
          "datePublished": "2024-10-17T22:56:00.0000000Z",
          "description": "Universal Studios Orlando has announced that Epic Universe, its highly-anticipated fourth theme park in Florida, will open sooner than expected - May 2025. Soon people will be able to purchase tickets to see the new theme park,",
          "name": "Epic Universe opening May 2025: When you can buy tickets, book hotel rooms, new lands and attractions",
          "provider": [
           {
            "_type": "Organization",
            "image": {
             "thumbnail": {
              "contentUrl": "https://www.bing.com/th?id=ODF.pPTO_qfDGMw5U2MDJ6xzpw&pid=news"
             }
            },
            "name": "FOX 35 Orlando on MSN.com"
           }
          ],
          "url": "https://www.msn.com/en-us/travel/tripideas/epic-universe-opening-may-2025-when-you-can-buy-tickets-book-hotel-rooms-new-lands-and-attractions/ar-AA1srljb"
         },
         "index": 57,
         "key": 57
        }
       ],
       "schema": [
        {
         "key": "0",
         "name": "json_object",
         "type": "StructType(StructField(about,ArrayType(StructType(StructField(name,StringType,true),StructField(readLink,StringType,true)),true),true),StructField(category,StringType,true),StructField(datePublished,StringType,true),StructField(description,StringType,true),StructField(image,StructType(StructField(thumbnail,StructType(StructField(contentUrl,StringType,true),StructField(height,LongType,true),StructField(width,LongType,true)),true)),true),StructField(mentions,ArrayType(StructType(StructField(name,StringType,true)),true),true),StructField(name,StringType,true),StructField(provider,ArrayType(StructType(StructField(_type,StringType,true),StructField(image,StructType(StructField(thumbnail,StructType(StructField(contentUrl,StringType,true)),true)),true),StructField(name,StringType,true)),true),true),StructField(url,StringType,true),StructField(video,StructType(StructField(name,StringType,true),StructField(thumbnail,StructType(StructField(height,LongType,true),StructField(width,LongType,true)),true),StructField(thumbnailUrl,StringType,true)),true))"
        }
       ],
       "truncated": false
      },
      "wranglerEntryContext": {
       "candidateVariableNames": [
        "df_explode"
       ],
       "dataframeType": "pyspark"
      }
     },
     "type": "Synapse.DataFrame"
    },
    "fbdf2d37-d88a-4136-98a3-d95d1e8cd5fa": {
     "persist_state": {
      "view": {
       "chartOptions": {
        "aggregationType": "count",
        "binsNumber": 10,
        "categoryFieldKeys": [
         "0"
        ],
        "chartType": "bar",
        "evaluatesOverAllRecords": false,
        "isStacked": false,
        "seriesFieldKeys": [
         "0"
        ],
        "wordFrequency": "-1"
       },
       "tableOptions": {},
       "type": "details"
      }
     },
     "sync_state": {
      "isSummary": false,
      "language": "scala",
      "table": {
       "rows": [
        {
         "0": [
          {
           "about": [
            {
             "name": "One Direction",
             "readLink": "https://api.bing.microsoft.com/api/v7/entities/41859a24-7710-c4fc-d160-faf4da82039d"
            },
            {
             "name": "Liam Payne",
             "readLink": "https://api.bing.microsoft.com/api/v7/entities/08fe6be2-f47b-4efe-9495-12737d3b911f"
            },
            {
             "name": "Buenos Aires",
             "readLink": "https://api.bing.microsoft.com/api/v7/entities/857a6814-3fe8-c414-84da-24018be87fce"
            },
            {
             "name": "NBC News",
             "readLink": "https://api.bing.microsoft.com/api/v7/entities/90fd2ef2-8123-de59-2b1f-ccd033454a4a"
            },
            {
             "name": "Chloe Melas",
             "readLink": "https://api.bing.microsoft.com/api/v7/entities/fb9803ee-0dcd-44a2-dc08-f1449fd582da"
            }
           ],
           "datePublished": "2024-10-17T23:15:00.0000000Z",
           "description": "Authorities revealed new details about the death of former One Direction singer Liam Payne in Buenos Aires. Officials said his death from a fall from a hotel window came minutes after the hotel called 911 about a guest who had overindulged on drugs and alcohol.",
           "image": {
            "thumbnail": {
             "contentUrl": "https://www.bing.com/th?id=OVFT.QwtkFQKNXLgWxZgRhrHM5C&pid=News",
             "height": 367,
             "width": 700
            }
           },
           "name": "New details in death of One Direction member Liam Payne",
           "provider": [
            {
             "_type": "Organization",
             "image": {
              "thumbnail": {
               "contentUrl": "https://www.bing.com/th?id=ODF.ighWNnrr5MMFUs8WKMme2A&pid=news"
              }
             },
             "name": "NBC News"
            }
           ],
           "url": "https://www.nbcnews.com/nightly-news/video/new-details-in-death-of-one-direction-member-liam-payne-222041669539",
           "video": {
            "name": "New details in death of One Direction member Liam Payne",
            "thumbnail": {
             "height": 292,
             "width": 520
            },
            "thumbnailUrl": "https://www.bing.com/th?id=OVF.7qvPH3oRD3rk%2FiSe9mdlnA&pid=News"
           }
          },
          {
           "about": [
            {
             "name": "Oakland Athletics",
             "readLink": "https://api.bing.microsoft.com/api/v7/entities/a22a9fcb-6508-cf68-4402-ed33455194a3"
            },
            {
             "name": "Las Vegas",
             "readLink": "https://api.bing.microsoft.com/api/v7/entities/26dfb75a-3573-4ff8-bbb3-b8cadaea23a8"
            },
            {
             "name": "Sacramento, California",
             "readLink": "https://api.bing.microsoft.com/api/v7/entities/4a1a8070-cc3d-4060-af9c-08ccbbca73d7"
            },
            {
             "name": "Las Vegas Review-Journal",
             "readLink": "https://api.bing.microsoft.com/api/v7/entities/8fae683e-3855-7b37-3689-7f9676e392db"
            },
            {
             "name": "Clark County, Nevada",
             "readLink": "https://api.bing.microsoft.com/api/v7/entities/3fe79fff-e771-c744-de67-4224eba7c2fd"
            }
           ],
           "datePublished": "2024-10-17T21:09:00.0000000Z",
           "description": "A new, detailed artist's rendering of the proposed stadium for the Athletics in Las Vegas, Nevada includes a first look at the new Bally's hotel/casino tower.",
           "image": {
            "thumbnail": {
             "contentUrl": "https://www.bing.com/th?id=OVFT.1zu8uSKBq7gRJq7ao7ahyy&pid=News",
             "height": 466,
             "width": 700
            }
           },
           "name": "MLB News: Fresh A's Stadium Renderings Include View of New Las Vegas Casino",
           "provider": [
            {
             "_type": "Organization",
             "image": {
              "thumbnail": {
               "contentUrl": "https://www.bing.com/th?id=ODF.uTJA7JDoTGKvff5o3jotfg&pid=news"
              }
             },
             "name": "MSN"
            }
           ],
           "url": "https://www.msn.com/en-us/sports/motorsports/mlb-news-fresh-a-s-stadium-renderings-include-view-of-new-las-vegas-casino/ar-AA1ssoZN"
          },
          {
           "about": [
            {
             "name": "Liam Payne",
             "readLink": "https://api.bing.microsoft.com/api/v7/entities/08fe6be2-f47b-4efe-9495-12737d3b911f"
            }
           ],
           "datePublished": "2024-10-17T17:30:08.0000000Z",
           "description": "Welcome to the live updates platform for Hindustan Times. Follow the major news updates, headlines and breaking news stories from the world of entertainment right here. See the latest developments in Bollywood,",
           "image": {
            "thumbnail": {
             "contentUrl": "https://www.bing.com/th?id=OVFT.eybydFk4R1ObzTq1kgqgPy&pid=News",
             "height": 309,
             "width": 549
            }
           },
           "name": "Latest entertainment News, Live Updates Today October 17, 2024: Is Liam Payne's death actually connected to Sean ‘Diddy’ Combs? Conspiracy theory says…",
           "provider": [
            {
             "_type": "Organization",
             "image": {
              "thumbnail": {
               "contentUrl": "https://www.bing.com/th?id=ODF.Caqyr0opfKlydldMITdwcw&pid=news"
              }
             },
             "name": "Hindustan Times on MSN.com"
            }
           ],
           "url": "https://www.msn.com/en-in/entertainment/other/latest-entertainment-news-live-updates-today-october-17-2024-is-liam-paynes-death-actually-connected-to-sean-diddy-combs-conspiracy-theory-says/ar-AA1ssauh"
          },
          {
           "about": [
            {
             "name": "Madhya Pradesh",
             "readLink": "https://api.bing.microsoft.com/api/v7/entities/bcbcd891-852b-6dac-1671-8d00b9eae5ea"
            }
           ],
           "datePublished": "2024-10-17T13:15:00.0000000Z",
           "description": "The Mukhyamantri Ladli Behna Yojana MP empowers eligible women in Madhya Pradesh with monthly financial aid for economic self-reliance. Check apply online date",
           "image": {
            "thumbnail": {
             "contentUrl": "https://www.bing.com/th?id=OVFT.nzaOLQCBa2PCYLH0rsRaVi&pid=News",
             "height": 393,
             "width": 700
            }
           },
           "name": "Ladli Behna Yojana 2024: Check Apply Online, Eligibility Criteria & Latest News",
           "provider": [
            {
             "_type": "Organization",
             "image": {
              "thumbnail": {
               "contentUrl": "https://www.bing.com/th?id=ODF.Pg1CxWVlDOcYEbJ-sTiq_g&pid=news"
              }
             },
             "name": "jagranjosh.com"
            }
           ],
           "url": "https://www.jagranjosh.com/articles/ladli-behna-yojna-mp-madhya-pradesh-1729171063-1"
          },
          {
           "about": [
            {
             "name": "New York City",
             "readLink": "https://api.bing.microsoft.com/api/v7/entities/60d5dc2b-c915-460b-b722-c9e3485499ca"
            },
            {
             "name": "Canada",
             "readLink": "https://api.bing.microsoft.com/api/v7/entities/370ed614-32e1-4326-a356-dc0a7dd56aaa"
            },
            {
             "name": "Extrajudicial killing",
             "readLink": "https://api.bing.microsoft.com/api/v7/entities/93bcd3e5-2576-f1a8-8d1a-eff177db9cb2"
            },
            {
             "name": "Department of Justice",
             "readLink": "https://api.bing.microsoft.com/api/v7/entities/b28458de-1324-8911-b01c-c1622a7cf159"
            },
            {
             "name": "Narendra Modi",
             "readLink": "https://api.bing.microsoft.com/api/v7/entities/04fee623-e9bd-ee4b-f30d-cad3c29199e4"
            },
            {
             "name": "India",
             "readLink": "https://api.bing.microsoft.com/api/v7/entities/85fa63d3-9596-adb9-b4eb-502273d84f56"
            },
            {
             "name": "Financial Times",
             "readLink": "https://api.bing.microsoft.com/api/v7/entities/941cdc8d-95cb-5ade-d349-63dc72d17314"
            },
            {
             "name": "Sikhs for Justice",
             "readLink": "https://api.bing.microsoft.com/api/v7/entities/d6a70116-a8f5-cf89-bf4e-22df8f2813e7"
            },
            {
             "name": "Netflix",
             "readLink": "https://api.bing.microsoft.com/api/v7/entities/424cb54b-41a3-c86b-d8e0-3ecef5609ce8"
            }
           ],
           "datePublished": "2024-10-17T22:42:00.0000000Z",
           "description": "The Department of Justice said Vikash Yadav, described as a “senior field officer” within Prime Minister Narendra Modi’s administration, directed a “murder-for-hire” scheme from India, in which a hitman was to be paid $100,000 for assassinating a US-Canadian citizen who was part of a separatist movement advocating for an independent Sikh state.",
           "name": "Live news: US charges Indian official over plot to kill Sikh activist in New York",
           "provider": [
            {
             "_type": "Organization",
             "image": {
              "thumbnail": {
               "contentUrl": "https://www.bing.com/th?id=ODF.CdBlognZ1u9nda-gVEOS_w&pid=news"
              }
             },
             "name": "The Financial Times"
            }
           ],
           "url": "https://www.ft.com/content/65cf7e16-63de-4c21-bfc7-4abadcda3ca6"
          },
          {
           "category": "Politics",
           "datePublished": "2024-10-17T22:17:00.0000000Z",
           "description": "At rallies across the country, former President Donald Trump has pledged to enact mass deportations of illegal immigrants, something he vowed to do during his first term but never fully realized.",
           "name": "Fox News Poll: Two-thirds favor deporting immigrants who live in U.S. illegally",
           "provider": [
            {
             "_type": "Organization",
             "image": {
              "thumbnail": {
               "contentUrl": "https://www.bing.com/th?id=ODF.mdH-v7wPV5psO7NVm756zg&pid=news"
              }
             },
             "name": "Fox News"
            }
           ],
           "url": "https://www.foxnews.com/official-polls/fox-news-poll-two-thirds-favor-deporting-immigrants-who-live-u-s-illegally"
          },
          {
           "about": [
            {
             "name": "Ukraine",
             "readLink": "https://api.bing.microsoft.com/api/v7/entities/ad599477-9e6d-4a0e-bab5-0edf9db7115a"
            },
            {
             "name": "White House",
             "readLink": "https://api.bing.microsoft.com/api/v7/entities/ef1d3513-cce2-159a-8d48-daa5ce9698db"
            },
            {
             "name": "Berlin",
             "readLink": "https://api.bing.microsoft.com/api/v7/entities/42784943-7c23-7672-5527-06f89b965cdf"
            },
            {
             "name": "World Health Organization",
             "readLink": "https://api.bing.microsoft.com/api/v7/entities/de47402a-ae16-1725-f842-dec4e31da591"
            },
            {
             "name": "Israel",
             "readLink": "https://api.bing.microsoft.com/api/v7/entities/1ffafed3-2b37-b871-c271-aa855d98449a"
            },
            {
             "name": "Polio vaccine",
             "readLink": "https://api.bing.microsoft.com/api/v7/entities/6c89a8ce-2170-a1a3-dd0e-8e5d08937a5a"
            }
           ],
           "category": "World",
           "datePublished": "2024-10-17T16:16:00.0000000Z",
           "description": "Stay here for real-time updates on breaking news from India and across the world that you can't miss: IndiGo flight makes emergency landing at Jaipur",
           "image": {
            "thumbnail": {
             "contentUrl": "https://www.bing.com/th?id=OVFT.yrSrWeTyfXB5y9J5AI9uGi&pid=News",
             "height": 379,
             "width": 700
            }
           },
           "name": "Breaking News Live: Senior IPS officer Praveen Vashista appointed as next special secretary for internal security",
           "provider": [
            {
             "_type": "Organization",
             "image": {
              "thumbnail": {
               "contentUrl": "https://www.bing.com/th?id=ODF.VBzHmoY4z9NL3FbRonyM1w&pid=news"
              }
             },
             "name": "Indiatimes"
            }
           ],
           "url": "https://timesofindia.indiatimes.com/india/latest-india-world-news-live-updates-today-breaking-news-15th-oct-2024/liveblog/114260977.cms"
          },
          {
           "about": [
            {
             "name": "Kamala Harris",
             "readLink": "https://api.bing.microsoft.com/api/v7/entities/ef5cf66f-32b7-7271-286a-8e8313eda5c5"
            },
            {
             "name": "Donald Trump",
             "readLink": "https://api.bing.microsoft.com/api/v7/entities/1a466af2-ed23-25bd-794d-1ca925e4681b"
            },
            {
             "name": "2024 United States presidential election",
             "readLink": "https://api.bing.microsoft.com/api/v7/entities/eb3d2900-d8f6-7103-31a3-4a9f285c366a"
            },
            {
             "name": "Pennsylvania",
             "readLink": "https://api.bing.microsoft.com/api/v7/entities/6304580e-c803-4266-818a-971619176547"
            },
            {
             "name": "Florida",
             "readLink": "https://api.bing.microsoft.com/api/v7/entities/5fece3f4-e8e8-4159-843e-f725a930ad50"
            },
            {
             "name": "Carter Center",
             "readLink": "https://api.bing.microsoft.com/api/v7/entities/2726104c-affa-7e1d-e650-3b0d4f633572"
            },
            {
             "name": "Jimmy Carter: Rock & Roll President",
             "readLink": "https://api.bing.microsoft.com/api/v7/entities/ebba07a5-d3ac-3f5c-6a45-6b1e75206f37"
            },
            {
             "name": "Georgia",
             "readLink": "https://api.bing.microsoft.com/api/v7/entities/4fe7777a-3d26-0e6a-243d-ae6d45c843c6"
            }
           ],
           "category": "Politics",
           "datePublished": "2024-10-17T08:15:00.0000000Z",
           "description": "With just 21 days remaining to cast votes this presidential season, Kamala Harris and Donald Trump are scrambling to win over key constituents as well as the other party's voters",
           "image": {
            "thumbnail": {
             "contentUrl": "https://www.bing.com/th?id=OVFT.8GfgWQFoFdMFEBY3Q5WXvi&pid=News",
             "height": 466,
             "width": 700
            }
           },
           "name": "The Latest: Harris and Trump Pivot to Turnout as Early Voting Begins",
           "provider": [
            {
             "_type": "Organization",
             "image": {
              "thumbnail": {
               "contentUrl": "https://www.bing.com/th?id=ODF.AlMAEy7MoWNz0OI_xSWQiw&pid=news"
              }
             },
             "name": "The Associated Press on MSN.com"
            }
           ],
           "url": "https://www.msn.com/en-us/news/politics/the-latest-harris-and-trump-pivot-to-turnout-as-early-voting-begins/ar-AA1sniLk"
          },
          {
           "about": [
            {
             "name": "Kamala Harris",
             "readLink": "https://api.bing.microsoft.com/api/v7/entities/ef5cf66f-32b7-7271-286a-8e8313eda5c5"
            },
            {
             "name": "Joe Biden",
             "readLink": "https://api.bing.microsoft.com/api/v7/entities/cad484f9-be75-7a78-12dd-16233f823cd7"
            },
            {
             "name": "Fox News",
             "readLink": "https://api.bing.microsoft.com/api/v7/entities/273e0477-30ed-3993-f232-f39244306805"
            },
            {
             "name": "Bret Baier",
             "readLink": "https://api.bing.microsoft.com/api/v7/entities/9b86aac2-db97-40ed-291a-956e112ee639"
            },
            {
             "name": "Donald Trump",
             "readLink": "https://api.bing.microsoft.com/api/v7/entities/1a466af2-ed23-25bd-794d-1ca925e4681b"
            }
           ],
           "category": "Politics",
           "datePublished": "2024-10-17T21:36:00.0000000Z",
           "description": "Kamala Harris and Fox News host Bret Baier sparred repeatedly over immigration, Donald Trump and Harris’ record as vice president in a televised interview Wednesday night. The two frequently spoke over one another in the contentious exchange,",
           "image": {
            "thumbnail": {
             "contentUrl": "https://www.bing.com/th?id=OVFT.mOYhnpbW4Of5UT97bHHHsC&pid=News",
             "height": 466,
             "width": 700
            }
           },
           "name": "Kamala Harris spars over Biden administration's record in Fox News interview",
           "provider": [
            {
             "_type": "Organization",
             "image": {
              "thumbnail": {
               "contentUrl": "https://www.bing.com/th?id=ODF.nYADEgS75l8rdCg9D-p_OQ&pid=news"
              }
             },
             "name": "YAHOO!News"
            }
           ],
           "url": "https://news.yahoo.com/news/kamala-harris-sits-interview-conservative-203700248.html"
          },
          {
           "about": [
            {
             "name": "News 12 Networks",
             "readLink": "https://api.bing.microsoft.com/api/v7/entities/a0c67096-b1e5-44bf-3c53-10c7be80a7d6"
            },
            {
             "name": "Election day",
             "readLink": "https://api.bing.microsoft.com/api/v7/entities/6bc2c73d-9a31-34df-0fa2-038918b833c2"
            },
            {
             "name": "Ballotpedia",
             "readLink": "https://api.bing.microsoft.com/api/v7/entities/00fbfaf1-5627-e65c-eb19-1ce97228f825"
            }
           ],
           "datePublished": "2024-10-17T20:14:00.0000000Z",
           "description": "As you get ready to head to the polls on Nov. 5, News 12 gives you the tools and resources you need to make an informed decision on Election Day.",
           "image": {
            "thumbnail": {
             "contentUrl": "https://www.bing.com/th?id=OVFT.gxrmiU442KQ9mDqgqOF0fS&pid=News",
             "height": 393,
             "width": 700
            }
           },
           "name": "News 12 New Jersey 2024 Voters Guide",
           "provider": [
            {
             "_type": "Organization",
             "image": {
              "thumbnail": {
               "contentUrl": "https://www.bing.com/th?id=ODF.pLW_qbtRH5jPxsvrBSqZ4A&pid=news"
              }
             },
             "name": "News 12 Networks"
            }
           ],
           "url": "https://newjersey.news12.com/category/news-12-new-jersey-2024-voters-guide"
          },
          {
           "about": [
            {
             "name": "Kamala Harris",
             "readLink": "https://api.bing.microsoft.com/api/v7/entities/ef5cf66f-32b7-7271-286a-8e8313eda5c5"
            },
            {
             "name": "Joe Biden",
             "readLink": "https://api.bing.microsoft.com/api/v7/entities/cad484f9-be75-7a78-12dd-16233f823cd7"
            },
            {
             "name": "Fox News",
             "readLink": "https://api.bing.microsoft.com/api/v7/entities/273e0477-30ed-3993-f232-f39244306805"
            },
            {
             "name": "Joe Biden 2020 presidential campaign",
             "readLink": "https://api.bing.microsoft.com/api/v7/entities/930c366b-8c46-b97d-d826-abb8f0807dcb"
            },
            {
             "name": "Bret Baier",
             "readLink": "https://api.bing.microsoft.com/api/v7/entities/9b86aac2-db97-40ed-291a-956e112ee639"
            },
            {
             "name": "Special Report with Bret Baier",
             "readLink": "https://api.bing.microsoft.com/api/v7/entities/4fefcd96-bf77-de10-32f5-d030466a564b"
            },
            {
             "name": "Pennsylvania",
             "readLink": "https://api.bing.microsoft.com/api/v7/entities/6304580e-c803-4266-818a-971619176547"
            }
           ],
           "category": "Politics",
           "datePublished": "2024-10-17T22:12:00.0000000Z",
           "description": "\"I represent a new generation of leadership,” the vice president said in her first interview with the conservative cable news network.",
           "image": {
            "thumbnail": {
             "contentUrl": "https://www.bing.com/th?id=OVFT.N5VCUfmmo0K-D2u-7waJuC&pid=News",
             "height": 350,
             "width": 700
            }
           },
           "name": "Kamala Harris Says She Won't Be 'A Continuation' Of Joe Biden In Combative Fox News Interview",
           "provider": [
            {
             "_type": "Organization",
             "image": {
              "thumbnail": {
               "contentUrl": "https://www.bing.com/th?id=ODF.nYADEgS75l8rdCg9D-p_OQ&pid=news"
              }
             },
             "name": "YAHOO!News"
            }
           ],
           "url": "https://news.yahoo.com/news/kamala-harris-says-she-wont-231355013.html",
           "video": {
            "name": "Kamala Harris Says She Won't Be 'A Continuation' Of Joe Biden In Combative Fox News Interview",
            "thumbnail": {
             "height": 260,
             "width": 520
            },
            "thumbnailUrl": "https://www.bing.com/th?id=OVF.2BPQDIZaL0OvG3PHE%2BObqQ&pid=News"
           }
          },
          {
           "about": [
            {
             "name": "Cervical cancer",
             "readLink": "https://api.bing.microsoft.com/api/v7/entities/30c5a0c0-8250-047b-a60d-c59cd8615d39"
            },
            {
             "name": "Chemotherapy",
             "readLink": "https://api.bing.microsoft.com/api/v7/entities/0588906e-398e-d5dd-d7b8-2f97213f2c68"
            },
            {
             "name": "University College London",
             "readLink": "https://api.bing.microsoft.com/api/v7/entities/20b640eb-2f1a-2b91-14f3-348b9a1bf371"
            },
            {
             "name": "Institute of Cancer Research",
             "readLink": "https://api.bing.microsoft.com/api/v7/entities/4462a52b-7ca1-8918-0caf-bf153ff41561"
            },
            {
             "name": "Cancer Research UK",
             "readLink": "https://api.bing.microsoft.com/api/v7/entities/5fba90c1-9539-089b-363e-0392a9a891cb"
            },
            {
             "name": "The Lancet",
             "readLink": "https://api.bing.microsoft.com/api/v7/entities/a0261722-9d45-23d6-db93-d2e25023c574"
            },
            {
             "name": "India",
             "readLink": "https://api.bing.microsoft.com/api/v7/entities/85fa63d3-9596-adb9-b4eb-502273d84f56"
            },
            {
             "name": "Mexico",
             "readLink": "https://api.bing.microsoft.com/api/v7/entities/8e475659-4bdc-d912-6494-affce0096bc1"
            }
           ],
           "datePublished": "2024-10-17T12:46:00.0000000Z",
           "description": "The researchers found that 80% of those who got a short course of chemotherapy first lived at least five more years, and 72% did not have any cancer return or spread. In the control group, 72% survived at least five years, and 64% had no cancer return or spread.",
           "image": {
            "thumbnail": {
             "contentUrl": "https://www.bing.com/th?id=OVFT._5F7RqYi-OGkqeqMEZiTcS&pid=News",
             "height": 200,
             "width": 300
            }
           },
           "name": "New Drug Regimen Extends Survival for Cervical Cancer Patients",
           "provider": [
            {
             "_type": "Organization",
             "image": {
              "thumbnail": {
               "contentUrl": "https://www.bing.com/th?id=ODF.ZUvKX7lBhXaLGhOrD6YbBg&pid=news"
              }
             },
             "name": "U.S. News & World Report"
            }
           ],
           "url": "https://www.usnews.com/news/health-news/articles/2024-10-17/new-drug-regimen-extends-survival-for-cervical-cancer-patients"
          },
          {
           "about": [
            {
             "name": "India",
             "readLink": "https://api.bing.microsoft.com/api/v7/entities/85fa63d3-9596-adb9-b4eb-502273d84f56"
            },
            {
             "name": "M. Chinnaswamy Stadium",
             "readLink": "https://api.bing.microsoft.com/api/v7/entities/85ec3897-c3ed-4c21-dd73-318a80fbd468"
            },
            {
             "name": "Bengaluru FC",
             "readLink": "https://api.bing.microsoft.com/api/v7/entities/e3027fb3-3f4b-4c71-e40c-e07ddcf89bd3"
            },
            {
             "name": "Rohit Sharma",
             "readLink": "https://api.bing.microsoft.com/api/v7/entities/56bcfaf9-df53-4e77-1e38-f8a7da102c63"
            },
            {
             "name": "Virat Kohli",
             "readLink": "https://api.bing.microsoft.com/api/v7/entities/43175d39-e52e-d4e2-5e46-96746197d717"
            },
            {
             "name": "Yashasvi Jaiswal",
             "readLink": "https://api.bing.microsoft.com/api/v7/entities/b9caab3c-42b5-cded-c819-aa631b2b7604"
            },
            {
             "name": "Shubman Gill",
             "readLink": "https://api.bing.microsoft.com/api/v7/entities/edb1e1bb-362e-16c4-9c3f-7c38b60ee78e"
            },
            {
             "name": "Rishabh Pant",
             "readLink": "https://api.bing.microsoft.com/api/v7/entities/3125f58f-7865-579e-ba20-20d0830a715c"
            },
            {
             "name": "Bangladesh",
             "readLink": "https://api.bing.microsoft.com/api/v7/entities/c5fa012f-7347-0857-872b-2a5efc180846"
            },
            {
             "name": "Ravichandran Ashwin",
             "readLink": "https://api.bing.microsoft.com/api/v7/entities/f12319f5-d9b7-32fe-bc06-2528fff3e579"
            },
            {
             "name": "Jasprit Bumrah",
             "readLink": "https://api.bing.microsoft.com/api/v7/entities/cce384da-9bd4-421b-80c7-fe49497597e8"
            },
            {
             "name": "New Zealand",
             "readLink": "https://api.bing.microsoft.com/api/v7/entities/6517d967-9362-4c0d-83d2-cf369fa5fcda"
            },
            {
             "name": "Kane Williamson",
             "readLink": "https://api.bing.microsoft.com/api/v7/entities/da378c4a-6410-742d-bf89-3fb953c66464"
            }
           ],
           "category": "LifeStyle",
           "datePublished": "2024-10-17T02:36:00.0000000Z",
           "description": "The first day of the IND vs NZ Test match has been called of due to rain without a single ball being bowled, The weather does not look promising for the remainder of the Test either",
           "image": {
            "thumbnail": {
             "contentUrl": "https://www.bing.com/th?id=OVFT.JHhBpdJT9ysy40DCXrqX6C&pid=News",
             "height": 393,
             "width": 700
            }
           },
           "name": "India vs New Zealand highlights, 1st Test: Play called off in Bengaluru",
           "provider": [
            {
             "_type": "Organization",
             "image": {
              "thumbnail": {
               "contentUrl": "https://www.bing.com/th?id=ODF.KAwemXIpD5l2nQRDmYLy2w&pid=news"
              }
             },
             "name": "The Indian Express"
            }
           ],
           "url": "https://indianexpress.com/article/sports/cricket/india-vs-new-zealand-live-score-1st-test-ind-vs-nz-latest-scorecard-updates-9621892/"
          },
          {
           "about": [
            {
             "name": "Prince George of Cambridge",
             "readLink": "https://api.bing.microsoft.com/api/v7/entities/d3ecdc09-7e09-4630-a38d-dc6806dc26b5"
            },
            {
             "name": "Prince Louis of Cambridge",
             "readLink": "https://api.bing.microsoft.com/api/v7/entities/3780699d-4f02-8170-76e2-af7763353501"
            },
            {
             "name": "Cocker Spaniel",
             "readLink": "https://api.bing.microsoft.com/api/v7/entities/60c95830-98a7-6afc-0222-ab90862353c5"
            },
            {
             "name": "Prince William, Duke of Cambridge",
             "readLink": "https://api.bing.microsoft.com/api/v7/entities/026387b6-916a-4fd2-91c9-c67298468905"
            }
           ],
           "datePublished": "2024-10-17T22:01:00.0000000Z",
           "description": "Prince George , Princess Charlotte , and Prince Louis may soon welcome a new addition to their family, according to reports. The family welcomed a cocker spaniel puppy named Orla in 2021 and Prince William has reportedly shared that the children could soon expect new puppies after going through a “tough year”.",
           "image": {
            "thumbnail": {
             "contentUrl": "https://www.bing.com/th?id=OVFT.m04JO8JUz04ceMDLCeVazi&pid=News",
             "height": 367,
             "width": 700
            }
           },
           "name": "Prince George, Charlotte, and Louis eagerly anticipate new arrivals after 'tough year'",
           "provider": [
            {
             "_type": "Organization",
             "image": {
              "thumbnail": {
               "contentUrl": "https://www.bing.com/th?id=ODF.B6nvPq26UTBuCaXH6tX71w&pid=news"
              }
             },
             "name": "Daily Record"
            }
           ],
           "url": "https://www.dailyrecord.co.uk/entertainment/celebrity/prince-george-charlotte-louis-eagerly-33914608"
          },
          {
           "about": [
            {
             "name": "Hyundai Motor India",
             "readLink": "https://api.bing.microsoft.com/api/v7/entities/058d2904-b7ee-799c-9044-346729b2948d"
            },
            {
             "name": "Mumbai",
             "readLink": "https://api.bing.microsoft.com/api/v7/entities/fbbc8d69-667a-e1ff-34bf-e524be01025d"
            },
            {
             "name": "Three Sixty West",
             "readLink": "https://api.bing.microsoft.com/api/v7/entities/d1d8d007-4b4e-4975-8170-35f46c275c71"
            }
           ],
           "category": "Business",
           "datePublished": "2024-10-17T10:30:00.0000000Z",
           "description": "Hyundai Motor IPO's Grey Market Premium (GMP) is significantly subdued at under 1%. The issue closes on October 17 and all eyes would be on the allotment status once the issue ends.",
           "image": {
            "thumbnail": {
             "contentUrl": "https://www.bing.com/th?id=OVFT.rk_TEbGL8Kbs4sfddvmDnS&pid=News",
             "height": 393,
             "width": 700
            }
           },
           "name": "Hyundai IPO GMP Allotment status Live Updates: Check latest GMP, allotment, listing, price band; IPO fully subscribed",
           "provider": [
            {
             "_type": "Organization",
             "image": {
              "thumbnail": {
               "contentUrl": "https://www.bing.com/th?id=ODF.7h8TdLFTlOnT9gKVUsDMyQ&pid=news"
              }
             },
             "name": "The Financial Express"
            }
           ],
           "url": "https://www.financialexpress.com/market/ipo-news-hyundai-motor-india-ipo-2024-live-updates-today-gmp-allotment-status-subscription-review-ipo-news-3642011/"
          },
          {
           "about": [
            {
             "name": "RollerCoaster Tycoon",
             "readLink": "https://api.bing.microsoft.com/api/v7/entities/d07c05ad-6dcb-d38d-f990-f2e31cfaf482"
            },
            {
             "name": "Frontier Developments",
             "readLink": "https://api.bing.microsoft.com/api/v7/entities/bbef1863-a3a9-7a39-c426-626580bc5dc1"
            },
            {
             "name": "Planet Coaster",
             "readLink": "https://api.bing.microsoft.com/api/v7/entities/21cc0aa1-dcde-b04d-49b1-283a2976468d"
            }
           ],
           "category": "ScienceAndTechnology",
           "datePublished": "2024-10-17T08:48:00.0000000Z",
           "description": "Planet Coaster 2 is set to drop on all of its platforms on 6th November 2024. Not a long wait at all! Sign up for our gaming newsletter to receive the latest insights, reviews and expert recommendations",
           "image": {
            "thumbnail": {
             "contentUrl": "https://www.bing.com/th?id=OVFT.XwBwzlmNYOiDx7dIT83BUi&pid=News",
             "height": 367,
             "width": 700
            }
           },
           "name": "Planet Coaster 2 release date, pre-order and latest news",
           "provider": [
            {
             "_type": "Organization",
             "image": {
              "thumbnail": {
               "contentUrl": "https://www.bing.com/th?id=ODF.HVIMpkpJ5pX4_z5dj2pDfw&pid=news"
              }
             },
             "name": "Radio Times"
            }
           ],
           "url": "https://www.radiotimes.com/technology/gaming/planet-coaster-2-release/"
          },
          {
           "about": [
            {
             "name": "United States Secret Service",
             "readLink": "https://api.bing.microsoft.com/api/v7/entities/7790583a-9704-5339-2155-84151b887109"
            },
            {
             "name": "NBC News",
             "readLink": "https://api.bing.microsoft.com/api/v7/entities/90fd2ef2-8123-de59-2b1f-ccd033454a4a"
            },
            {
             "name": "Donald Trump",
             "readLink": "https://api.bing.microsoft.com/api/v7/entities/1a466af2-ed23-25bd-794d-1ca925e4681b"
            }
           ],
           "category": "Politics",
           "datePublished": "2024-10-17T19:36:49.0000000Z",
           "description": "In an exclusive interview with NBC News, Ronald Rowe Jr. said he worried about “demoralized” Secret Service agents who are being pushed to the brink.",
           "image": {
            "thumbnail": {
             "contentUrl": "https://www.bing.com/th?id=OVFT.aGlWb2MUtymucyj5Zxgd9S&pid=News",
             "height": 367,
             "width": 700
            }
           },
           "name": "Acting Secret Service director responds to critical new report about security failures",
           "provider": [
            {
             "_type": "Organization",
             "image": {
              "thumbnail": {
               "contentUrl": "https://www.bing.com/th?id=ODF.ighWNnrr5MMFUs8WKMme2A&pid=news"
              }
             },
             "name": "NBC News on MSN.com"
            }
           ],
           "url": "https://www.msn.com/en-us/news/politics/acting-secret-service-director-responds-to-critical-new-report-about-security-failures/ar-AA1ssjgQ",
           "video": {
            "name": "Acting Secret Service director responds to critical new report about security failures",
            "thumbnail": {
             "height": 273,
             "width": 520
            },
            "thumbnailUrl": "https://www.bing.com/th?id=OVF.Y9JgyHeAaLcXsg7np3doGg&pid=News"
           }
          },
          {
           "about": [
            {
             "name": "Donald Trump",
             "readLink": "https://api.bing.microsoft.com/api/v7/entities/1a466af2-ed23-25bd-794d-1ca925e4681b"
            },
            {
             "name": "Arizona",
             "readLink": "https://api.bing.microsoft.com/api/v7/entities/bf973f46-5962-4997-a7ba-a05f1aa2a9f9"
            },
            {
             "name": "Abortion",
             "readLink": "https://api.bing.microsoft.com/api/v7/entities/e68240d7-50b4-4edf-b17a-54f2d54ffebc"
            },
            {
             "name": "The New York Times",
             "readLink": "https://api.bing.microsoft.com/api/v7/entities/614b60a2-4ccd-3ecb-15dc-6e2fba54ed28"
            },
            {
             "name": "The Philadelphia Inquirer",
             "readLink": "https://api.bing.microsoft.com/api/v7/entities/8dd895ce-173b-e1d5-2615-a5efc703619f"
            },
            {
             "name": "Siena College",
             "readLink": "https://api.bing.microsoft.com/api/v7/entities/38fc1f25-24e4-f324-73c3-9c35805e9044"
            },
            {
             "name": "FiveThirtyEight",
             "readLink": "https://api.bing.microsoft.com/api/v7/entities/486e9989-63d9-720c-e97d-c10b2923174a"
            },
            {
             "name": "The Wall Street Journal",
             "readLink": "https://api.bing.microsoft.com/api/v7/entities/70834f76-d913-bf85-87a6-b9386945a646"
            }
           ],
           "category": "Politics",
           "datePublished": "2024-10-17T22:28:00.0000000Z",
           "description": "President Joe Biden narrowly won the battleground state in 2020 over Trump, who sought to overturn election results in the state.",
           "image": {
            "thumbnail": {
             "contentUrl": "https://www.bing.com/th?id=OVFT.twYq9P5FyOpAe4egwoUrcy&pid=News",
             "height": 466,
             "width": 700
            }
           },
           "name": "Arizona 2024 Trump-Harris Polls: Trump Up 3 Points In Latest Survey",
           "provider": [
            {
             "_type": "Organization",
             "image": {
              "thumbnail": {
               "contentUrl": "https://www.bing.com/th?id=ODF.U6nYa4Huf-RFEhjg-V4hNg&pid=news"
              }
             },
             "name": "Forbes"
            }
           ],
           "url": "https://www.forbes.com/sites/antoniopequenoiv/2024/10/17/arizona-2024-trump-harris-polls-trump-up-3-points-in-latest-survey/"
          },
          {
           "about": [
            {
             "name": "Vanderpump Rules",
             "readLink": "https://api.bing.microsoft.com/api/v7/entities/bf2d5f3d-434c-4402-ada1-630fa78533e6"
            },
            {
             "name": "Something About Her",
             "readLink": "https://api.bing.microsoft.com/api/v7/entities/5c145280-4bd5-4af6-b9cc-3f95789ed278"
            },
            {
             "name": "Bravo",
             "readLink": "https://api.bing.microsoft.com/api/v7/entities/07040c94-3c74-9b84-b446-88a1782c7c88"
            }
           ],
           "category": "Entertainment",
           "datePublished": "2024-10-17T20:13:01.0000000Z",
           "description": "Katie Maloney is all smiles and it's not just because of her successful sandwich shop — aptly named Something About Her. The 37-year-old Vanderpump Rules alum just went public with some big personal news: she's got a new boyfriend and she's totally \"in love.\" The reveal came on her ex-husband Tom Schwartz's birthday.",
           "image": {
            "thumbnail": {
             "contentUrl": "https://www.bing.com/th?id=OVFT.BHtANKwiTH6yFhZeMFm96i&pid=News",
             "height": 466,
             "width": 700
            }
           },
           "name": "Vanderpump Rules' Katie Maloney Gushes Over New Boyfriend",
           "provider": [
            {
             "_type": "Organization",
             "image": {
              "thumbnail": {
               "contentUrl": "https://www.bing.com/th?id=ODF.uTJA7JDoTGKvff5o3jotfg&pid=news"
              }
             },
             "name": "Newsweek on MSN.com"
            }
           ],
           "url": "https://www.msn.com/en-us/tv/celebrity/vanderpump-rules-katie-maloney-gushes-over-new-boyfriend/ar-AA1ssmnv",
           "video": {
            "name": "Vanderpump Rules' Katie Maloney gushes over new boyfriend",
            "thumbnail": {
             "height": 346,
             "width": 520
            },
            "thumbnailUrl": "https://www.bing.com/th?id=OVF.AZR6kM2zfLh0iJuwdTb2Xw&pid=News"
           }
          },
          {
           "about": [
            {
             "name": "Arizona",
             "readLink": "https://api.bing.microsoft.com/api/v7/entities/bf973f46-5962-4997-a7ba-a05f1aa2a9f9"
            },
            {
             "name": "CBS News",
             "readLink": "https://api.bing.microsoft.com/api/v7/entities/0a985fc5-6c6a-ff51-ed2c-b928b1cb09d2"
            },
            {
             "name": "YouGov",
             "readLink": "https://api.bing.microsoft.com/api/v7/entities/08c56f6d-85d5-44bc-4abf-00f8d41e276d"
            }
           ],
           "category": "LifeStyle",
           "datePublished": "2024-10-17T22:26:00.0000000Z",
           "description": "Former President Trump is up by 3 points over his rival Vice President Harris in a Arizona poll released on Thursday.  Trump garnered 51 percent over Harris’s 48 percent among likely voters",
           "image": {
            "thumbnail": {
             "contentUrl": "https://www.bing.com/th?id=OVFT.9wySAKosf2cfYRgD6rPhuC&pid=News",
             "height": 393,
             "width": 700
            }
           },
           "name": "Trump up by 3 points over Harris in new Arizona poll",
           "provider": [
            {
             "_type": "Organization",
             "image": {
              "thumbnail": {
               "contentUrl": "https://www.bing.com/th?id=ODF.BO7AWyiZH_p5UNPH6KXa_g&pid=news"
              }
             },
             "name": "The Hill"
            }
           ],
           "url": "https://thehill.com/homenews/campaign/4939928-trump-harris-arizona-cbs-poll/"
          },
          {
           "about": [
            {
             "name": "Kamala Harris",
             "readLink": "https://api.bing.microsoft.com/api/v7/entities/ef5cf66f-32b7-7271-286a-8e8313eda5c5"
            },
            {
             "name": "Donald Trump",
             "readLink": "https://api.bing.microsoft.com/api/v7/entities/1a466af2-ed23-25bd-794d-1ca925e4681b"
            },
            {
             "name": "New Hampshire",
             "readLink": "https://api.bing.microsoft.com/api/v7/entities/9ca71997-cc97-46eb-8911-fac32f80b0b1"
            },
            {
             "name": "2024 United States presidential election",
             "readLink": "https://api.bing.microsoft.com/api/v7/entities/eb3d2900-d8f6-7103-31a3-4a9f285c366a"
            },
            {
             "name": "University of Massachusetts Lowell",
             "readLink": "https://api.bing.microsoft.com/api/v7/entities/63f23f75-b529-a79e-9639-d88eb1f4bd2c"
            },
            {
             "name": "Jill Stein",
             "readLink": "https://api.bing.microsoft.com/api/v7/entities/d871183a-86c0-4d16-ad2b-9c13a75e75d9"
            },
            {
             "name": "Saint Anselm College",
             "readLink": "https://api.bing.microsoft.com/api/v7/entities/5800fa73-9b2d-a8aa-434c-573db82ae571"
            }
           ],
           "category": "Politics",
           "datePublished": "2024-10-17T21:05:00.0000000Z",
           "description": "Kamala Harris continues to hold a lead over Donald Trump in New Hampshire, according to new poll. Market Basket is top grocery store in a landslide.",
           "image": {
            "thumbnail": {
             "contentUrl": "https://www.bing.com/th?id=OVFT.It3vm6fV5yurORwcghf1Yy&pid=News",
             "height": 394,
             "width": 700
            }
           },
           "name": "Kamala Harris holds lead over Donald Trump in NH in latest poll",
           "provider": [
            {
             "_type": "Organization",
             "image": {
              "thumbnail": {
               "contentUrl": "https://www.bing.com/th?id=ODF.m1iod5ODNIyyKu23kGIllQ&pid=news"
              }
             },
             "name": "USA Today"
            }
           ],
           "url": "https://www.usatoday.com/story/news/politics/elections/2024/10/17/kamala-harris-leads-donald-trump-nh-poll-umass-lowell/75714742007/"
          },
          {
           "about": [
            {
             "name": "Hamas",
             "readLink": "https://api.bing.microsoft.com/api/v7/entities/fd56a0c1-5b09-6e40-09dc-a8abf5069c30"
            },
            {
             "name": "Yahya Sinwar",
             "readLink": "https://api.bing.microsoft.com/api/v7/entities/10611261-e7ad-2ac1-e32e-1cac8bdc5fa7"
            },
            {
             "name": "Gaza Strip",
             "readLink": "https://api.bing.microsoft.com/api/v7/entities/90eb9ff6-60ad-da43-d3fe-1ee3e3cb775a"
            },
            {
             "name": "Israel",
             "readLink": "https://api.bing.microsoft.com/api/v7/entities/1ffafed3-2b37-b871-c271-aa855d98449a"
            }
           ],
           "category": "World",
           "datePublished": "2024-10-17T22:19:00.0000000Z",
           "description": "Hamas's leader Yahya Sinwar has been killed in an attack in Gaza, Israel's foreign minister has confirmed. The Israeli military has released footage claiming to show his final moments. Watch Sky News live below as we bring you the latest updates from the Middle East.",
           "image": {
            "thumbnail": {
             "contentUrl": "https://www.bing.com/th?id=OVFT.ysFvdUbFnmQJHp2mJstxQi&pid=News",
             "height": 393,
             "width": 700
            }
           },
           "name": "Middle East latest: Hamas leader confirmed dead; Israeli military releases video of his 'final moments'",
           "provider": [
            {
             "_type": "Organization",
             "image": {
              "thumbnail": {
               "contentUrl": "https://www.bing.com/th?id=ODF.Eg62H9DIbo-JYPI6GpAgGA&pid=news"
              }
             },
             "name": "Sky"
            }
           ],
           "url": "https://news.sky.com/story/middle-east-latest-hamas-leader-confirmed-dead-israeli-military-releases-video-of-his-final-moments-12978800"
          },
          {
           "about": [
            {
             "name": "China",
             "readLink": "https://api.bing.microsoft.com/api/v7/entities/5fcc3d97-0cf2-94e5-6dad-cd70e387bd69"
            },
            {
             "name": "London",
             "readLink": "https://api.bing.microsoft.com/api/v7/entities/8e0ba7b6-4225-fa8a-6369-1b5294e602a5"
            },
            {
             "name": "David Lammy",
             "readLink": "https://api.bing.microsoft.com/api/v7/entities/64d4059c-5830-d40a-7759-a83fef79ea55"
            },
            {
             "name": "Beijing",
             "readLink": "https://api.bing.microsoft.com/api/v7/entities/e43bc499-902a-5deb-aced-aa4a247e6822"
            },
            {
             "name": "Ukraine",
             "readLink": "https://api.bing.microsoft.com/api/v7/entities/ad599477-9e6d-4a0e-bab5-0edf9db7115a"
            },
            {
             "name": "Wang Yi",
             "readLink": "https://api.bing.microsoft.com/api/v7/entities/7ef0df52-29c6-097d-541b-210ed25c305b"
            },
            {
             "name": "Shanghai",
             "readLink": "https://api.bing.microsoft.com/api/v7/entities/29ece984-463e-6074-60e1-83f8c012ef70"
            },
            {
             "name": "United Nations Security Council",
             "readLink": "https://api.bing.microsoft.com/api/v7/entities/b503a3ad-8e42-29ad-4feb-b4a2b81ac7c6"
            }
           ],
           "category": "World",
           "datePublished": "2024-10-17T22:06:00.0000000Z",
           "description": "Foreign minister David Lammy will arrive in China on Friday seeking to demonstrate Britain's new government is taking a pragmatic and strategic approach to building ties with Beijing, even while acknowledging areas of sharp disagreement.",
           "image": {
            "thumbnail": {
             "contentUrl": "https://www.bing.com/th?id=OVFT.dsS0cdYTJwDSyIWjLHIG4C&pid=News",
             "height": 366,
             "width": 700
            }
           },
           "name": "UK's new foreign minister travels to China seeking 'pragmatic' ties",
           "provider": [
            {
             "_type": "Organization",
             "image": {
              "thumbnail": {
               "contentUrl": "https://www.bing.com/th?id=ODF.jFXbg3L7Ce_1pS4_IOR8CA&pid=news"
              }
             },
             "name": "Reuters"
            }
           ],
           "url": "https://www.reuters.com/world/uks-new-foreign-minister-travels-china-seeking-pragmatic-ties-2024-10-17/"
          },
          {
           "category": "World",
           "datePublished": "2024-10-17T23:16:00.0000000Z",
           "description": "\"I’m a longtime teacher and in my classroom we believe in facts, so here are a few,\" said the wife of Democratic vice presidential nominee Tim Walz.",
           "name": "Gwen Walz Schools Donald Trump Over His Latest ‘Creepy’ And ‘Downright Nuts’ Boast",
           "provider": [
            {
             "_type": "Organization",
             "image": {
              "thumbnail": {
               "contentUrl": "https://www.bing.com/th?id=ODF.8SdII0Js_SngmBlHWTAF2w&pid=news"
              }
             },
             "name": "Yahoo News Australia"
            }
           ],
           "url": "https://au.yahoo.com/news/gwen-walz-schools-donald-trump-105211071.html"
          },
          {
           "about": [
            {
             "name": "Aaron Boone",
             "readLink": "https://api.bing.microsoft.com/api/v7/entities/ec8a9da6-0995-1b1d-0008-a2f9e2f84852"
            },
            {
             "name": "New York Yankees",
             "readLink": "https://api.bing.microsoft.com/api/v7/entities/34f268cb-0019-fa41-d7e4-7fe472f43c04"
            },
            {
             "name": "Clarke Schmidt",
             "readLink": "https://api.bing.microsoft.com/api/v7/entities/d5d561f4-30cb-6904-b543-5debea250524"
            },
            {
             "name": "Kansas City Royals",
             "readLink": "https://api.bing.microsoft.com/api/v7/entities/fff4d2b8-42d8-9f45-388d-c77ac91ab439"
            },
            {
             "name": "Luke Weaver",
             "readLink": "https://api.bing.microsoft.com/api/v7/entities/5b710e76-9a1f-2bb4-2929-ca6d50341ecd"
            },
            {
             "name": "Clay Holmes",
             "readLink": "https://api.bing.microsoft.com/api/v7/entities/d8ff6f15-a9b4-21ee-627b-35e1d4590112"
            },
            {
             "name": "Austin Wells",
             "readLink": "https://api.bing.microsoft.com/api/v7/entities/1551f138-f35e-c893-ebe4-59ae8342ef25"
            }
           ],
           "category": "Sports",
           "datePublished": "2024-10-17T22:45:00.0000000Z",
           "description": "Yankees fans are getting their wish from Aaron Boone, but New York's lineup also took a hit ahead of Game 3 against the Guardians.",
           "name": "Good news, bad news: Yankees' Game 3 lineup has reason for celebration and concern",
           "provider": [
            {
             "_type": "Organization",
             "image": {
              "thumbnail": {
               "contentUrl": "https://www.bing.com/th?id=ODF.cQEwcF-r13r66Z2s8ymonw&pid=news"
              }
             },
             "name": "FanSided on MSN.com"
            }
           ],
           "url": "https://www.msn.com/en-us/sports/mlb/good-news-bad-news-yankees-game-3-lineup-has-reason-for-celebration-and-concern/ar-AA1ssgk8"
          },
          {
           "about": [
            {
             "name": "Sourav Ganguly",
             "readLink": "https://api.bing.microsoft.com/api/v7/entities/64152cad-b4c4-60ed-a5ed-a2da22054294"
            },
            {
             "name": "Delhi Capitals",
             "readLink": "https://api.bing.microsoft.com/api/v7/entities/fed80cda-a314-3557-5947-1d18ec045b16"
            },
            {
             "name": "Cricbuzz",
             "readLink": "https://api.bing.microsoft.com/api/v7/entities/bada5a00-2818-d05a-7e48-bd7cab5ea307"
            },
            {
             "name": "Ricky Ponting",
             "readLink": "https://api.bing.microsoft.com/api/v7/entities/dd6514ec-9027-581e-521f-f704453ff3eb"
            }
           ],
           "category": "Sports",
           "datePublished": "2024-10-17T02:28:00.0000000Z",
           "description": "According to a report by Cricbuzz, former India all-rounder and ex-Delhi Capitals star Venugopal Rao has been appointed as the new Director of Cricket of the franchise. Appointing Rao in this position means that either Sourav Ganguly has to step down,",
           "image": {
            "thumbnail": {
             "contentUrl": "https://www.bing.com/th?id=OVFT.1ZCJ0ISyQVaVHgPewEMsaS&pid=News",
             "height": 393,
             "width": 700
            }
           },
           "name": "Sourav Ganguly No More With Delhi Capitals? IPL Franchise Appoints New Director Of Cricket: Report",
           "provider": [
            {
             "_type": "Organization",
             "image": {
              "thumbnail": {
               "contentUrl": "https://www.bing.com/th?id=ODF.KANCozAEZYO1NwXNST5YDQ&pid=news"
              }
             },
             "name": "Times Now on MSN.com"
            }
           ],
           "url": "https://www.msn.com/en-in/sports/cricket/sourav-ganguly-no-more-with-delhi-capitals-ipl-franchise-appoints-new-director-of-cricket-report/ar-AA1spgSx"
          },
          {
           "about": [
            {
             "name": "Mobile phone",
             "readLink": "https://api.bing.microsoft.com/api/v7/entities/5c025410-faf5-ac54-6171-a24398552448"
            },
            {
             "name": "Smartphone",
             "readLink": "https://api.bing.microsoft.com/api/v7/entities/cd1abc05-911e-afbf-387d-8a07513056ee"
            },
            {
             "name": "Hearing aid",
             "readLink": "https://api.bing.microsoft.com/api/v7/entities/942e9bc1-e862-3602-61e3-1c4b5b69c240"
            }
           ],
           "category": "ScienceAndTechnology",
           "datePublished": "2024-10-17T20:50:00.0000000Z",
           "description": "The FCC Thursday issued rules requiring that all mobile phones -- including smartphones -- sold in the U.S. be compatible with hearing aids. The news comes two years after the FDA made hearing aids available to all Americans without a prescription.",
           "image": {
            "thumbnail": {
             "contentUrl": "https://www.bing.com/th?id=OVFT.DPv-dBVboUoaLm9EsSsGAy&pid=News",
             "height": 700,
             "width": 700
            }
           },
           "name": "All mobile phones must be hearing aid compatible under new FCC rules",
           "provider": [
            {
             "_type": "Organization",
             "image": {
              "thumbnail": {
               "contentUrl": "https://www.bing.com/th?id=ODF.M4e-NwwkSCFuKsTp672mxA&pid=news"
              }
             },
             "name": "TechCrunch on MSN.com"
            }
           ],
           "url": "https://www.msn.com/en-us/news/technology/all-mobile-phones-must-be-hearing-aid-compatible-under-new-fcc-rules/ar-AA1ssm7B"
          },
          {
           "about": [
            {
             "name": "New Orleans",
             "readLink": "https://api.bing.microsoft.com/api/v7/entities/465e78cf-aa9a-491f-9167-4520c7110824"
            },
            {
             "name": "National Football League",
             "readLink": "https://api.bing.microsoft.com/api/v7/entities/6ff32734-2ab0-2636-a1b0-1e2f5e94a701"
            },
            {
             "name": "New Orleans Saints",
             "readLink": "https://api.bing.microsoft.com/api/v7/entities/6e1c9bcb-a6dd-05c8-54e9-86361e106868"
            },
            {
             "name": "Denver Broncos",
             "readLink": "https://api.bing.microsoft.com/api/v7/entities/c5144206-d4e6-4be8-8338-68d231530533"
            },
            {
             "name": "NFL Thursday Night Football",
             "readLink": "https://api.bing.microsoft.com/api/v7/entities/4b4f6229-e716-3f7f-1565-59dc9c94237a"
            },
            {
             "name": "Derek Carr",
             "readLink": "https://api.bing.microsoft.com/api/v7/entities/f456f42e-bc4d-7628-e5cd-59cf6de930d5"
            },
            {
             "name": "Kaizer Chiefs F.C.",
             "readLink": "https://api.bing.microsoft.com/api/v7/entities/923117f4-2b85-b506-fb82-84ecc5eee639"
            },
            {
             "name": "Spencer Rattler",
             "readLink": "https://api.bing.microsoft.com/api/v7/entities/24dbabb8-50cc-9343-1c83-6830f3899f62"
            },
            {
             "name": "Tampa Bay Buccaneers",
             "readLink": "https://api.bing.microsoft.com/api/v7/entities/7f3fc6b4-a783-5e1e-58a4-aaa00b9d7c95"
            },
            {
             "name": "Bo Nix",
             "readLink": "https://api.bing.microsoft.com/api/v7/entities/e67c63e7-22c6-2386-67c1-0917b77ac812"
            }
           ],
           "category": "Sports",
           "datePublished": "2024-10-17T23:18:00.0000000Z",
           "description": "Short weeks can be hard on NFL teams with less time to prepare than usual, and that puts the New Orleans Saints in a tough spot as they open Week 7 with a visit from the Denver Broncos on Thursday Night Football.",
           "image": {
            "thumbnail": {
             "contentUrl": "https://www.bing.com/th?id=OVFT.OCvJyINz6AfolLXk2gaTTC&pid=News",
             "height": 466,
             "width": 700
            }
           },
           "name": "Broncos vs. Saints score, live updates: Denver looks to get over .500 at slumping New Orleans on Thursday Night Football",
           "provider": [
            {
             "_type": "Organization",
             "image": {
              "thumbnail": {
               "contentUrl": "https://www.bing.com/th?id=ODF.S719DbZoJh4YKmcI5HTI3A&pid=news"
              }
             },
             "name": "Yahoo! Sports"
            }
           ],
           "url": "https://sports.yahoo.com/live/broncos-vs-saints-score-live-updates-highlights-denver-new-orleans-thursday-night-football-how-to-watch-231506285.html"
          },
          {
           "about": [
            {
             "name": "Interstate 40",
             "readLink": "https://api.bing.microsoft.com/api/v7/entities/24ecd17f-b948-14cd-6e78-41d4532ad65d"
            },
            {
             "name": "North Carolina",
             "readLink": "https://api.bing.microsoft.com/api/v7/entities/9e2bf053-dd80-4646-8f26-65075e7085c0"
            },
            {
             "name": "Western North Carolina",
             "readLink": "https://api.bing.microsoft.com/api/v7/entities/ee915d74-eb6b-5241-2256-be9918c89eec"
            },
            {
             "name": "North Carolina Department of Transportation",
             "readLink": "https://api.bing.microsoft.com/api/v7/entities/c101ddf1-5468-4d74-403d-c3505284fb5d"
            }
           ],
           "datePublished": "2024-10-17T19:46:00.0000000Z",
           "description": "Western North Carolina roads are slowly reopening following the devastation from Tropical Storm Helene, but several major thoroughfares remain closed, including Interstate 40. Here's the latest",
           "image": {
            "thumbnail": {
             "contentUrl": "https://www.bing.com/th?id=OVFT.W_jvGla6RZSn5HMjL6q77C&pid=News",
             "height": 393,
             "width": 700
            }
           },
           "name": "When will I-40 reopen? The latest on Helene-related North Carolina road closures",
           "provider": [
            {
             "_type": "Organization",
             "image": {
              "thumbnail": {
               "contentUrl": "https://www.bing.com/th?id=ODF.m1iod5ODNIyyKu23kGIllQ&pid=news"
              }
             },
             "name": "USA Today"
            }
           ],
           "url": "https://www.usatoday.com/story/news/local/2024/10/17/ncdot-road-closures-when-will-i-40-reopen-latest-update/75715064007/"
          },
          {
           "about": [
            {
             "name": "Chicago White Sox",
             "readLink": "https://api.bing.microsoft.com/api/v7/entities/decfc943-ef19-5257-22e7-94980ede0ba3"
            },
            {
             "name": "Chicago",
             "readLink": "https://api.bing.microsoft.com/api/v7/entities/28deeb39-ca49-4bd4-913b-929b1de4b25b"
            },
            {
             "name": "Roosevelt Road",
             "readLink": "https://api.bing.microsoft.com/api/v7/entities/8a6e3027-8a8d-e85e-f22a-434244ab025d"
            },
            {
             "name": "Clark Street",
             "readLink": "https://api.bing.microsoft.com/api/v7/entities/208e8e35-d947-b653-9534-265f379bc113"
            }
           ],
           "category": "Sports",
           "datePublished": "2024-10-17T21:44:00.0000000Z",
           "description": "Any baseball field designed and cultivated by Roger Bossard, the highly respected White Sox head groundskeeper who has been with the team for the past 58 seasons, inherently has something special attached.",
           "image": {
            "thumbnail": {
             "contentUrl": "https://www.bing.com/th?id=OVFT.V43K9dGYvNxC-QRSiaVZai&pid=News",
             "height": 350,
             "width": 700
            }
           },
           "name": "Here's the latest on White Sox proposed new ballpark",
           "provider": [
            {
             "_type": "Organization",
             "image": {
              "thumbnail": {
               "contentUrl": "https://www.bing.com/th?id=ODF.wzUJOrRR9Tt2JfINYjkJ1g&pid=news"
              }
             },
             "name": "MLB"
            }
           ],
           "url": "https://www.mlb.com/whitesox/news/white-sox-proposed-ballpark-update"
          },
          {
           "category": "Entertainment",
           "datePublished": "2024-10-17T09:40:00.0000000Z",
           "description": "A new heartbreaking update about Liam Payne’s death has been revealed. The One Direction singer died on October 16. While it was initially reported that he fell off his hotel balcony in Argentina, a new statement by the Buenos Aires Security Ministry revealed that Liam Payne ‘had jumped from the balcony of his room.",
           "name": "Liam Payne 'Jumped From the Balcony': Buenos Aires Security Ministry In New Statement",
           "provider": [
            {
             "_type": "Organization",
             "image": {
              "thumbnail": {
               "contentUrl": "https://www.bing.com/th?id=ODF.raV3hWx5LJpFUHNtCFAcrw&pid=news"
              }
             },
             "name": "CNN-News18"
            }
           ],
           "url": "https://www.news18.com/movies/liam-payne-passed-away-cause-of-death-jumped-from-balcony-9089270.html"
          },
          {
           "about": [
            {
             "name": "Chelsea F.C.",
             "readLink": "https://api.bing.microsoft.com/api/v7/entities/8346cd56-1a96-adb0-26e1-f3679d88e0ba"
            },
            {
             "name": "Hayley Raso",
             "readLink": "https://api.bing.microsoft.com/api/v7/entities/dcfddf06-6ad7-26d5-2eb1-37eba6af2b39"
            },
            {
             "name": "Manchester United F.C.",
             "readLink": "https://api.bing.microsoft.com/api/v7/entities/064ce28e-ed07-a026-2f79-1b321d7548ea"
            }
           ],
           "category": "Sports",
           "datePublished": "2024-10-17T14:00:00.0000000Z",
           "description": "Robert Vilahamn is hoping Amanda Nilden could make the trip to Chelsea on Sunday evening (6.45pm UK) with Ella Morris also expected to return – although Hayley Raso will miss the Barclays Women’s Super League encounter.",
           "image": {
            "thumbnail": {
             "contentUrl": "https://www.bing.com/th?id=OVFT.H9AlDxSoXTNsHz_5a5kBJS&pid=News",
             "height": 170,
             "width": 350
            }
           },
           "name": "Team news | Chelsea vs Spurs (WSL) | Latest on Nildén, Raso and Morris",
           "provider": [
            {
             "_type": "Organization",
             "image": {
              "thumbnail": {
               "contentUrl": "https://www.bing.com/th?id=ODF.mSUgx9Nimhp1juop9J_ZBg&pid=news"
              }
             },
             "name": "Tottenham Hotspur F.C."
            }
           ],
           "url": "https://www.tottenhamhotspur.com/news/2024/october/spurs-women-team-news-chelsea-vs-spurs-wsl-latest-on-nild%C3%A9n-raso-and-morris/"
          },
          {
           "about": [
            {
             "name": "New York Mets",
             "readLink": "https://api.bing.microsoft.com/api/v7/entities/493b8120-2400-611d-3cb1-dc8ffaeb1bb7"
            },
            {
             "name": "Major League Baseball",
             "readLink": "https://api.bing.microsoft.com/api/v7/entities/2468e4af-2f20-1a22-40fc-e932fe5418aa"
            },
            {
             "name": "League Championship Series",
             "readLink": "https://api.bing.microsoft.com/api/v7/entities/aae7aaa7-b975-4997-9107-78632b297ded"
            },
            {
             "name": "New York Yankees",
             "readLink": "https://api.bing.microsoft.com/api/v7/entities/34f268cb-0019-fa41-d7e4-7fe472f43c04"
            },
            {
             "name": "Cleveland Guardians",
             "readLink": "https://api.bing.microsoft.com/api/v7/entities/de315c8b-e1b6-27fb-021e-778bfa85ca81"
            },
            {
             "name": "Los Angeles Dodgers",
             "readLink": "https://api.bing.microsoft.com/api/v7/entities/f53713ae-71b9-a1a2-5aa3-bb4143549f01"
            },
            {
             "name": "Yoshinobu Yamamoto",
             "readLink": "https://api.bing.microsoft.com/api/v7/entities/17a32568-e73f-df03-3233-4ad23aecf675"
            },
            {
             "name": "San Diego Padres",
             "readLink": "https://api.bing.microsoft.com/api/v7/entities/df9fb21c-7008-f659-78aa-8dabec1899c9"
            },
            {
             "name": "José Quintana",
             "readLink": "https://api.bing.microsoft.com/api/v7/entities/b2b58edf-dc6f-c6ef-9348-51f02a5efdef"
            },
            {
             "name": "CBS Sports",
             "readLink": "https://api.bing.microsoft.com/api/v7/entities/ff82c57d-eee9-54a7-81a1-7726fe93fce2"
            }
           ],
           "category": "Sports",
           "datePublished": "2024-10-17T23:14:00.0000000Z",
           "description": "The Dodgers are expected to start right-hander Yoshinobu Yamamoto. This will be his third career MLB playoff appearance, with his first two both coming in the NLDS against the Padres. Yamamoto has allowed five runs on seven hits across eight innings of postseason work.",
           "image": {
            "thumbnail": {
             "contentUrl": "https://www.bing.com/th?id=OVFT.Pa5iBVoPyte9DtjkUY2Gpy&pid=News",
             "height": 393,
             "width": 700
            }
           },
           "name": "Mets vs. Dodgers score: Live updates as New York tries to even NLCS in Game 4 after ugly shutout",
           "provider": [
            {
             "_type": "Organization",
             "image": {
              "thumbnail": {
               "contentUrl": "https://www.bing.com/th?id=ODF.TwkuevkHG2GKy2nqI-lS_Q&pid=news"
              }
             },
             "name": "CBSSports.com"
            }
           ],
           "url": "https://www.cbssports.com/mlb/news/mets-vs-dodgers-score-live-updates-as-new-york-tries-to-even-nlcs-in-game-4-after-ugly-shutout/live/"
          },
          {
           "about": [
            {
             "name": "New Hampshire",
             "readLink": "https://api.bing.microsoft.com/api/v7/entities/9ca71997-cc97-46eb-8911-fac32f80b0b1"
            },
            {
             "name": "White House",
             "readLink": "https://api.bing.microsoft.com/api/v7/entities/541cd519-750b-9c92-8413-a537def6abbe"
            },
            {
             "name": "Merrimack, New Hampshire",
             "readLink": "https://api.bing.microsoft.com/api/v7/entities/8858f22d-3caa-e3c2-9962-587e755cd459"
            },
            {
             "name": "Nashua, New Hampshire",
             "readLink": "https://api.bing.microsoft.com/api/v7/entities/f23c265e-d008-4980-8ece-aa3674dbcd39"
            }
           ],
           "category": "Politics",
           "datePublished": "2024-10-17T21:15:00.0000000Z",
           "description": "President Joe Biden plans to visit New Hampshire next week. The White House said the president will speak Tuesday at an official event highlighting the administration's work to lower prescription drug costs. An exact location has not been announced. Biden was last in New Hampshire in May when he visited Merrimack and Nashua.",
           "image": {
            "thumbnail": {
             "contentUrl": "https://www.bing.com/th?id=OVFT.v5Q82X1RzwHtZZsGebu48y&pid=News",
             "height": 393,
             "width": 700
            }
           },
           "name": "Biden to visit New Hampshire to discuss prescription drug costs",
           "provider": [
            {
             "_type": "Organization",
             "image": {
              "thumbnail": {
               "contentUrl": "https://www.bing.com/th?id=ODF.7hulKPNu1vgipcNf9tildw&pid=news"
              }
             },
             "name": "WMUR"
            }
           ],
           "url": "https://www.wmur.com/article/joe-biden-new-hampshire-drug-costs-101724/62642249",
           "video": {
            "name": "Biden to visit New Hampshire to discuss prescription drug costs",
            "thumbnail": {
             "height": 292,
             "width": 520
            },
            "thumbnailUrl": "https://www.bing.com/th?id=OVF.gY5LQKwJj9nlgfbl%2FjOVhw&pid=News"
           }
          },
          {
           "category": "Business",
           "datePublished": "2024-10-17T20:56:32.0000000Z",
           "description": "Certain Massachusetts families will be getting automatic discounts that could save them hundreds of dollars on utility bills.",
           "name": "New automatic discounts on utility bills will help some Massachusetts residents save big, governor says",
           "provider": [
            {
             "_type": "Organization",
             "image": {
              "thumbnail": {
               "contentUrl": "https://www.bing.com/th?id=ODF.lisIXhXb-iy9Ku1HbFcCEw&pid=news"
              }
             },
             "name": "CBS Boston on MSN.com"
            }
           ],
           "url": "https://www.msn.com/en-us/money/personalfinance/new-automatic-discounts-on-utility-bills-will-help-some-massachusetts-residents-save-big-governor-says/ar-AA1ssF9f"
          },
          {
           "about": [
            {
             "name": "India",
             "readLink": "https://api.bing.microsoft.com/api/v7/entities/85fa63d3-9596-adb9-b4eb-502273d84f56"
            },
            {
             "name": "Bengaluru FC",
             "readLink": "https://api.bing.microsoft.com/api/v7/entities/e3027fb3-3f4b-4c71-e40c-e07ddcf89bd3"
            },
            {
             "name": "Rishabh Pant",
             "readLink": "https://api.bing.microsoft.com/api/v7/entities/3125f58f-7865-579e-ba20-20d0830a715c"
            }
           ],
           "category": "Sports",
           "datePublished": "2024-10-17T15:59:00.0000000Z",
           "description": "Latest Update On Final Boss Will Leave Fans Disappointed Not The Rock! 3 WWE Superstars Cody Rhodes Can Face At Wrestlemania 41 WWE News: Will Roman Reigns Make His Return To Smackdown This Week? WWE Raw Results, Highlights 7 October: Jey Uso, Gunther ...",
           "image": {
            "thumbnail": {
             "contentUrl": "https://www.bing.com/th?id=OVFT.GhF2SuGg4kLKyB1OW4ltWy&pid=News",
             "height": 393,
             "width": 700
            }
           },
           "name": "India Vs New Zealand 1st Test Day 2 LIVE SCORE: India Off To Horror Start; Lose 3 Wickets Inside 10 Overs",
           "provider": [
            {
             "_type": "Organization",
             "name": "timesnownews"
            }
           ],
           "url": "https://www.timesnownews.com/sports/cricket/india-vs-new-zealand-1st-test-day-2-live-streaming-updates-bangalore-weather-forecast-updates-liveblog-114298976"
          },
          {
           "about": [
            {
             "name": "Sydney Sweeney",
             "readLink": "https://api.bing.microsoft.com/api/v7/entities/758ba21b-f473-2114-b5bb-2c13898cbc85"
            },
            {
             "name": "Christy Martin",
             "readLink": "https://api.bing.microsoft.com/api/v7/entities/f1ad17a2-90eb-95d0-ca3f-0249ca6f3537"
            },
            {
             "name": "Cosmopolitan",
             "readLink": "https://api.bing.microsoft.com/api/v7/entities/a1d2ca82-9911-dd79-bc38-f6d5152c9b25"
            }
           ],
           "category": "Entertainment",
           "datePublished": "2024-10-17T20:40:00.0000000Z",
           "description": "Sydney Sweeney shares a picture of her transformative makeover for her role as Christy Martin and exclusively tells Cosmo about the upcoming biopic.",
           "image": {
            "thumbnail": {
             "contentUrl": "https://www.bing.com/th?id=OVFT.BaGqllRWr4BLIjjQqnSYIC&pid=News",
             "height": 393,
             "width": 700
            }
           },
           "name": "Sydney Sweeney Totally Transforms Into Boxer Christy Martin in the First Look at Her Buzzy New Film",
           "provider": [
            {
             "_type": "Organization",
             "image": {
              "thumbnail": {
               "contentUrl": "https://www.bing.com/th?id=ODF.6l3fMUjuba1Bx26WywDhqQ&pid=news"
              }
             },
             "name": "AOL"
            }
           ],
           "url": "https://www.aol.com/sydney-sweeney-totally-transforms-boxer-174000302.html"
          },
          {
           "about": [
            {
             "name": "Economy of Brazil",
             "readLink": "https://api.bing.microsoft.com/api/v7/entities/70d54a45-6b2a-38cf-46d8-04e83df5bd9d"
            }
           ],
           "category": "Business",
           "datePublished": "2024-10-17T20:02:00.0000000Z",
           "description": "Brazilian food retailer Assai said on Thursday it now forecasts it will open some 10 new stores next year, half the prior estimate of about 20, according to a securities filing.",
           "image": {
            "thumbnail": {
             "contentUrl": "https://www.bing.com/th?id=OVFT.fTT7qWy-Fd0lBFnfwCigPy&pid=News",
             "height": 366,
             "width": 700
            }
           },
           "name": "Brazil's Assai cuts estimate for 2025 new store openings",
           "provider": [
            {
             "_type": "Organization",
             "image": {
              "thumbnail": {
               "contentUrl": "https://www.bing.com/th?id=ODF.jFXbg3L7Ce_1pS4_IOR8CA&pid=news"
              }
             },
             "name": "Reuters"
            }
           ],
           "url": "https://www.reuters.com/business/retail-consumer/brazils-assai-cuts-estimate-2025-new-store-openings-2024-10-17/"
          },
          {
           "about": [
            {
             "name": "New Jersey",
             "readLink": "https://api.bing.microsoft.com/api/v7/entities/05277898-b62b-4878-8632-09d29756a2ff"
            },
            {
             "name": "Weight loss",
             "readLink": "https://api.bing.microsoft.com/api/v7/entities/3bfaee67-5bfc-e7ff-5e56-d1a04fee7aef"
            },
            {
             "name": "Substance abuse",
             "readLink": "https://api.bing.microsoft.com/api/v7/entities/9d544b9b-47e0-439c-45e0-442fb5d83a2b"
            },
            {
             "name": "Opioid",
             "readLink": "https://api.bing.microsoft.com/api/v7/entities/aca5f31b-f22d-63ee-bbc3-bb233887e794"
            },
            {
             "name": "Alcohol",
             "readLink": "https://api.bing.microsoft.com/api/v7/entities/e9465bd6-ac5b-84b5-1dc2-768392f967f9"
            },
            {
             "name": "South Jersey",
             "readLink": "https://api.bing.microsoft.com/api/v7/entities/8da62801-23af-cb3b-2b3d-05236ef7ba6d"
            },
            {
             "name": "Addiction",
             "readLink": "https://api.bing.microsoft.com/api/v7/entities/ed49eaa9-10d2-1be2-2572-ccadf8c06319"
            }
           ],
           "datePublished": "2024-10-17T22:14:36.0000000Z",
           "description": "Popular weight loss drugs like Ozempic might be able to help with substance abuse, according to new research on people addicted to opioids ... She can be seen daily on CBS News Philadelphia and Philly57.",
           "image": {
            "thumbnail": {
             "contentUrl": "https://www.bing.com/th?id=OVFT.1_Juyng5hQGtlo1BAOhw-y&pid=News",
             "height": 367,
             "width": 700
            }
           },
           "mentions": [
            {
             "name": "KYW-TV"
            },
            {
             "name": "Alcohol dependence"
            },
            {
             "name": "Anti-obesity medication"
            }
           ],
           "name": "How a weight loss drug is helping a New Jersey nurse overcome alcohol addiction",
           "provider": [
            {
             "_type": "Organization",
             "name": "CBS News on MSN.com"
            }
           ],
           "url": "https://www.msn.com/en-us/health/other/how-a-weight-loss-drug-is-helping-a-new-jersey-nurse-overcome-alcohol-addiction/ar-AA1ssLdP"
          },
          {
           "about": [
            {
             "name": "Chicago White Sox",
             "readLink": "https://api.bing.microsoft.com/api/v7/entities/decfc943-ef19-5257-22e7-94980ede0ba3"
            },
            {
             "name": "Jerry Reinsdorf",
             "readLink": "https://api.bing.microsoft.com/api/v7/entities/66392549-393d-8471-6115-0d35e4a11c62"
            },
            {
             "name": "The Athletic",
             "readLink": "https://api.bing.microsoft.com/api/v7/entities/1f67ac13-d1f9-e346-c50d-574e8700b97f"
            }
           ],
           "category": "Sports",
           "datePublished": "2024-10-17T21:09:00.0000000Z",
           "description": "Wednesday brought the first ray of sunshine in what's been a very dark year for fans of the Chicago White Sox, with news that reviled owner Jerry Reinsdorf was exploring a sale of the team. As long as Reinsdorf was around,",
           "image": {
            "thumbnail": {
             "contentUrl": "https://www.bing.com/th?id=OVFT.RglzTx62WqDNyP2WZkBzii&pid=News",
             "height": 393,
             "width": 700
            }
           },
           "name": "White Sox could leave Chicago after latest surprising ownership development",
           "provider": [
            {
             "_type": "Organization",
             "image": {
              "thumbnail": {
               "contentUrl": "https://www.bing.com/th?id=ODF.cQEwcF-r13r66Z2s8ymonw&pid=news"
              }
             },
             "name": "FanSided on MSN.com"
            }
           ],
           "url": "https://www.msn.com/en-us/news/us/white-sox-could-leave-chicago-after-latest-surprising-ownership-development/ar-AA1ssoyC"
          },
          {
           "about": [
            {
             "name": "New Braunfels, Texas",
             "readLink": "https://api.bing.microsoft.com/api/v7/entities/4bcde4cb-1731-0911-7624-6e6de081d877"
            },
            {
             "name": "Converse",
             "readLink": "https://api.bing.microsoft.com/api/v7/entities/c48c745e-cb84-527b-3214-ea342849c531"
            },
            {
             "name": "Applebee's",
             "readLink": "https://api.bing.microsoft.com/api/v7/entities/b9c87b36-b9d2-c303-52a2-23c8ca27ad83"
            },
            {
             "name": "Interstate 35",
             "readLink": "https://api.bing.microsoft.com/api/v7/entities/d2b4f1f0-40f4-9377-185e-188977830c76"
            }
           ],
           "datePublished": "2024-10-17T20:41:00.0000000Z",
           "description": "New Braunfels Police are seeking information about Richard Rosas, who is accused of murder in the fatal shooting of Chance Herron in an Applebee's parking lot.",
           "image": {
            "thumbnail": {
             "contentUrl": "https://www.bing.com/th?id=OVFT.ZMSjlmxnECXxLk1XLS81ii&pid=News",
             "height": 590,
             "width": 448
            }
           },
           "name": "New Braunfels police searching for Converse man in teen's slaying",
           "provider": [
            {
             "_type": "Organization",
             "image": {
              "thumbnail": {
               "contentUrl": "https://www.bing.com/th?id=ODF.KPkYxfhccY8-IjUG9SG0-w&pid=news"
              }
             },
             "name": "San Antonio Express-News"
            }
           ],
           "url": "https://www.expressnews.com/hill-country/article/new-braunfels-police-shooting-applebees-converse-19844724.php"
          },
          {
           "about": [
            {
             "name": "American Red Cross",
             "readLink": "https://api.bing.microsoft.com/api/v7/entities/269c3c72-ff8d-4aa0-f978-ac04c0cc648e"
            },
            {
             "name": "Arizona",
             "readLink": "https://api.bing.microsoft.com/api/v7/entities/bf973f46-5962-4997-a7ba-a05f1aa2a9f9"
            },
            {
             "name": "Phoenix, Arizona",
             "readLink": "https://api.bing.microsoft.com/api/v7/entities/b06044c3-41e1-4e2a-bba7-27a29bba8ea9"
            },
            {
             "name": "Florida",
             "readLink": "https://api.bing.microsoft.com/api/v7/entities/5fece3f4-e8e8-4159-843e-f725a930ad50"
            },
            {
             "name": "Gulf Coast of the United States",
             "readLink": "https://api.bing.microsoft.com/api/v7/entities/a141f6d2-e446-23c7-cb87-d85d50a4e61b"
            },
            {
             "name": "Phoenix Sky Harbor International Airport",
             "readLink": "https://api.bing.microsoft.com/api/v7/entities/7812b60f-4c4f-9cd1-05be-412d98f24f8f"
            }
           ],
           "datePublished": "2024-10-17T22:53:00.0000000Z",
           "description": "The Regional CEO of the American Red Cross of Arizona and New Mexico is heading to the front lines in Florida to assist those in need.",
           "image": {
            "thumbnail": {
             "contentUrl": "https://www.bing.com/th?id=OVFT.GFFPwU7hOeXQ1-taMoT82C&pid=News",
             "height": 350,
             "width": 700
            }
           },
           "mentions": [
            {
             "name": "Florida"
            },
            {
             "name": "American Red Cross"
            },
            {
             "name": "New Mexico"
            }
           ],
           "name": "Red Cross CEO of Arizona & New Mexico assisting with hurricane recovery in Florida",
           "provider": [
            {
             "_type": "Organization",
             "image": {
              "thumbnail": {
               "contentUrl": "https://www.bing.com/th?id=ODF.spQoP6jbtfvrDDK3c1NS7Q&pid=news"
              }
             },
             "name": "AZFamily on MSN.com"
            }
           ],
           "url": "https://www.msn.com/en-us/news/other/red-cross-ceo-of-arizona-new-mexico-assisting-with-hurricane-recovery-in-florida/ar-AA1ss2K9"
          },
          {
           "datePublished": "2024-10-17T23:18:00.0000000Z",
           "description": "An independent panel investigating the July 13 assassination attempt on former President Trump is now calling for extensive reform of the United States Secret Service.",
           "name": "New independent review calls for 'fundamental reform' of US Secret Service",
           "provider": [
            {
             "_type": "Organization",
             "image": {
              "thumbnail": {
               "contentUrl": "https://www.bing.com/th?id=ODF.WYO3ATefKUevMjYClcyRrw&pid=news"
              }
             },
             "name": "WXYZ"
            }
           ],
           "url": "https://www.wxyz.com/politics/new-independent-review-calls-for-fundamental-reform-of-us-secret-service"
          },
          {
           "about": [
            {
             "name": "Waukesha, Wisconsin",
             "readLink": "https://api.bing.microsoft.com/api/v7/entities/38ca4d8e-dbad-4c22-ad4f-2b916b7194f7"
            },
            {
             "name": "Wisconsin",
             "readLink": "https://api.bing.microsoft.com/api/v7/entities/cb4d2853-06f4-4467-8e7c-4e31cbb35cb2"
            }
           ],
           "category": "Business",
           "datePublished": "2024-10-17T21:37:00.0000000Z",
           "description": "Company officials say new projects have generated new contracts with both U.S. and global automakers and suppliers.",
           "image": {
            "thumbnail": {
             "contentUrl": "https://www.bing.com/th?id=OVFT.yVKQy37xBzB-SeS1J2LIFC&pid=News",
             "height": 393,
             "width": 700
            }
           },
           "name": "Waukesha's Husco International to hire 250 new workers",
           "provider": [
            {
             "_type": "Organization",
             "image": {
              "thumbnail": {
               "contentUrl": "https://www.bing.com/th?id=ODF.pM7kQ4aKmZpYSAUSPfOHnA&pid=news"
              }
             },
             "name": "fox6now"
            }
           ],
           "url": "https://www.fox6now.com/news/waukeshas-husco-international-hire-250-new-workers"
          },
          {
           "category": "LifeStyle",
           "datePublished": "2024-10-17T23:15:00.0000000Z",
           "description": "On Thursday, two-semi trucks in New Bern were packed full of donations that will head towards Haywood County at the New Covenant Church. The lead pastor, Blake Stanbery, says Helene left a big mess.",
           "name": "The City of New Bern packs two semi-trucks with donations for Western North Carolina",
           "provider": [
            {
             "_type": "Organization",
             "image": {
              "thumbnail": {
               "contentUrl": "https://www.bing.com/th?id=ODF.6IT0AbGlzNl2lybSOH8Hkw&pid=news"
              }
             },
             "name": "WITN"
            }
           ],
           "url": "https://www.witn.com/2024/10/17/city-new-bern-packs-two-semi-trucks-with-donations-western-north-carolina/"
          },
          {
           "about": [
            {
             "name": "Denver Broncos",
             "readLink": "https://api.bing.microsoft.com/api/v7/entities/c5144206-d4e6-4be8-8338-68d231530533"
            },
            {
             "name": "New Orleans Saints",
             "readLink": "https://api.bing.microsoft.com/api/v7/entities/6e1c9bcb-a6dd-05c8-54e9-86361e106868"
            },
            {
             "name": "Sean Payton",
             "readLink": "https://api.bing.microsoft.com/api/v7/entities/def0a188-600e-6dd1-00cb-d9e74846bf4f"
            },
            {
             "name": "Caesars Superdome",
             "readLink": "https://api.bing.microsoft.com/api/v7/entities/6e56b686-7a0a-471a-af2e-7642fa364c3a"
            },
            {
             "name": "New Orleans",
             "readLink": "https://api.bing.microsoft.com/api/v7/entities/465e78cf-aa9a-491f-9167-4520c7110824"
            },
            {
             "name": "NBC",
             "readLink": "https://api.bing.microsoft.com/api/v7/entities/30aa2ae8-a47b-7834-536f-1559ccf508a7"
            },
            {
             "name": "FuboTV",
             "readLink": "https://api.bing.microsoft.com/api/v7/entities/14133208-0b8c-446a-0a01-7193aea8251b"
            },
            {
             "name": "NFL RedZone",
             "readLink": "https://api.bing.microsoft.com/api/v7/entities/c5499471-87e8-0bb8-be5c-cc3306fd0bac"
            },
            {
             "name": "RED",
             "readLink": "https://api.bing.microsoft.com/api/v7/entities/9d6ff56c-f3c2-40d6-2c11-0812dc694368"
            },
            {
             "name": "NFL Thursday Night Football",
             "readLink": "https://api.bing.microsoft.com/api/v7/entities/4b4f6229-e716-3f7f-1565-59dc9c94237a"
            }
           ],
           "category": "Sports",
           "datePublished": "2024-10-17T22:06:00.0000000Z",
           "description": "Thursday Night Football on Oct. 17 gets Week 7 of the NFL season started as the New Orleans Saints face the Denver Broncos.",
           "image": {
            "thumbnail": {
             "contentUrl": "https://www.bing.com/th?id=OVFT.TxzxMQLCY2TR7eYJ3kqxui&pid=News",
             "height": 468,
             "width": 700
            }
           },
           "name": "Watch Denver Broncos vs. New Orleans Saints free live stream",
           "provider": [
            {
             "_type": "Organization",
             "image": {
              "thumbnail": {
               "contentUrl": "https://www.bing.com/th?id=ODF.KDaKm3KxrYAvNUXLp-n40w&pid=news"
              }
             },
             "name": "MassLive"
            }
           ],
           "url": "https://www.masslive.com/tv/2024/10/watch-denver-broncos-vs-new-orleans-saints-free-live-stream.html",
           "video": {
            "name": "Watch Denver Broncos vs. New Orleans Saints free live stream",
            "thumbnail": {
             "height": 347,
             "width": 520
            },
            "thumbnailUrl": "https://www.bing.com/th?id=OVF.GPyDCAj49uG1TY5nkt1w8A&pid=News"
           }
          },
          {
           "about": [
            {
             "name": "South Shore Line",
             "readLink": "https://api.bing.microsoft.com/api/v7/entities/a1eaee31-3f94-f990-82b7-d861fdd8ae4a"
            },
            {
             "name": "Hammond, Indiana",
             "readLink": "https://api.bing.microsoft.com/api/v7/entities/55ab0f2b-5356-4c8c-add6-2811081d4e1c"
            },
            {
             "name": "Carroll County, Illinois",
             "readLink": "https://api.bing.microsoft.com/api/v7/entities/e58bfbe8-9aa4-6da2-dd49-ff638fbae779"
            },
            {
             "name": "Fort Wayne, Indiana",
             "readLink": "https://api.bing.microsoft.com/api/v7/entities/93c419e3-0696-464f-8905-3c6d6677ea9d"
            }
           ],
           "datePublished": "2024-10-17T20:21:00.0000000Z",
           "description": "HAMMOND, Ind. (WNDU) - The South Shore Line says its new Hammond Gateway Station will open and become operational for train service on Friday. Beginning Friday, passengers previously utilizing the Hammond Station will begin boarding and detraining all South Shore Line trains out of Hammond Gateway, which is located at 4530 Sheffield Avenue.",
           "image": {
            "thumbnail": {
             "contentUrl": "https://www.bing.com/th?id=OVFT.loKTf0aeEO11VoMtFLWYRS&pid=News",
             "height": 350,
             "width": 700
            }
           },
           "name": "South Shore Line to open new Hammond Gateway Station on Friday",
           "provider": [
            {
             "_type": "Organization",
             "image": {
              "thumbnail": {
               "contentUrl": "https://www.bing.com/th?id=ODF.4Wfdsnr3wLYnD_jZJnRmAw&pid=news"
              }
             },
             "name": "South Bend-Elkhart WNDU-TV on MSN.com"
            }
           ],
           "url": "https://www.msn.com/en-us/autos/news/south-shore-line-to-open-new-hammond-gateway-station-on-friday/ar-AA1ssqzL"
          },
          {
           "datePublished": "2024-10-17T21:48:00.0000000Z",
           "description": "Elijah Vue's mother and boyfriend face new charges in the boy's death Wisconsin authorities announced Thursday.",
           "name": "Elijah Vue's mother and her boyfriend face new charges in boy's death",
           "provider": [
            {
             "_type": "Organization",
             "image": {
              "thumbnail": {
               "contentUrl": "https://www.bing.com/th?id=ODF.lisIXhXb-iy9Ku1HbFcCEw&pid=news"
              }
             },
             "name": "CBS News on MSN.com"
            }
           ],
           "url": "https://www.msn.com/en-us/news/crime/elijah-vues-mother-and-her-boyfriend-face-new-charges-in-boys-death/ar-AA1ssr87"
          },
          {
           "about": [
            {
             "name": "Ashley Tisdale",
             "readLink": "https://api.bing.microsoft.com/api/v7/entities/29b50507-9c53-d094-7f6c-deaca21afe37"
            },
            {
             "name": "Vincent Martella",
             "readLink": "https://api.bing.microsoft.com/api/v7/entities/3b51cb6b-4449-4a37-c7ff-a6b251db2695"
            },
            {
             "name": "Alyson Stoner",
             "readLink": "https://api.bing.microsoft.com/api/v7/entities/65ff8213-d268-443a-8dcd-229718682891"
            },
            {
             "name": "Los Angeles",
             "readLink": "https://api.bing.microsoft.com/api/v7/entities/9958ca5c-ea31-4e71-8a17-bd1e7839c723"
            },
            {
             "name": "New York Comic Con",
             "readLink": "https://api.bing.microsoft.com/api/v7/entities/53a50757-4f58-0e3f-e056-6c8b876429b3"
            },
            {
             "name": "Phineas and Ferb",
             "readLink": "https://api.bing.microsoft.com/api/v7/entities/0c304e57-3bd5-4d8d-86a4-27ef2b87324d"
            },
            {
             "name": "Dan Povenmire",
             "readLink": "https://api.bing.microsoft.com/api/v7/entities/6da8edb1-8471-00ed-2f7c-06e5b1e43236"
            },
            {
             "name": "Dr. Heinz Doofenshmirtz",
             "readLink": "https://api.bing.microsoft.com/api/v7/entities/72055645-ad8d-040b-ad59-1c32681bd6e0"
            },
            {
             "name": "Jeff \"Swampy\" Marsh",
             "readLink": "https://api.bing.microsoft.com/api/v7/entities/d6ecdf92-1e06-f890-2a55-3868a803f7c4"
            }
           ],
           "category": "Entertainment",
           "datePublished": "2024-10-17T21:45:00.0000000Z",
           "description": "The cast and creators of \"Phineas and Ferb\" reunite after a decade to announce the cast for the new season. Ashley Tisdale, Dan Povenmire, Vincent Martella and Alyson Stoner are among the list of returning stars.",
           "image": {
            "thumbnail": {
             "contentUrl": "https://www.bing.com/th?id=OVFT.dex5sJ9ofHOvF8E8xc4U8C&pid=News",
             "height": 393,
             "width": 700
            }
           },
           "name": "Ashley Tisdale, Vincent Martella and Alyson Stoner are back for a new season of 'Phineas and Ferb'",
           "provider": [
            {
             "_type": "Organization",
             "image": {
              "thumbnail": {
               "contentUrl": "https://www.bing.com/th?id=ODF.cy-PhYuyToKo5Mx4_OfJnw&pid=news"
              }
             },
             "name": "ABC7"
            }
           ],
           "url": "https://abc7.com/post/ashley-tisdale-vincent-martella-alyson-stoner-are-back-new-season-phineas-ferb/15438807/"
          },
          {
           "datePublished": "2024-10-17T21:15:00.0000000Z",
           "description": "Kimberly Shupe was killed in 2019 when her Bel Air townhome caught fire. Her sister is outraged that the woman convicted, Bobbie Sue Hodge, just had her conviction overturned on appeal. She wrote a letter saying she didnt like her lawyer and it was never addressed in court #wbal pic.twitter.com/DkdqSuSixb",
           "name": "Woman convicted of murder to get new trial after appeal due to dissatisfaction with public defenders",
           "provider": [
            {
             "_type": "Organization",
             "image": {
              "thumbnail": {
               "contentUrl": "https://www.bing.com/th?id=ODF.ov06NvHKn7ghN2F28JfTHw&pid=news"
              }
             },
             "name": "WBAL-TV"
            }
           ],
           "url": "https://www.wbaltv.com/article/woman-convicted-murder-trial-appeal-dissatisfaction-defenders/62640861"
          },
          {
           "about": [
            {
             "name": "Raygun",
             "readLink": "https://api.bing.microsoft.com/api/v7/entities/b45d4cbd-01a2-1742-985d-a82f8495ad62"
            },
            {
             "name": "Breakdancing",
             "readLink": "https://api.bing.microsoft.com/api/v7/entities/0b612655-6031-e2e8-4bd3-86511a213e37"
            },
            {
             "name": "Cricket",
             "readLink": "https://api.bing.microsoft.com/api/v7/entities/be775f8e-54ab-400d-f0b4-85a37fdc94f7"
            },
            {
             "name": "The Tonight Show Starring Jimmy Fallon",
             "readLink": "https://api.bing.microsoft.com/api/v7/entities/cd9669b2-65b7-49c0-bcaa-427ab7400faf"
            },
            {
             "name": "Jimmy Fallon",
             "readLink": "https://api.bing.microsoft.com/api/v7/entities/fe983f8e-b6be-f4a4-9135-fa6aab3a935b"
            }
           ],
           "datePublished": "2024-10-17T21:44:00.0000000Z",
           "description": "Raygun's infamous Olympics routine has risen from the dead, just in time for Halloween , with tributes to the breakdancing already surfacing on Aussie lawns",
           "image": {
            "thumbnail": {
             "contentUrl": "https://www.bing.com/th?id=OVFT.GJeM5-hFw21QO0nJeaaGTS&pid=News",
             "height": 393,
             "width": 700
            }
           },
           "name": "Raygun set for dubious new honour as tributes to the Olympic breakdancing appear ahead of Halloween",
           "provider": [
            {
             "_type": "Organization",
             "image": {
              "thumbnail": {
               "contentUrl": "https://www.bing.com/th?id=ODF._kZMPt4WNJFUpf58U6Qe-w&pid=news"
              }
             },
             "name": "Daily Mail"
            }
           ],
           "url": "https://www.dailymail.co.uk/sport/olympics/article-13972827/Raygun-set-dubious-new-honour-tributes-Olympic-breakdancing-appear-ahead-Halloween.html"
          },
          {
           "about": [
            {
             "name": "Shahs of Sunset",
             "readLink": "https://api.bing.microsoft.com/api/v7/entities/a58b874d-55ee-6ac8-1270-dac930d5a798"
            },
            {
             "name": "TMZ",
             "readLink": "https://api.bing.microsoft.com/api/v7/entities/a1837e6c-08a9-10e5-e939-fde794521212"
            },
            {
             "name": "Hookah",
             "readLink": "https://api.bing.microsoft.com/api/v7/entities/802d1c5e-0b39-a840-0ea6-9d1bbc40ed6c"
            }
           ],
           "category": "Politics",
           "datePublished": "2024-10-17T20:12:00.0000000Z",
           "description": "In April 2022, the former reality star was arrested for domestic violence. Paulina Ben-Cohen sued him over “vicious” attacks nearly two years later.",
           "image": {
            "thumbnail": {
             "contentUrl": "https://www.bing.com/th?id=OVFT.Lhv72KcKW5T_HJVQ8bv-8S&pid=News",
             "height": 466,
             "width": 700
            }
           },
           "name": "‘Shahs of Sunset’ alum Mike Shouhed seen brutally attacking then-fiancée in shocking newly released video",
           "provider": [
            {
             "_type": "Organization",
             "image": {
              "thumbnail": {
               "contentUrl": "https://www.bing.com/th?id=ODF.cbDT3vfpyoU3nKKCfZyv5A&pid=news"
              }
             },
             "name": "Page Six"
            }
           ],
           "url": "https://pagesix.com/2024/10/17/celebrity-news/shahs-of-sunsets-mike-shouhed-attacks-then-fiancee-in-newly-released-video/"
          },
          {
           "about": [
            {
             "name": "Paducah, Texas",
             "readLink": "https://api.bing.microsoft.com/api/v7/entities/1ec18904-6ad5-f2fd-ecbe-87757f9fde27"
            },
            {
             "name": "Lincoln High School",
             "readLink": "https://api.bing.microsoft.com/api/v7/entities/d29da22e-a3a7-f864-dd31-03d64cfafff3"
            }
           ],
           "datePublished": "2024-10-17T22:26:00.0000000Z",
           "description": "The Lincoln Station Project is doing a final call for community input before the survey closes on Friday for a proposed new Lincoln Community Center on Paducah's Southside. Click to",
           "image": {
            "thumbnail": {
             "contentUrl": "https://www.bing.com/th?id=OVFT.uit-vkQa-Zywjhmk_CfnZi&pid=News",
             "height": 367,
             "width": 700
            }
           },
           "name": "Lincoln Station Project Board seeks public input to preserve former school's legacy",
           "provider": [
            {
             "_type": "Organization",
             "image": {
              "thumbnail": {
               "contentUrl": "https://www.bing.com/th?id=ODF.0j_hrz_Am8ipxYiTzzGnyg&pid=news"
              }
             },
             "name": "WPSD Local 6"
            }
           ],
           "url": "https://www.wpsdlocal6.com/news/lincoln-station-project-board-seeks-public-input-to-preserve-former-schools-legacy/article_d32db6e4-8cd6-11ef-87e8-bf2c6fbe73fe.html",
           "video": {
            "name": "Lincoln Station Project Board seeks public input to preserve former school's legacy",
            "thumbnail": {
             "height": 273,
             "width": 520
            },
            "thumbnailUrl": "https://www.bing.com/th?id=OVF.GNx7vfJI%2FspPrWfLvI6YAQ&pid=News"
           }
          },
          {
           "category": "Entertainment",
           "datePublished": "2024-10-17T21:15:00.0000000Z",
           "description": "THEY think it’s all makeover . . . it is here, with this gallery of famous faces virtually unrecognisable in TV and movie roles. Hollywood starlet Sydney Sweeney, 27, has shocked fans by posting a",
           "name": "Irish star’s Penguin suit, actress’ Inglorious new show & heartthrob’s wrestler makeover… can you name them all?",
           "provider": [
            {
             "_type": "Organization",
             "image": {
              "thumbnail": {
               "contentUrl": "https://www.bing.com/th?id=ODF.mZZguWnkRkVFPCoaQUmKEg&pid=news"
              }
             },
             "name": "The Sun"
            }
           ],
           "url": "https://www.thesun.co.uk/tv/31149688/sydney-sweeney-celebs-unrecognisable-roles/"
          },
          {
           "about": [
            {
             "name": "CBS",
             "readLink": "https://api.bing.microsoft.com/api/v7/entities/ce01ad10-28a0-3ab8-62af-16da7ff03d8b"
            },
            {
             "name": "Halloween",
             "readLink": "https://api.bing.microsoft.com/api/v7/entities/2fb579cd-9c63-5667-6265-8338f5fa9a9e"
            },
            {
             "name": "Rose McIver",
             "readLink": "https://api.bing.microsoft.com/api/v7/entities/b1e89b64-64aa-04f3-4760-ce2c94d367ae"
            },
            {
             "name": "Utkarsh Ambudkar",
             "readLink": "https://api.bing.microsoft.com/api/v7/entities/6b314188-28c0-01bc-ac2a-cd63f41b1722"
            }
           ],
           "category": "Entertainment",
           "datePublished": "2024-10-17T23:15:00.0000000Z",
           "description": "Wondering when new episodes of Ghost come out? Here's when and where to watch Ghost streaming and live as it airs.",
           "name": "‘Ghosts’ Season 4 Release Schedule: When Do New Episodes Air?",
           "provider": [
            {
             "_type": "Organization",
             "image": {
              "thumbnail": {
               "contentUrl": "https://www.bing.com/th?id=ODF.3zqB2pXRwlAc2EJ5gQwBtg&pid=news"
              }
             },
             "name": "TheWrap"
            }
           ],
           "url": "https://www.thewrap.com/ghosts-season-4-release-date-time-episodes-schedule/"
          },
          {
           "category": "ScienceAndTechnology",
           "datePublished": "2024-10-17T20:43:00.0000000Z",
           "description": "Huawei's stunning Mate XT Ultimate Design phone and its display, which can fold into thirds, shows that the company's ability to innovate rivals Apple and Samsung.",
           "name": "I Was Astounded by This New 'Tri-Foldable' Phone… and Skeptical Too",
           "provider": [
            {
             "_type": "Organization",
             "image": {
              "thumbnail": {
               "contentUrl": "https://www.bing.com/th?id=ODF.vS3pKUrPWgIKkQBHtUkEPQ&pid=news"
              }
             },
             "name": "CNET"
            }
           ],
           "url": "https://www.cnet.com/tech/mobile/i-was-astounded-by-this-new-tri-foldable-phone-and-skeptical-too/"
          },
          {
           "category": "Sports",
           "datePublished": "2024-10-17T21:02:00.0000000Z",
           "description": "It's a side of Nix's personality that Broncos head coach Sean Payton enjoys and wants to utilize more as they head into a crucial Thursday night fixture against his old team, the New Orleans Saints. This is the first time that Nix will have to start a game on a short-week turnaround. It has it's own unique challenges.",
           "name": "Bo Nix on Sean Payton's Return to New Orleans: 'Just Another Game'",
           "provider": [
            {
             "_type": "Organization",
             "image": {
              "thumbnail": {
               "contentUrl": "https://www.bing.com/th?id=ODF.DAlg1K6d6FcCd2ockBPdcQ&pid=news"
              }
             },
             "name": "Denver Broncos On SI on MSN.com"
            }
           ],
           "url": "https://www.msn.com/en-us/sports/nfl/bo-nix-on-sean-paytons-return-to-new-orleans-just-another-game/ar-AA1ss9Ou"
          },
          {
           "category": "LifeStyle",
           "datePublished": "2024-10-17T22:56:00.0000000Z",
           "description": "Universal Studios Orlando has announced that Epic Universe, its highly-anticipated fourth theme park in Florida, will open sooner than expected - May 2025. Soon people will be able to purchase tickets to see the new theme park,",
           "name": "Epic Universe opening May 2025: When you can buy tickets, book hotel rooms, new lands and attractions",
           "provider": [
            {
             "_type": "Organization",
             "image": {
              "thumbnail": {
               "contentUrl": "https://www.bing.com/th?id=ODF.pPTO_qfDGMw5U2MDJ6xzpw&pid=news"
              }
             },
             "name": "FOX 35 Orlando on MSN.com"
            }
           ],
           "url": "https://www.msn.com/en-us/travel/tripideas/epic-universe-opening-may-2025-when-you-can-buy-tickets-book-hotel-rooms-new-lands-and-attractions/ar-AA1srljb"
          }
         ]
        }
       ],
       "schema": [
        {
         "key": "0",
         "name": "value",
         "type": "ArrayType(StructType(StructField(about,ArrayType(StructType(StructField(name,StringType,true),StructField(readLink,StringType,true)),true),true),StructField(category,StringType,true),StructField(datePublished,StringType,true),StructField(description,StringType,true),StructField(image,StructType(StructField(thumbnail,StructType(StructField(contentUrl,StringType,true),StructField(height,LongType,true),StructField(width,LongType,true)),true)),true),StructField(mentions,ArrayType(StructType(StructField(name,StringType,true)),true),true),StructField(name,StringType,true),StructField(provider,ArrayType(StructType(StructField(_type,StringType,true),StructField(image,StructType(StructField(thumbnail,StructType(StructField(contentUrl,StringType,true)),true)),true),StructField(name,StringType,true)),true),true),StructField(url,StringType,true),StructField(video,StructType(StructField(name,StringType,true),StructField(thumbnail,StructType(StructField(height,LongType,true),StructField(width,LongType,true)),true),StructField(thumbnailUrl,StringType,true)),true)),true)"
        }
       ],
       "truncated": false
      },
      "wranglerEntryContext": {
       "candidateVariableNames": [
        "df"
       ],
       "dataframeType": "pyspark"
      }
     },
     "type": "Synapse.DataFrame"
    }
   },
   "version": "0.1"
  },
  "widgets": {}
 },
 "nbformat": 4,
 "nbformat_minor": 5
}
